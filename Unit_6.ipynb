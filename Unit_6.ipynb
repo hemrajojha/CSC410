{
  "nbformat": 4,
  "nbformat_minor": 0,
  "metadata": {
    "colab": {
      "name": "Unit-6.ipynb",
      "provenance": [],
      "include_colab_link": true
    },
    "kernelspec": {
      "name": "python3",
      "display_name": "Python 3"
    },
    "language_info": {
      "name": "python"
    }
  },
  "cells": [
    {
      "cell_type": "markdown",
      "metadata": {
        "id": "view-in-github",
        "colab_type": "text"
      },
      "source": [
        "<a href=\"https://colab.research.google.com/github/hemrajojha/CSC410/blob/main/Unit_6.ipynb\" target=\"_parent\"><img src=\"https://colab.research.google.com/assets/colab-badge.svg\" alt=\"Open In Colab\"/></a>"
      ]
    },
    {
      "cell_type": "code",
      "metadata": {
        "id": "ooYtbpOAIVu5"
      },
      "source": [
        "#Descion Tree Algorithm - ID3\n",
        "#Source: https://medium.com/@lope.ai/decision-trees-from-scratch-using-id3-python-coding-it-up-6b79e3458de4\n",
        "#Colab file: https://colab.research.google.com/drive/1YNBFXqtIOD8VzHE_TbHytybBOSHrZJ7A?usp=sharing"
      ],
      "execution_count": 2,
      "outputs": []
    },
    {
      "cell_type": "code",
      "metadata": {
        "id": "70-Cgh9GIfHS"
      },
      "source": [
        "#import the required libraries\n",
        "import numpy as np\n",
        "import pandas as pd\n",
        "eps = np.finfo(float).eps #‘eps’ here is the smallest representable number. At times we get log(0) or 0 in the denominator, to avoid that we are going to use this\n",
        "from numpy import log2 as log"
      ],
      "execution_count": 3,
      "outputs": []
    },
    {
      "cell_type": "code",
      "metadata": {
        "id": "5hCTqW9nIpa4"
      },
      "source": [
        "#create attributes for dataset\n",
        "outlook = 'overcast,overcast,overcast,overcast,rainy,rainy,rainy,rainy,rainy,sunny,sunny,sunny,sunny,sunny'.split(',')\n",
        "temp = 'hot,cool,mild,hot,mild,cool,cool,mild,mild,hot,hot,mild,cool,mild'.split(',')\n",
        "humidity = 'high,normal,high,normal,high,normal,normal,normal,high,high,high,high,normal,normal'.split(',')\n",
        "windy = 'FALSE,TRUE,TRUE,FALSE,FALSE,FALSE,TRUE,FALSE,TRUE,FALSE,TRUE,FALSE,FALSE,TRUE'.split(',')\n",
        "play = 'yes,yes,yes,yes,yes,yes,no,yes,no,no,no,no,yes,yes'.split(',')"
      ],
      "execution_count": 4,
      "outputs": []
    },
    {
      "cell_type": "code",
      "metadata": {
        "colab": {
          "base_uri": "https://localhost:8080/"
        },
        "id": "p97Ol4K2I78R",
        "outputId": "c2fd3794-4e70-4a86-e397-ff02c90c5a94"
      },
      "source": [
        "outlook"
      ],
      "execution_count": 5,
      "outputs": [
        {
          "output_type": "execute_result",
          "data": {
            "text/plain": [
              "['overcast',\n",
              " 'overcast',\n",
              " 'overcast',\n",
              " 'overcast',\n",
              " 'rainy',\n",
              " 'rainy',\n",
              " 'rainy',\n",
              " 'rainy',\n",
              " 'rainy',\n",
              " 'sunny',\n",
              " 'sunny',\n",
              " 'sunny',\n",
              " 'sunny',\n",
              " 'sunny']"
            ]
          },
          "metadata": {
            "tags": []
          },
          "execution_count": 5
        }
      ]
    },
    {
      "cell_type": "code",
      "metadata": {
        "id": "a4lJ2ZOQJ3NA"
      },
      "source": [
        "#create dataset\n",
        "#used dict here, for reference: https://www.w3schools.com/python/python_dictionaries.asp\n",
        "dataset ={'outlook':outlook,'temp':temp,'humidity':humidity,'windy':windy,'play':play}\n"
      ],
      "execution_count": 6,
      "outputs": []
    },
    {
      "cell_type": "code",
      "metadata": {
        "id": "MTV_yI_bKfhI"
      },
      "source": [
        "#create dataframe\n",
        "df = pd.DataFrame(dataset,columns=['outlook','temp','humidity','windy','play']) # or df = pd.DataFrame(dataset)"
      ],
      "execution_count": 7,
      "outputs": []
    },
    {
      "cell_type": "code",
      "metadata": {
        "colab": {
          "base_uri": "https://localhost:8080/",
          "height": 483
        },
        "id": "DEDQAo6hI9AR",
        "outputId": "9116fe6c-3176-4e31-fc0d-4acdbe8aae20"
      },
      "source": [
        "df"
      ],
      "execution_count": 8,
      "outputs": [
        {
          "output_type": "execute_result",
          "data": {
            "text/html": [
              "<div>\n",
              "<style scoped>\n",
              "    .dataframe tbody tr th:only-of-type {\n",
              "        vertical-align: middle;\n",
              "    }\n",
              "\n",
              "    .dataframe tbody tr th {\n",
              "        vertical-align: top;\n",
              "    }\n",
              "\n",
              "    .dataframe thead th {\n",
              "        text-align: right;\n",
              "    }\n",
              "</style>\n",
              "<table border=\"1\" class=\"dataframe\">\n",
              "  <thead>\n",
              "    <tr style=\"text-align: right;\">\n",
              "      <th></th>\n",
              "      <th>outlook</th>\n",
              "      <th>temp</th>\n",
              "      <th>humidity</th>\n",
              "      <th>windy</th>\n",
              "      <th>play</th>\n",
              "    </tr>\n",
              "  </thead>\n",
              "  <tbody>\n",
              "    <tr>\n",
              "      <th>0</th>\n",
              "      <td>overcast</td>\n",
              "      <td>hot</td>\n",
              "      <td>high</td>\n",
              "      <td>FALSE</td>\n",
              "      <td>yes</td>\n",
              "    </tr>\n",
              "    <tr>\n",
              "      <th>1</th>\n",
              "      <td>overcast</td>\n",
              "      <td>cool</td>\n",
              "      <td>normal</td>\n",
              "      <td>TRUE</td>\n",
              "      <td>yes</td>\n",
              "    </tr>\n",
              "    <tr>\n",
              "      <th>2</th>\n",
              "      <td>overcast</td>\n",
              "      <td>mild</td>\n",
              "      <td>high</td>\n",
              "      <td>TRUE</td>\n",
              "      <td>yes</td>\n",
              "    </tr>\n",
              "    <tr>\n",
              "      <th>3</th>\n",
              "      <td>overcast</td>\n",
              "      <td>hot</td>\n",
              "      <td>normal</td>\n",
              "      <td>FALSE</td>\n",
              "      <td>yes</td>\n",
              "    </tr>\n",
              "    <tr>\n",
              "      <th>4</th>\n",
              "      <td>rainy</td>\n",
              "      <td>mild</td>\n",
              "      <td>high</td>\n",
              "      <td>FALSE</td>\n",
              "      <td>yes</td>\n",
              "    </tr>\n",
              "    <tr>\n",
              "      <th>5</th>\n",
              "      <td>rainy</td>\n",
              "      <td>cool</td>\n",
              "      <td>normal</td>\n",
              "      <td>FALSE</td>\n",
              "      <td>yes</td>\n",
              "    </tr>\n",
              "    <tr>\n",
              "      <th>6</th>\n",
              "      <td>rainy</td>\n",
              "      <td>cool</td>\n",
              "      <td>normal</td>\n",
              "      <td>TRUE</td>\n",
              "      <td>no</td>\n",
              "    </tr>\n",
              "    <tr>\n",
              "      <th>7</th>\n",
              "      <td>rainy</td>\n",
              "      <td>mild</td>\n",
              "      <td>normal</td>\n",
              "      <td>FALSE</td>\n",
              "      <td>yes</td>\n",
              "    </tr>\n",
              "    <tr>\n",
              "      <th>8</th>\n",
              "      <td>rainy</td>\n",
              "      <td>mild</td>\n",
              "      <td>high</td>\n",
              "      <td>TRUE</td>\n",
              "      <td>no</td>\n",
              "    </tr>\n",
              "    <tr>\n",
              "      <th>9</th>\n",
              "      <td>sunny</td>\n",
              "      <td>hot</td>\n",
              "      <td>high</td>\n",
              "      <td>FALSE</td>\n",
              "      <td>no</td>\n",
              "    </tr>\n",
              "    <tr>\n",
              "      <th>10</th>\n",
              "      <td>sunny</td>\n",
              "      <td>hot</td>\n",
              "      <td>high</td>\n",
              "      <td>TRUE</td>\n",
              "      <td>no</td>\n",
              "    </tr>\n",
              "    <tr>\n",
              "      <th>11</th>\n",
              "      <td>sunny</td>\n",
              "      <td>mild</td>\n",
              "      <td>high</td>\n",
              "      <td>FALSE</td>\n",
              "      <td>no</td>\n",
              "    </tr>\n",
              "    <tr>\n",
              "      <th>12</th>\n",
              "      <td>sunny</td>\n",
              "      <td>cool</td>\n",
              "      <td>normal</td>\n",
              "      <td>FALSE</td>\n",
              "      <td>yes</td>\n",
              "    </tr>\n",
              "    <tr>\n",
              "      <th>13</th>\n",
              "      <td>sunny</td>\n",
              "      <td>mild</td>\n",
              "      <td>normal</td>\n",
              "      <td>TRUE</td>\n",
              "      <td>yes</td>\n",
              "    </tr>\n",
              "  </tbody>\n",
              "</table>\n",
              "</div>"
            ],
            "text/plain": [
              "     outlook  temp humidity  windy play\n",
              "0   overcast   hot     high  FALSE  yes\n",
              "1   overcast  cool   normal   TRUE  yes\n",
              "2   overcast  mild     high   TRUE  yes\n",
              "3   overcast   hot   normal  FALSE  yes\n",
              "4      rainy  mild     high  FALSE  yes\n",
              "5      rainy  cool   normal  FALSE  yes\n",
              "6      rainy  cool   normal   TRUE   no\n",
              "7      rainy  mild   normal  FALSE  yes\n",
              "8      rainy  mild     high   TRUE   no\n",
              "9      sunny   hot     high  FALSE   no\n",
              "10     sunny   hot     high   TRUE   no\n",
              "11     sunny  mild     high  FALSE   no\n",
              "12     sunny  cool   normal  FALSE  yes\n",
              "13     sunny  mild   normal   TRUE  yes"
            ]
          },
          "metadata": {
            "tags": []
          },
          "execution_count": 8
        }
      ]
    },
    {
      "cell_type": "markdown",
      "metadata": {
        "id": "jKweB0DNK9kA"
      },
      "source": [
        "**ID3 algorithm**\n",
        "\n",
        "1.compute the entropy for data-set\n",
        "\n",
        "2.for every attribute/feature:\n",
        "\n",
        "       1.calculate entropy for all categorical values\n",
        "       2.take average information entropy for the current attribute\n",
        "       3.calculate gain for the current attribute\n",
        "\n",
        "3. pick the highest gain attribute.\n",
        "4. Repeat until we get the tree we desired"
      ]
    },
    {
      "cell_type": "markdown",
      "metadata": {
        "id": "K4oCpVoxL4Zc"
      },
      "source": [
        "![entropy.JPG](data:image/jpeg;base64,/9j/4AAQSkZJRgABAQEAeAB4AAD/4RD4RXhpZgAATU0AKgAAAAgABAE7AAIAAAAPAAAISodpAAQAAAABAAAIWpydAAEAAAAeAAAQ0uocAAcAAAgMAAAAPgAAAAAc6gAAAAgAAAAAAAAAAAAAAAAAAAAAAAAAAAAAAAAAAAAAAAAAAAAAAAAAAAAAAAAAAAAAAAAAAAAAAAAAAAAAAAAAAAAAAAAAAAAAAAAAAAAAAAAAAAAAAAAAAAAAAAAAAAAAAAAAAAAAAAAAAAAAAAAAAAAAAAAAAAAAAAAAAAAAAAAAAAAAAAAAAAAAAAAAAAAAAAAAAAAAAAAAAAAAAAAAAAAAAAAAAAAAAAAAAAAAAAAAAAAAAAAAAAAAAAAAAAAAAAAAAAAAAAAAAAAAAAAAAAAAAAAAAAAAAAAAAAAAAAAAAAAAAAAAAAAAAAAAAAAAAAAAAAAAAAAAAAAAAAAAAAAAAAAAAAAAAAAAAAAAAAAAAAAAAAAAAAAAAAAAAAAAAAAAAAAAAAAAAAAAAAAAAAAAAAAAAAAAAAAAAAAAAAAAAAAAAAAAAAAAAAAAAAAAAAAAAAAAAAAAAAAAAAAAAAAAAAAAAAAAAAAAAAAAAAAAAAAAAAAAAAAAAAAAAAAAAAAAAAAAAAAAAAAAAAAAAAAAAAAAAAAAAAAAAAAAAAAAAAAAAAAAAAAAAAAAAAAAAAAAAAAAAAAAAAAAAAAAAAAAAAAAAAAAAAAAAAAAAAAAAAAAAAAAAAAAAAAAAAAAAAAAAAAAAAAAAAAAAAAAAAAAAAAAAAAAAAAAAAAAAAAAAAAAAAAAAAAAAAAAAAAAAAAAAAAAAAAAAAAAAAAAAAAAAAAAAAAAAAAAAAAAAAAAAAAAAAAAAAAAAAAAAAAAAAAAAAAAAAAAAAAAAAAAAAAAAAAAAAAAAAAAAAAAAAAAAAAAAAAAAAAAAAAAAAAAAAAAAAAAAAAAAAAAAAAAAAAAAAAAAAAAAAAAAAAAAAAAAAAAAAAAAAAAAAAAAAAAAAAAAAAAAAAAAAAAAAAAAAAAAAAAAAAAAAAAAAAAAAAAAAAAAAAAAAAAAAAAAAAAAAAAAAAAAAAAAAAAAAAAAAAAAAAAAAAAAAAAAAAAAAAAAAAAAAAAAAAAAAAAAAAAAAAAAAAAAAAAAAAAAAAAAAAAAAAAAAAAAAAAAAAAAAAAAAAAAAAAAAAAAAAAAAAAAAAAAAAAAAAAAAAAAAAAAAAAAAAAAAAAAAAAAAAAAAAAAAAAAAAAAAAAAAAAAAAAAAAAAAAAAAAAAAAAAAAAAAAAAAAAAAAAAAAAAAAAAAAAAAAAAAAAAAAAAAAAAAAAAAAAAAAAAAAAAAAAAAAAAAAAAAAAAAAAAAAAAAAAAAAAAAAAAAAAAAAAAAAAAAAAAAAAAAAAAAAAAAAAAAAAAAAAAAAAAAAAAAAAAAAAAAAAAAAAAAAAAAAAAAAAAAAAAAAAAAAAAAAAAAAAAAAAAAAAAAAAAAAAAAAAAAAAAAAAAAAAAAAAAAAAAAAAAAAAAAAAAAAAAAAAAAAAAAAAAAAAAAAAAAAAAAAAAAAAAAAAAAAAAAAAAAAAAAAAAAAAAAAAAAAAAAAAAAAAAAAAAAAAAAAAAAAAAAAAAAAAAAAAAAAAAAAAAAAAAAAAAAAAAAAAAAAAAAAAAAAAAAAAAAAAAAAAAAAAAAAAAAAAAAAAAAAAAAAAAAAAAAAAAAAAAAAAAAAAAAAAAAAAAAAAAAAAAAAAAAAAAAAAAAAAAAAAAAAAAAAAAAAAAAAAAAAAAAAAAAAAAAAAAAAAAAAAAAAAAAAAAAAAAAAAAAAAAAAAAAAAAAAAAAAAAAAAAAAAAAAAAAAAAAAAAAAAAAAAAAAAAAAAAAAAAAAAAAAAAAAAAAAAAAAAAAAAAAAAAAAAAAAAAAAAAAAAAAAAAAAAAAAAAAAAAAAAAAAAAAAAAAAAAAAAAAAAAAAAAAAAAAAAAAAAAAAAAAAAAAAAAAAAAAAAAAAAAAAAAAAAAAAAAAAAAAAAAAAAAAAAAAAAAAAAAAAAAAAAAAAAAAAAAAAAAAAAAAAAAAAAAAAAAAAAAAAAAAAAAAAAAAAAAAAAAAAAAAAAAAAAAAAAAAAAAAAAAAAAAAAAAAAAAAAAAAAAAAAAAAAAAAAAAAAAAAAAAAAAAAAAAAAAAAAAAAAAAAAAAAAAAAAAAAAAAAAAAAAAAAAAAAAAAAAAAAAAAAAAAAAAAAAAAAAAAAAAAAAAAAAAAAAAAAAAAAAAAAAAAAAAAAAAAAAAAAAAAAAAAAAAAAAAAAAAAAAAAAAAAAAAAAAAAAAAAAAAAAAAAAAAAAAAAAAAAAAAAAAAAAAAAAAAAAAAAAAAAAAAAAAAAAAAAAAAAAAAAAAAAAAAAAAAAAAAAAAAAAAAAAAAAAAAAAAAAAAAAAAAAAAAAAAAAAAAAAAAAAAAAAAAAAAAAAAAAAAAAAAAAAAAAAAAAAAAAAAAAAAAAAAAAAAAAAAAAAAAAAAAAAAAAAAAAAAAAAAAAAAAAAAAAAAAAAAAAAAAAAAAAAAAAAAAAAAAAAAAAAAAAAAAAAAAAAAAAAAAAAAAAAAAAAAAAAAAAAAAAAAAAAAAAAAAAAAAAAAAAAAAAAAAAAAAAAAAAAAAAAAAAAAAAAAAAAAAAAAAAAAAAAAAAAAAAAAAAAAAAAAAAAAAAAAAAAAAAAAAAAAAAAAAAAAAAAAAAAAAAAAAAAAAAAAAAAAAAAAAAAAAAAAAAAAAAAAAAAAAAAAAAAAAAAAAAAAAAAAAAAAAAAAAAAAAAAAAAAAAAAAAAAAAAAAAAAAAAAAAAAAAAAAAAAAAAAAAAAAAAAAAAAAAAAAAAAAAAFZpamF5IFJhaiBPamhhAAAABZADAAIAAAAUAAAQqJAEAAIAAAAUAAAQvJKRAAIAAAADNzAAAJKSAAIAAAADNzAAAOocAAcAAAgMAAAInAAAAAAc6gAAAAgAAAAAAAAAAAAAAAAAAAAAAAAAAAAAAAAAAAAAAAAAAAAAAAAAAAAAAAAAAAAAAAAAAAAAAAAAAAAAAAAAAAAAAAAAAAAAAAAAAAAAAAAAAAAAAAAAAAAAAAAAAAAAAAAAAAAAAAAAAAAAAAAAAAAAAAAAAAAAAAAAAAAAAAAAAAAAAAAAAAAAAAAAAAAAAAAAAAAAAAAAAAAAAAAAAAAAAAAAAAAAAAAAAAAAAAAAAAAAAAAAAAAAAAAAAAAAAAAAAAAAAAAAAAAAAAAAAAAAAAAAAAAAAAAAAAAAAAAAAAAAAAAAAAAAAAAAAAAAAAAAAAAAAAAAAAAAAAAAAAAAAAAAAAAAAAAAAAAAAAAAAAAAAAAAAAAAAAAAAAAAAAAAAAAAAAAAAAAAAAAAAAAAAAAAAAAAAAAAAAAAAAAAAAAAAAAAAAAAAAAAAAAAAAAAAAAAAAAAAAAAAAAAAAAAAAAAAAAAAAAAAAAAAAAAAAAAAAAAAAAAAAAAAAAAAAAAAAAAAAAAAAAAAAAAAAAAAAAAAAAAAAAAAAAAAAAAAAAAAAAAAAAAAAAAAAAAAAAAAAAAAAAAAAAAAAAAAAAAAAAAAAAAAAAAAAAAAAAAAAAAAAAAAAAAAAAAAAAAAAAAAAAAAAAAAAAAAAAAAAAAAAAAAAAAAAAAAAAAAAAAAAAAAAAAAAAAAAAAAAAAAAAAAAAAAAAAAAAAAAAAAAAAAAAAAAAAAAAAAAAAAAAAAAAAAAAAAAAAAAAAAAAAAAAAAAAAAAAAAAAAAAAAAAAAAAAAAAAAAAAAAAAAAAAAAAAAAAAAAAAAAAAAAAAAAAAAAAAAAAAAAAAAAAAAAAAAAAAAAAAAAAAAAAAAAAAAAAAAAAAAAAAAAAAAAAAAAAAAAAAAAAAAAAAAAAAAAAAAAAAAAAAAAAAAAAAAAAAAAAAAAAAAAAAAAAAAAAAAAAAAAAAAAAAAAAAAAAAAAAAAAAAAAAAAAAAAAAAAAAAAAAAAAAAAAAAAAAAAAAAAAAAAAAAAAAAAAAAAAAAAAAAAAAAAAAAAAAAAAAAAAAAAAAAAAAAAAAAAAAAAAAAAAAAAAAAAAAAAAAAAAAAAAAAAAAAAAAAAAAAAAAAAAAAAAAAAAAAAAAAAAAAAAAAAAAAAAAAAAAAAAAAAAAAAAAAAAAAAAAAAAAAAAAAAAAAAAAAAAAAAAAAAAAAAAAAAAAAAAAAAAAAAAAAAAAAAAAAAAAAAAAAAAAAAAAAAAAAAAAAAAAAAAAAAAAAAAAAAAAAAAAAAAAAAAAAAAAAAAAAAAAAAAAAAAAAAAAAAAAAAAAAAAAAAAAAAAAAAAAAAAAAAAAAAAAAAAAAAAAAAAAAAAAAAAAAAAAAAAAAAAAAAAAAAAAAAAAAAAAAAAAAAAAAAAAAAAAAAAAAAAAAAAAAAAAAAAAAAAAAAAAAAAAAAAAAAAAAAAAAAAAAAAAAAAAAAAAAAAAAAAAAAAAAAAAAAAAAAAAAAAAAAAAAAAAAAAAAAAAAAAAAAAAAAAAAAAAAAAAAAAAAAAAAAAAAAAAAAAAAAAAAAAAAAAAAAAAAAAAAAAAAAAAAAAAAAAAAAAAAAAAAAAAAAAAAAAAAAAAAAAAAAAAAAAAAAAAAAAAAAAAAAAAAAAAAAAAAAAAAAAAAAAAAAAAAAAAAAAAAAAAAAAAAAAAAAAAAAAAAAAAAAAAAAAAAAAAAAAAAAAAAAAAAAAAAAAAAAAAAAAAAAAAAAAAAAAAAAAAAAAAAAAAAAAAAAAAAAAAAAAAAAAAAAAAAAAAAAAAAAAAAAAAAAAAAAAAAAAAAAAAAAAAAAAAAAAAAAAAAAAAAAAAAAAAAAAAAAAAAAAAAAAAAAAAAAAAAAAAAAAAAAAAAAAAAAAAAAAAAAAAAAAAAAAAAAAAAAAAAAAAAAAAAAAAAAAAAAAAAAAAAAAAAAAAAAAAAAAAAAAAAAAAAAAAAAAAAAAAAAAAAAAAAAAAAAAAAAAAAAAAAAAAAAAAAAAAAAAAAAAAAAAAAAAAAAAAAAAAAAAAAAAAAAAAAAAAAAAAAAAAAAAAAAAAAAAAAAAAAAAAAAAAAAAAAAAAAAAAAAAAAAAAAAAAAAAAAAAAAAAAAAAAAAAAAAAAAAAAAAAAAAAAAAAAAAAAAAAAAAAAAAAAAAAAAAAAAAAAAAAAAAAAAAAAAAAAAAAAAAAAAAAAAAAAAAAAAAAAAAAAAAAAAAAAAAAAAAAAAAAAAAAAAAAAAAAAAAAAAAAAAAAAAAAAAAAAAAAAAAAAAAAAAAAAAAAAAAAAAAAAAAAAAAAAAAAAAAAAAAAAAAAAAAAAAAAAAAAAAAAAAAAAAAAAAAAAAAAAAAAAAAAAAAAAAAAAAAAAAAAAAAAAAAAAAAAAAAAAAAAAAAAAAAAAAAAAAAAAAAAAAAAAAAAAAAAAAAAAAAAAAAAAAAAAAAAAAAAAAAAAAAAAAAAAAAAAAAAAAAAAAAAAAAAAAAAAAAAAAAAAAAAAAAAAAAAAAAAAAAAAAAAAAAAAAAAAAAAAAAAAAAAAAAAAAAAAAAAAAAAAAAAAAAAAAAAAAAAAAAAAAAAAAAAAAAAAAAAAAAAAAAAAAAAAAAAAAAAAAAAAAAAAAAAAAAAAAAAAAAAAAAAAAAAAAAAAAAAAAAAAAAAAAAAAAAAAAAAAAAAAAAAAAAAAAAAAAAAAAAAAAAAAAAAAAAAAAAAAAAAAAAAAAAAAAAAAAAADIwMjE6MDY6MjkgMjA6MTc6MzYAMjAyMTowNjoyOSAyMDoxNzozNgAAAFYAaQBqAGEAeQAgAFIAYQBqACAATwBqAGgAYQAAAP/hCyFodHRwOi8vbnMuYWRvYmUuY29tL3hhcC8xLjAvADw/eHBhY2tldCBiZWdpbj0n77u/JyBpZD0nVzVNME1wQ2VoaUh6cmVTek5UY3prYzlkJz8+DQo8eDp4bXBtZXRhIHhtbG5zOng9ImFkb2JlOm5zOm1ldGEvIj48cmRmOlJERiB4bWxuczpyZGY9Imh0dHA6Ly93d3cudzMub3JnLzE5OTkvMDIvMjItcmRmLXN5bnRheC1ucyMiPjxyZGY6RGVzY3JpcHRpb24gcmRmOmFib3V0PSJ1dWlkOmZhZjViZGQ1LWJhM2QtMTFkYS1hZDMxLWQzM2Q3NTE4MmYxYiIgeG1sbnM6ZGM9Imh0dHA6Ly9wdXJsLm9yZy9kYy9lbGVtZW50cy8xLjEvIi8+PHJkZjpEZXNjcmlwdGlvbiByZGY6YWJvdXQ9InV1aWQ6ZmFmNWJkZDUtYmEzZC0xMWRhLWFkMzEtZDMzZDc1MTgyZjFiIiB4bWxuczp4bXA9Imh0dHA6Ly9ucy5hZG9iZS5jb20veGFwLzEuMC8iPjx4bXA6Q3JlYXRlRGF0ZT4yMDIxLTA2LTI5VDIwOjE3OjM2LjY5NzwveG1wOkNyZWF0ZURhdGU+PC9yZGY6RGVzY3JpcHRpb24+PHJkZjpEZXNjcmlwdGlvbiByZGY6YWJvdXQ9InV1aWQ6ZmFmNWJkZDUtYmEzZC0xMWRhLWFkMzEtZDMzZDc1MTgyZjFiIiB4bWxuczpkYz0iaHR0cDovL3B1cmwub3JnL2RjL2VsZW1lbnRzLzEuMS8iPjxkYzpjcmVhdG9yPjxyZGY6U2VxIHhtbG5zOnJkZj0iaHR0cDovL3d3dy53My5vcmcvMTk5OS8wMi8yMi1yZGYtc3ludGF4LW5zIyI+PHJkZjpsaT5WaWpheSBSYWogT2poYTwvcmRmOmxpPjwvcmRmOlNlcT4NCgkJCTwvZGM6Y3JlYXRvcj48L3JkZjpEZXNjcmlwdGlvbj48L3JkZjpSREY+PC94OnhtcG1ldGE+DQogICAgICAgICAgICAgICAgICAgICAgICAgICAgICAgICAgICAgICAgICAgICAgICAgICAgICAgICAgICAgICAgICAgICAgICAgICAgICAgICAgICAgICAgICAgICAgICAgICAgCiAgICAgICAgICAgICAgICAgICAgICAgICAgICAgICAgICAgICAgICAgICAgICAgICAgICAgICAgICAgICAgICAgICAgICAgICAgICAgICAgICAgICAgICAgICAgICAgICAgICAKICAgICAgICAgICAgICAgICAgICAgICAgICAgICAgICAgICAgICAgICAgICAgICAgICAgICAgICAgICAgICAgICAgICAgICAgICAgICAgICAgICAgICAgICAgICAgICAgICAgIAogICAgICAgICAgICAgICAgICAgICAgICAgICAgICAgICAgICAgICAgICAgICAgICAgICAgICAgICAgICAgICAgICAgICAgICAgICAgICAgICAgICAgICAgICAgICAgICAgICAgCiAgICAgICAgICAgICAgICAgICAgICAgICAgICAgICAgICAgICAgICAgICAgICAgICAgICAgICAgICAgICAgICAgICAgICAgICAgICAgICAgICAgICAgICAgICAgICAgICAgICAKICAgICAgICAgICAgICAgICAgICAgICAgICAgICAgICAgICAgICAgICAgICAgICAgICAgICAgICAgICAgICAgICAgICAgICAgICAgICAgICAgICAgICAgICAgICAgICAgICAgIAogICAgICAgICAgICAgICAgICAgICAgICAgICAgICAgICAgICAgICAgICAgICAgICAgICAgICAgICAgICAgICAgICAgICAgICAgICAgICAgICAgICAgICAgICAgICAgICAgICAgCiAgICAgICAgICAgICAgICAgICAgICAgICAgICAgICAgICAgICAgICAgICAgICAgICAgICAgICAgICAgICAgICAgICAgICAgICAgICAgICAgICAgICAgICAgICAgICAgICAgICAKICAgICAgICAgICAgICAgICAgICAgICAgICAgICAgICAgICAgICAgICAgICAgICAgICAgICAgICAgICAgICAgICAgICAgICAgICAgICAgICAgICAgICAgICAgICAgICAgICAgIAogICAgICAgICAgICAgICAgICAgICAgICAgICAgICAgICAgICAgICAgICAgICAgICAgICAgICAgICAgICAgICAgICAgICAgICAgICAgICAgICAgICAgICAgICAgICAgICAgICAgCiAgICAgICAgICAgICAgICAgICAgICAgICAgICAgICAgICAgICAgICAgICAgICAgICAgICAgICAgICAgICAgICAgICAgICAgICAgICAgICAgICAgICAgICAgICAgICAgICAgICAKICAgICAgICAgICAgICAgICAgICAgICAgICAgICAgICAgICAgICAgICAgICAgICAgICAgICAgICAgICAgICAgICAgICAgICAgICAgICAgICAgICAgICAgICAgICAgICAgICAgIAogICAgICAgICAgICAgICAgICAgICAgICAgICAgICAgICAgICAgICAgICAgICAgICAgICAgICAgICAgICAgICAgICAgICAgICAgICAgICAgICAgICAgICAgICAgICAgICAgICAgCiAgICAgICAgICAgICAgICAgICAgICAgICAgICAgICAgICAgICAgICAgICAgICAgICAgICAgICAgICAgICAgICAgICAgICAgICAgICAgICAgICAgICAgICAgICAgICAgICAgICAKICAgICAgICAgICAgICAgICAgICAgICAgICAgICAgICAgICAgICAgICAgICAgICAgICAgICAgICAgICAgICAgICAgICAgICAgICAgICAgICAgICAgICAgICAgICAgICAgICAgIAogICAgICAgICAgICAgICAgICAgICAgICAgICAgICAgICAgICAgICAgICAgICAgICAgICAgICAgICAgICAgICAgICAgICAgICAgICAgICAgICAgICAgICAgICAgICAgICAgICAgCiAgICAgICAgICAgICAgICAgICAgICAgICAgICAgICAgICAgICAgICAgICAgICAgICAgICAgICAgICAgICAgICAgICAgICAgICAgICAgICAgICAgICAgICAgICAgICAgICAgICAKICAgICAgICAgICAgICAgICAgICAgICAgICAgICAgICAgICAgICAgICAgICAgICAgICAgICAgICAgICAgICAgICAgICAgICAgICAgICAgICAgICAgICAgICAgICAgICAgICAgIAogICAgICAgICAgICAgICAgICAgICAgICAgICAgICAgICAgICAgICAgICAgICAgICAgICAgICAgICAgICAgICAgICAgICAgICAgICAgICAgICAgICAgICAgICAgICAgICAgICAgCiAgICAgICAgICAgICAgICAgICAgICAgICAgICAgICAgICAgICAgICAgICAgICAgICAgICAgICAgICAgICAgICAgICAgICAgICAgICAgICAgICAgICAgICAgICAgICAgICAgICAKICAgICAgICAgICAgICAgICAgICAgICAgICAgIDw/eHBhY2tldCBlbmQ9J3cnPz7/2wBDAAcFBQYFBAcGBQYIBwcIChELCgkJChUPEAwRGBUaGRgVGBcbHichGx0lHRcYIi4iJSgpKywrGiAvMy8qMicqKyr/2wBDAQcICAoJChQLCxQqHBgcKioqKioqKioqKioqKioqKioqKioqKioqKioqKioqKioqKioqKioqKioqKioqKioqKir/wAARCAB/ATwDASIAAhEBAxEB/8QAHwAAAQUBAQEBAQEAAAAAAAAAAAECAwQFBgcICQoL/8QAtRAAAgEDAwIEAwUFBAQAAAF9AQIDAAQRBRIhMUEGE1FhByJxFDKBkaEII0KxwRVS0fAkM2JyggkKFhcYGRolJicoKSo0NTY3ODk6Q0RFRkdISUpTVFVWV1hZWmNkZWZnaGlqc3R1dnd4eXqDhIWGh4iJipKTlJWWl5iZmqKjpKWmp6ipqrKztLW2t7i5usLDxMXGx8jJytLT1NXW19jZ2uHi4+Tl5ufo6erx8vP09fb3+Pn6/8QAHwEAAwEBAQEBAQEBAQAAAAAAAAECAwQFBgcICQoL/8QAtREAAgECBAQDBAcFBAQAAQJ3AAECAxEEBSExBhJBUQdhcRMiMoEIFEKRobHBCSMzUvAVYnLRChYkNOEl8RcYGRomJygpKjU2Nzg5OkNERUZHSElKU1RVVldYWVpjZGVmZ2hpanN0dXZ3eHl6goOEhYaHiImKkpOUlZaXmJmaoqOkpaanqKmqsrO0tba3uLm6wsPExcbHyMnK0tPU1dbX2Nna4uPk5ebn6Onq8vP09fb3+Pn6/9oADAMBAAIRAxEAPwD6RooooAKKKKACiiigAooooAKKKKACiiigAooooAKKKKACiiigAooooAKKKKACiiigAooooAKKKKACiiigAooooAKKKKACiiigAooooAKKKKACiiigAooooAKKKKACiiigAooooAKKKKACiiigAooooAKy5PE2hw6uulS6vZJqDnC2rTqJCf8AdzmtSvIviT4ebX7jVNa09P8ATvD/AJUtq6DBYjmQfkKV0mr7dfQaV1pv0PStV8S6Jockces6tZWDyDKLczrGWHtk1oRSxzwrLC6yRuMqynII9Qa4Sy1Ky8czeF7sRxzIYDdzBlB2naRj8HBrvQAqgKAAOgFU01o9yU77C0UUUhhRRRQAUUUUAFFFFABRRRQAUUUUAFFFFABRRRQAUUUUAFFFFABRRRQAUUUUAFFFFABRRRQAUUUUAFFFFABRRRQAUUV5h8U/i7dfDS9tlk8OyX1pcL8lytxsG7+7jaeaTaW40m9j0e+nntrKWW0tXu5lXKwo6qXPpliAPxrnfBlvqb6bqK+IdIfT5rq5kkZXmjkDq/YbCenvWH4c8e+K/FWhwatovhewmtZxlSdXAI9iPL4NaR1rx+OnhGw/8Gw/+N02rNpivdKxT+HPgS78IaxrbXMm60lnP2BdwOyJjvIx2+Zmr0CuFn8R+P4Iy/8AwhdrJjtHqgJ/9Arj/EHxv8TeFtr698P7u1gLY843GU/PbRfRJ+gW1bPaqKzvD+tW3iLQLPVrI5hu4lkUZzjIzj8K0abTTsxJpq6CiiikMKKKKACiiigAooooAKKKKACiiigAooooAKKKKACiiigAooooAKKKKAMPxT4qs/C2npNcq89xO/l21rEMyTOewFc9qPjLxVoOlPrGueG4Rp0a75UtbjfPEvqykBeO+Ca574y6X4og8Q+HvFPhewfVBpLuZLRFLE5xzgc9jUOifGnR/Gl0/hLxNpV3od5fIYCs3RiRjHI4/GpjeSfL8Xb+u5TtFq+3c9N8La0/iLwzZ6tJbm2+1KXWInJC5IGfwGa16gsbOLT9Pgs7YYigjEaD2AxUGraqmkWX2mS1vLobtvl2du0z/wDfK84q5NXdtiIp213L1Fcp/wALAtv+he8Tf+CWb/Cl/wCE/tv+hf8AEv8A4Jpv8KQzqqKr2N4t/ZR3KQzwCQZEdxEY3X6qeRVijYAooooAK5/xr4QsPG3he50fUkBWRcxyEcxv2YfjXQUUpRUlZjTad0fJ/wANfFWo/Bz4jXPhTxMXTTJ5tpZvuoTwJB7EYz9K+ro5EmiWSJg6MMqynIIryv44/C9PHHhw3+mQgaxYqWjKjmVeu0/0+tcz+z58UGvYP+EN8RSlb+1GLVpT8zqOqH3H+NVCTmuWXxL8UTNKD5ls/wAGe+VDeWdvqFnLa3sKTQSrteNxkMKmopbj2Oe8I+F18JWl1p9nIDpxmMlrF3hDclfpk8V0NFcx4v8AEl3owgttJjt3vJkeXdcgmONEGSTgg9/WlKVldjUbvQ6eivMfDvxA8U+LPBp8QaZpVhZwwRs8n2rewnKjJ2YYYHuc11/gnxXb+NPClprVqnlCYEPGTnawJBH5iqs9fIm6N+vPvFXj/WfC/jbSdJn0m1lsNUuBDDcrO29fXK4x2r0GvIvi/wD8j14F/wCwiP5GlH+JBd2kN/BJ+TPXaK5LxH40On+JLLw1o0CXWs3iGQJIfkijHG9sduvHtVO98aan4U1jT7TxlDZm21GTyYb2yVlRJOoVgxJ5weaFra3UHodzRXEeIvHF3b+NrLwl4dgt5dTuYjO8t1kxxIM9QpBJ49awP+E98Z3HjO48KW1npA1W0jWdshwk8ZOCVy3y4980L3rW6/puD03/AKvserUUibig3gBscgetLQAUVx/jbxde6Dug0eG2kuI7Z7uZ7oMUSNcDHBBySwxzWFY/EDxRrHgNvFljpFlaWUNu07xXW4vOFBLbMMNo4OM5pXVm+39fox2d0u56bRWR4W8Q2/irwzZazaKViuo94U/wnuK16ppp2ZKaaugooopDCiiigAooooAKR3EaM7nCqMk+lLSModSrgMpGCCMg0ne2gHnXgP4jWmqx6imvXTWk/wBrdoFuQVVoeANpPGMg1jeKNOs/iF8S9ATQolkg0eb7ReX6LhRjOEB75OK9RutD0m+gSG+0uyuYo+ESa3R1X6Ajip7SytbC3EFjbQ20K9I4Ywij8BVKyafb9Aeqa7/qT1n61Nq8Fhv0Cztby63D93dXDQpj13BWP6VoUUgON/tP4j/9C14f/wDBzL/8Yo/tP4j/APQteH//AAcy/wDxiuyooAradJeyafE+qwQ292R+8jglMiKfZiAT+Qp17ZW+o2ctpewrNbzKVkjbow9KnooeoLQ5X/hWPgv/AKF2y/75P+NH/CsfBf8A0Ltl/wB8n/GuqooAhs7O3sLOO1s4lhgiXaka9FHpU1FBIAyeAKG+rAZLLHDC8kzqkajLMxwAK8P0P4daV4y+Llx4006KS10i2kzEy/L9rm7sB2X+fFdZqt5P8SNal0HSpJItAtH26jeISPtDf88kb09SPWvQLKzt9Ps4rSyiSGCFQqRoMBQKI6NT+7/P/L7+wS1Th9/+X+f3E9FFISFUljgDkk9qAFrz/wCNmsjRPhZqkqnE1yn2aMjrl+OK6jQvElp4hnvhpwLwWc3k/aAQUkYddv0PFeffFbSfE/ijWNJs9P8ADkl1pWn3YnuH+1RL9oHHABbI6HrUSjzJR72+7/hiovlbfb8/+HK66xZ6H8B7DSNClF1qd5ZpbQQRcuXYAMSO3GetbHh3SIPBHw10zwxc66ulalMo/fhC5Du2SB+Jxya7TStI06FY76PRLTT72RAZNkMfmKT1BdRz+dcN8SFtm8VaJaSxsI5ZRd3L5P70RfMka+5Zeg9a1lK83f7TV/T+rmcV7q8l+J6XCpSBFZzIQoBc/wAXvXjfxi1Oyj8feC0e6hDQX4aUFx8gweT6V7Hbv5lvG+wx7lB2nqKzrvwt4f1C5e5v9C025nf70s1nG7N9SRk1Oqmpdnf7ilbka7qx5jq9udC/aA0/xTdvu0a/sjAt0vzJG+TwT2HI5o+MTp4xuPD2geHZFvLs6gly7QncsUag5JI4HWvWm02xexFk1nbtaAbRbmJfLA9NuMVHYaNpelbv7L020st33vs0Cx5+u0CkklZdE7/jf8xtu7l1at+Fjyrxy+m6N8UdHu7/AFpNAuYNNxDqEkPmrK2WBVhkZ4rY8Cx+FJfE95rMHia313XrtAjzBfKwg/hVCTj86r+INGaz+I91rXinRZNe0WaFEtQsH2kWpA+b91gk5OTkDvWVrXh/TPFWq6Y3gbwvLpF1a3Kyyai1i1iI0HUbSqls/Q04Pb5/K7FNWv8AL52Rs6w/iibR/Eer311e6HLpkkj2ASYeTPGuSpZe+QAPxrsfBWs3PiDwXpmqX0XlXFzCGkX3yRn8cZrz/wAcfELwnqWtS+HtZ1uO206zcG8RMlrh1OfL47ZHP0xXpPhq+g1Lw3ZXdlCILeSP91GBjCAkD9BRD4G+mn66/P8AQJfFb1/T8jhvj3rKaV8NZ4AdsuozJaggc4Jyf0Ws7xVqUMPwcsPDHhZ1vNR1G0itIoYTnAZQHLf3ep60nxG0bxT4l8daJJb+GpLnRtJuGkk/0qIfaDjAIBbj8a9O03R9Ns8XVppFpYXEqhpPKhRWyeoLKOamMU4Pm6v8F/nqU21NW6L8X/SOT06xtPCPgXSvCra6umXwjVFmCFiW6ke2fc11msaxaeHNCn1LVJWFtax7pHAyT+FcD8Qvsx8baJZyxMIZHN5ctz++8rASMep/eHgV6BqJhm0Gdr2x+0xtCWe1aMSb+M7cc5qpScoufW7/AK/MmMVGSiR+HvEOn+KNDg1bR5vOtZxlGIweuORWnXO+BtEOheGIrdoEt2ldpjCihVj3HIUAdOMV0VVKyego3tqFFFFSMKKKKACiiigAooooAKKKKACiiigAooooAKKKKACvM/i/q/i+PTY9J8GaDe3xuf8Aj5uYB91O6qexI4zXplFJq407HhmjeNviBoOkw6fp3wpvY4YVwMS8se5PHJNXf+Fn/E7/AKJdff8Afz/61eq2t5qMut3dvcaf5NlEq+RclwfNJ68A5GOOtaNU23qybW0PFJvib8VGQ/Z/hldo3Ys26uJ8Uax8dfFkJsn8O3mnWsh2strBtJHuSxr6hPA6Zrj9P8cXN58QD4audGmsSLVrjzJ5EJYA4GNpPH1qbJuxV2lct/D3w2PCfgXTdLZcTRwhpyepkIy365rpaKKuUuZtkRXKrBUckEUrK0sSOynKllBI+lSUVJQUUUUAFFFFABRRRQBTfSNNkkLyafau7HJZoFJJ/KrSIsaBI1VFUYCqMAU6igAooooAjkghldWliR2X7pZQSPpUlFFABRRRQAUUUUAFFFFABRRRQAUUUUAFFFFABRRRQAUUUUAFFFFABVXU0kk0ydYpxbkocy4ztHc/lVqmTwpc28kEw3RyIUYeoIwaTu1oNbnnHw7ujJomtXd1qsltbXFw72xeTLRRKApcFs9WVj6Vb/tLR/8AopNz/wB/bf8A+N10+heF9N8OwtHp6SFSNoMr7iq5J2j0GSTj3rV8mL/nmn/fIqmJHNeHLywnv2S08XS6y+3/AFLvEce/yqDWAxx+0Un/AGBj/wCh16KI0X7qKp9QMVyh+HOmnxINd/tLWPt4Ty/M+2t9zOdvTp7Ul8afa/4pr9Q+y13t+af6HW0UDgUUAFFFFABRRRQAUUUUAFFFFABRRRQAUUUUAFFFFABRRRQAUUUUAFFFFABRRRQAUUUUAFFFFABRRRQAUUUUAFFFFABRRRQAUUUUAFFFFABRRRQAUUUUAFFFFABRRRQAUUUUAFFFFABRRRQAUUUUAFFFFABRRRQB/9k=)"
      ]
    },
    {
      "cell_type": "code",
      "metadata": {
        "colab": {
          "base_uri": "https://localhost:8080/"
        },
        "id": "pvkZ27rILUn3",
        "outputId": "2e4113e5-5c30-439a-9114-c498bcf8b0a3"
      },
      "source": [
        "#find entropy for the whole dataset\n",
        "entropy_node = 0  #Initialize Entropy\n",
        "values = df.play.unique()  #Unique objects - 'Yes', 'No'\n",
        "for value in values:\n",
        "    fraction = df.play.value_counts()[value]/len(df.play)  \n",
        "    print(f'{value}:{fraction}')\n",
        "    entropy_node += -fraction*np.log2(fraction)\n",
        "    print(entropy_node) #added entropies for yes and no"
      ],
      "execution_count": 51,
      "outputs": [
        {
          "output_type": "stream",
          "text": [
            "yes:0.6428571428571429\n",
            "0.40977637753840174\n",
            "no:0.35714285714285715\n",
            "0.9402859586706309\n"
          ],
          "name": "stdout"
        }
      ]
    },
    {
      "cell_type": "code",
      "metadata": {
        "colab": {
          "base_uri": "https://localhost:8080/"
        },
        "id": "ucsciodyQxaA",
        "outputId": "82e438c5-8c16-4da0-b68e-cbf6520e1d8d"
      },
      "source": [
        "variable = 'overcast'\n",
        "target_variable ='yes'\n",
        "\n",
        "df[df.keys()[0]][df[df.keys()[0]]==variable][df.play ==target_variable] #variable with yes\n"
      ],
      "execution_count": 36,
      "outputs": [
        {
          "output_type": "execute_result",
          "data": {
            "text/plain": [
              "0    overcast\n",
              "1    overcast\n",
              "2    overcast\n",
              "3    overcast\n",
              "Name: outlook, dtype: object"
            ]
          },
          "metadata": {
            "tags": []
          },
          "execution_count": 36
        }
      ]
    },
    {
      "cell_type": "code",
      "metadata": {
        "colab": {
          "base_uri": "https://localhost:8080/"
        },
        "id": "aFZgQcSjUGxf",
        "outputId": "d4fa250f-3827-434c-8742-f0cdf52caa65"
      },
      "source": [
        "df[df.keys()[0]][df[df.keys()[0]]==variable]"
      ],
      "execution_count": 37,
      "outputs": [
        {
          "output_type": "execute_result",
          "data": {
            "text/plain": [
              "0    overcast\n",
              "1    overcast\n",
              "2    overcast\n",
              "3    overcast\n",
              "Name: outlook, dtype: object"
            ]
          },
          "metadata": {
            "tags": []
          },
          "execution_count": 37
        }
      ]
    },
    {
      "cell_type": "code",
      "metadata": {
        "id": "GohuUPX2MZyI"
      },
      "source": [
        "#define a function to calculate entropy of each attribute\n",
        "def ent(df,attribute):\n",
        "    target_variables = df.play.unique()  #This gives all 'Yes' and 'No'\n",
        "    variables = df[attribute].unique()    #This gives different features in that attribute (like in outlook 'Overcast','Rainy','Sunny')\n",
        "\n",
        "\n",
        "    entropy_attribute = 0\n",
        "    for variable in variables:\n",
        "        entropy_each_feature = 0\n",
        "        for target_variable in target_variables:\n",
        "          #frequency of attribute and target values (boolean indexing, pandas dataframe filtering)\n",
        "            num = len(df[attribute][df[attribute]==variable][df.play ==target_variable]) #numerator\n",
        "            #print(num)\n",
        "            den = len(df[attribute][df[attribute]==variable])  #denominator\n",
        "            #print(den)\n",
        "            fraction = num/(den+eps)  #pi\n",
        "            #print(fraction)\n",
        "            entropy_each_feature += -fraction*log(fraction+eps) #This calculates entropy for one feature like 'Overcast','Rainy','Sunny'\n",
        "        fraction2 = den/len(df)\n",
        "        #print(fraction2)\n",
        "        entropy_attribute += -fraction2*entropy_each_feature   #Sums up all the entropy of attribute like outlook\n",
        "        #print(entropy_attribute)\n",
        "\n",
        "    return(abs(entropy_attribute))"
      ],
      "execution_count": 42,
      "outputs": []
    },
    {
      "cell_type": "code",
      "metadata": {
        "colab": {
          "base_uri": "https://localhost:8080/",
          "height": 35
        },
        "id": "oyP9mV5FW4BX",
        "outputId": "eb4d752a-1c7d-4ef0-c85c-50d2e7b18048"
      },
      "source": [
        "df.keys()[0]"
      ],
      "execution_count": 43,
      "outputs": [
        {
          "output_type": "execute_result",
          "data": {
            "application/vnd.google.colaboratory.intrinsic+json": {
              "type": "string"
            },
            "text/plain": [
              "'outlook'"
            ]
          },
          "metadata": {
            "tags": []
          },
          "execution_count": 43
        }
      ]
    },
    {
      "cell_type": "code",
      "metadata": {
        "colab": {
          "base_uri": "https://localhost:8080/"
        },
        "id": "zjNvFLvZPAC3",
        "outputId": "792d1a72-94e3-4576-b5b1-ed39f3938f0c"
      },
      "source": [
        "#for outlook attribute\n",
        "ent(df,df.keys()[0]) #outlook"
      ],
      "execution_count": 41,
      "outputs": [
        {
          "output_type": "execute_result",
          "data": {
            "text/plain": [
              "0.6935361388961914"
            ]
          },
          "metadata": {
            "tags": []
          },
          "execution_count": 41
        }
      ]
    },
    {
      "cell_type": "code",
      "metadata": {
        "colab": {
          "base_uri": "https://localhost:8080/"
        },
        "id": "kT1XfecFXErn",
        "outputId": "b96727c4-9d6d-4e37-c439-35a097288bbe"
      },
      "source": [
        "#store entropy of each attribute with its name\n",
        "a_entropy = {k:ent(df,k) for k in df.keys()[:-1]} #create dict\n",
        "a_entropy"
      ],
      "execution_count": 46,
      "outputs": [
        {
          "output_type": "execute_result",
          "data": {
            "text/plain": [
              "{'humidity': 0.7884504573082889,\n",
              " 'outlook': 0.6935361388961914,\n",
              " 'temp': 0.9110633930116756,\n",
              " 'windy': 0.892158928262361}"
            ]
          },
          "metadata": {
            "tags": []
          },
          "execution_count": 46
        }
      ]
    },
    {
      "cell_type": "code",
      "metadata": {
        "id": "x2HJ3d6gXVX3"
      },
      "source": [
        "#calculate Info gain of each attribute, IG(attr) = entropy of dataset - entropy of attribute\n",
        "def ig(e_dataset,e_attr):\n",
        "    return(e_dataset-e_attr)\n"
      ],
      "execution_count": 47,
      "outputs": []
    },
    {
      "cell_type": "code",
      "metadata": {
        "colab": {
          "base_uri": "https://localhost:8080/"
        },
        "id": "R4OjBYjdXcMf",
        "outputId": "2f99b2ba-6575-4a00-a38b-7f54ca168c90"
      },
      "source": [
        "#store IG of each attr in a dict\n",
        "#entropy_node = entropy of dataset\n",
        "#a_entropy[k] = entropy of k(th) attr\n",
        "IG = {k:ig(entropy_node,a_entropy[k]) for k in a_entropy}\n",
        "IG"
      ],
      "execution_count": 50,
      "outputs": [
        {
          "output_type": "execute_result",
          "data": {
            "text/plain": [
              "{'humidity': 0.15183550136234203,\n",
              " 'outlook': 0.24674981977443955,\n",
              " 'temp': 0.029222565658955313,\n",
              " 'windy': 0.04812703040826993}"
            ]
          },
          "metadata": {
            "tags": []
          },
          "execution_count": 50
        }
      ]
    },
    {
      "cell_type": "code",
      "metadata": {
        "id": "PPC9NrjGYTAo"
      },
      "source": [
        "#as we can see outlook has the highest info gain of 0.24 , therefore we will select outook as the node at this level for splitting"
      ],
      "execution_count": 52,
      "outputs": []
    },
    {
      "cell_type": "code",
      "metadata": {
        "id": "AKo48w70n2fw"
      },
      "source": [
        ""
      ],
      "execution_count": null,
      "outputs": []
    },
    {
      "cell_type": "markdown",
      "metadata": {
        "id": "v41lBIk2n-Wr"
      },
      "source": [
        "![tree.JPG](data:image/jpeg;base64,/9j/4AAQSkZJRgABAQEAeAB4AAD/4RD4RXhpZgAATU0AKgAAAAgABAE7AAIAAAAPAAAISodpAAQAAAABAAAIWpydAAEAAAAeAAAQ0uocAAcAAAgMAAAAPgAAAAAc6gAAAAgAAAAAAAAAAAAAAAAAAAAAAAAAAAAAAAAAAAAAAAAAAAAAAAAAAAAAAAAAAAAAAAAAAAAAAAAAAAAAAAAAAAAAAAAAAAAAAAAAAAAAAAAAAAAAAAAAAAAAAAAAAAAAAAAAAAAAAAAAAAAAAAAAAAAAAAAAAAAAAAAAAAAAAAAAAAAAAAAAAAAAAAAAAAAAAAAAAAAAAAAAAAAAAAAAAAAAAAAAAAAAAAAAAAAAAAAAAAAAAAAAAAAAAAAAAAAAAAAAAAAAAAAAAAAAAAAAAAAAAAAAAAAAAAAAAAAAAAAAAAAAAAAAAAAAAAAAAAAAAAAAAAAAAAAAAAAAAAAAAAAAAAAAAAAAAAAAAAAAAAAAAAAAAAAAAAAAAAAAAAAAAAAAAAAAAAAAAAAAAAAAAAAAAAAAAAAAAAAAAAAAAAAAAAAAAAAAAAAAAAAAAAAAAAAAAAAAAAAAAAAAAAAAAAAAAAAAAAAAAAAAAAAAAAAAAAAAAAAAAAAAAAAAAAAAAAAAAAAAAAAAAAAAAAAAAAAAAAAAAAAAAAAAAAAAAAAAAAAAAAAAAAAAAAAAAAAAAAAAAAAAAAAAAAAAAAAAAAAAAAAAAAAAAAAAAAAAAAAAAAAAAAAAAAAAAAAAAAAAAAAAAAAAAAAAAAAAAAAAAAAAAAAAAAAAAAAAAAAAAAAAAAAAAAAAAAAAAAAAAAAAAAAAAAAAAAAAAAAAAAAAAAAAAAAAAAAAAAAAAAAAAAAAAAAAAAAAAAAAAAAAAAAAAAAAAAAAAAAAAAAAAAAAAAAAAAAAAAAAAAAAAAAAAAAAAAAAAAAAAAAAAAAAAAAAAAAAAAAAAAAAAAAAAAAAAAAAAAAAAAAAAAAAAAAAAAAAAAAAAAAAAAAAAAAAAAAAAAAAAAAAAAAAAAAAAAAAAAAAAAAAAAAAAAAAAAAAAAAAAAAAAAAAAAAAAAAAAAAAAAAAAAAAAAAAAAAAAAAAAAAAAAAAAAAAAAAAAAAAAAAAAAAAAAAAAAAAAAAAAAAAAAAAAAAAAAAAAAAAAAAAAAAAAAAAAAAAAAAAAAAAAAAAAAAAAAAAAAAAAAAAAAAAAAAAAAAAAAAAAAAAAAAAAAAAAAAAAAAAAAAAAAAAAAAAAAAAAAAAAAAAAAAAAAAAAAAAAAAAAAAAAAAAAAAAAAAAAAAAAAAAAAAAAAAAAAAAAAAAAAAAAAAAAAAAAAAAAAAAAAAAAAAAAAAAAAAAAAAAAAAAAAAAAAAAAAAAAAAAAAAAAAAAAAAAAAAAAAAAAAAAAAAAAAAAAAAAAAAAAAAAAAAAAAAAAAAAAAAAAAAAAAAAAAAAAAAAAAAAAAAAAAAAAAAAAAAAAAAAAAAAAAAAAAAAAAAAAAAAAAAAAAAAAAAAAAAAAAAAAAAAAAAAAAAAAAAAAAAAAAAAAAAAAAAAAAAAAAAAAAAAAAAAAAAAAAAAAAAAAAAAAAAAAAAAAAAAAAAAAAAAAAAAAAAAAAAAAAAAAAAAAAAAAAAAAAAAAAAAAAAAAAAAAAAAAAAAAAAAAAAAAAAAAAAAAAAAAAAAAAAAAAAAAAAAAAAAAAAAAAAAAAAAAAAAAAAAAAAAAAAAAAAAAAAAAAAAAAAAAAAAAAAAAAAAAAAAAAAAAAAAAAAAAAAAAAAAAAAAAAAAAAAAAAAAAAAAAAAAAAAAAAAAAAAAAAAAAAAAAAAAAAAAAAAAAAAAAAAAAAAAAAAAAAAAAAAAAAAAAAAAAAAAAAAAAAAAAAAAAAAAAAAAAAAAAAAAAAAAAAAAAAAAAAAAAAAAAAAAAAAAAAAAAAAAAAAAAAAAAAAAAAAAAAAAAAAAAAAAAAAAAAAAAAAAAAAAAAAAAAAAAAAAAAAAAAAAAAAAAAAAAAAAAAAAAAAAAAAAAAAAAAAAAAAAAAAAAAAAAAAAAAAAAAAAAAAAAAAAAAAAAAAAAAAAAAAAAAAAAAAAAAAAAAAAAAAAAAAAAAAAAAAAAAAAAAAAAAAAAAAAAAAAAAAAAAAAAAAAAAAAAAAAAAAAAAAAAAAAAAAAAAAAAAAAAAAAAAAAAAAAAAAAAAAAAAAAAAAAAAAAAAAAAAAAAAAAAAAAAAAAAAAAAAAAAAAAAAAAAAAAAAAAAAAAAAAAAAAAAAAAAAAAAAAAAAAAAAAAAAAAAAAAAAAAAAAAAAAAAAAAAAAAAAAAAAAAAAAAAAAAAAAAAAAAAAAAAAAAAAAAAAAAAAAAAAAAAAAAAAAAAAAAAAAAAAAAAAAAAAAAAAAAAAAAAAAAAAAAAAAAAAAAAAAAAAAAAAAAAAAAAAAAAAAAAAAAAAAAAAAAAAAAAAAAAAAAAAAAAAAAAAAAAAAAAAAAAAAAAAAAAAAAAAAAAAAAAAAAAAAAAAAAAAAAAAAAAAAAAAAAAAAAAAAAAAAAAAAAAAAAAAAAAAAAAAAAAAAAAAAAAAAAAAAAAAAAAAAAAAAAAAAAAAAAAAAAAAAAAAAAAAAAAAAAAAAAAAAAAAAAAAAAAAAAAAAAAAAAAAAAAAAAAAAAAAAAAAAAAAAAAAAAAAAAAAAAAAAAAAAAAAAAAAAAAAAAAAAAAAAAAAAAAAAAAAAAAAAAAAAAAAAAAAAAAAAAAAAAAAAAAAAAAAAAAAAAAAAAAAAAAAAAAAAAAAAAAAAAAAAAAAAAAAAAAAAAAAAAAAAAAAAAAAAAAAAAAAAAAAAAAAAAAAAAAAAAAAAAAAAAAAAAAAAAAAAAAAAAAFZpamF5IFJhaiBPamhhAAAABZADAAIAAAAUAAAQqJAEAAIAAAAUAAAQvJKRAAIAAAADOTgAAJKSAAIAAAADOTgAAOocAAcAAAgMAAAInAAAAAAc6gAAAAgAAAAAAAAAAAAAAAAAAAAAAAAAAAAAAAAAAAAAAAAAAAAAAAAAAAAAAAAAAAAAAAAAAAAAAAAAAAAAAAAAAAAAAAAAAAAAAAAAAAAAAAAAAAAAAAAAAAAAAAAAAAAAAAAAAAAAAAAAAAAAAAAAAAAAAAAAAAAAAAAAAAAAAAAAAAAAAAAAAAAAAAAAAAAAAAAAAAAAAAAAAAAAAAAAAAAAAAAAAAAAAAAAAAAAAAAAAAAAAAAAAAAAAAAAAAAAAAAAAAAAAAAAAAAAAAAAAAAAAAAAAAAAAAAAAAAAAAAAAAAAAAAAAAAAAAAAAAAAAAAAAAAAAAAAAAAAAAAAAAAAAAAAAAAAAAAAAAAAAAAAAAAAAAAAAAAAAAAAAAAAAAAAAAAAAAAAAAAAAAAAAAAAAAAAAAAAAAAAAAAAAAAAAAAAAAAAAAAAAAAAAAAAAAAAAAAAAAAAAAAAAAAAAAAAAAAAAAAAAAAAAAAAAAAAAAAAAAAAAAAAAAAAAAAAAAAAAAAAAAAAAAAAAAAAAAAAAAAAAAAAAAAAAAAAAAAAAAAAAAAAAAAAAAAAAAAAAAAAAAAAAAAAAAAAAAAAAAAAAAAAAAAAAAAAAAAAAAAAAAAAAAAAAAAAAAAAAAAAAAAAAAAAAAAAAAAAAAAAAAAAAAAAAAAAAAAAAAAAAAAAAAAAAAAAAAAAAAAAAAAAAAAAAAAAAAAAAAAAAAAAAAAAAAAAAAAAAAAAAAAAAAAAAAAAAAAAAAAAAAAAAAAAAAAAAAAAAAAAAAAAAAAAAAAAAAAAAAAAAAAAAAAAAAAAAAAAAAAAAAAAAAAAAAAAAAAAAAAAAAAAAAAAAAAAAAAAAAAAAAAAAAAAAAAAAAAAAAAAAAAAAAAAAAAAAAAAAAAAAAAAAAAAAAAAAAAAAAAAAAAAAAAAAAAAAAAAAAAAAAAAAAAAAAAAAAAAAAAAAAAAAAAAAAAAAAAAAAAAAAAAAAAAAAAAAAAAAAAAAAAAAAAAAAAAAAAAAAAAAAAAAAAAAAAAAAAAAAAAAAAAAAAAAAAAAAAAAAAAAAAAAAAAAAAAAAAAAAAAAAAAAAAAAAAAAAAAAAAAAAAAAAAAAAAAAAAAAAAAAAAAAAAAAAAAAAAAAAAAAAAAAAAAAAAAAAAAAAAAAAAAAAAAAAAAAAAAAAAAAAAAAAAAAAAAAAAAAAAAAAAAAAAAAAAAAAAAAAAAAAAAAAAAAAAAAAAAAAAAAAAAAAAAAAAAAAAAAAAAAAAAAAAAAAAAAAAAAAAAAAAAAAAAAAAAAAAAAAAAAAAAAAAAAAAAAAAAAAAAAAAAAAAAAAAAAAAAAAAAAAAAAAAAAAAAAAAAAAAAAAAAAAAAAAAAAAAAAAAAAAAAAAAAAAAAAAAAAAAAAAAAAAAAAAAAAAAAAAAAAAAAAAAAAAAAAAAAAAAAAAAAAAAAAAAAAAAAAAAAAAAAAAAAAAAAAAAAAAAAAAAAAAAAAAAAAAAAAAAAAAAAAAAAAAAAAAAAAAAAAAAAAAAAAAAAAAAAAAAAAAAAAAAAAAAAAAAAAAAAAAAAAAAAAAAAAAAAAAAAAAAAAAAAAAAAAAAAAAAAAAAAAAAAAAAAAAAAAAAAAAAAAAAAAAAAAAAAAAAAAAAAAAAAAAAAAAAAAAAAAAAAAAAAAAAAAAAAAAAAAAAAAAAAAAAAAAAAAAAAAAAAAAAAAAAAAAAAAAAAAAAAAAAAAAAAAAAAAAAAAAAAAAAAAAAAAAAAAAAAAAAAAAAAAAAAAAAAAAAAAAAAAAAAAAAAAAAAAAAAAAAAAAAAAAAAAAAAAAAAAAAAAAAAAAAAAAAAAAAAAAAAAAAAAAAAAAAAAAAAAAAAAAAAAAAAAAAAAAAAAAAAAAAAAAAAAAAAAAAAAAAAAAAAAAAAAAAAAAAAAAAAAAAAAAAAAAAAAAAAAAAAAAAAAAAAAAAAAAAAAAAAAAAAAAAAAAAAAAAAAAAAAAAAAAAAAAAAAAAAAAAAAAAAAAAAAAAAAAAAAAAAAAAAAAAAAAAAAAAAAAAAAAAAAAAAAAAAAAAAAAAAAAAAAAAAAAAAAAAAAAAAAAAAAAAAAAAAAAAAAAAAAAAAAAAAAAAAAAAAAAAAAAAAAAAAAAAAAAAAAAAAAAAAAAAAAAAAAAAAAAAAAAAAAAAAAAAAAAAAAAAAAAAAAAAAAAAAAAAAAAAAAAAAAAAAAAAAAAAAAAAAAAAAAAAAAAAAAAAAAAAAAAAAAAAAAAAAAAAAAAAAAAAAAAAAAAAAAAAAAAAAAAAAAAAAAAAAAAAAAAAAAAAAAAAAAAAAAAAAAAAAAAAAAAAAAAAAAAAAAAAAAAAAAAAAAAAAAAAAAAAAAAAAAAAAAAAAAAAAAAAAAAAAAAAAAAAAAAAAAAAAAAAAAAAAAAAAAAAAAAAAAAAAAAAAAAAAAAAAAAAAAAAAAAAAAAAAAAAAAAAAAAAAAAAAAAAAAAAAAAAAAAAAAAAAAAAAAAAAAAAAAAAAAAAAAAAAAAAAAAAAAAAAAAAAAAAAAAAAAAAAAAAAAAAAAAAAAAAAAAAAAAAAAAAAAAAAAAAAAAAAAAAAAAAAAAAAAAAAAAAAAAAAAAAAAAAAAAAAAAAAAAAAAAAAAAAAAAAAAAAAAAAAAAAAAAAAAAAAAAAAAAAAAAAAAAAAAAAAAAAAAAAAAAAAAAAAAAAAAAAAAAAAAAAAAAAAAAAAAAAAAAAAAAAAAAAAAAAAADIwMjE6MDY6MjkgMjI6MTk6NTEAMjAyMTowNjoyOSAyMjoxOTo1MQAAAFYAaQBqAGEAeQAgAFIAYQBqACAATwBqAGgAYQAAAP/hCyFodHRwOi8vbnMuYWRvYmUuY29tL3hhcC8xLjAvADw/eHBhY2tldCBiZWdpbj0n77u/JyBpZD0nVzVNME1wQ2VoaUh6cmVTek5UY3prYzlkJz8+DQo8eDp4bXBtZXRhIHhtbG5zOng9ImFkb2JlOm5zOm1ldGEvIj48cmRmOlJERiB4bWxuczpyZGY9Imh0dHA6Ly93d3cudzMub3JnLzE5OTkvMDIvMjItcmRmLXN5bnRheC1ucyMiPjxyZGY6RGVzY3JpcHRpb24gcmRmOmFib3V0PSJ1dWlkOmZhZjViZGQ1LWJhM2QtMTFkYS1hZDMxLWQzM2Q3NTE4MmYxYiIgeG1sbnM6ZGM9Imh0dHA6Ly9wdXJsLm9yZy9kYy9lbGVtZW50cy8xLjEvIi8+PHJkZjpEZXNjcmlwdGlvbiByZGY6YWJvdXQ9InV1aWQ6ZmFmNWJkZDUtYmEzZC0xMWRhLWFkMzEtZDMzZDc1MTgyZjFiIiB4bWxuczp4bXA9Imh0dHA6Ly9ucy5hZG9iZS5jb20veGFwLzEuMC8iPjx4bXA6Q3JlYXRlRGF0ZT4yMDIxLTA2LTI5VDIyOjE5OjUxLjk3NzwveG1wOkNyZWF0ZURhdGU+PC9yZGY6RGVzY3JpcHRpb24+PHJkZjpEZXNjcmlwdGlvbiByZGY6YWJvdXQ9InV1aWQ6ZmFmNWJkZDUtYmEzZC0xMWRhLWFkMzEtZDMzZDc1MTgyZjFiIiB4bWxuczpkYz0iaHR0cDovL3B1cmwub3JnL2RjL2VsZW1lbnRzLzEuMS8iPjxkYzpjcmVhdG9yPjxyZGY6U2VxIHhtbG5zOnJkZj0iaHR0cDovL3d3dy53My5vcmcvMTk5OS8wMi8yMi1yZGYtc3ludGF4LW5zIyI+PHJkZjpsaT5WaWpheSBSYWogT2poYTwvcmRmOmxpPjwvcmRmOlNlcT4NCgkJCTwvZGM6Y3JlYXRvcj48L3JkZjpEZXNjcmlwdGlvbj48L3JkZjpSREY+PC94OnhtcG1ldGE+DQogICAgICAgICAgICAgICAgICAgICAgICAgICAgICAgICAgICAgICAgICAgICAgICAgICAgICAgICAgICAgICAgICAgICAgICAgICAgICAgICAgICAgICAgICAgICAgICAgICAgCiAgICAgICAgICAgICAgICAgICAgICAgICAgICAgICAgICAgICAgICAgICAgICAgICAgICAgICAgICAgICAgICAgICAgICAgICAgICAgICAgICAgICAgICAgICAgICAgICAgICAKICAgICAgICAgICAgICAgICAgICAgICAgICAgICAgICAgICAgICAgICAgICAgICAgICAgICAgICAgICAgICAgICAgICAgICAgICAgICAgICAgICAgICAgICAgICAgICAgICAgIAogICAgICAgICAgICAgICAgICAgICAgICAgICAgICAgICAgICAgICAgICAgICAgICAgICAgICAgICAgICAgICAgICAgICAgICAgICAgICAgICAgICAgICAgICAgICAgICAgICAgCiAgICAgICAgICAgICAgICAgICAgICAgICAgICAgICAgICAgICAgICAgICAgICAgICAgICAgICAgICAgICAgICAgICAgICAgICAgICAgICAgICAgICAgICAgICAgICAgICAgICAKICAgICAgICAgICAgICAgICAgICAgICAgICAgICAgICAgICAgICAgICAgICAgICAgICAgICAgICAgICAgICAgICAgICAgICAgICAgICAgICAgICAgICAgICAgICAgICAgICAgIAogICAgICAgICAgICAgICAgICAgICAgICAgICAgICAgICAgICAgICAgICAgICAgICAgICAgICAgICAgICAgICAgICAgICAgICAgICAgICAgICAgICAgICAgICAgICAgICAgICAgCiAgICAgICAgICAgICAgICAgICAgICAgICAgICAgICAgICAgICAgICAgICAgICAgICAgICAgICAgICAgICAgICAgICAgICAgICAgICAgICAgICAgICAgICAgICAgICAgICAgICAKICAgICAgICAgICAgICAgICAgICAgICAgICAgICAgICAgICAgICAgICAgICAgICAgICAgICAgICAgICAgICAgICAgICAgICAgICAgICAgICAgICAgICAgICAgICAgICAgICAgIAogICAgICAgICAgICAgICAgICAgICAgICAgICAgICAgICAgICAgICAgICAgICAgICAgICAgICAgICAgICAgICAgICAgICAgICAgICAgICAgICAgICAgICAgICAgICAgICAgICAgCiAgICAgICAgICAgICAgICAgICAgICAgICAgICAgICAgICAgICAgICAgICAgICAgICAgICAgICAgICAgICAgICAgICAgICAgICAgICAgICAgICAgICAgICAgICAgICAgICAgICAKICAgICAgICAgICAgICAgICAgICAgICAgICAgICAgICAgICAgICAgICAgICAgICAgICAgICAgICAgICAgICAgICAgICAgICAgICAgICAgICAgICAgICAgICAgICAgICAgICAgIAogICAgICAgICAgICAgICAgICAgICAgICAgICAgICAgICAgICAgICAgICAgICAgICAgICAgICAgICAgICAgICAgICAgICAgICAgICAgICAgICAgICAgICAgICAgICAgICAgICAgCiAgICAgICAgICAgICAgICAgICAgICAgICAgICAgICAgICAgICAgICAgICAgICAgICAgICAgICAgICAgICAgICAgICAgICAgICAgICAgICAgICAgICAgICAgICAgICAgICAgICAKICAgICAgICAgICAgICAgICAgICAgICAgICAgICAgICAgICAgICAgICAgICAgICAgICAgICAgICAgICAgICAgICAgICAgICAgICAgICAgICAgICAgICAgICAgICAgICAgICAgIAogICAgICAgICAgICAgICAgICAgICAgICAgICAgICAgICAgICAgICAgICAgICAgICAgICAgICAgICAgICAgICAgICAgICAgICAgICAgICAgICAgICAgICAgICAgICAgICAgICAgCiAgICAgICAgICAgICAgICAgICAgICAgICAgICAgICAgICAgICAgICAgICAgICAgICAgICAgICAgICAgICAgICAgICAgICAgICAgICAgICAgICAgICAgICAgICAgICAgICAgICAKICAgICAgICAgICAgICAgICAgICAgICAgICAgICAgICAgICAgICAgICAgICAgICAgICAgICAgICAgICAgICAgICAgICAgICAgICAgICAgICAgICAgICAgICAgICAgICAgICAgIAogICAgICAgICAgICAgICAgICAgICAgICAgICAgICAgICAgICAgICAgICAgICAgICAgICAgICAgICAgICAgICAgICAgICAgICAgICAgICAgICAgICAgICAgICAgICAgICAgICAgCiAgICAgICAgICAgICAgICAgICAgICAgICAgICAgICAgICAgICAgICAgICAgICAgICAgICAgICAgICAgICAgICAgICAgICAgICAgICAgICAgICAgICAgICAgICAgICAgICAgICAKICAgICAgICAgICAgICAgICAgICAgICAgICAgIDw/eHBhY2tldCBlbmQ9J3cnPz7/2wBDAAcFBQYFBAcGBQYIBwcIChELCgkJChUPEAwRGBUaGRgVGBcbHichGx0lHRcYIi4iJSgpKywrGiAvMy8qMicqKyr/2wBDAQcICAoJChQLCxQqHBgcKioqKioqKioqKioqKioqKioqKioqKioqKioqKioqKioqKioqKioqKioqKioqKioqKir/wAARCAHlAt4DASIAAhEBAxEB/8QAHwAAAQUBAQEBAQEAAAAAAAAAAAECAwQFBgcICQoL/8QAtRAAAgEDAwIEAwUFBAQAAAF9AQIDAAQRBRIhMUEGE1FhByJxFDKBkaEII0KxwRVS0fAkM2JyggkKFhcYGRolJicoKSo0NTY3ODk6Q0RFRkdISUpTVFVWV1hZWmNkZWZnaGlqc3R1dnd4eXqDhIWGh4iJipKTlJWWl5iZmqKjpKWmp6ipqrKztLW2t7i5usLDxMXGx8jJytLT1NXW19jZ2uHi4+Tl5ufo6erx8vP09fb3+Pn6/8QAHwEAAwEBAQEBAQEBAQAAAAAAAAECAwQFBgcICQoL/8QAtREAAgECBAQDBAcFBAQAAQJ3AAECAxEEBSExBhJBUQdhcRMiMoEIFEKRobHBCSMzUvAVYnLRChYkNOEl8RcYGRomJygpKjU2Nzg5OkNERUZHSElKU1RVVldYWVpjZGVmZ2hpanN0dXZ3eHl6goOEhYaHiImKkpOUlZaXmJmaoqOkpaanqKmqsrO0tba3uLm6wsPExcbHyMnK0tPU1dbX2Nna4uPk5ebn6Onq8vP09fb3+Pn6/9oADAMBAAIRAxEAPwD6RooooAKKKKACiiigAooooAKKKKACiiigAooooAKKKKACiiigAooooAKKKKACiiigAooooAKKKKACiiigAooooAKKKKACiiigAooooAKKKKACiiigAooooAKKKKACiiigAooooAKKKKACiiigAooooAKKKKACiiigAooooAKKKKACiiigAooooAKKKKACiiigAooooAKKKKACiiigAooooAKKKKACiiigAooooAKKKKACiiigAooooAKKKKACiiigAooooAKKKKACiiigAooooAKbLIkMTSSsFRRliewp1ZniP/kWr/8A64N/KkwKn/Cb+Gz01aA9uM/4Uf8ACb+HP+gtD+R/wrP8J6Ppz+E9PZ7KFmaLJJQetO8RXfhnwvpL6hrENtBAg4zGMsfQDua5HiUnYrlL3/Cb+HOf+JrDx7H/AAoHjjw4f+YrD+R/wrlJPFGkxaINYm8K3CaeRu84xLwv94jOcV0WiHw74h0qPUNMt7ae3kHBVBwfSj6x2QWLP/Cb+HP+grD+R/wo/wCE38Of9BWH8j/hUw0bS+P9At/++BUF5ZaHYRiS7traJSwUFkHJPal9aT2Qcugv/CbeHP8AoLQ/kf8ACj/hN/Dn/QVh/I/4VzPirxT4a8I6pp9lqelZN+4SJ0jXbk+tdWmjaY6hhYw8jP8AqxT+stq6QmtbEX/Cb+HP+grD+R/woHjfw4f+YrD+R/wqb+xNM2/8eMGPXYKBoulng2MH/fApfWu6HykP/Cb+HP8AoLQ/r/hR/wAJv4c/6CsP5H/CuYl8VeGIPH0XhGbSdt9MnmI3ljYRXXf2Lpf/AD4wf98Cq+s2V7BboQf8Jv4cA/5CsP5H/Cj/AITbw5/0FofyP+FU9ftINM0mW607RYLy4QfLCABuq3Dp+mfYYp7ywtrdnUF1ZR8p9M0vrWl7BYX/AITbw5/0Fofyb/Cg+N/Dg/5isP5H/Cpo9J0iVQ0dnbOD0KoDStoulgc2NuB6lBUvFW6By9iD/hN/Dn/QVh/I/wCFH/Cb+HP+gtD+R/wp8em6LMSIba1cr12qDilk0vRoV3TWtqi+rKBT+teQcpH/AMJv4b/6C0P5H/Cj/hN/Dn/QVh/I/wCFV9Wh0rTdEudQTT7eZYIzIAFHzYqr4Uk0vxJ4Vs9YbTLeEXSb9m0HbyR1p/WvILGl/wAJv4c/6CsP5H/Cj/hN/Dn/AEFYfyP+FPi0zRZ8iG2tZCOu1QaWTS9HhG6a1tUHqygUvrXkHKR/8Jv4c/6C0P5H/Cj/AITfw4P+YrD+R/wqjr8uheH/AA9c6tcWUEkECb/kQHd9KsaVbaNqekW1+ljbrHcRCUAoOARmn9ZuthW2Jv8AhN/Dn/QWh/I/4Uf8Jv4c/wCgtD+R/wAKki0zRbgEwWtrIB1KqDRLpejw4821tk3cDcoGaTxXkPlIv+E48Oc/8TWHj2P+FL/wm/hsDJ1aED1Of8K57w3qul+IPEGsaculW6DTZhHvAB38A/1rS8T6NpyeGL51soQwhJBCDg0/rNmlYLanVRTJNEskTB0YZVh0Ip9Y3hPJ8JaYf+nWP+VbNdhIUUUUAFFFFABRRRQAUUUZoAKKQkDqarzalZW+fPuoY8ddzgUAWaK5288e+GbB9tzq1uD6K2f5VQl+Kvg+J9rasmfZGP8ASgDsc0Vwv/C3/Cfm7Tevs/v+U2P5VZi+Kvg+ViF1Zc4zyjD+lAHY0Vz1n498M37BbbV7csezNj+dbEOo2dx/qLqKT/dcGgCzRRkUZoAKKKKACiiigAooooAKKKKACiiigAooooAKKKKACiiigAooooAKKKKACiiigAooooAKKKKACiiigAooooAKKKKACiiigAooooAKKKKACiiigAooooAKzPEf/ItX/wD1wb+VadZniT/kWr//AK4N/Kk9gKHhDjwjpx/6ZV4j+0RdTzeNvDGnSsRZPKrMn8LEuBk/hXt3hD/kUNO/65Vg/Ez4dw+PNKgCSi3v7R/MtpsdD6H2ryoyUaykzRbWNrUreJvBc8DIvlfZCNp6Y2189fC7X9X0XwT4vl024aNbJ/Mg+UMqnJ7EGvZrq18X3Xg/+w/stul00fktdeZ8u3GM/WqmmfCiDR/hlqHh60lDXl8hMs5/if8AwrTmUXO3UI6KKZxGrfE/xPa/Crw34ghvFF3fXDxz/ul2sAxHpR8YrzVZfE3hOBNRkihu3RvLUDAfjk//AF6ZcfCPxrqPw90nw662EP8AZlw0gYy/6wFifSuq+IXw813X5/Dl/pYgNzpZUyRM5Ct06GtOaHPFr+b8CEna3kcx8Z4Z7bVPBkd3cm6lW6XMuAN3I7DFdGPHOreIviVfeGdIvGsLTS7Te80aKzyPtz/ECMfrUnxA8AeJfF99oFxD9jRtPkWSbdIR0xwKf/wr7VdD+IN54l0eOKddRtfLngLY2SbcZHtWcXFwtLuy/tL0Rj6Z8a7n/hW+qanexRvqmnSGD5R8sjZwDSz/ABE1/wANL4Y1HU737bb604WeF41URbv7pAz+dWdN+CJj+HGpaPfTp/aN/IZjIpyqN2FE3wy1vX/+EbstYEMFporAuyPnzcdMCqTp3+4l7W9TnvFOqWmm/tL6fqN9MILaPT1dnbjA+avUPBF9qutJPq13qa3GnTyH7FEipwnqSBXJeJPhRqevfFSLW5orSTSFtRbNE7ncRzzj8a0fht4J8UeCNRvbG4mt59CklL26+aS8Q+lK8XSS6pfqE9Xdd0a/xeuJbX4bajLbzSQyKnyvG21h+NcP42N/u8N3WsW+p3vh1bQG5WwkYEPjgsV5Ir0r4g+HrvxP4MvNJ08os864QyHAFYereH/GGnzaZeeHLiK4W3tvIubCd/3bnA+ZffisoOyfr+he9ih8J7jRpNT1A+GtfnurFwCunXTMZID/AMC5xW98U4tZk8EXC+HxM02R5iwHDsnfaazfB/gzWIvGt34p8QR21pPNEIktrXp16k103jPStV1bQTFoN81nexsHjfOAx9D7U6jXMmhQ0ep5H4VuvC58U6UNE1bVNB1JJAtxZ6hJIwuPb5jjNM1vXrXxF8RtWg8QQ6zdWGnsIre207eFz3LFMHP410l74P8AFvjDU9KPiOzsLKDTrlLh54GzJKVOcdO9Xr7wl4l8O+LLzWfB6291b34H2i1uG2/MP4hVtxevWzJSdrehy/hnUdQTT/E+lRwan/Y32RpLV9RRgyHHKgnqKztQ8RXOn/CrwZpFtLdQxakWFw1mCZDGGOQMc16Np3h3xZfaTq7eI72Mz30JjgtY2/dw8VmXPw01NvAmgWtrcxRa3obb4nzlHOckGjmXNq9NCv8AgnGwXiaJ4i0q68E6d4iiJmWO7ivFleORDwSd3Q101ppZ+JXjzVxrd5dJp2m4jhtYZ2jBY9SdpBratLH4g6xrFmdVktdKsrd9032ZstP7fSmah4Y8T+HfFt5rXg5be5iv1H2i2uGx8w/iFPmRGpz3jHwJc6N8M9dt73V57vT4nE9jG0rb4h0Ks38QrF12f/hHfDfhbw7az6kLTUYVubs2ztJKwIyVXqQPpXcDwP4j1Pwn4gXXL9ZNS1ZR5UIbMUAXoB9aoyeCfFOo6Fo10y29nrmhgRQfPuSVAMYJ96mDtZN9vyLf+ZzGm6h/YnjDSpfBeneIIreWUR3sN4srxlD/ABfN0Nb+i6GvxK8Ua/f+IL29EFhP9ltLeC4aJU4PzHb1P1re06w8farrlpNrMttpdjbndJFbNkzn0PtVaXwv4s8LeJdRvfBwtrmy1Rg8sFw+DG/PzCi6f3CszO+D2mPo/ivxVYTXL3JhugFlkbLMu0YBr0XxT/yK+of9cTXL/Drwdrnh3VNZvvEE8M82ozCUNEenA4/Sup8VD/il9Q/64tSnK8oi6yZN4S/5FHS/+vZP5Vs1jeEv+RR0v/r2T+VbNeoSFFFFABRRRQAUZoJA6mvP/FPxBmi1L+xfCVuNR1JhgsOUiPqTQB2Gq63p2jWzT6ldx26AdWbBrhLj4qz6rObbwbpE2pSA484qdg/Gk0b4XtqdyNU8dXLapdnlYGP7uP8ACvQrPT7XT7dYLK3jgjQYVUXGBQB5wNA+IniM/wDE21eLSoG52WyjcPxqzb/BnSZBu1i+v7+Xu0lw2D+FekCigDlLD4aeFbBcJpFvIf70i7jWinhDQI87NItAP+uYraooAyz4b0cx+X/Zttt9PKH+FQt4Q0B/v6RaH/tmK2qKAOTv/hp4V1AfPpMMZ9Yxt/lWJc/BzS1bfo+oX9hJ2Mdw2B+Fej0UAeXjQviL4ez/AGZq0WqwL/DcgbiPTNSWnxVm0y4W18Z6RLpchOBLg7D75r0w1UvtOtNRgMN7bxzxsMESLmgCPS9ZsNZthPpt1HPGe6Nmr+a8y1f4Y3Gk3Z1XwFePptyDua3B/dyexFXfC/xEe41JND8U2p0/VB0Y8JLjuDQB6BRSBgehpaACiiigAooooAKKKKACiiigAooooAKKKKACiiigAooooAKKKKACiiigAooooAKKKKACiiigAooooAKKKKACiiigAooooAKKKKACiiigArM8Sf8AItX/AP1wb+VadZniT/kWr/8A64N/Kk9gKPhD/kUdO/65VtVi+EP+RR07/rkK2q8afxM0EozxS1Q1rVE0bR57+SN5VhQtsQZLfSpu7MZezgCmk9a8qvviZ4t0vSl1/UPCccOjEByPtX74If4sbcVteIviM9odLtNA04X9/qkfmQpLKI1VfUnBrTkdxaXO7BpSyoCWIA9TXH+E/F+qarq1xo/iHRW06+t0370k8yKQexwKg+Ld9f6d8OtRk0y3aZ2TDssmwovcg4pOPK7BHXQ7GW+tYEjeaeNFkYKhZgNxPYVYzXz74h1zVR8NfCd5qGnSRyRXUXlosxdpwAMHOB1/Gu2h+I2vafrmnW3ifw4LKz1SQRW80dxvZWPQMNorT2dvvYlqel7hxz16UE1wPiDx7fReJJPD3hTSl1O/hQPcPLN5cUQJ4BPPJq94Q8cPr99daVqunnTdWs8ebB5m9WH95TgcVn7OVrgdhwe9LxXO+NPEw8IeFrvWTbNci3XPlhtpP41zln8R9Th0S517xDoa6fpXkiS2Kzb5JGJAC4wOTmiMbq6Gei7ge9BI715cfiT4l063g1XXfCn2fRZyP3kdxukiB6My7elbHiX4hGxurHTvDmnnVtS1BBJFHv2qiH+JjzxT9m9xJncZGKRZY3YhHUkdQD0rgNF8fam+utoHibRVsNWeFpbYJNvjnwD8oJHHSuf+Emt67f8AifXob/TmWBrli8xn3eU390DFNU73v0BuyPYMijiue8aeJV8IeGbjWGtjcLARmNW25ycehrjLv4peINOtLXWtS8LCDQrhkAl+0ZkQN0JXb0qYw5hvQ9UoJA71xPirx3LpOoWuj6Bpp1PVrpN6ReZsWJfVjiqGnfELUv7QuNE8Q6J9g1jyGktUSfdHcYHQMRxS5JNXDY9CSVHLBWB2nBwehp4NeLfCnxXqVto+v3ev2TQ2FvdSzPctOWKsAPkxj6c/pWt/ws7xGbH+3P8AhFV/sL7wkNz++Mf9/bjpVum07C7nqlFUdH1S21vSbfUbFy8FwgdD7VeFZtWdmPoFZHir/kVtQ/64mtesjxX/AMitqH/XBqI/EBL4S/5FHS/+vZP5Vs1jeEv+RR0v/r2T+VbNe2ZhRRRQAUZx1oqOeQRQvIxwqqSaAOA+I3iS/wDtNt4Y8NP/AMTTUDtLj/lindjW74Q8GWfhXThHF+9um5lnbku3euT+GlsNW8WeIPEV0DK/2gwW7tztUYyB+deor0oABWZrPiHT9DjVr6YBn4SMcs30FaZrx/TJ38R/tA6hDffPDpEAMUbdMnvQB2cXxG0gzKl3HdWascCS4gZFP4muqhmjmiWSJwyOMqQeornvHml2+p+CtSinQNtgZ1YjlSBmvJNL+Jmt+HfhVpF9bJBNvu1tW89STtLY4wRQB9AZprOqnBPPYV5r4r8d634f+IHh3Soo7OSw1g7TlG8xCBk85xWJrmv+K5fjva6Dpl5axxpaGZFliYrgnnIDDnigD0BvHWljxfF4cPmrfSLuAZMDFdMDXiviK6XT/wBoLTLm+dQIrEPKyrgcDmuki8W+KfEemz6v4ThsVsIydi3EbM8wHoQwx+VAHo9ITXm9j8XLCfwk2o3MPl3aSiA2+esh7VHrHi/xf4as4tZ1a1sZdLcjfFEjLJEp9STj9KAOu1fxfpmi67p+k3rsLrUZBHAoXIJJrdHHX8a8R+IGr2l78R/h5qiSBbaS5STcx6DOa7qw1fxPrOuSTabJpx0Td+7leJi7j2IbFAHbda5fxl4KtfFNkOfIvIvmhnUcqe1dKgIUb/vdzT6APP8A4deKLy4mu/DniEhdV05tuT/y1j7NXoFeW/ESBNC8ceHvEdqPLkln+zXBXgOp6Z/OvT4m8yNX7MAaAH0UUUAFFFFABRRRQAUUUUAFFFFABRRRQAUUUUAFFFFABRRRQAUUUUAFFFFABRRRQAUUUUAFFFFABRRRQAUUUUAFFFFABRRRQAUUUUAFZniP/kWr/wD64N/KtOqGt28l1od5BAu6SSJlUZ6mk9gM3wh/yKOnf9chW1XCaJrutaXottZT+GbwvAuwlcYOD1q//wAJbq3/AEK99+leXOjNydi7o6yuV+Ims32g+Cb6/wBMTfcRpx8u7b74pv8Awlurf9CvffpTJfE2pXETRT+FruSNuGVlBB9iKSoz7DTVzxPxYdNu/h7Jd3XjHUNZ1C4txILNLhiiEjnKDgAV1Wt/8IxqGh+GbXxF9osXe2BttTicr5bY6FhXV2q2tk0rW3gFkMgIf9yvzA9f/wBVWbu/a+sVsrvwTNLboPliaNSq/Qdq6fe7EtI5b4eapqFp8QZNCstck8Q6SLfzGuZRuMLA8Lvrufichf4ba0EBJ+zMeKo6ZqMmiwmPSvBc9qrdfKQDd+VXJvE2pTxNFN4VvJEYYZWAwR9KylCbtpsNaSbPOdb1Gy1PwD4JFnNHN5V1AjhTnaQBwa6n4rnF74Sz21aHGPrVu1nSyiEdt4GlRBJ5iqIlwG9R71euPEF9dFDc+EbqUxsGTegO1h0I9KbjU0a73HFpP5WPMNQ0bTrT4v64ninVL3SY74JLa3EM7RI45yCR6Y/Wuo+G9h4a/wCE21C50C61HUJ4YxHJeTzM8bD0BJ5re1PUH1qNY9U8Fz3SqePNjDY/OpNO1e40m3EOm+Dbi1jzysaBQapRnyW+QpakHxnH/FsdQHqB/Osrx/p0978H9Nls4mlFk1vcSRKPvIpGf510Vz4iv7yFobrwndzRN95XUEH8DTh4n1IRCH/hFbwR427NowB6YrKNOaja3W5XN7yZyni/x5oGr/Dk2Wm3SXN7eIsMdqnLBvp2xWZYn/hBfHmiX/iHMVpNpaW5nccI47H0611VsYLS/N5beA3inJz5ixLkGrmoazc6pb/Z9R8HXFxEf4JUDfzrXlkne27/AK/MjpynNahqlr4x+Mmgf2BILqHTA8lzcR8qoKkbc/jVr4XX9rB4q8TadNMiXb3rMsTHDFfpWxpeoPo0Ji0rwXcWqn73lIFz+NNS+aPVm1NPBU63rDBnVBuP40lCaXKDs236fhoHxh/5Jve8cbk4/wCBCsv4nj/ixsajoILf+QrfuPEV/eRGG78J3U0Z6o6gj8jTLnX726tTa3PhC5lhwB5ToCuPpWap1OXlt1uWpcrTOXv9Qh8L/F+01jWCYrC+09YY52+6jYHBPaotW1O28Y/FrRn8POLmDT4pHubmPlVyOBmuqvtWuNTtvs2oeDri5h7LIgYf/Wpum6jJo8Jj0zwXPaqeoiQLmtOSbtdbXJb1dup55pKDVPhr4z0G0lB1M300otwcOy4XkD8KzrC18EnwRFNqHiPVVlWEJNYC8cNuxgoFz616jBfNbalLqFt4LuIrqUYeVUAZh7mq7JayX/21/ALG4Jz5hhXJPrVKMrbdvwG7P8fxOk8DWdpYeDdPh06KeK2EYKJcHLgH1roa5JfFWqqoC+GL3aBgAAUv/CW6r/0LF9+lYSpzk72EtjrKyPFf/Irah/1wasr/AIS3Vf8AoWL79Ko61r+s6lo9zZweGbwPMhQFscUKjNPYLnUeEv8AkUdL/wCvZP5Vs1meH7SWy8O2FtcLsmhgRHHoQORWnXqkBRRRQAVXvYvPsp4v7yEfpVikIycetAHmnwfuPJj1zSWGHtL9ic9SGxXpa/dGa8n8Txy/D7x5B4ltVc6XfsIr5VHCns1eoWF7b39mlxZyrLE6gqynORQBYPWvKtW0a98J/FFvFVpbPPY3kWy68sZZffFerUhAPWgDz7XPGEXiXQrnTPDtvdS3dwvlEPAyBQepyRXF+PvAV7pXwp0yw023e4ktLlJ5ljGTwcmvdAiqeAAfpSkZ680AeA+MNYPiHx54Jv8AT7G8MFpI3nFoGG35e/Fa+tC40n9oOw164s7htPmsPJEkcZbDE98dK9k8lNwbYuR0OOlOKg4yAfwoA8J8Z2E3iP4yQi3t7gQSWPlGXyjtUketafw91y58A6DN4a8RWN15tq7C1aOEssq9uQK9j2LnO0fXFBRSckAmgD58n+F+tTeC7m/giZbt78XyW+eSAeBXS654il8YeAh4eisLoapMixyo0LARkdTkjFev47dqTYoOQo/KgD5+8a+GXt9c8BaVc21xNb2TKt08SEhR3ORXReAdbn8Ja/P4Wuorq405WzZ3JhbAU9ATivXyoPJAJ+lHlrnO0Z+lAArBlDDoRTqOgqrf39vplnJdXkqxRRgksxxQB598WpBdT+HtLjwZZ79X29wF5zXo8C7IEX+6oFeWeEIZvHnjibxbeKy2FmTDYK38Xqw/WvV6ACiiigAooooAKKKKACiiigAooooAKKKKACiiigAooooAKKKKACiiigAooooAKKKKACiiigAooooAKKKKACiiigAooooAKKKKACiiigApKWigAooooAKKKKACkpaKAExS0UUgCiiimAZooooAKKKKACiiigAooooAKDRRQAlApaKVgCiiimAUUUUAFFFFABRRRQAUUUUAFFFFAFW/sLXUrSS1voVmhkXDIwzkGvKntNe+FOqPJptvLq3hyRsmJT+8t/XAPUflXr9ZGv6/pWh2Ty6tPGiY+43VvpQBF4d8W6R4ntBNpd0rHHzxNw6H0IrcFfPs3hzVPHHiYaj4Nhl0C1TO64X5fO/Cutg13xv4OURa5Zf2tapwJ4l+fHqaAPVaK4bTfit4fvJBFdSPZS9Cs4xzXVWus6feRh7a8hkU9CHFAF+imJIrrlWBFOzQAtFGaTPpQAtFMeRUGXYKPc1Tuta06yiMlzeQoo6kuKAL9B6Vwuo/Fnw9aOYrR5L6XssC5yaxZNc8c+MDs0iy/sa0bgyyj5yPWgDtPE3jPRfCli9xq94seBxGpy5/CvPrCLWfizqYu9QBsPDUZ/dwLIGef/exwK3tK+E2nDfceI5pNWu5V2s8zZAz6Cs658Ba34QnN54Gvn8kHJsZjlD9KAPSbCwttMso7SyiWKGIAKiirded6P8AFOAXK2Him0fSr3plwdje4Nd7bXcF5CJbaVZI2GQynNAE9FFFABRRRQAUUUUAFFFFABRRRQAUUUUAFFFFABRRRQAUUUUAFFFFABRRRQAUUUUAFFFFABRRRQAUUUUAFFFFABRRRQAUUUUAFFFFABRRRQAUUUUAFFFFABRRRQAUUUUAFFFFABRRRQAUUUUAFFFFABRRRQAUUUUAFFFFABRRRQAUUUUAFFFFABRRRQAUUUUAFNeRY1LOwVR1JOMVQ1jW7HQdPkvdUukt4UB5Y9T6D1rzQ6r4k+J100OjJLpegg4a6kBV5h/sj0oA2/EnxJ2Xh0fwjbnVNUbj5OUj9yaq6H8NrnUL5dW8dXbajd/eW3J/dx+2K6zwz4Q0rwtZ+Tp8I3tzJM33nNb9AEcEEVvCsUEaxxrwFUYAp5AYYYAj0NLRQBj6r4W0TWI9mo6ZbzD18sA/mK5G4+DPh9pWksZ72wJ5AgmIA/OvRqKAPMF+G/iOwY/2T4xvUjx8qzENQfCXxFjG6PxbC5Xoph616fRQB4lJqXxIj8ZL4dOp2ZlaISeZ5fat4eEfiLJ80ni2BM9VWGpbv/kvUP8A15rXpVAHmJ+GviK+YLq/jG8kj7rCQtWbX4M+H45A99Ne357/AGidiD+Ar0XFFAGPpfhjRNIQJp2m20QHcRgn8zWuAAMAAClooAKDRRQBla14d0rxBatb6rZR3Ct0LLyPoa8/n8GeJfBk5ufBV811ZqcmwuDu/AGvVaKAOC0D4oaff3Q07W430rUgdrRT8An2Nd0kiyIGRgykcEHrWH4h8HaR4mgKajaqXx8sqgBh+NcNJpnjL4fsZdJmbXdKQ82xb94i+2aAPWKK5Lwp8QdI8UL5UUv2a9XiS1n+R1Ppg9a6wHjigBaKKKACiiigAooooAKKKKACiiigAooooAKKKKACiiigAooooAKKKKACiiigAooooAKKKKACiiigAooooAKKKKACiiigAooooAKKKKACiiigAooooAKKKKACiiigAooooAKKKKACiiigAooooAKKKKACiiigAooooAKKKKACiiigAoopM4oAK5nxb440/wALWuHY3F7J8sNtHyzMen4VleNPHh0y4TRdCT7bq9x8qxpz5fu3pTPCHw9FjMNY8Sy/2hq8nzFn5WLPYCgDK0fwfqvjTUo9c8cPiBTug08H5V9M+teoW9vFawLFbxrHGowqqMAU8ABQAOKWgAooooAKKKKACiiigAooooA81u/+S9Q/9ea16VXmt3/yXqH/AK81r0qgAooooAKKKKACiiigAooooAKCAeooooA4vxX8OtL8Qyfa7bNjqScpcwfKc+/rXPWfjDxD4IuEsfGcDXllkKmoQjlf96vVcVWvLK21C3aC8hSaJxhlcZoAh0vWLHWbVbjTrlJkYdVPSr46V5ZrHgTUvC142s+Bp3Cg7pbBjlWHfFdF4O+INj4nja2l/wBE1KH5ZbWXhge+B3FAHY0UinK0tABRRRQAUUUUAFFFFABRRRQAUUUUAFFFFABRRRQAUUUUAFFFFABRRRQAUUUUAFFFFABRRRQAUUUUAFFFFABRRRQAUUUUAFFFFABRRRQAUUUUAFFFFABRRRQAUUUUAFFFFABRRRQAUUUUAFFFFABRRRQAUUUUAFFFFACc155418bXf9qJ4Z8Kp5+qT/6yQciBfU1e8f8AjM6BbR6dpi/aNWvT5cEK87c/xH2FP8A+DB4dsnvNQPn6rdnfPM3JHsD6UAO8EeBLbw1C11dEXWqTndNcuMsT9a7DFLiqWo6tZaRbG41K5jt4c43Oe/pQBdorBPjXw8LSS6OrW4gjPzuSQF+vFSXfi3Q7BLZ7zU4YkuwDAzE4k+hoA2qKzrnXNOs5IY7q9hhe44iDtjefao7LxHpWpXklrY38UtxF9+NeooA1aKyZfE2kQyzRyahCrW67pV3cqPcU+DxDpdzpjajBfRSWaD5plPAoA06KxbLxdoepWkt3YanDPbwf6yRM4X17Vf03VLPVrUXGnXCXEJ6OnSgC3RRRQB5rd/8AJeof+vNa9KrzW7/5L1D/ANea16T0oAWiszUvEOl6QcalexQE9m5P6UQeIdLubB76C+hktkGWkVsgfWgDTorJ0zxNo+sxSS6XqEVykX3yhPy0ReJdImsmvItQha3U4MmTjNAGtRWZpviDS9XWQ6bexXHl/f2nlfzqCXxdoUGfM1S3XD7Cd3RvSgDaorGvfFei6dIEvdRhiZuQCSePwq3JrFjFYfbZLuJbbGRIW4NAF6isrTPEukaxI8enahDcSR/eVTyPwNRX3i3Q9NujbXupwQzgZKEnI/KgDaoxXGal8TdC03xJZ6TLdoWuF3FwCQo7dq7CKVJolkibcjDIPqKAHFQeori/GHw+tdelGo6axsNWh5juYvlLexI612tGKAPOfCfje/tNYXw34yUQXw4hnIws34+teig5Fct448GweK9LKKxgvYvnt7heqOOnNY/w88ZXN08vh3xKPI1ix+U7v+Wyg/eFAHoVFAOaKACiqeoarZaXGkmoXUdurttUyNjJqta+JNJvHlW21CGRoRmQBvu/WgDVpM1i2ni3Q9QvhZ2epwSznogJyfp61neIntpPEelq+vrYSRygm1DcznsKAOrBzS1ky+JdHt5Zo5tRhV4BmRS3K/UVa03VbLV7b7RptzHcw9N6HIoAuUUUUAFFFFABRRRQAUUUUAFFFFABRRRQAUUUUAFFFFABRRRQAUUUUAFFFFABRRRQAUUUUAFFFFABRRRQAUUUUAFFFFABRRRQAUUUUAFFFFABRRRQAUUUUAFFFFABRRRQAUUUUAFZXiHX7Xw5otxqN84WOJCQPU+labOFQsxAAGTntXkt95nxL8erYqxOgaW4afH3ZmHb3oA0Ph7olxrWoTeMNeiP2m6/49onH+rjPSvSwoFNjiSKNY41CqgwoHGKfQAV598WfD19r2j2R0yRTcWlyJlt2OBPjkivQaw/Efhw6+tuYtSu9Omt3Lxy223dyMfxAigDxDxLrunar8O/Els1g1hq8MS+fBj0Ycirvj1Y2+D3gxwFLiWEbh16dK9Gg+Fmjm01BNUnuNTudQTZPdXG0OR/wEAfpWTdfBezu9KtdOn1/VJrW1lEkMbtHiPHQD5aAOd+I8az/ET4cQuW8uWZQ4B+9wtXTGll+0tFb2o8uKSxUtGvQnb3rrNZ+GdnrWqaLqFxql8k2jEG3KbOSPXK1JcfDm2uPG8fij+1L1L1IxHhdm0gDHTb/WgDg/BNnBefGTxoLlfMWGEbFY5AyfSrvwRjW+0bxJZ3OJIPt7IEPIA9K63SfhvaaR4n1LXLbU743GpLtmRim0j/AL5pPDng7TfhxDqN7FqV5JbTuZ5km2kA+owoNAHB6IT4L1vX/CEsS7LqTzbNiPvq/J/I5r1/w/pkek6LBbRKBtUZwOprjLOfRvH/AIwtNW0yFpYtNTb9odCuWyeB69a9FAx0oAWiiigDzW7/AOS9Q/8AXmtekscDNebXf/Jeof8ArzWvSTyKAPHPhzdx+IfGPiJPECiW7inKRRydk56fpUPhS1Nh8cNf0K1G/SXgV2j6qGI6V2+sfDbT9Q1w6vp17d6RfuMPNZlQX+oYEVqeHfCNj4dMs0LSXF5OczXUxBeT64wPyFAHmlhcL8PvGWs6QkQ8q/jaW0XH3m/uio9ds77S/FmgaBZTw26eQWZpl+R3/rXqWq+E9N1jXLDVLuMtcWL7oj7+9V/FfgnTfFkMP2xpYLiA5huYGw8Z9u35igDktB8D6ho3iybV77VLcrcQMht4FwG461x/w2060vfDni+7vIftMlveytErnOCOleu6V4QGn27i61S81C4KFEuLgpujB9AqgfpWP4U+F1r4Sv7qex1nUZobt2ea2m8soxP0UH9aAOe+Edtp3izwBNc6qomu7iSVZw/WMbiAB6cYrR8WWHh3RfCNrY3V1K0CTr5SK3MjZ6Vdj+E9hYaxPe6Jq2o6VHcMWmtrZ18tyevDKSPwNaPiP4d6T4k0SDT7h54RbuHjmjfDhh3yc0Aeb+GzPB+0e0O1beOTSFYwpwBzxn3o8S2Vx4T8WaxrF/ZjVdGvmAldeWt8dfpXdw/C2yg8RWmupq2of2jbxeS8xZMzJ6MNuO3bFP1P4bjU5bpZPEOqR2d42Z7NPL8t+MY5TOOPWgDzqB9K1b44eH57BVlsprBWTcOoxxXvaKqoFQAKOgFcNdfCjRnv9PvNNuLrTJtPjEcTWpUfKOxyDXbwReTCibmfaMbm6mgCSiiigAxXn3xI8LTT+T4j0Rdup6edx2/8tE7g16DTWUMCGGVPBB70AYPg/wATQeJtBiuojiVflmTujDsa31ORzXk2owy/Dbx7HqUHGiao+y4Qfdjc/wAXtXq8UizRLJGwZGGVI7igDx79of8A5BvhrDFd+rRI2D2zXWazonh7SvCN1dXC/Zo5oR50sZwzVY8d/Dyz8ex2Ueoahd2q2cwmi+zFfvjoeQat3Pg231Hwk2g6teXV9Ey7TPLtEn6AD9KAPHdXIg8Z/D6Wxi+zWszyKhH3nXjlq3fivZQQfE7wZdQgiSe8QOQeDgiulb4P6fJa6dHLrGpSTaY+60nZk3xD+6Plxj8K0Ne+G9t4h1jTNRvtWv8AzdNcPCF2AZHc/LQBw3hSygvPjV42W5TzFizsVjkDj0rV+A8jGx8QxliUj1AhFPYc9K6TTPhvaaV4o1PXYNUvjc6kD56tsKn6fLVjwb4BtPBk169jf3c63knmvHMVwG9RhRQB1tFHSigAooooAKKKKACiiigAooooAKKKKACiiigAooooAKKKKACiiigAooooAKKKKACiiigAooooAKKKKACiiigAooooAKKKKACiiigAooooAKKKKACiiigAooooAKKKKACiiqGs6tb6LpNxf3rhIoULE5/SgDkfiX4klsbODRNLO7UtROxFXqqngmtvwX4Zh8MeH4rSMfvm+eZ+7Metch8PdKu/EmtXPjTXkIa4bbZROP8AVxDp+deoYoAWiiigAoxRRQAmBS4oooATFGKWigBMCmSwRzxNHMgdGGCrDINSUUAV7OwtbCHyrKCOBP7qLgVYoooAKKKKAPNbv/kvUP8A15rXpVea3f8AyXmLj/lzWvSQaAFpMUtFABRRRQAmKCKWigAxRRRQAmKXFFFACYpaKKACiiigAooooAxvFOgQeJNAuNOuVDCRTtJ7N2Ncj8L/ABBcAXPhfWSVv9MYxqX/AOWidj+VejEZrzH4kafNoGt2PjDS0IeBgl2FH3k9aAPTgMilxVTTNRg1TTYL20bdDMgdT7GrYOaAExRilooATFLiiigAooooAKKKKACiiigAooooAKKKKACiiigAooooAKKKKACiiigAooooAKKKKACiiigAooooAKKKKACiiigAooooAKKKKACiiigAooooAKKKKACiiigAooooAKKKKACiig9KAMXxZ4gj8M+GL3VZl3C3jLKpONx7CvCj8VrT4p69pWhXDjTLIyb7tZG/1pHRR65rr/2jtYOn/Dg2iPh7uVVGO+DXn/wJ+EL313F4k12IiCI5giYfePrQB9MWltDa2kUNqqpFGoCAegqxTQm1QF4AHFOoAKKKKACiiigAooooAKKKKACiiigAooooAKo61dzWOi3d1axiWaKIsiHuRV6o54xLCyHoykUAfI3/AAuzV7n4kpqi6bH9oXFuI9/ocdcV9Y6TcS3ek2txcpslliV3UdiRmvkaz8GMv7QTaZ5Z8tLsyDjjGc19hxoEQKnCqMAUAOooooAKKKKACiiigAooooAKKKKACiiigAooooAKKKKACs/XILO50W6i1Iqts8ZEjN0Ax1rQqC8tIr21kt7hQ0cilWU9waAPnHQPjVa+CGk8NQf8TSKO8EdvOjYURlgOvtX0bY3SX1jFcxfdlUMPxr4++MfwsufBOtNqWmozabNJuUqP9Wc9K+mPhbq39r/D3TZ8hiIgpPuBQB2NFFFABRRRQAUUUUAFFFFABRRRQAUUUUAFFFFABRRRQAUUUUAFFFFABRRRQAUUUUAFFFFABRRRQAUUUUAFFFFABRRRQAUUUUAFFFFABRRRQAUUUUAFFITiobm8t7OFpbqZIY1GSztgCgCfNJmuB1j4taRbSm20WKfV7rOAlshK5+tZiXXxK8SgGGC20W2c/KZDlwPyoA9PeaONcyOqD/aOKy7rxVoVkSLrVrSIjrulAri4/hXeaixk8R+Iru6c9VjJVa1LT4SeFbbBksjcOP4pHJzQA+7+LXg60k2Nq8Uh9YvmH6VV/wCFzeEzny57iQeqwMf6V0dp4P0GyTbBpluB7oDVwaHpiDC2FuB7RigDi/8Ahdfhjft8vUMf3vsj4/PFSn4y+Ex/rLieMHu8DD+ldl/ZNht2/Y4cemwVG2h6Y4w1hbn6xigDxjxZrfhX4ieMNLjvtXhi0qxPmkSNt3t6c161pOu+HPssVtpWo2bRxqFVY5B0pbzwdoN8m240y3I9kArDu/hH4UuQSlk0Dn+KNsYoA7VZo3AKOrA+hzT815q/wtvtMO/w14ku7VuySsStV3vfiT4aG6e2ttat05JjOHIoA9SzRXA6P8WNHu5Ra6zHNpV33juU2gfjXcW15b3kKzWsqyxt0ZDkGgCaijNFABRRRQAVXvr2HTrKW6uSRFEpZiBnAqxWL4wH/FI6l/1wb+VAHJr8b/C0mTEmoSKCRuS0cg/pTv8Ahdnhn/nhqf8A4BP/AIVZ+Fun2k3w9sHkt42Y7sllyTzXX/2VZf8APrD/AN8UAcP/AMLs8M/88NT/APAJ/wDCj/hdnhn/AJ4an/4BP/hXcf2VZf8APrD/AN8Uf2VZf8+sP/fFAHD/APC7PDP/ADw1P/wCf/CkPxr8M/8APDUv/AJ/8K7n+yrL/n1h/wC+KUaVY/8APrD/AN8UAeHJ4x8ML8Un8SLbaj5ZiAH+hvnd37V24+Nfhof8sNT/APAJ/wDCu5/sqy/59If++KP7Ksf+fWH/AL4oA4f/AIXZ4Z/54an/AOAT/wCFH/C7PDP/ADw1P/wCf/Cu4/sqy/59Yf8Avij+yrL/AJ9Yf++KAOH/AOF2eGf+eGp/+AT/AOFH/C7PDP8Azw1P/wAAn/wruP7Ksv8An1h/74o/sqy/59Yf++KAOEk+OHhWFd0qaii5wWazcAfpXoFneRX9nDdW5JjmQOhIxwa4b4safaRfDy/eO3jR/l5Vcd66nwuP+KV0v/r2j/lQBr0UUUAFFFFABRRRQAUUUUAFFGeaY8qRIWkYKq9S3AFAD800muH8QfFLSNMlNppgfVL7osNuuefc1jRQ/EbxW2+eWHQbVxkKMmTH5UAdt4otNF1bQ7ix12S3W2lUqTIwGDXnfgbxB4f+HunXWkXmtW8tvFITAY33HH4Vt2fwe01yJdcv7rUpm+95jnGa6Kx+H/hvTmBttMh3Duyg5/OgDFPxl8JZPl3E8o9Y4Gb+lMT40eF2fDLfoP7zWjgfyrsV0LS0GFsLcDOcCMU9tIsG4NnAR7oDQByEfxk8IO21754jnpJGV/nW9Y+N/DeooDa6xaOW6L5oB/KrcvhzSJgRLp1uwPBygrDvvhf4Vvgd+mrGT3jOKAOrjnilGY5FceqnNSZrzOb4V3ulyef4W8QXFo/aKU7l+lVx4o8ceEpAPEmlrqNiDzc2nLKPUjigD1Siue8PeN9D8SIBp92vm94nG1h+BroA2elAC0UUUAFFFFABRRRQAUUUUAFFFFABRRRQAUUUUAFFFFABRRRQAUUUUAFFFFABRRRQAUUUUAFFFFABRRRQAUUUUAFISB1pa4P4j+MJ9Jgg0bRP3mr6i4iiUdUB6tQBZ8W/EC20ScadpsJ1DVJOEgQ8Kf8AarnbHwL4g8YXIvvHeoOlqTlNOtzsUD3PWui8F+Arfw9D9svj9r1Sb5priTkg+grsgMUAZek+G9J0SJY9NsIYAoxlV5P41qAY+lLRQAUUUUAFBOOtFY3ivxBD4Y8Oz6ncDcseAB6knAoA2Nwpc15r4h8ba54SsNP1vUUt7rS7x0SQRLhot/Q+9ei20y3FvHNGcq6hh9DQtrgS0UUUAFIVznNLRQBkav4Y0jXITHqdhDOD3ZeR+NcDe+CfEfg26N94Hv2mtAcvptydy4/2T1Feq0mKAOO8J/EG11+U2OoRHT9Tj4e3kPX6Z612OeK4vxt4Eg12L7fpx+yanCN0c0fBJHY1F8OPF82uWs+l6x+71fT2MU6HqwHRvxoA7qiiigArF8X/APIo6l/1wb+VbVYvi/8A5FHUv+uDfyoAx/hR/wAk50//AIF/OuyrjfhR/wAk50//AIF/OuyoAKKKKACikyKMigBaKTIoJAoAWijNFABRRRQBxHxc/wCSc3//AAH+ddD4X/5FTTP+vZP5Vz3xc/5Jzf8A/Af510Phf/kVNM/69k/lQBrUUUUAFFFFABRRRQAUZopCcAk9BQBU1PUrTSrGS6v5lhhjUszE44ry2S78SfFK68vT2bSPDwPzTKP3s49j2qTU1l+JXjl9KWV10XTXzcbDxIw7V6lZWVvp9nHbWkSxQxqFVVGMAUAZPh/wbo3hu2WPTrRBJj5pmGXY+pNboFLRQAUUUZxQAhIBxS5rD17xHDpF1Z2ap517esVgiBxux1OewrJsPHYPi4eG9as2sb+RPMh+bcki89DQB2Wc0UimloADTXjWRSrqGB6ginUUAcJ4r+GWn6vm+0djpepx/Mk8HGT7jvWf4a8c6npWrR+HvHUSw3XSC8XhZwPX3r0sjIrnfF/hK08U6S0FwoWeP5oJl+8jfWgDoVcMoZTkHoR3pa8++GniK4m+1eHdYYm/05tu5urr2Neg5oAKKKKACiiigAooooAKKKKACiiigAooooAKKKKACiiigAooooAKKKKACiiigAooooAKKKKACiiigAooooAa5Cgk9hXmPgW3TXviJr3iC4TzTbN9nty3Pl+uPyr06QbkZfUYrzT4YSf2d4j8SaLLgSR3ImXPUqc0AemAYpaQUtABRRRQAUUUUAFVdR0601Sxe11C3juIH+9HIuQatU1+FOKA2POfHOiN4r1TSfCVigisLZ1urwgfKiLwiD6816HbwrbwpFGMIihQPYVz2h6hFd+JtViSyuoZodivNKmFkAzjae+M10velsgfxW7C0UUUwCiiigAooooATFeXeMYE8OfFTQNet1ES37G0uSnG/jjP6CvUs15h8SZP7U8beFtDiwZPtX2l8dgo/wDrUAenKcqD6ilpqDbGo9BTqACsXxf/AMijqX/XBv5VtVi+L/8AkUdS/wCuDfyoAx/hR/yTnT/+Bfzrsq434Uf8k50//gX867KgAoNFFAHnXxP1rxL4baxv9Gu44rBp1juQYg5UHvzVnVNb1WPUtMbT9TjNq1uZ7oCIHKgA9e2ea6XxPpMOueG7ywnA2yxHB9COQa4b4f8Ahu+uPC9/HqsgaRka0hYdkHQ/rQBiah8U764019U0nUkjMbELYfZWcyAH+9itfxV8SNTsvAmiapp8BtZtTmSKWSWM4t89SRjp9aqeDDqXhi2k0HV/Dkly0TsLe5jiDIwzwWNdN4l8waHZW+q6O19bTSH7RDbxhjGMEggeuQKALvg+61q4ln/tO/h1C2IDQzwqFzn6V1leVfDDQ9W0zxFqMkKXVvoLj/R4LsYdTn09K9VoAKKKKAOI+Ln/ACTm/wD+A/zrofC//IqaZ/17J/Kue+Ln/JOb/wD4D/Ouh8L/APIqaZ/17J/KgDWooooAKKKKACiiigArG8WX/wDZnhXULrpshbBHritmue8dWb3/AIL1KCP7xhJGPagDF+EmlrY+CYbkjMt4xmdj1JJ713Y6c1x/wwvxfeAbDGN0SeWceorsByKACiiigApCOaWkPtQBi6t4X07WNY07U7xHNzpzl4GVsYz1z6iuJfTJPFnxqTVI122GgxeR5o/5aynkgfTNekXky29rLLI2xEUsWx0rI8HS6fcaCs2kyiaCSWRzJtwWYuSf1NJaNeQdDeUYzTqSloAKKKKYBQehooPSgDy7xTCuhfFvRdViGwXuYZQv8X1r08HkfWvNPHjnUfiH4c0yEZaOQytjqBXpgoAWiiigAooooAKKKKACiiigAooooAKKKKACiiigAooooAKKKKACiiigAooooAKKKKACiiigAooooAKKKKAENeZePdHvfD+vW3jLQUJeBsXsK/8ALWM8Hj2zmvTqZLGssbJIoZWGCCMgigDL8OeI9P8AEmlpeadKrKw+Zc8qfQ1r15frngnVPDGqPrvgDK7zm405j+7kH+znoa1PDfxQ03VLldN1lH0jVR8pguhtDH/ZJ60Ad5RSKQRkEEYpaACiiigApCMilooAaFAbIHJ606iigAooooAKKKKACikLBVJYgAdST0rgvEnxS03TrptM0GN9Y1U8LBbDcEP+0R0oA6TxJ4lsfDWmPd3soBA+VM8sa434faLeavrF14z15CLi4JWzjI5ij7cep/rTNB8Dar4g1Zde8fNvkU7oLAHKRD39TXpiRrGipGoVVGFUDAFADx0ooHSigArF8X/8ijqX/XBv5VtVi+L/APkUdS/64N/KgDH+FH/JOdP/AOBfzrsq434Uf8k50/8A4F/OuyoAKQ0tFAHI+LPDeu63fW50vWXsLQcTRqOXFdHptgmm2EVtFkqi4yepPrVuigBu3PWjGRzTqKAEApaKKACiiigDiPi5/wAk5v8A/gP866Hwv/yKmmf9eyfyrnvi5/yTm/8A+A/zrofC/wDyKmmf9eyfyoA1qKKKACiiigAooooAKjniWaF4pF3I4IYeoqSigDyfw/dj4f8Ajq60S/cx6bfuXtXY/KrHtXq6sGUFSCD0NYHi7wlYeLdJks72PEhH7qYcNG3Yg+1cRovjPVfA1zHoPj6JhAPkttUUZRx23HsaAPVwc9KKhtLqC8tUntZVlicZVlOQamoAKKKKAGSIsilXXcrDBBGRTLa1gs4RFaxJFGOioMAVN3ooAKKKKACiikNAC1R1bVbXR9Mmvb2RUijXOScZ9qp+IvFGleF9Pa61a6SJR91c/Mx9AO5rzyG01z4q6tBd6navpvhqBt8UDkh7g9i3tQBe+H9jP4j8UX3i/UFby3YpZq3ZfWvT6gtLSGxto7e1jWOKMAKqjAFT0AFFFFABRRRQAUUUUAFFFFABRRRQAUUUUAFFFFABRRRQAUUUUAFFFFABRRRQAUUUUAFFFFABRRRQAUUUUAFFFFACH8657xH4L0bxLCV1C1UydpFGGH410VRzlljZo8FgDjJ4zQB5i3g3xb4Wy/hbV2urdORaztn8KcnxT1HRxs8V6Dc2zL9+aNcpivJ/Gvx/8aaZr97pUFvbWL28rRhk+fIBxmtrwV4S8c/EvThqnirW5rOxmOUhRcGRfp6UAev6R8TvC2sKpttTjQt2kO3+ddHBq1hcn9xeQyf7rg1zUXwx8LrpUNi+mxsI1x5gGGY+pNULj4PaAxLWM99ZP/einPFAHfB1PRgfxpcj1FebH4U6hFgWfjLUolHZkDf1qYfD/wATIBs8bXJx0zbj/GgD0Sk3D1FcH/wiXjHbj/hMmxjH/HqP8art8P8AxM6nf42ueeuLdf8AGgD0MugHLD86pz6tp9t/x8XsEf8AvSCuCX4U6hLxe+MtSmU9QEC/1qPUPgppF9pcsJ1C/N0w+Wd5ScfhQB0WqfErw1phZH1BJnH8MPzE/lXOzfE7VtVJh8L+HrqZz92WZNq/rXReGvh/o2haZDC9jBNcouHmZclj6811McEcSgRIqgDACgDFAHmS+CvFninEvirV3t4Dz9lt2wB7V2PhzwdpHhm3EenWqK5+9IR8zGugooAKKKKACiiigArF8X/8ijqX/XBv5VtVQ1rTzqmj3VmG2meMpu9MigDnPhR/yTnT/wDgX867KvI9N8CfEDRbJbLS/E0EVrGTsQwZxVv/AIRj4m/9DVb/APgPQB6jRXl3/CMfE3/oarf/AMB6P+EY+Jv/AENVv/4D0Aeo0V5d/wAIx8Tf+hqt/wDwHpP+EZ+Jv/Q12/8A4D0AepUV4Peaj48sfHVp4Yl8WW4urmLeP9H6eldMPDPxN/6Gq39/9HoA9Sory7/hGPib/wBDVb/+A9H/AAjHxN/6Gq3/APAegD1GivLv+EY+Jv8A0NVv/wCA9H/CMfE3v4qt/wDwHoA2vi5/yTm//wCA/wA66Hwt/wAippn/AF7J/KvN9W8AfEDXNPax1PxNBJbORvVYMZGa9R0myOnaTa2bNvMESxlvXAxQBdooooAKKKKACiiigAoqOSeKNS0kiKB6msy48T6Lan/SNTtkI/h8wZ/KgDXqhq2j2Wt2T2mo26TRMOjDOKxZviBoaHbE9zO3bybd2z+IFRf8Jnf3HGm+GdQuAejsVQD8zQBympeD9W8DK+peF9X8q0U5ktrhzs+go0v42WiMsHiC1Nu44aWNg6fXip/Hn/CYa34K1KF9MsrW38lmYSysZOB22jGa+avB3w48YeLbvy9Kgmih3YeeUkKP8aAPsnTPGegavCJLLU4GDc4L4NbMVxDKu6OVWHqGzXhUX7O81joMEVrq7PqLyqbidmIVUzyEA/HrXVJ8IJ7aJBp3irUrUjrkhx/OgD0/cPUUua8wHw/8ZwLi08aOdv3fMg/nzR/wiPxFl/dz+MIRGepSDmgD04sB3H51XuL+0th/pFxHGPVnArzo/DbxPdHF742ugB2ihA/rViD4PaezBtY1bUNRPffLtB/AUAbOs/Enw5o+Vkv0uJe0cHzE/lXMyeNvFXilzb+FtHktIm4NzcDGB6irPhH4Xp4Z8T38zRWt1p0zBrfzAWlj9Qc16PHGkYCooUY7DFAHn2i/C6L7Yuo+Kbp9UvQd2HOVU+wr0GOJIkCRKFReAFGABT6KACiiigAooooAKKKKACiiigAooooAKKKKACiiigAooooAKKKKACiiigAooooAKKKKACiiigAooooAKKKKACiiigApDVHVdZsdGtzPqNykCD+8eT7Ad65k6pr/AIoJXRYm0uwPW7nT944/2VPT60AbWt+J9N0MKt1KXuH4jt4RukkPsKw/sXiLxWw/tCRtE0wnP2eA5nlH+03RfwGa2ND8KadokjXEaG4vJP8AWXUx3yP+J7VvLQB5frvwO8Naz4m0vUzGYobP/XQBiftGOm4nnr19s16XawRW0Cw28axxRgKiKMAAVNRQAUUUUAFFFFABRRRQAUUUUAFFFFABRRRQAUUUUAFFFFABRRRQAUUUUAFFFFABTJXEUbO33VBJp9RXMK3EDwyfckUqeaAPi/xX4+nm+OT+IIJf3dpdhImz0jU4r7L02+i1PTbe+tjmK4iWRD7EZ/rXkN/8HfBv/CxLGyGmL5FxayzSLn7zA9a9XsLSx0DSoLG3ZYLa3QJGrsBtUfWgDRorHufFWhWufN1S13Dqqyhj+QrKk+IuiF9lp9quX9I7d+fxxQB1tFciPF2q3P8AyD/DF8w7PKQoNH2rxvdf6ux0+zU92kLMPwoA66kLBRljiuS/sTxZd/8AH14jWFT1SC3UY/HrSf8ACBpOc6jrWq3XqhvHCH/gIOKAOkn1OytlLXF3DGo65cVi3Hj7wzbSeW2rQSSf8848s1Mg+HvheCTzX0i3ml/56Srub8zW7a6ZZWcYS1tIolHZUAoA51vHkE3Gn6Pq12ezpanZ/wB9Zpo1/wAVXWPsPhZUX/npc3gUj/gO3P611wAX7oA+lLQByBg8d3g+a90mwQ/wi2eRx/wLfj9Kb/wh2sXXOpeLtS947VIo1P5oT+tdjRQBykXw80QsHvftl7J/enu5B+ikD9K0rbwroVr/AKrSbXI6F4w5/Nq2aKAIYbaC34ghjiHoiYqYUUUAMljSVGSRA6MMMGGQabbW0NrCIraJIY16IigAfgKlooAKKKKACiiigAooooAKKKKACiiigAooooAKKKKACiiigAooooAKKKKACiiigAooooAKKKKACiiigAooooAKKKKACiiigAooooAKKKKACims6opZiAo6knAFczqnjOJLhrDQLaTVdQPASPiNPd37D6ZoA6G6uIrWF5biVIo1GS7tgAVyc3iu+1qc2nhK0acA4e+lXbCn0J+9+FLbeE73V5FvPGF4bpgcpYwfJDH9epc+/H0rrba3itoFigiWNFGAqrjFAHOad4NhS5W91ydtTvuoaX7iH/ZFdOoAXAGB2pcUUAFFFFABRRRQAUUUUAFFFFABRRRQAUUUUAFFFFABRRSUALRUMt1BAP308cf++4FZl14s0KyB+0apbjHXY2//ANBzQBs0VyrfETRGJFiLu/P923t2z/49iom8Yavc/wDIL8KX59DeMsKn8QW/lQB19FcaLnx7eniw0rTR2JuWnP5bF/nT18O+Krr/AJCHipFB/htLHy8fiXNAHWs6qfmYD6mqlzq2n2gJur2CID+9IBWAvgG2kOdQ1jVr0nqJbgBT+AWrVt4E8OWp3R6YjP8A3ndmz+ZoAbcePfDkOQmpx3Df3bc+Yf0qmfH8U7bdN0fVLluxa1ZFP4kV0lvpdhbgeTZW6Y6FYlFWwoAwAAPQCgDkBrvi274tfDX2YHo9xcoR+QOaX7J41ux+/wBQ0+1U9olYsK6+kNAHll74X1Cf4kaZDqOv3UpeylbcihdoB6Cupi+H2ighrg3Vyx5JlnYg/hTdQ/5KtpP/AF4TfzrrQKAMa38KaFasDDpVsGH8RjBP51qRQRQjbFGqD0C4qWigAooooAKKKKACiiigAooooAKKKKACiiigAooooAKKKKACiiigAooooAKKKKACiiigAooooAKKKKACiiigAooooAKKKKACiiigAooooAKKKKACiiigAooooAKKKKACiiigAooooAKKKzNY17T9DtDPqV0kQ6KpPzMfQDqTQBo5x1NYes+LNP0hxBvNzeN9y2hG5iffHSsj7V4h8U8Wavo+mt1mkX99IPYdRW3onhjTdCVjbQ7535kuJPmdz9TQBif2Xr3ihw+uTvpmnnkWNu2Hb/efr+VdRpmk2Ok2iwadaxwRjsi9fcnvVzApaADFFFFABRRRQAUUUhNAC0U3JOaje5hiH7yaNfqwFAE1FYV7408PacxF5q9rER2MgzWcfiLpUv8AyDoLzUM9PskDSZ/IUAddRXI/8JTrt1/yDvDF1z0+1Hyf/QqXzfG9392GwsM9nPmY/KgDrTTWcDqQPxrk/wDhH/E10f8ATvEbRZ6/ZE2/zFB+H9pc86pqN/fE9fMmK5/LFAG9da7pdln7ZqFvD/vyAVlTePfD8WfLvDcY7W6mT+VPtPAvh2zI8vTY2/66kv8AzzWxBpljbY+zWcEWOmyMD+VAHOf8J19o/wCQbouoXXpmPy/50f234suv+PTQIrX0N1Jn/wBBxXW4HpRigDkTZeN73/XanZWA/wCnaLf/AOhZpn/CF6lc/wDIW8Tahcjv5WIf/QMV2NFAHKw/D3Qk/wBelzdnv9quXlz/AN9GtW08L6HY4NppNpCR3SEA1q0UAMWGNBhI1Uewp+KKKADFFFFABRRRQAUUUUAFBooNAHJah/yVbSf+wfN/OutrktQ/5KtpP/YPm/nXW0AFFFFABRRRQAUUUUAFFFFABRRRQAUUUUAFFFFABRRRQAUUUUAFFFFABRRRQAUUUUAFFFFABRRRQAUUUUAFFFFABRRRQAUUUUAFFFFABRRRQAUUUUAFFFFABRRRQAUUUUAFFB6Go3lWNC0jqqgZJPAAoAkqvd31vY27T3kyQxKOXkbaK5u/8ZNPcNY+GbVtSuuhk6RRn3Pf6VHZ+EZb2db7xZeG/nBytuPlhi9gO/40AMl8T6r4hmNv4PtStvna+p3a7Ywe+xfvPj3AHvV3SfB9nY3QvtQlfUtRxzcT87f90dhW0bmys4QplhiRRjG4DFZtx4y0C1O2TU4d391SSTQBu4GMYpcVyknxA04tttLS/um7eVbnB/GmnxVrtz/yD/C8zA9HnnCAfhigDraTNcez+PLz/VDSrFO4kR3b8CGApR4a8Q3YB1DxRcReq2sSAfqCaAOuZwoyxAHck4FULjX9Jtc/adTs4j6POoP5E1hL8P8ATpmDX95f3jer3LLn6hcVoW3grw/bgY0yGQjoZRv/AJ0AQT/EDw5ASPt7yt2ENtLJn/vlTVRvH0sv/IL8M6xf+jJHGg/8fdT+ldPb6dZ2oxbW0UQ/2EAqwFA6DFAHHjWfGt7/AMePh+ztAf8An+uyCP8AvgNTxpvjW75uNasLAdxBbmbH4ttrrcClxQByP/CF3Vz/AMhLxLqUxPXyH8kH8s1JH8PNAJBu4Jb0jvdSmQn8a6rFGBQBmWfhzR9PAFnp1vEB0CpWisUafcRV+gxTqKADAowKKKADFGKKKACiiigAooooAKKKKACiiigAooooAKKKKACiiigAooooAKDRQaAOS1D/AJKtpP8A2D5v511tclqH/JVtJ/7B838662gAooooAKKKKACiiigAooooAKKKKACiiigAooooAKKKKACiiigAooooAKKKKACiiigAooooAKKKKACiiigAooooAKKKKACiiigArJ1zxLpXh1Im1i9jtRMSse/+IitauD8bqH8Y+Htyg/NIeR/sGonLkjcuEeeVjQ/4WZ4U/wCgvF+RpP8AhZvhTH/IXh/I1WeOFAzNGgCjJOAK4rQvFep+IPEl3DZaVaDSrSUxSTvJ85PqB6VwRxjlsjslhEup3y/E3wpj5tXh/I0v/CzfCf8A0F4vyNVjFDgnYhX1xxSbLcdVjwe5xS+uvsV9TW9y1/ws3wn/ANBeL8jR/wALN8J/9BeL8jXLa/4o0/Q7jToTEk5v5xCjIwwp9T+VRHxLEPiCfDrWsQiFmLkzlsYyxGPpxTWMk7aEvCxWlzrv+Fm+E++rxfkaP+Fm+E/+gvF+RqpEttPHvhEci+qYIpshs4nCSNBGx6K7AE/hU/XZdivqce5d/wCFm+E/+gvF+RoPxN8J9tXi/I1WMUC43IgHqRTUW3kLeUIn28Hbg4o+uvsH1NdyHWPjB4X020MkF39sm/hhiUkmuF1rxleeIruBrrVLOCwK7mtFmKY9n/vfSvQGitYsySJDHgcuwA4+pojFtMgaARupPVMEfpT+vPsL6mtrnKWXimKG1EEHijS9OgAx5UFrz/31U39p+HLht2o+O7+U90il2KfwxXSO1mhXzDCpb7oYgZrC8Y68vhnTYLqO0jn82ZYsEYxnvTWNk38IPBxS3HwXfwyQ7p7xLp/780jk/wA61bbxb8PLQYgmslx/0yz/ADqkLm7/ALe+ztp0QsPIEn2ksMhvTFZVn410280DU9VFrsisXZShIy+OMj60/rknshfVFs2dhH8R/B0S4i1OBB6KuKf/AMLN8J/9BeL8jXKjWp73QbDUdH02O4N0670dwvloep6/pW+yW6IWkWNdoyd3GKTxkl0GsJF9S3/wszwn/wBBeL8jSf8ACzPCX/QXi/I1VjW2mXdF5Ui+qEGkP2QS+UTEJD0UkZ/Kp+vS7D+px7lz/hZfhIf8xeL8jU1n8QfDWoXsdpaarE80pwi8jcfaqAihZcrGhHrWLrsUa6pozKig/awMgYParhjHKai0RPCqMeZM9OBpaQUteicIUUUUAFFFFABRRRQAUUUUAFFFFABRRRQAUUUUAFFFFABRRRQAUUUUAFFFFABRRRQAUUUUAFBooNAHJah/yVbSf+wfN/OutrktQ/5KtpP/AGD5v511tABRRRQAUUUUAFFFFABRRRQAUUUUAFFFFABRRRQAUUUUAFFFFABRRRQAUUUUAFFFFABRRRQAUUUUAFFFFABRRRQAUUUUAFFFFACE4rhfGv8AyOPh76y/+gNXdGuF8a/8jj4e+sv/AKA1Y1vgka0fjQ7UbWO906e3mzskQqcHBrxbw34etLPw14pv4GlWaCV40O89K9wkG5GXueK43RvBdxZ6HrlhfSxn+0ZmdChyACOM14tOTimexOKbj6lJriUfApZvMYS/2bndu5z65rmNUhm1TTvBFm11Ki3QVZSrnLDHrWn/AMIj43m8KP4XkubNLNEMaTgks69gR2rZHge/B8L/AL6H/iUY87k/Nx2rdcqbfn+FjD3nFR8v8jlPHngfSNP1bw5DbCVUnvQjfvCeME8VPqfhi11T40waZK8q2kOloSoc5cB24JrrvH3hrUtbXTbrRmiF1p9wJ1SU4DYB4osPDWqN8QIvEl80KhrAW8kaEkhwSfy5pQqtJXfcbp+99xz+mwL4Q8e6xZaY8n2NLD7SkLMSFbHbNcjpN5aa9Yz6hrWmavfXlw7FJ4QdsXPG3mvVn8LzTeOrrV5XjazuLMW5QH5s965208M+MfDEdxp/h57K4sJHZoWmOGhBpU5p772/UqpG1rbHOale6zcfCW3h1L7VbTpqaQo8hw7RnpmvUPDHhaw8P23mWYfzJkUyMzE5OOtYGoeCdXvvBdpptxqC3N6l4lzLNJwCB2Fd3CpjhRG6qoB/KoqTVml3CMXdN9jzj4oQ3zahptxJaXF7pEZP2iC3bDfUjvVbwPcaEdS1NtAvrm3R7U7tMuVIKEDqMmun8V6Pr1zqFrqPhu7TzIARJazH5JB/jWPpXhPV38RXXiTxALW3lW1eKKC1HHIOSaqnJezswmnzmH4M8E23iHw1d32r3M8s5lk8lvMI8rHTFZt9qdze/DuC1vZDLJZasIBIxzuAIxVnwPa+Mj4duY9CmtWtLieQZmyGh5wfrXTXXw4uB4NtNKtLiM3K3YubiWTgMc5Na80YS1fYjl5o/f8AqRzp9u+LsthNI/2eXS9rIGIHNcTo/hLTZfh74iu383zYJZAv7w44PFepp4Yu1+I39vGSP7N9jEG3PzZHesHS/BmuWljrujSm3NhfeY8MwJ3BieARUxqJL3X/AFdhyvRvuvyOfutPj0b4c+HDYySIbm9iZ/nPNaF1pA8RfGG4sb2eb7EljG7wq5AY5brV0eDvEOo+E9O0u/8AssUmnXUboysTvQV0Fn4Xurb4jXOvNJGbaa0SFUB+bIJ5/WjnV7+v/ABU3ay8vzORsC3gzxZ4isNMklNnDZfaI4nYkI23PFJongy217wU2uX11OdTuUaYXAkI8vjgD2rqZ/C7jxjqut38kZsLmz8pkGSwwvJri4oNYsvC93BoXiOxbQyr7Hf/AFqL/dxUxlzx030KlFQfkdj8KnlbwBb/AGiVppFldS7HOcHFbGv/APIT0b/r7FY/wmt5Lf4dWay5yzOwJGMjPX9K2Nf/AOQno3/X2KNPrGgtVR1PShThTe1OFe2eOtgooooGFFFFABRRRQAUUUUAFFFFABRRRQAUmaWsbxVqU+j+F76/tQpmhiLIG6ZpN2VwNjNGa81tLzxrc2cU39rWq+YgbH2fp+tTeb41/wCgva/+A/8A9evAfEWWxdnU/MrlZ6JmjNeeeb41/wCgva/+A/8A9ek83xr/ANBi0/8AAf8A+vS/1kyz/n5+Y+Vnom6jNedNP4yXG7WbQfWAf40om8Zk8azaEe1v/wDXp/6xZba7qfg/8g5WeiZozXnfm+Nf+gva/wDgP/8AXpfN8a/9Bi1/8B//AK9T/rJln/Pz8xcjPQ8mjJrzsy+Nf+gvaD/th/8AXoEvjQ9NYtD/ANsB/jT/ANY8ttdVPwDlZ6Jk0ZNed+Z41/6C9r/4D/8A16PM8bf9Be1/8B//AK9H+smWf8/PzDkZ6Jk0hJrzwy+NB97WLUf9u/8A9ejzvGZ6axaEf9e//wBej/WPLf8An5+DDlaNe/OfirpJ/wCofN/OutBry2XTPFc2twaq2r232iCJokPkcYP41e8zxr/0GLT/AMB//r0f6yZb/wA/PzDlZ6Jk0ZNed+Z41/6C9r/4D/8A16PM8a/9Be1/8B//AK9H+smW/wDPz8w5GeiZNGTXnfmeNf8AoL2v/gP/APXo8zxr/wBBe1/8B/8A69H+smW/8/PzDkZ6Jk0ZNed+Z41/6C9r/wCA/wD9ejzPGv8A0F7X/wAB/wD69H+smW/8/PzDkZ6Jk0ZNed+Z41/6C9r/AOA//wBejzPGv/QXtf8AwH/+vR/rJlv/AD8/MORnomTRk1535njX/oL2v/gP/wDXo8zxr/0F7X/wH/8Ar0f6yZb/AM/PzDkZ6Jk0ZrzvzPGv/QXtf/Af/wCvR5vjT/oMWn/gP/8AXo/1kyz/AJ+fmHKz0WkzXnfm+Nf+gva/+A//ANejzfGv/QXtf/Af/wCvR/rJln/Pz8GHKz0TJ7Uo5FeaXd341trSWcarasY1LY8j0/Gu18LajNq/hbT7+5Cia4hDuF6Z716ODzHDY6/sJXsJqxrUUUV6AgooooAKKKKACiiigAooooAKKKKACiiigAooooAKKKKACiiigBDXC+Nf+Rx8PfWX/wBAau6NcL41/wCRx8PfWX/0BqwrfBI1o/Gi33NIRxjpS96K8BnuiDgAZpG4Qn+VO7ioLqQxWM0i/eSNmH1Apai6kw5xg5xycGgAkD615Xo+reN/E+g3GqWuoQWkds7hFEYPm49a0P8AhYs8Hwyh1y4jj+3PJ9nwThTJnGf0rd0WjJVEz0UfhTcncR6V5LP4v1zQYIdTu/ENjqMbsPPs0IygPpW1feJdZ8ReJV0bwrPHaRrCs09wy7ioIyABQ6El6C9tE9B9D+uaAMZPX6VwMXiPxF4Z0vWG8VRC5jskDW94oAWXJwB9c1gHxb4gh0sa43iHT3ON507I4X0+tHsXJ6bDdRJe8eukY6nHrTZF82FkYZDDaRntXmmv+P7qe30RdMu49Ni1NN73cq5CH0rX8O6l4ht5r5NTuINVsobczQXcBGWIGdpAodGSW4/aq51Ol6TZaNafZ9OgEERYttBJyT1PNXcnn0/lXkmneJ/Euu28uo6frtolxHIR/ZjAA4B6c9663XdQ8SnStPXTEhtLi4A+0zzMNsH50Om9NSVNa2OuByBtOfb1oBJ68e2a8x0/xNrOj+OrDRb7W7bWLe+yCY8Zjb8Kfbav4t8R+LdY0/Tb+GztdOnwrlMlh6U/Y6A6iu0elchhk4JpSec/p/n6VxPhXxTeXF5rGn+IJE+1aa28EDG5PWr/AIG1rUfEGm3eo35AhkuXW1AGPkXgH8waj2bWvYpTu0dOy71IbkMMEdq5Ob4Y+Fp7xrh9PYFm3NGs7iNj6lQcV11JURk07otpNWZHBbxWtukFtGsUUYCqiDAArH1//kJ6N/19itysPX/+Qlo3/X2K1o61UzOsrU2eldqcKb2pwr6A8JbBRRRQMKKKKACiiigAooooAKKKKACiiigArm/H/wDyIeqf9cDXSVzfj/8A5EPVP+uBqKnwsDO0r/kEWv8A1yX+VW6qaT/yCLT/AK5L/KrYr+fa38WXqzpFzVLWNSi0fR7vUZ+Y7aJpWB74UnFXKyvE2lnW/C+o6cpw1zbvGp9CVxV4fkdWCns2r+hUX3POPhvdXXxEu9Q1vXLm4Nusnl21vFM0aKP+AkZqvqXiW9+H3xTtdK+0yz6RqABEUzFvLOccE80/4Hs2h22p6Fqn+jXdvcFtsh27h6jPWs7xrp0vjT4zabb6aDLBYgGaVOVXnPWvueSLzGrRmv3Ki/S1tGvO5gvhk3uepw+NdFn1qbSY7hjewoZHi2HOOufyNQW/j/Q73RL3VLGZ54bMHzAqnIPpivNoXi0z9oHUZLuQQxm0bazHGf3eKqfCkiXwT4sRTuLeZgd/umuN5Nho0/ba7Qf/AIE9Sk3zW80vwOosPH3/AAl3gXW5wJoJVjkMBQFdoA4+YVY+FPiDy/hk2p6/fMUink3TTOWOABxzXNfD+5gj+DGtQtIgm2S8E4I4rmljurj4CQmzy0ceq7pwnOEwOo9K7ZYCjONTDRXLH2iV/kRduz9T3fTvGOkajexWkMrxzzR+ZCk0ZQyL6rnrS6h4x0jTb6SzmkkkuI13yRwxlyg9TjpXlfiMSXnjPwRHpLeZIllEWMZ+6oPOcU/w6JbHx14w/tk7XeJyhkOMjHavN/sbDfxG3s3brvY0Un+X4nW/ErWYr34U3uq6LesFUI0c8DkEfMARx9elTeEfFFvp3gHRJ9ZuJpJrtdqvtLl2zXmVhFdQfs8a6bsFIpJlMAbjI3jOKd4b8R3vh+68NSeIlSbR5YNls2OIWzyT79K7/wCy4fVZUI68k3bu7RWhLldJ+p9AtcRpa/aHyqBdxyMECuUb4p+EI2Kvq0YIOD16106sLuzLW0oxKmVkHPUda4x/BXiIyEp4lRRngfZVr5bB08I+ZYl2t52/Rml21dHQaH4w0XxHO8WkXiXDRjLBT0q7q+tWOh2Ru9TmWGEHGT1J9AKy/DegappE0jajqi3qsuFUQhMflXE/GuC7f+w5UDNaJdL52OnXvWtDCYbE45Uab9z+vJfkJXtqd7YeL9J1G4kt4JHS4SPzDBKhVyuM5APX8Kj0bxvomvNdDTJnl+ygmb92Rtrzu6Wa7+PGjSaYS8UdmvnMhyAuP8KrXum6h4U+MctvpMTfY/ECkEL0XPLH8q9R5RhdY3s3HmV/LdP5bEObSflY9Uk8VaVDpS6hLKyQO+xNyEM7egHeksfFml6jFdNbSMXtBmaJkKuoxnODXmXxghn0ufw1IhdLC3uAXZc4U+prptK0bR4b2+1y01Nrq4vLI78PlQNveueOW4V4eFa797b77WZTdp8voaA+KvhJrdJl1EFXl8pRsOd3StDUvG+i6XIyXEzOyR+Y4iQvsX1OOleZ/AjStP1DQdTa9t4p5PtmcOASMdKPDdzb2XxV8RaX4l2pHfqUQzHCuo7c11VMpwUa9WnFN+zV357bE8z5bnqjeK9HTSoNRN0ht7jiEqclz6AetRaV4y0bV767s7adkurP/XwzIUdB1zg1wXxDfw1o2jaNa2tqHZbofY9jFURvUn0rm/C7h/jNrqalcK/m2w8x04DfIOn51FHJ6FXDSrWezav5NL+ttSpNx0PX7Txro19NGlrJI4llMUcgjO1mHoelc3c/E6D/AIWMnh+KGXyY1bziIyWJxxx6e9cFotvqngjxjp9vZ3CapomoXG6Jc5KEnrjtitW1kitP2jrh7phErW3BfjJx0FdKynC0pzsuZcjaI53Z/I9qD7lDAdRmnU0EFQR0IyKca+Kdr6GyKerf8gi6/wCuTfyrU8Bf8iFpH/XstZerf8gi6/64t/KtTwF/yIWkf9ey1+i8F/DV+RjPc6Giiiv0MzCiiigAooooAKKKKACiiigAooooAKKKKACiiigAooooAKKKKAENcL41/wCRy8Pe5l/9ANd0a4zxvo+tXmraTqGhWsF29mz74ppvLyCCODg1lVi5QaRdOXLNMeDnPFLWQI/G/T/hHbD/AMGX/wBhS+V43/6F2w/8GX/2FeP9Vq9j1vrNM16rXyk6dcKuSTE2AO/FUfL8b/8AQu2H/gy/+wo8rxvn/kXbD/wZf/YUnhavYaxFPuc34Bsrm0+H9xBcQPFMXlIRlwTXK/8ACK6hqXwgS3Fo5ubW+ef7O64LqGPH616d5Xjf/oXbD/wZf/YUnleN/wDoXLD/AMGX/wBhW6pVrt23/Qx9pSatfv8AieYfatEuoLa20vwbLLqLsBIk0RVIz3JNa05uPBHjiXVZtPll0++t1Rzbpu8lgOmK7gW/jQMWHhrTwT3Gpf8A2FBt/Gp6+HLAj0Opf/YU3Tq/y7k+0pdXtscTfz6z8QdF1uCGxe200xAWnnrteVg2Tx6Vz9rcaNBosNm/g+eXWUURmJoTtJ9SfSvVxB42xgeHLDA6f8TL/wCwpPs3jTfuPhrT8+v9o8/+gUKlVXuqOg/a0nq5anF+Id1hpekwat4cSfSjHiZLcFmtyfSszwdYyp4yubnwlaXVvpItGBiusqryY4xn3r0kw+Nm4PhywI99Szn/AMcpFg8bKu1fDlgox0Gpf/YUezrW0iHtKX8x5Hqp0vUbOdb7w5e2fiJWKobWMhWbPDZ6Vd8QWmsQab4aXxHFeXOnJGReLBksD2zivTvs3jUtuPhrT93r/aPP/oFKbfxqwIbw3p5z66j/APYU+St/KL2lK/xHlFvZwS+PtBu/D3h+6tdNhlKvcSRkFm9T3xXaeCbK5t/F3ieSeCSOOa53IzLjcPaujWHxso48N2A9ANSx/wCyUeX436f8I7Ycf9RL/wCwqZUqzjbl6W/EI1Kad7nmvxRsL/TPFNnfaOMNqq/YpgO5PP8ALNeo6FpiaPoNnYRDCwxKp+vUn881xp8G/EO88VxaprFjp91bWrFra1W92hCe5Ozk11nleN/+hdsf/Bl/9hRKjV5FGw1Wp+0cjWGR1orJ8rxv/wBC7Yf+DL/7CjyvG/8A0Lth/wCDL/7Csfq1XsbfWaZrVh6//wAhLRvX7WKm8rxv/wBC7Yf+DL/7Cof7F8W6nrGnG/0mzs7e3m8ySRL3zD+A2itKWHnGabRnUrwlBpHpXanCkFLXs9TygooooAKKKKACiiigAooooAKKKKACiiigArm/H/8AyIeqf9cDXSVzfj//AJEPVP8Argaip8DAztJ/5BFp/wBcl/lVsVU0n/kEWn/XJf5VbFfz7W/iy9WdIUfzoorG7Az7vQ9Ovbjz5rWMzYx5gGGqWy0qx04H7FbpEW+8yjk/jVuitXXquPK5OwGbeeHtK1C+S8u7GGW4QYEjLzipLPRdN05ZFsbKGASj5wigbvrV761Tk1fT4roW0l5Ck54EbOAc1vGpiKkeVNtL1C+tytb+GdHtY5o4NPgWOf8A1i7OGqeDRNNtrN7S3soI7aT78SoArfhVme7gtYTLczJFGP43YAVHaaha38e+yuI51B5MbZxTc8Q4uTbsLRFez0DTbCbzrW0jSQDaHxyB6Ci80LTtQmMt3axvJjBYjlh6GpZ9Y061XdcXsEYztO6QDB9Ko+IPEdtoXhy51fKTxxpuUB8B/YVpThi6lRWvd6IpWLkmj6dcaeLKa0hktBjEJUbRj2qKTw7pElnFbTadbPDESUQxjCn2pNG1q31PQLfUTJGiyRh2+cEL7Zqa21nTr6YxWd7BM4OCqSAkfhSl9ZhJrXR6+pKtZNlqGGO3hWKJAiIMBQMAe1SdqyLW81B9eu4bkWq2MagoyN+898irMus6bC0aS30CNIfkBkHzVlPD1b7X69xtpF41Bd2VvfwGG7hSaNjyrjIp0tzDBCZp5FjjAyXY4H51FZ6nZagCbG6inAOD5bg1MIVF+8SenULoisNF0/TJGktLaON2GGYDkj0zU8tnby3MVxJErTRAhHI5XNWDzVJtY05bv7K19AJ/+efmDNUnVqyurt99xaWH6jp1nqdqbfULeO4iP8LjIFQ2Wh6bp1q1vZ2cUcLDDIBww96uS3EMSjzZFTPTc2M1Xg1awupzBa3kMkynBRXBIpxdd07Rvy/gN2vcTT9H0/Si406zitt5ywjTbmob/wAOaTqlylxf2MU0y9HZefzrJs/FLyeOtV0e4EMVtZxI4lPyn5gDyT9a6fzoxD5hdQgGd2eMfWtascTQqc0m+Zre/RgmtUZ954f0vUYIoLyxhlihIMasuQuPSmL4Z0hdQ+2JYQrPt2bwvOMYxWnHIksYeNgytyCpyDTq55YitH3eZiWxnQ6BpdvcJNDZxq8f3Dt+79KS68P6XealHf3FlDJcx9JWX5vzrSoqViqyd1Jg0mHal7UlHasL3KKmrf8AIIuv+uLfyrU8Bf8AIhaR/wBey1l6t/yCLr/ri38q1PAX/IhaR/17LX6PwV8NX5GMzoaKKK/RDMKKKKACiiigAooooAKKKKACiiigAooooAKKKKACiiigAooooAKTFLRQAmKMUtFACY9KMGlooATFGKWigLITbRg0tFACYNGKWigBMUYpaKAExRilooATFN2nn1p9FADNp3Zp2KWigBMUYpaKAExRilooAbg06iigAooooAKKKKACiiigAooooAKKKKACiiigArm/H/8AyIeqf9cDXSVzfj//AJEPVP8Argaip8DAztJ/5BFp/wBcl/lVsVU0n/kEWn/XJf5VbFfz7W/iy9WdIUUUVzgFFFFAGT4pv5dM8K6je2/EkMDMuPXFcF4a+Huka54DtrzUNz6jeRCd75jl0Y85B9q9MvbSK/sprW4XdFMhRx6g159F4G8UafpraJp2txJpRyiuQfMRD2FfS5biIxwzpqpyS5k7912/4BMkZ91pY1nx5pnhzUrx7zTrO18wgtxOR6461Pf6TbeDPiRoh0EG2g1MPDPbKfkOMYOK1tQ+H08R0678P3/2bULFNnmSDIlXuDUmk+DNUm8SQ654pvo7qe3QrbwxA7Y89T9a9GOMo8qk6nuqLTjbd97ee5Nmct4G8J6b4hvfEk+tRfa9uoyxxpISQgz2FUItNt7j4S+ILa6Hmx2Ny4g3HO0A16T4U8KyeHP7T8ydZzfXb3A2jG3PaqUHgSSPwvrWkvdoW1KR3DhT8me1OOZ05VpXlpeFvla9i4rQ5e+0/QdL+GejQ3ks1vDO0cjW1t965bB+XFYN9La2/ijw9caJ4euNFR7nyzKy7PNHHBHeuvuPh9rd5oemJLfwJqOkybrZwPlYYIwfzqS98CeI9d1DT7/W9Yh8yxmEiQxqdldNPF4aF+ape7le777adfmZO/JbyRTV2Pj7xT8zDFiCBnp8tZXhbwVpGo/CWfUdRgNxePbyukzsSyFckY9Ogrul8GTDxBq2pNdJt1C3EITb9zjGan0LwtJpHgVtBa4V2aJ4/NAwPmBx/OuOeZUoUkqc7O8PuS1NGve+Zwl3p2q618LfDc9tG2oJBh7i2L489R0+tSeD7vw+PG0H2axutBvfL2NaMm2OY+o9a6SXwJfw+FdJsdO1T7PfaX9yRSdknqCKbY+DtavvEtprHii9t5WswfKjgUjJ9TWssZh5UJxc1b3vJ67aW1CS10Nrx1qc+j+CNUvbMlZordijDscVx+n/AA90W5+Hn2ueMvqElr9oN7uO8Pt3Zz9a9G1TToNX0q4sLtcw3CFG+hrgo/BHiuDS20KDXIf7LI2CQg+YE/u152XYiEaHJGpySUrvzXb/AIA3q0cxq93c694A8Mi6mk3yX3kvIGILAcda1vFfhzTvC2peHL/RIRa3P2xYpHXjzAeu71rpb7wAkukaPp9jcCKLTbgTHcM78da0PFHhiTxCNNKXCxfYblZzuGd2K6/7SoKUIwlaN5XXk72uRZ2+RyE2ljWviL4tsDndPZIFOejbBg/nWavie5uPhxb6Crk6nJcLYsM/NjOCfyr0Gz8O/wBmeNNS8QS3KeVdRKuzGNu0DnP4Vxeg+HrTUPjHqGqWUiy2VtlhtOVMh9K6IYqhU5pPWNNRkvVK1vmOV7No9M0mxXTdJtrOPpHGF5q5SA9fWlr4mrJym2ylsFFFFZDCjtRR2qkMqat/yCLr/ri38q1PAX/IhaR/17LWXq3/ACCLr/ri38q1PAX/ACIWkf8AXstfo/BXw1fkYzOhooor9EMwooooAKKKKACiiigAooooAKKKKACiiigAooooAKKKKACiiigAooooAKKKKACiiigAooooAKKKKACiiigAooooAKKKKACiiigAooooAKKKKACiiigAooooAKKKKACiiigAooooAKKKKACiiigAooooAK5vx/8A8iHqn/XA10lc34//AORD1T/rgaip8DAztJ/5BNp/1yX+VWxVTSR/xKbX/rkv8q4Dx94xuLfxNa+HLPUo9KV4vNnumAJAzjAzxX4XQwU8ZiZU4ebfodOyuz0nPFLn5sd68p8M+K7m18XQ6E2urrFpeJ+5m2gPEw9ccUl/461vwpeajoWqZvdRuGzpcgQDfuOFB+ma6nkdb2ns4yTdr9tO+vbqLmX3Hq2aWuB1UeKrTwxp8B1aGC4kYG8vpFUeWPRR0rnLDxHe6L4603T4fE41y1uyVljdFyp9iBSpZNKrCUoTTtfa+tt+lhcy3PYM/l60pI9a8riuvFHifxvr2k2usvYWNg67WRAX5UHGfTrVbQZPGPiW31Gzn10239kyvEJoo13TFc4zx7VqsmahzSqRWivvpfboFz13ijNeSyeMte/4VYb6G4H9pw3S25k2j5/mx0qbUT4w8L6bbeI7rWvtqEr9rtXiUKqtx8uKn+xqm0ppO7S31a+Qcysj0A+ILEeI/wCxSz/bPL83GBjb9a1M9u/tXmTX8LfF1b8Z8o6UJfw5NYKeMbzxHJdX7+LU0cRyMLe1RFI46ZJFb/2LOrbk0slffd+iDmse159KMivHrj4j6tcfD6O6t5FjuReLa3V5GmQqHPz46dq1vCd1qv8AbkBsvEseuabKmZUk2h429gKwnktalSlOo0rX79PwXzByVrnpRORRxgYqtqN4mn6fPdyfdhjLn8BXm2lw+L/GGlP4gt9daxMm5rS1SNSuB0DEjJzXFhsC68HUlNRina7vv22KlpZHoeta3Z+H9Ll1DUnZIIuDtGST6AVD4e8Q2/iOy+1WttdW8ecAXUYQn3GCa8m8V6vqviv4bQ3b3f2eW2vFt7qJFGJHB616r4Usruw8O20Oo3ZvJQgPmbQvB6DAruxOX0sNg7yd53t9xLndo2SQMc9elU9W1W20XS59QvWYQQLucoMnriuL1jUta8R+OJvD2iagdOtrKMPdTooLsT0Az0rN1y38S6f4G8Q2Ovz/AG23jhBtrsgBmGRwQKmjlivDnmvet7t9bN+hV9bHpdjexahYw3dtnyplDqSMcVYHbPc8V5rcTaz/AMIvocFhqcOk2bQKbi7fG4cdBmqHhvxLe2XxBi0Qa/8A27ZzwlwzKMo31FW8nnOE505LS+muy87WJUrWZ6ncW8V3BJb3Kb45AVZfUGq2l6Lp+jW5g0y1S2QnJVB1PrmvJv8AhI9W1rWtUW48UHR7y2ndLazZFCEAnGSRzmtzxT4l1/SfBWmPNOtvcXEipc3kShgi/wB4dqqWU4iCjRU17zV1r69tfkHMtj0vuPelrzjwfc6t/b0K2viKPXNKmiYy+YFDxNx6V399JPDYzSWqLJMikojHg15eLwTw9VU+ZO/y/Makm2WKK898K/EmfxDY6q01pDa3VgSPJJPJq5rHjyTSG0iymt4v7T1IjEZJCRjqSe9bSynEqo6VveX+Vw5kdtR2rzd/irHbaVq0t3ax/atNmWJljJ2Nu6MO/Y1v+F/FNx4gaNwlu9u8IcSwEnB9Dk9aVXKcTRg6k42SFzI3dW/5BF1/1yb+VavgL/kQtI/69lrK1U/8Se6/65N/KtXwF/yIWkf9ey19nwX8NX5EVNzoaKKK/QzMKKKKACiiigAooooAKKKKACiiigAooooAKKKKACiiigAooooAKKKKACiiigAooooAKKKKACiiigAooooAKKKKACiiigAooooAKKKKACiiigAooooAKKKKACiiigAooooAKKKKACiiigAooooAKKKKACub8f8A/Iiap/1wNdJXN+P/APkQ9U/64GoqfAwM7Sj/AMSm1/65L/KuA8a+H7u18bW3iS30r+1rXyvJuLcJuZe4YCu/0r/kEWv/AFyX+VWsetfhVHGSwmJlOKve6fodL1VjzzQbi7vte+0WfhZdPsIY9xklg2yO3otYupeC9c8ZXV94hvkmsL+1J/suB+Cu3kZHuR+teugYpc10xzidKbnSgk9u+n/BJUTx/wATQa/rNroV/q+iXc1vbEi9skU5ZsYDYHUVC2k6hfeKNGvNI8LTadp1tL85MWHOe59q9lIBznp3GKAMcdK3WfTjGyprr3tr5C5NDh/CWj39l458UXdzayRW91KhgdlwHAXHFO8E6Rf6fP4iN7ayQi4vJXh3LjepJwRXcCiuCpmVSopJpe8or/wEu1nc8S1bT9R0b4VXaXVq8Nx/aSvGjjG75+K1tS1LX/GOh23h+LQbq1aXYLmeVCIwo54Nd/4m8PQ+JtKFjcTNCgkWTeqg9DnFacMQghSNeiKFHvivUeb03RjNwTmm36EOJwDeGLr/AIWIhFtJ/Z40sW3n4+XIGK5/SrKbwhDc6XqfhF9TYSMbe5ig3hwemTXsdBAOMjOK5FnM2nGcU1p1a2KcTzl18SW3g2O5j0G1DPOGuNPSEbjF9PWsKw0R9T8aabf+H/D13oiQMXu5JFKK/wDs4/OvY6BgdBj2ohnMoRkowSbv36+XUl07qxU1WzGoaXcWZ6TRlPzFeb6FrGv+DtEbQZvD93d3NtuS2mhQlJBztOa9Toxk5I5rkw2P9jB05xUot317ltXPJ5PBurWnwxNp9mebULm/S6lijGSuTz+Veo2KNHYQJIpVljAI9OKnpaWKzCpiY2kurf3iUUjzrUoNT8J+P7rXrTTZtQsdQjVZxAu5o2HfFVtSl8UeK/DevPJp01tazQhLO0ZP3jnI5xXppAPWkx/9b2rojmllGTppzVtfJbBbW543rWhalb3mg3OqaPdajptvahJbWME7Hx3AqxpmlancfEXStUsvDkmm6ZHGyDMeCD6t7V66Rkc8/hRXT/b1TktyK9muvXyFyHkWti4upb2z8TeEZL+6LsLa5tYThhzt5H4VasNM8S6B4Bsov7PF+BJmeykXzHEfoM9xXqeBxkZxR/KolnUnCMORWvd7/wBL5By63PH9H0KS+8e6ZqWgaBdaJbQFmu2kUosmR0xXsB+78345pMAdBjn0qtqVkdQ0y4tBM8BmjK+bH1XPeuTFY542rBz0S076DjFJtnmE/gq4g+MZurA7NOvU824VejetJ8UvDeqt4q0bxFpNjJfR2jBZoYhkhfpXd+GfDb6BZrFc30l/KoCiWRcECt7HGD3r0KmcTo4iM4tT5Y8vqhKOrOEuYbfU/Ds7r4YkSG6KpLC0O2Rhg5OPb+tYXw48Jah4d8Z3xs/tKaKUGxZwR8x7Yr1ntxxR06CuWOb1I0p0orSXqw5FaxT1X/kD3X/XJv5Vq+Av+RC0j/r2WsrVv+QRdf8AXJv5Vq+Av+RC0j/r2WvruC7ctX5EVDoaKKK/QzMKKKKACiiigAooooAKKKKACiiigAooooAKKKKACiiigAooooAKKKKACiiigAooooAKKKKACiiigAooooAKKKKACiiigAooooAKKKKACiiigAooooAKKKKACiiigAooooAKKKKACiiigAooooAKKKKACub8fn/ig9U/64GukqvdWsF7ayW91EssMi7WRujCpkrqwHFaVf2g0m1zdQ/6ofxj0q39vtP+fqH/AL7FWx8PPCajC6JbgdBgtx+tO/4V54U/6AsH5t/jX59Pg3nk5e238jT2hS+32n/P1D/32KPt9p/z9Q/99irn/CvPCn/QFt/zb/Gj/hXnhT/oC2/5t/jWf+pS/wCf34B7RlP7faf8/UP/AH2KPt9p/wA/UP8A32Kuf8K88Kf9AW3/ADb/ABo/4V54U/6Atv8Am3+NP/Upf8/vwD2jKn2+0/5+of8AvsUfb7P/AJ+of++xVv8A4V54U/6Atv8Am3+NH/CvPCn/AEBbf82/xo/1KX/P78A9oU/t9p/z9Q/99ij7faf8/UP/AH2Kuf8ACvPCn/QFt/zb/Gj/AIV54U/6Atv+bf40f6lr/n9+Ae0Kf2+0/wCfqH/vsUfb7T/n6h/77FXP+FeeFP8AoC2/5t/jR/wrzwp/0Bbf82/xo/1KX/P78A9oyn9vtP8An6h/77FH2+0/5+of++xVz/hXnhT/AKAtv+bf40f8K88Kf9AW3/Nv8aP9Sl/z+/APaMp/b7T/AJ+of++xR9vtP+fqH/vsVc/4V54U/wCgLb/m3+NH/CvPCn/QFt/zb/Gj/Upf8/vwD2jKn2+0/wCfqH/vsUfb7P8A5+of++xVv/hXnhT/AKAtv+bf40f8K88Kf9AW3/Nv8aP9Sl/z+/APaFT7faf8/UP/AH2KT7faf8/UP/fYq5/wrzwp/wBAW3/Nv8aP+FeeFP8AoC2/5t/jS/1KX/P78B+0Kf2+0/5+of8AvsUfb7T/AJ+of++xVz/hXnhT/oC2/wCbf40f8K88Kf8AQFt/zb/Gn/qUv+f34B7RlP7faf8AP1D/AN9ij7faf8/UP/fYq5/wrzwp/wBAW3/Nv8aP+FeeFP8AoC2/5t/jR/qUv+f34C9oyn9vtP8An6h/77FH2+0/5+of+/gq5/wrzwp/0Bbf82/xo/4V54U/6Atv+bf40LgtL/l9+Ae0Kf2+0/5+of8AvsUfb7T/AJ+of++xVz/hXnhT/oC2/wCbf40f8K88Kf8AQFt/zb/Gj/Uu/wDy+/APaFP7faf8/UP/AH2KPt9p/wA/UH/fYq5/wrzwp/0Bbf8ANv8AGj/hXnhT/oCwfm3+NH+pa/5/fgHtDI1a/tP7Iuv9Kh/1Tfxj0rc8Bc+AtI/69lqE/DzwoQR/YsB+pb/GuhtLaGytI7e1jWOGNdqIvRR6V9HkuTf2WpLn5uYmUrk1FFFfRkhRRRQAUUUUAFFFFABRRRQAUUUUAFFFFABRRRQAUUUUAFFFFABRRRQAUUUUAFFFFABRRRQAUUUUAFFFFABRRRQAUUUUAFFFFABRRRQAUUUUAFFFFABRRRQAUUUUAFFFFABRRRQAUUUUAFFFFABRRRQAUUUUAJijFLRQAmKMUtFACYoxS0UAJijFLRQAmKMUtFACYoxS0UAJijFLRQAmKMUtFACYoxS0UAJijFLRQAmKMUtFACYoxS0UAJijFLRQAmKMUtFACYoxS0UAFFFFABRRRQAUUUUAFFFFABRRRQAUUUUAFFFFABRRRQAUUUUAFFFFABRRRQAUUUUAFFFFABRRRQAUUUUAFFFFABRRRQAUUUUAFFFFABRRRQAUUUUAFFFFABRRRQAUUUUAFFFFABRRRQAUUUUAFFFFABRRRQAUUUUAFFFFABRRRQAUUUUAFFFFABRRRQAUUUUAFFFFABRRRQAUUUUAFFFFABRRRQAUUUUAFFFFABRRRQAUUUUAFFFFABRRRQAUUUUAFFFFABRRRQAUUUUAFFFFABRRRQAUUUUAFFFFABRRRQB//9k=)"
      ]
    },
    {
      "cell_type": "code",
      "metadata": {
        "id": "G42WchtUoCSN"
      },
      "source": [
        "#Now to proceed our tree we will use recursion"
      ],
      "execution_count": null,
      "outputs": []
    },
    {
      "cell_type": "markdown",
      "metadata": {
        "id": "ddT9qEQZoNOl"
      },
      "source": [
        "![tree2.JPG](data:image/jpeg;base64,/9j/4AAQSkZJRgABAQEAeAB4AAD/4RD4RXhpZgAATU0AKgAAAAgABAE7AAIAAAAPAAAISodpAAQAAAABAAAIWpydAAEAAAAeAAAQ0uocAAcAAAgMAAAAPgAAAAAc6gAAAAgAAAAAAAAAAAAAAAAAAAAAAAAAAAAAAAAAAAAAAAAAAAAAAAAAAAAAAAAAAAAAAAAAAAAAAAAAAAAAAAAAAAAAAAAAAAAAAAAAAAAAAAAAAAAAAAAAAAAAAAAAAAAAAAAAAAAAAAAAAAAAAAAAAAAAAAAAAAAAAAAAAAAAAAAAAAAAAAAAAAAAAAAAAAAAAAAAAAAAAAAAAAAAAAAAAAAAAAAAAAAAAAAAAAAAAAAAAAAAAAAAAAAAAAAAAAAAAAAAAAAAAAAAAAAAAAAAAAAAAAAAAAAAAAAAAAAAAAAAAAAAAAAAAAAAAAAAAAAAAAAAAAAAAAAAAAAAAAAAAAAAAAAAAAAAAAAAAAAAAAAAAAAAAAAAAAAAAAAAAAAAAAAAAAAAAAAAAAAAAAAAAAAAAAAAAAAAAAAAAAAAAAAAAAAAAAAAAAAAAAAAAAAAAAAAAAAAAAAAAAAAAAAAAAAAAAAAAAAAAAAAAAAAAAAAAAAAAAAAAAAAAAAAAAAAAAAAAAAAAAAAAAAAAAAAAAAAAAAAAAAAAAAAAAAAAAAAAAAAAAAAAAAAAAAAAAAAAAAAAAAAAAAAAAAAAAAAAAAAAAAAAAAAAAAAAAAAAAAAAAAAAAAAAAAAAAAAAAAAAAAAAAAAAAAAAAAAAAAAAAAAAAAAAAAAAAAAAAAAAAAAAAAAAAAAAAAAAAAAAAAAAAAAAAAAAAAAAAAAAAAAAAAAAAAAAAAAAAAAAAAAAAAAAAAAAAAAAAAAAAAAAAAAAAAAAAAAAAAAAAAAAAAAAAAAAAAAAAAAAAAAAAAAAAAAAAAAAAAAAAAAAAAAAAAAAAAAAAAAAAAAAAAAAAAAAAAAAAAAAAAAAAAAAAAAAAAAAAAAAAAAAAAAAAAAAAAAAAAAAAAAAAAAAAAAAAAAAAAAAAAAAAAAAAAAAAAAAAAAAAAAAAAAAAAAAAAAAAAAAAAAAAAAAAAAAAAAAAAAAAAAAAAAAAAAAAAAAAAAAAAAAAAAAAAAAAAAAAAAAAAAAAAAAAAAAAAAAAAAAAAAAAAAAAAAAAAAAAAAAAAAAAAAAAAAAAAAAAAAAAAAAAAAAAAAAAAAAAAAAAAAAAAAAAAAAAAAAAAAAAAAAAAAAAAAAAAAAAAAAAAAAAAAAAAAAAAAAAAAAAAAAAAAAAAAAAAAAAAAAAAAAAAAAAAAAAAAAAAAAAAAAAAAAAAAAAAAAAAAAAAAAAAAAAAAAAAAAAAAAAAAAAAAAAAAAAAAAAAAAAAAAAAAAAAAAAAAAAAAAAAAAAAAAAAAAAAAAAAAAAAAAAAAAAAAAAAAAAAAAAAAAAAAAAAAAAAAAAAAAAAAAAAAAAAAAAAAAAAAAAAAAAAAAAAAAAAAAAAAAAAAAAAAAAAAAAAAAAAAAAAAAAAAAAAAAAAAAAAAAAAAAAAAAAAAAAAAAAAAAAAAAAAAAAAAAAAAAAAAAAAAAAAAAAAAAAAAAAAAAAAAAAAAAAAAAAAAAAAAAAAAAAAAAAAAAAAAAAAAAAAAAAAAAAAAAAAAAAAAAAAAAAAAAAAAAAAAAAAAAAAAAAAAAAAAAAAAAAAAAAAAAAAAAAAAAAAAAAAAAAAAAAAAAAAAAAAAAAAAAAAAAAAAAAAAAAAAAAAAAAAAAAAAAAAAAAAAAAAAAAAAAAAAAAAAAAAAAAAAAAAAAAAAAAAAAAAAAAAAAAAAAAAAAAAAAAAAAAAAAAAAAAAAAAAAAAAAAAAAAAAAAAAAAAAAAAAAAAAAAAAAAAAAAAAAAAAAAAAAAAAAAAAAAAAAAAAAAAAAAAAAAAAAAAAAAAAAAAAAAAAAAAAAAAAAAAAAAAAAAAAAAAAAAAAAAAAAAAAAAAAAAAAAAAAAAAAAAAAAAAAAAAAAAAAAAAAAAAAAAAAAAAAAAAAAAAAAAAAAAAAAAAAAAAAAAAAAAAAAAAAAAAAAAAAAAAAAAAAAAAAAAAAAAAAAAAAAAAAAAAAAAAAAAAAAAAAAAAAAAAAAAAAAAAAAAAAAAAAAAAAAAAAAAAAAAAAAAAAAAAAAAAAAAAAAAAAAAAAAAAAAAAAAAAAAAAAAAAAAAAAAAAAAAAAAAAAAAAAAAAAAAAAAAAAAAAAAAAAAAAAAAAAAAAAAAAAAAAAAAAAAAAAAAAAAAAAAAAAAAAAAAAAAAAAAAAAAAAAAAAAAAAAAAAAAAAAAAAAAAAAAAAAAAAAAAAAAAAAAAAAAAAAAAAAAAAAAAAAAAAAAAAAAAAAAAAAAAAAAAAAAAAAAAAAAAAAAAAAAAAAAAAAAAAAAAAAAAAAAAAAAAAAAAAAAAAAAAAAAAAAAAAAAAAAAAAAAAAAAAAAAAAAAAAAAAAAAAAAAAAAAAAAAAAAAAAAAAAAAAAAAAAAAAAAAAAAAAAAAAAAAAAAAAAAAAAAAAAAAAAAAAAAAAAAAAAAAAAAAAAAAAAAAAAAAAAAAAAAAAAAAAAAAAAAAAAAAAAAAAAAAAAAAAAAAAAAAAAAAAAAAAAAAAAAAAAAAAAAAAAAAAAAAAAAAAAAAAAAAAAAAAAAAAAAAAAAAAAAAAAAAAAAAAAAAAAAAAAAAAAAAAAAAAAAAAAAAAAAAAAAAAAAAAAAAAAAAAAAAAAAAAAAAAAAAAAAAAAAAAAAAAAAAAAAAAAAAAAAAAAAAAAAAAAAAAAAAAAAAAAAAAAAAAAAAAAAAAAAAAAAAAAAAAAAAAAAAAAAAAAAAAAAAAAAAAAAAAAAAAFZpamF5IFJhaiBPamhhAAAABZADAAIAAAAUAAAQqJAEAAIAAAAUAAAQvJKRAAIAAAADMjUAAJKSAAIAAAADMjUAAOocAAcAAAgMAAAInAAAAAAc6gAAAAgAAAAAAAAAAAAAAAAAAAAAAAAAAAAAAAAAAAAAAAAAAAAAAAAAAAAAAAAAAAAAAAAAAAAAAAAAAAAAAAAAAAAAAAAAAAAAAAAAAAAAAAAAAAAAAAAAAAAAAAAAAAAAAAAAAAAAAAAAAAAAAAAAAAAAAAAAAAAAAAAAAAAAAAAAAAAAAAAAAAAAAAAAAAAAAAAAAAAAAAAAAAAAAAAAAAAAAAAAAAAAAAAAAAAAAAAAAAAAAAAAAAAAAAAAAAAAAAAAAAAAAAAAAAAAAAAAAAAAAAAAAAAAAAAAAAAAAAAAAAAAAAAAAAAAAAAAAAAAAAAAAAAAAAAAAAAAAAAAAAAAAAAAAAAAAAAAAAAAAAAAAAAAAAAAAAAAAAAAAAAAAAAAAAAAAAAAAAAAAAAAAAAAAAAAAAAAAAAAAAAAAAAAAAAAAAAAAAAAAAAAAAAAAAAAAAAAAAAAAAAAAAAAAAAAAAAAAAAAAAAAAAAAAAAAAAAAAAAAAAAAAAAAAAAAAAAAAAAAAAAAAAAAAAAAAAAAAAAAAAAAAAAAAAAAAAAAAAAAAAAAAAAAAAAAAAAAAAAAAAAAAAAAAAAAAAAAAAAAAAAAAAAAAAAAAAAAAAAAAAAAAAAAAAAAAAAAAAAAAAAAAAAAAAAAAAAAAAAAAAAAAAAAAAAAAAAAAAAAAAAAAAAAAAAAAAAAAAAAAAAAAAAAAAAAAAAAAAAAAAAAAAAAAAAAAAAAAAAAAAAAAAAAAAAAAAAAAAAAAAAAAAAAAAAAAAAAAAAAAAAAAAAAAAAAAAAAAAAAAAAAAAAAAAAAAAAAAAAAAAAAAAAAAAAAAAAAAAAAAAAAAAAAAAAAAAAAAAAAAAAAAAAAAAAAAAAAAAAAAAAAAAAAAAAAAAAAAAAAAAAAAAAAAAAAAAAAAAAAAAAAAAAAAAAAAAAAAAAAAAAAAAAAAAAAAAAAAAAAAAAAAAAAAAAAAAAAAAAAAAAAAAAAAAAAAAAAAAAAAAAAAAAAAAAAAAAAAAAAAAAAAAAAAAAAAAAAAAAAAAAAAAAAAAAAAAAAAAAAAAAAAAAAAAAAAAAAAAAAAAAAAAAAAAAAAAAAAAAAAAAAAAAAAAAAAAAAAAAAAAAAAAAAAAAAAAAAAAAAAAAAAAAAAAAAAAAAAAAAAAAAAAAAAAAAAAAAAAAAAAAAAAAAAAAAAAAAAAAAAAAAAAAAAAAAAAAAAAAAAAAAAAAAAAAAAAAAAAAAAAAAAAAAAAAAAAAAAAAAAAAAAAAAAAAAAAAAAAAAAAAAAAAAAAAAAAAAAAAAAAAAAAAAAAAAAAAAAAAAAAAAAAAAAAAAAAAAAAAAAAAAAAAAAAAAAAAAAAAAAAAAAAAAAAAAAAAAAAAAAAAAAAAAAAAAAAAAAAAAAAAAAAAAAAAAAAAAAAAAAAAAAAAAAAAAAAAAAAAAAAAAAAAAAAAAAAAAAAAAAAAAAAAAAAAAAAAAAAAAAAAAAAAAAAAAAAAAAAAAAAAAAAAAAAAAAAAAAAAAAAAAAAAAAAAAAAAAAAAAAAAAAAAAAAAAAAAAAAAAAAAAAAAAAAAAAAAAAAAAAAAAAAAAAAAAAAAAAAAAAAAAAAAAAAAAAAAAAAAAAAAAAAAAAAAAAAAAAAAAAAAAAAAAAAAAAAAAAAAAAAAAAAAAAAAAAAAAAAAAAAAAAAAAAAAAAAAAAAAAAAAAAAAAAAAAAAAAAAAAAAAAAAAAAAAAAAAAAAAAAAAAAAAAAAAAAAAAAAAAAAAAAAAAAAAAAAAAAAAAAAAAAAAAAAAAAAAAAAAAAAAAAAAAAAAAAAAAAAAAAAAAAAAAAAAAAAAAAAAAAAAAAAAAAAAAAAAAAAAAAAAAAAAAAAAAAAAAAAAAAAAAAAAAAAAAAAAAAAAAAAAAAAAAAAAAAAAAAAAAAAAAAAAAAAAAAAAAAAAAAAAAAAAAAAAAAAAAAAAAAAAAAAAAAAAAAAAAAAAAAAAAAAAAAAAAAAAAAAAAAAAAAAAAAAAAAAAAAAAAAAAAAAAAAAAAAAAAAAAAAAAAAAAAAAAAAAAAAAAAAAAAAAAAAAAAAAAAAAAAAAAAAAAAAAAAAAAAAAAAAAAAAAAAAAAAAAAAAAAAAAAAAAAAAAAAAAAAAAAAAAAAAAAAAAAAAAAAAAAAAAAAAAAAAAAAAAAAAAAAAAAAAAAAAAAAAAAAAAAAAAAAAAAAAAAAAAAAAAAAAAAAAAAAAAAAAAAAAAAAAAAAAAAAAAAAAAAAAAAAAAAAAAAAAAAAAAAAAAAAAAAAAAAAAAAAAAAAAAAAAAAAAAAAAAAAAAAAAAAAAAAAAAAAAAAAAAAAAAAAAAAAAAAAAAAAAAAAAAAAAAAAAAAAAAAAAAAAAAAAAAAAAAAAAAAAAAAAAAAAAAAAAAAAAAAAAAAAAAAAAAAAAAAAAAAAAAAAAAAAAAAAAAAAAAAAAAAAAAAAAAAAAAAAAAAAAAAAAAAAAAAAAAAAAAAAAAAAAAAAAAAAAAAAAAAAAAAAAAAAAAAAAAAAAAAAAAAAAAAAAAAAAAAAAAAAAAAAAAAAAAAAAAAAAAAAAAAAAAAAAAAAAAAAAAAAAAAAAAAAAAAAAAAAAAAAAAAAAAAAAAAAAAAAAAAAAAAAAAAAAAAAAAAAAAAAAAAAAAAAAAAAAAAAAAAAAAAAAAAAAAAAAAAAAAAAAAAAAAAAAAAAAAAAAAAAAAAAAAAAAAAAAAAAAAAAAAAAAAAAADIwMjE6MDY6MjkgMjI6MjE6MDIAMjAyMTowNjoyOSAyMjoyMTowMgAAAFYAaQBqAGEAeQAgAFIAYQBqACAATwBqAGgAYQAAAP/hCyFodHRwOi8vbnMuYWRvYmUuY29tL3hhcC8xLjAvADw/eHBhY2tldCBiZWdpbj0n77u/JyBpZD0nVzVNME1wQ2VoaUh6cmVTek5UY3prYzlkJz8+DQo8eDp4bXBtZXRhIHhtbG5zOng9ImFkb2JlOm5zOm1ldGEvIj48cmRmOlJERiB4bWxuczpyZGY9Imh0dHA6Ly93d3cudzMub3JnLzE5OTkvMDIvMjItcmRmLXN5bnRheC1ucyMiPjxyZGY6RGVzY3JpcHRpb24gcmRmOmFib3V0PSJ1dWlkOmZhZjViZGQ1LWJhM2QtMTFkYS1hZDMxLWQzM2Q3NTE4MmYxYiIgeG1sbnM6ZGM9Imh0dHA6Ly9wdXJsLm9yZy9kYy9lbGVtZW50cy8xLjEvIi8+PHJkZjpEZXNjcmlwdGlvbiByZGY6YWJvdXQ9InV1aWQ6ZmFmNWJkZDUtYmEzZC0xMWRhLWFkMzEtZDMzZDc1MTgyZjFiIiB4bWxuczp4bXA9Imh0dHA6Ly9ucy5hZG9iZS5jb20veGFwLzEuMC8iPjx4bXA6Q3JlYXRlRGF0ZT4yMDIxLTA2LTI5VDIyOjIxOjAyLjI0NzwveG1wOkNyZWF0ZURhdGU+PC9yZGY6RGVzY3JpcHRpb24+PHJkZjpEZXNjcmlwdGlvbiByZGY6YWJvdXQ9InV1aWQ6ZmFmNWJkZDUtYmEzZC0xMWRhLWFkMzEtZDMzZDc1MTgyZjFiIiB4bWxuczpkYz0iaHR0cDovL3B1cmwub3JnL2RjL2VsZW1lbnRzLzEuMS8iPjxkYzpjcmVhdG9yPjxyZGY6U2VxIHhtbG5zOnJkZj0iaHR0cDovL3d3dy53My5vcmcvMTk5OS8wMi8yMi1yZGYtc3ludGF4LW5zIyI+PHJkZjpsaT5WaWpheSBSYWogT2poYTwvcmRmOmxpPjwvcmRmOlNlcT4NCgkJCTwvZGM6Y3JlYXRvcj48L3JkZjpEZXNjcmlwdGlvbj48L3JkZjpSREY+PC94OnhtcG1ldGE+DQogICAgICAgICAgICAgICAgICAgICAgICAgICAgICAgICAgICAgICAgICAgICAgICAgICAgICAgICAgICAgICAgICAgICAgICAgICAgICAgICAgICAgICAgICAgICAgICAgICAgCiAgICAgICAgICAgICAgICAgICAgICAgICAgICAgICAgICAgICAgICAgICAgICAgICAgICAgICAgICAgICAgICAgICAgICAgICAgICAgICAgICAgICAgICAgICAgICAgICAgICAKICAgICAgICAgICAgICAgICAgICAgICAgICAgICAgICAgICAgICAgICAgICAgICAgICAgICAgICAgICAgICAgICAgICAgICAgICAgICAgICAgICAgICAgICAgICAgICAgICAgIAogICAgICAgICAgICAgICAgICAgICAgICAgICAgICAgICAgICAgICAgICAgICAgICAgICAgICAgICAgICAgICAgICAgICAgICAgICAgICAgICAgICAgICAgICAgICAgICAgICAgCiAgICAgICAgICAgICAgICAgICAgICAgICAgICAgICAgICAgICAgICAgICAgICAgICAgICAgICAgICAgICAgICAgICAgICAgICAgICAgICAgICAgICAgICAgICAgICAgICAgICAKICAgICAgICAgICAgICAgICAgICAgICAgICAgICAgICAgICAgICAgICAgICAgICAgICAgICAgICAgICAgICAgICAgICAgICAgICAgICAgICAgICAgICAgICAgICAgICAgICAgIAogICAgICAgICAgICAgICAgICAgICAgICAgICAgICAgICAgICAgICAgICAgICAgICAgICAgICAgICAgICAgICAgICAgICAgICAgICAgICAgICAgICAgICAgICAgICAgICAgICAgCiAgICAgICAgICAgICAgICAgICAgICAgICAgICAgICAgICAgICAgICAgICAgICAgICAgICAgICAgICAgICAgICAgICAgICAgICAgICAgICAgICAgICAgICAgICAgICAgICAgICAKICAgICAgICAgICAgICAgICAgICAgICAgICAgICAgICAgICAgICAgICAgICAgICAgICAgICAgICAgICAgICAgICAgICAgICAgICAgICAgICAgICAgICAgICAgICAgICAgICAgIAogICAgICAgICAgICAgICAgICAgICAgICAgICAgICAgICAgICAgICAgICAgICAgICAgICAgICAgICAgICAgICAgICAgICAgICAgICAgICAgICAgICAgICAgICAgICAgICAgICAgCiAgICAgICAgICAgICAgICAgICAgICAgICAgICAgICAgICAgICAgICAgICAgICAgICAgICAgICAgICAgICAgICAgICAgICAgICAgICAgICAgICAgICAgICAgICAgICAgICAgICAKICAgICAgICAgICAgICAgICAgICAgICAgICAgICAgICAgICAgICAgICAgICAgICAgICAgICAgICAgICAgICAgICAgICAgICAgICAgICAgICAgICAgICAgICAgICAgICAgICAgIAogICAgICAgICAgICAgICAgICAgICAgICAgICAgICAgICAgICAgICAgICAgICAgICAgICAgICAgICAgICAgICAgICAgICAgICAgICAgICAgICAgICAgICAgICAgICAgICAgICAgCiAgICAgICAgICAgICAgICAgICAgICAgICAgICAgICAgICAgICAgICAgICAgICAgICAgICAgICAgICAgICAgICAgICAgICAgICAgICAgICAgICAgICAgICAgICAgICAgICAgICAKICAgICAgICAgICAgICAgICAgICAgICAgICAgICAgICAgICAgICAgICAgICAgICAgICAgICAgICAgICAgICAgICAgICAgICAgICAgICAgICAgICAgICAgICAgICAgICAgICAgIAogICAgICAgICAgICAgICAgICAgICAgICAgICAgICAgICAgICAgICAgICAgICAgICAgICAgICAgICAgICAgICAgICAgICAgICAgICAgICAgICAgICAgICAgICAgICAgICAgICAgCiAgICAgICAgICAgICAgICAgICAgICAgICAgICAgICAgICAgICAgICAgICAgICAgICAgICAgICAgICAgICAgICAgICAgICAgICAgICAgICAgICAgICAgICAgICAgICAgICAgICAKICAgICAgICAgICAgICAgICAgICAgICAgICAgICAgICAgICAgICAgICAgICAgICAgICAgICAgICAgICAgICAgICAgICAgICAgICAgICAgICAgICAgICAgICAgICAgICAgICAgIAogICAgICAgICAgICAgICAgICAgICAgICAgICAgICAgICAgICAgICAgICAgICAgICAgICAgICAgICAgICAgICAgICAgICAgICAgICAgICAgICAgICAgICAgICAgICAgICAgICAgCiAgICAgICAgICAgICAgICAgICAgICAgICAgICAgICAgICAgICAgICAgICAgICAgICAgICAgICAgICAgICAgICAgICAgICAgICAgICAgICAgICAgICAgICAgICAgICAgICAgICAKICAgICAgICAgICAgICAgICAgICAgICAgICAgIDw/eHBhY2tldCBlbmQ9J3cnPz7/2wBDAAcFBQYFBAcGBQYIBwcIChELCgkJChUPEAwRGBUaGRgVGBcbHichGx0lHRcYIi4iJSgpKywrGiAvMy8qMicqKyr/2wBDAQcICAoJChQLCxQqHBgcKioqKioqKioqKioqKioqKioqKioqKioqKioqKioqKioqKioqKioqKioqKioqKioqKir/wAARCAEkA2UDASIAAhEBAxEB/8QAHwAAAQUBAQEBAQEAAAAAAAAAAAECAwQFBgcICQoL/8QAtRAAAgEDAwIEAwUFBAQAAAF9AQIDAAQRBRIhMUEGE1FhByJxFDKBkaEII0KxwRVS0fAkM2JyggkKFhcYGRolJicoKSo0NTY3ODk6Q0RFRkdISUpTVFVWV1hZWmNkZWZnaGlqc3R1dnd4eXqDhIWGh4iJipKTlJWWl5iZmqKjpKWmp6ipqrKztLW2t7i5usLDxMXGx8jJytLT1NXW19jZ2uHi4+Tl5ufo6erx8vP09fb3+Pn6/8QAHwEAAwEBAQEBAQEBAQAAAAAAAAECAwQFBgcICQoL/8QAtREAAgECBAQDBAcFBAQAAQJ3AAECAxEEBSExBhJBUQdhcRMiMoEIFEKRobHBCSMzUvAVYnLRChYkNOEl8RcYGRomJygpKjU2Nzg5OkNERUZHSElKU1RVVldYWVpjZGVmZ2hpanN0dXZ3eHl6goOEhYaHiImKkpOUlZaXmJmaoqOkpaanqKmqsrO0tba3uLm6wsPExcbHyMnK0tPU1dbX2Nna4uPk5ebn6Onq8vP09fb3+Pn6/9oADAMBAAIRAxEAPwD6RooooAKKKKACiiigAooooAKKKKACiiigAooooAKKKKACiiigAooooAKKKKACiiigAooooAKKKKACiiigAooooAKKKKACiiigAooooAKKKKACiiigAooooAKKKKACiiigAooooAKKKKACiiigAooooAKKKKACiiigAooooAKKKKACiiigAooooAKKKKACiiigAooooAKKKKACiiigAooooAKKKKACiiigAooooAKKKKACiiigAooooAKKKKACiiigAooooAKKKKACiiigAooooAKKKKACiiigAooooAKKKKACiiigAooooAKKKKACiiigAooooAKKKKACiiigAooooAKKKKACiiigAooooAKKKKACiiigAooooAKKKKACiiigAooooAKKKKACiiigAooooAKKKKACiiigAooooAKKKKACiiigAooooAKKKKACiiigAooooAKKKKACiiigAooooAKKKKACiiigAooooAKKKKACiiigAooooAKKKKACiiigAooooAKKKKACiiigAooooAKKKKACiiigAooooAKKKKACiiigAooooAKKKKACiiigAooooAKKKKACiiigAooooAKKKKACiiigAooooAKKKKACiiopLiGH/XSpHnpuYCgCWiq39oWf/P1D/wB/BUyOsihkYMD3ByKAH0UUUAFFFFABRRRQAUUUUAFFFFABRRRQAUUUhIHXgUALRVc39oCQbmHI7eYKVL22kYKlxEzHsHBNAE9FAooAKKKKACiiigAooooAKKKKACiiigAooooAKKKjknihXM0iRj1ZsUASUVW/tGz/AOfuH/v4KlinimXMUiyD1Vs0ASUUUUAFFFFABRRRQAUUUUAFFFFABRRRQAUUUUAFFFFABRRRQAUUUUAFFFFABRRRQAUUUUAFFFczq+o3upau2haHMIXRA95d4ybdT90KO7Hn6UAaWpeItM0pvLvLpFmI+WFfmkf6KOTWbF4l1XUM/wBl+HLwJ2kvWWAH6A5P6VPDpmjeGLc3cqgy5Ae6m+eWRj/tHnn0HFXtO1qy1NpEtZD5kWN8bqVZc9ODQBlPJ41f/Vw6LED2eWViPyUULJ41QfvItEk/3ZJVz+YNbt3fW9jbyTXEiqkaM7eu0DJOKbp+oW+p6fBe2cgeC4QSRt03Ke9AGJN4k1fT8HUvDl0695LF1nA/4Dw36VoaZ4k0zVW8u1uVE4+9BJ8ki/VTyKtalqVrpWnT317KI7eBC8j9do9aqX+h6ZrcazTQr520GO5i+WRO4IYc0Aa9FcvpWoXukasuia1KZ1lBNneN1lx1VvcfrXUUAFFFFABRRRQAUUUUAFFFFABRRRQAUUUUAFFFFABRRRQAUUUUAFFFFABRRRQAUUUUAFFFFABRRRQAUUUUAFFFFABRRRQAUUUUAZNxPc3+oPZ2MvkRwkefKBluf4V9OO9V0g0GKd5ZZIp51H7x5n3senXP1H5ii5uYvD2oTXN2dlleSLmXP+rk6c+x9ajt/DGiXDR3Vod6no0UxKsBtwODggbRQBLBf+H7sOFW1XaxTDoozgZ49sfyqG0j02e5uYdCumtriI5YRtlCfcHgigeCNHzIXjkYyYLFpSckZ2n6jJP40Rabo3hzUJbyKR0ubgEtErlmmOc8J3OT29aANXTbyW5SSO5QJcQNskUHg+hHsavVm6VBLvuLy6jEU10wYxg52qBhQffHWtKgAooooAKKKKACigUUAFFFFABRRRQBXv7tbGyluHVmCLnavVj2FZbWhuYBJr9zgSni3V9iKD0B9TWjqltJd6fJHbsElxmNmHAYcjNZSXOn65Mtvdt5F/bZElszAMM4zgd1OBg0APFz4es2itkFqWbaFVVDH5mVR+rr+dN1M+HRYPNera+Uql8pgMdoycYwenNRL4J0tZhKPOyMcGTjAMZA+n7pf1pLvwTpV7ayw3QlcTKBKd+C+1Qqk+4AoAsyfaNNjW7sZpLu0X/WQO2SB0yp9vStpGDoGU5BGQfWsF5UjsV0bR3+1SAGMknKwr33EdOOAOtbkESw28cSfdRQo+gGKAJKKKKACiiigAooooAKKKKACiiigAooooAyLu6urzUGsNOcQ+UFaecrnaD/AAr74pF0jS/PEtyRdTr8pe4k3Ee2OlMa6/sjVphe7Y7S6IaOc/dRsYKueg9vyqqvg6zErSxXdwC4K53A/KWdscj/AGzz14FAF+CXRLmWSKFLNjGFJwi4+bIGD0P3T+VQtp2jre/6M/2W5kB+a3fbnBHHp3FUZvAljcTSO9zcfvIDAQrADYd3HTr83Xrx9amh8IWlrdW10t3cLJagBWLDBUdj68UAXrK7uba+Gn6i3mM6loZ1XG8DqD7itasWO6Oq6zE9oA1pa53TY4dzxhT0IHc1tUAFFFFABRRRQAUUUUAFFFFABRRRQAUUUUAFFFFABRRRQAUUUUAFFFFABRRRQAUUUUAFcv4VaMarr8MuPti3xab1KlQUP024H4V1Fc9rmjXn29NY0Bkj1GNdkkcnCXMf91j2Poe1ADfFtjdXS6bc2kTXH2K8SeSBesijI4+mc/hXP69p+rX+rtrOn2dxCsfkp5QIV5VD5Y4z6cVu6T440nULuSwupVsNShbZLa3DAHd/snow+ldICG6UAeO2eheIJrhLi/sbx1FvfxqrPkqXP7vIz6VJ4a0Txba6JbWdzFcQ38MlubSfcPLhgCrvjYZ68N+JFewY9qTigDx7UNE8VX/hK5t5La6+3Ppk8N6HcMtzMSAjJz9T244rufA0d9Fps0eq2csF2j4eRz8swwMMozx6YrpyVHJrn9X8Yafpu+K0EmpXqg4tLJfMf8cfd/GgBnixojcaNEMfamvlMPrwDu/SulFcX4Slj12+bWdRuUbUQuwWOcGzX02nkMe5rtKACiiigAooooAKKKKACiiigAooooAKKKKACiiigAooooAKKKKACiiigAooooAKKKKACiiigAooooAKKKKACiiigAooooAKzr7VPIn+yWcf2m9ZdwiDYCj1Y9hTdTvJhKljp2DdzDO4jKxL3Y/09TVK81Gy8KxKsqSSGY7nlJBZ24GSaALtrpX74XOpSfa7kHcpb7kXsi9B9evvTn0TTy7vHAbd5G3SNbO0Jc+rFCMn61zsvxGsYpNv2O4bIyCCvPBPr6Cui0vVk1QS+XE8fltht/8An0wfoRQBStNKhkv76OSe+KxSqqD7dNwNin+/6mols7fw7rDXIiX7LeELJO/LxP0GWPzEH3PB+tadh/yE9S/67J/6LSrk0KXELxSruRwQwPcUASA5HFFY9lcPpt2um3jlkb/j2mY/fH9w+4/WtigAooooAKKKKAAUUCigAooooAKZLIsUZeRgqqMkk4xTmOBWGq/25NJPcgnTYGxFEV/1zL1c+q56DvjNADhdXWtgf2ezW1ieTdDG6UeiA9B/tH8PWrX9haYYRFJZRSAP5gaRdzb/AO9uPO73zms8+MNOVAQJTkZAVMnoTj9KdJ4tsYiN8c4GQN2zjJ7fnx9SKAGa9Ypp3h3ULqzuLyOaG3d0b7XK2CBxwWIqzeeHobqzkjS5vEkZcKzXcrqD7qWww9iOaPFDbvB2qNyM2jnB7fKa2OwoAzNDkiW1NottFZzWx2yQRoFUf7SgfwnqK1KzNTspSy32nhVvIRjkf6xO6H+nvVnT76O/tVmiyvZkYYZD3BHrQBaooooAKKKKACiiigAooooAKKKKACqN/qcVjsjIaW4lyIoIxlnP9B7ngU3Vb97OFEt133U7+XAh6Fj3PsByfpVe2W00gs9/dK15KoaWVzgnHoOygnpQAwaRNqoL+ICJInA/0BTmJfZv+en48e3epv7Chij2adc3VhxgCCXKqPQI25R+AqQa9pbKSt7CQoycNVi3v7W6YrbzpIw5IU5x/nIoAwxp2sHVmtf+ElvPKEIkB+zQbvvY6+Xj9Kj1LTTZzxXOp3V3qVgV2XKTyAIn+2UUKrDsQR71tL/yMT/9eo/9CNXnRXQq4DKRgg96AI4UjSFFgVVjCgKEAAA7YxUtYdtI2iXyWU5Jspji2kPSM/8APMn+VblABRRRQAUUUUAFFFFABRRRQAUUUUAFFFFABRRRQAUUUUAFFFFABRRRQAUUUUAFFFZGt67DpCIoRri7mO2C2j+85/w96ALmo6jaaVZvdX8ywwoMszVzgfWPFjAwvNo2kBgQ68T3a+3/ADzX3+99KsWHh+e+u49T8TstxdId0Fuv+qt/oP4j7mulAAFAGOnhPQ0082P9l2725O5lkQMWb+8Sckn3JzVWTwfDGuNJ1LUtM9BBcsyj/gL7h+ldHRQBxl/pHijTdNubqHxhLN9nheQLPYRHdgE4JXHpUekad4p1jRbS+m8WvAbiFZCkFhF8uR2LZrp9f/5FvUv+vSX/ANANVvCH/In6V/16x/8AoIoAqReDopExq2q6nqeeomuSi/8AfMe0fnWvp+kWGkw+VptnDbITkiJAMn1PrV2igDH1LwzpupzfaZImgvAMLd2zGOVf+BDr9DkVli+17w3tXVUbWNPUHdfQqFmiH+3GPvfVfyrrKQ0AU9N1Wy1e0S50+dZom6EdR7EdRV3Nc/qHhaGW8fUdJmbTtSYfNNF92T03r0b69feoLDxHcWd5HpviaJbW5fiO4T/Uzn0U9j7GgDp6KQEHpS0AFFFFABRRRQAUUUUAFFFFABRRRQAUUUUAFFFFABRRRQAUUUUAFFFFABRRRQAUUUUAFFFFABRWfd6vBb3LWsavc3apv+zwjLY7ZPRc+5FRxTaxcR7vs1vZk9Fkcyn8QMfzNAGpWfrGsWejWgnvpkj8xxHCjMAZZCDtRfc44qBrXXWORqVqnstqf6tWbqPhi61fULG61eSzvRp8nnW8TwMFWTs/3vvDtxxmgDY0mye3gM92Aby4+edgc4PZQfRc4H51ckt4pv8AXRJJxj51BrOOp3trMVv9NYQgZE9u/mAfVcBh+ANX7S7t762S4tJVlicfK6nrQAz+zrLj/Q4OP+mQ/wAKkgt4rZWWBAisSxx3NTUUAYOi6xZX/iLXbK1m33FnPGJ02kbCY1x/I1vVRtNKtbLUL69t4ws99Isk7D+IqoUfoKvUAVb2yjv7ZoZgR3V14ZD2IPY1RsNXRL8aRqM0aagq7kQsMzIP4wP5+hrYrI1Hw3p+p6tY6nPDtvrFswXKHDqp6rnupBORQBr0UUUAFFFFAAKKKiurmG0t3nupFiijG5nc4AFAEtFY7azcTlP7L02W5RhkTSsIUx+Pzf8AjtWA+qMoJitkPp5hb9cCgCrq9/FcXkeh284+13IzKqN80cIxuY9xkHaPc+1asUEcMCQxIEjRQqqOgA4xXKQ6HPpXiy/8SHSkvb29VInkjuPnjjUABVVgBjIyeetdDa6va3V0bXLRXSrvMEq7XA9R6j3GRQBIdMsywY20ZYDglRmmy6VaShQ0QAVg2AMZxyM/jzV2igDD8ZXENn4K1aW5lSKMWrgu7AAEjA5+pAraRgyBlIIIyCO9Zfinw/a+KvC99ol+D5F5HsYjscgg/gQDWpGoSNVUYCjAAoAU1kX0EmnXLajZoWQ/8fMKj74/vAf3h+tbFIRn6UAQ2l5b3tuJrWZJUPdGBwfT61PWB4d8K2vhi4vhpbulndyecLUnKxOfvFT6Hg49c1vigAooooAKKKKACiiigAoqjfazYabIkd5cqksn3IgCzv8ARRkn8qzNc1eSTw5qA0qK7+2PbSLbn7NIP3hU7T045xQBZsV+3a3dX5ctHCTbQAHK8YLsPfd8v/AKn1DRLPVJQ92rMVUoNrY4NZfgv7Dp3h+10WHU3vruzjxO1wCszsSSXZWwRkk9q6XNAGJD4U023VViWQBDkfP+P9KtabpEOmyTNCBukKjOOQoGAP0rRooAz1/5GJ/+vUf+hGtCueGh3f8AwsJtb+2TfY/7PFuLXednmbyd+PXHFdDQBXu7SK9t2guF3I3t09x71Q025ktbgaXfuWlUfuZmP+vT/wCKHcVr1keJNHm1vRJrWzvHsLzGbe8jUFoH/vD8Mj6E0Aa9FZnh5dRTQLKPW8HUI4hHcOpyJHXguPZsZH1rToAKKKKACiijNABRRmjI9aACiijNABRRketGaACijNGaACijNGaACijNGaACijNAOaACiio55kt4XlmYJGilmY9ABQBmeIdaXR7NTGnn3c7eXbQDrI/YfT1NVtB0FrLOoao5udTmGZJWORGD/AvoBVXw5HLrt8/iO+BETjZp8Lj/AFcXd/q2M+wrqGGVI9qAMz/hJNI80RC/h3sSFXd1IGTj14pR4j0g+VjUID5oVk+cfMGOFP0J4rjm+HN8usW17b38McdrK8kdsUJTLqVJHOR16dKji+Gl5HZJCb6Autpa24byz1hn8zPXv0oA7ca/pZuntxfQmZC4ZA3IK8sPqKms9Us9QVWs51lDp5ilTwV9a4u08Bz6d4iGsT3UckSX95ePEkRLMsyBdvXqMVt+DdJ/s6ylceYsMjn7NFKm1oos5C4+pNAGrr3/ACLepf8AXpL/AOgGqXhi4itvBGmS3EixxraRlmY4A4FXde/5FvUv+vSX/wBANc9Foj+IfhdY6fFcG2ke3gdJQM7WUqwyO4yOlAG8viDS28vbeR5ll8lBnkvjO3645px1zTRKsbXkSs2cAtjp/wDqrAm8GSXdvqMstxHFfXdxHcxSRJ8sEiIFUgfgc/WopPAgfUp5y8MqyRrsaVCWicKQSO3Oc0Ab6+JtHZN66jAyZxuDgipf7d0vz5YTfQeZChkkXePlUdT9BXIaF4AvtFW1H2u1nCWv2aaOSElWG4sGHPB5pf8AhAbt/EVzqNzdW08U9tPa+QYSoKSFTzg9ttAHUW3iXSrzU47C1ullnkiMqqoP3QcZz9au32n2upWrQXsCTRt2YfqPSuV8OeDbzRPEC6hLepPH9ne3EZU7o037lAbPOM45rtO1AHJWdzceF9UTTdSlebTrhsWly5yY2/55sf5GuszxVLVtMt9X06W0u03RuOD3U9iPcGszwzqM7rPpGpSFr/TyEdj/AMtU/hf8RQBdbxFpKvKhv4N0LbXAcfKc4x9c8YqvN4n0+G8t1N3ai2nhM3mtMBwCAMDuOetYMPge+g06/t4ru3D3WsNqAcxZ/ds+4xnng+4rI1H4V3l7p+m2w1CBfsVpLbFjGfn3SBgevYLj8aAPSLK/tdQjMlnMkyKxQlTnBHUVZrB8L6DNoSX6zSpILq7a4XYuNoIAx+lb1ABRRRQAUUUUAFFFFABRRRQAUUUUAFFFFABRRRQAUUUUAFFFFABRRRQAUyXd5T7PvYOPrT6QigDn7NZB4ZifRjvuTtaUuRvZ8jeGz/F1Bz0qCCXxO0QNwiK+clVRQB7feORnvxx2Fat3pKySPPZ3EllcOctJFyrn/aU8Hp16+9UE1HWWu3gsoLbUI4RiWfeYvm/ugc5P40AZltf+Mbq1aaO3g2tGWhHljdvweGBYYG7GCPx9avLN4lF0xe3zDGxA/wBX+8G5ff8AuhvTkj8LcmsalbxqZtElG5go23EZGT+NSG+1uV8Q6QkQ/vT3K4/8dzQBSsJfErXluL+FEhYjzcKp24RCf4u7FxkZ6Dj1uwCNPE0wtCcNDmdV+6HzwT/tY/SqNxJqZ1FYNXuhZWkhHlvarkOccqzt93n259a3bS0gs4fLtkCqTknJJY+pJ5J9zQBZooooAgjmeSTDW8kYxnc2329CfX9DU9FFABRRRQBDJK8bqqwSShurKVwvI9T75/A/i+MlkVmRkJAO1sZX2OKfRQAUUUUAJ2rHMYvfE0qXaEx2cKPCpPyszFtzY6EjaMemT61s9qoX+nfa2SaGZre6j/1cyjOPUEdCDjpQByy+I/EdprFxayaTJc2/nsIp/KcYXIAHAwep5qceIfEDTYl0jEeRjylfceV45GOjH8q1ZNXvdOmSPU7NXSRgkctu4beT22Hn+f1qZtdiRsNZX4P/AF6uf6UAZQ1fWjl44FAZ+GmhdURcd+45PXtzV5Q2s+G1utRgFtMU82PY2GiOMghvX3HanS6yl15lmum3E7yREmCaLYJFPBHzcEev1pYtOvL6OJdT8u3tlH/Hlbk4PoGbjgeg49yOKAL2lXEt3pNpcXCeXLLCruvoSMmrlIoxwBiloAinnW3QM4cjP8CFu3tToZRNGHUMAezAg/kafRQAUUUUAFV1ukeTywsgYHHMbAd+/px/L1qxRQACiiigAooooAKy9YuLgyW1jZlo5LtiGmXH7pQMkjPf0rUrM1i1uHa3vLHLT2rFhFkASAjBXP0oAq/a9F8P3Mdi7iG4mAYFlLNKTnktjk/KadL4q0q3mWC4uPKlfIQFGwTuKgZx94lSAOpxSpNo+tPHLcxRNcQthUnQB42BB6HnqBUlx4a0i7YNcWSOQdwJJ4OScjng5YnPqaAKlhqOleLLEF4Dv5PlyKQ8eCRuB7exH8xV3SWuIZbiwupTObcr5crfeZCOAx7sMHnvxVOKDR/Ds01xGyiRwsSRoNzKuSQgA5OWZjz61e0uG5aSe9vUEUlwQFiBzsRc4z7nOTQBpUUUUAHFFQi2QSb/AJt2c/fOPyqagAooooAOlGaRhuUj19Kigtkgxs38DHzOzfzPtQBNRRRQAGuauIFvfGE8U7ymOOyjZUWZkAJZsngjngV0lYM0Nzb+KJrtbaSWGS1SMMgz8wZiePxrKqm4PlGtzgb/AMeWFguq7tMZn07UY7Hy/wC0ZAZN+PnH0zXV/wBpeF0m8iW/2T5dWj+1SZDIu5h17DmsG9+HUd7FqaO14P7Rv4752EC5RkxhRz04pbn4fi515tS8y9TMksgiEAI3SR+W3OfTmuTln5laGtF4h8GTNEsWrKzTPGsY+1SfMZPuY56MelZd54r0Wy8JHVmVJrgrI6W0GoSPvVJNhIb8s5HXiqUfwuijW0AmviLUWe39wvzfZmLL3755pr/CuP8AsyGziudQQJDPBI/kKfMSSXzOmeCDT5JJ9QNVfE+gxtCt6sivcXn2WIQXcshDbd3zcjbj0rf07+wtWjV9OnedWBYMlxIQQDg9/WuYXwGbeaK6hN689vf/AG9FMKgM2zbs69CB1rY8JaZNosN7M+mXUEl9cNOYMhhDn+FSD0zzUyhPpcRQ0vxLod7cWlm8d1LdXABY2zTNHEGYqpYk5GSPStLVtR0HR9Wt9OuY7+S4nXzAsDyvsXONzYbgZ4rHh8BCC6sJY2u8WZQjNuu/5X3YVxyoPQjnIrQ8T+GG8SahBcut1b+Umz5YFLAbs5V+qnt9KOWd+o9CjqPizw/bx3sdkl1LcW6v5TSSyiKZk+8qtu5xz+VWIvE/hdrkwTPdIVQs03nSeVuC5KBt3JHpVL/hXVss1z5cU0cM3mFVWzj8xS5ycyfePJNOT4d2cd5M620wglDEr9jjMgZlwT5h598U+WXmGhYk8SaR5liF0zVkS6ufJZp/OTYvls+/k9Pl/n6U638V+F7iCWRF1FGUKY42Moe5DHavljd82TgfiPWpG8N389vBHqF3fXRglDJugUAJ5bIUwD3Dnms6x+Hsdjb7IxMssXl/ZZorGONo2RtwZiPvngA5xRyz8w0NXQbq31/RdUuxa3VobW4lgRHmlVxtUHLAtwefpXY6YxbSrVmJZjChJJySdorltKsJtF0m/gl+03U95NJPJLKip8zKBjGeBxXRWF5a2+m28UtzCrxxKrDzBwQAPWt6Kkr3JZoFgBk8Yrk9anXxPrEXh+0ffZKFuNRljbgoD8sQI7scE/7IPrVrxhrMVt4O1SWynjkufszrAqOCS7DC4/E1znwc8D3Pgvwm39p3klxf37CedC+ViOAAo+ldIj0SNAiBVAAUYAHQU6gUZoAKKKCcCgAoqt/aVkDg3cAP/XQUf2lY/wDP5B/38FAFPxNcQ23hjUpLiVIk+yyDc7ADJU1X8F3ENx4L0p4JUkX7Mg3I2RkCsv4jW9j4g+Husaf9pgZ3tnaMeYPvAZHf2qD4XWtl4e+Gui2D3MEcqWytIPMH3zyf1oA7iiq39pWP/P5B/wB/BSf2lY9ryD/v4KALVFICCMjkUtABRRRQAVy3iuB9Omt/ElqH32JxdRxj/XQHrkdyvUfjXU1T1WxXU9KuLJ5HiW4jMZeNsMuR2NAEtpdQXkCy2siSxsOGU5FT15Z8INLvPBK654Y1y53m3vPtFrPI/wDrYnAAOfqp4969K/tGy/5+4f8Av4KALNFMSeKQZjkVh/snNPzQAUUUUAFFFFABRRRQAUUUUAFFFFABRRRQAUUUUAFFFFABRRRQAUUUUAFFFZmr3cqmGysWxd3RwrbciNB95z9BwPcigCtf3cl5PNBFL9nsrf8A4+bnPXjlF9D0ye2a1beGC0t0hhVY41GFUVUm0W3k0KTS4sxwvGUJHJ56n3NZZ8Hq11azG+nP2abzVXPDck7T7c0Aa+q/6iH/AK7p/OrrOqKWY8AZNUtV/wBTB/13T+dZupeFE1HUHujdzRszq+FPTBiOP/IWP+BtQBqNcWV7b7WZJY5TswR944zj8qpRtLo1wkEzNJYSELFIeTCfRj6ehqDTvCo097Y/bJZRAE4cDkqu3P1Pf8K27m2ju7d4ZlDo64INAEuRjrQWAGc1gxQS31udOuJnims5QS2ARKmDj6gg/mKibwjuvDP/AGjcjIAKBuOHVgfr8uM+lAHQwzRzwpNCweORQysOhBGQafVbT7MWGm21mrFlt4liDHqQoAz+lWaACiiigAooooAKKKKAAUjEBSTwKWs/XJZI9GuPs5Amddkee7HgfzoAracrahdvqVwrKoJjtkbso4Lfj/KtfIrB1bR76Szs49Jn8trWMoGLkbvlAGfWudg0zxNeSPbS3M0b2rfu23lUyEYAg455I/Ac0AdZrkYigj1NB+9sD5hI7x/8tB7/AC5P1ArTikSWNZI2DIwDKwPUGmohMASYBiVw3vxzXPwx31x4avNM05vst3ZyNbRPnACjBQ5/3Cv45oA6XNGa4uHRvFzpGlzqiqBId5STlo+Mc46+p71ZbSfEcTRm3vi/7wFxJMfu89OKAOroqppkEttp8cVxjzF64OR1q3QAUUUUAFFFFABRRRQAUUUUAFRXE8dvA80zBEjUszHsBUtY+tb7m8sLBU3RTylps9NijOPxNAFa20e21tm1LV7RWeVdsKseY4+3I7nrV0eH9PEfliOTZjG3zn/xrM1PxZHpF7cwXEYCR4jhwMlmKg889OQOBUVl48sJ47KOeOZby6VT5SRk9SoLD/ZG4c/X0oAtWFhbaF4gaCCBEt71d8Tk5YSAfMuTzgqAQP8AZauhzWbrts0+lvJCgae3Inh9nXkf4VHea9BZ6Pbai8UjRXGzCjAYbhnnNAGvRXOnxlYLbrK8VwpcfKmwFm4yBgE1vwyiaFJFBAYAgHqKAH0UUUAFFFFABRRRQAUUUUAFFFFABijFFFABijFFFABijFFFABijFFFABik4FLXP+L9QuLTTYbaxO25v51to3/uburfgBQAup+J4re6ax0y3fUdQXG6CI4Eee7N0FQR6d4j1Fi+papHYxHpDZp8w+rGtTSNGtdGsFgtU56ySNy0jd2Y9zXBaj4z1Gy0vxT/pM5udOvjDauLXcioFQ/MwGP4j1oA6s+CNLlbN891et3M9wx/QYqVfBPhxBgaTb/jk/wBaoxeObNHNvJBcSSRXDWrsAOXWLzCevQj9ahtviRp9zbRTiyukiljjlDMF4R22g9fWgDTk8D+G5RhtJg9sZGP1qNfBllbnOnXd7ZN/0yuCR+RzWRqPjtYIdcgs0uJL+zjmeON0UBAkYbd15XJFUY/iLLbQ6YLiGae8udOs52jCqsbGaVULBuucnpQB0LweJ9KcyW9xDq1uo/1Mi7JT9G6Gr+j+I7XVZWtmR7W+jXMlrMMOvv7j3FQ2/imKfWptLFpMs8MyxODjoy7g/wDu8Yp/iPRE1Kzae2Pk6hbjfBOnDAjnBPoehFAG5Ucv+pf/AHTWf4d1RtZ0C0vpE8uSVPnUdmHB/WtGX/Uv/umgDjfCHhfRLzwlp9xdabBLNJGWd2XJY5PJra/4Q3w9/wBAi2/74qPwP/yJOmf9cv6mt4nAoAxD4N8Ong6Ra4/3KP8AhDfDo6aRa/8AfFUpPHVjAJvtVvNCYZmhdXxkEEAHGehzxUP/AAsKw32sZs7pZLiV4lDqFGUIB5J5zuyMdeaANT/hDfD3/QItv++KyvEvhTQrbw5ezQaXbxyJHlWVeQa68HNZHiz/AJFW/wD+uRoAv6f/AMg22/65J/IVZqtp/wDyDbb/AK5J/IVZoAKDRTJXEcLu3RVJNAGXrXiC30gJFsa4vJgfJtYuXf8AwHvWdDp3iDV/3uqX/wDZ8Dji2tB86+xc/wBKd4TsluY5dcu/3l3euzKzc+XHnAVfQYGa6XFAHOL4E0IyebdWz3cuMF7iVmJ/Wpz4K8OkY/sm3/I/41uMcKeM1zuleJLm810afd6e1v5kDTxnnKKG24cdieo/GgAPgjS4m3aebmwfsbedhj8DkVBL/wAJHoRMocazZjqm0LMo9c9DXVUhGaAKWlaraavZC6spN6ZKsCMFWHUEdjV6uV1C2/sTxdp2oWIEcGoym1vEHAZipMb49cjH0NdSKAFooooAKKKKACiiigAooooAKKKKACiiigAooooAKKKKAILy9t7CHzbuTy0zjOCf5VQ/4SfSP+fwf98N/hTPE/8AyCh/viuMuGdLaVoV3SBCVXGcnHAoA7U+J9I7XY/74b/Cub8J61KJNS1HxJqERlu7ljaQiEhra2DHy42IGCeSfXnkntzOm3mqzTBL61CASMpIUjK84b+mK2D0NAHo8ciyRq6nKsMg1mN4l0lHZWuwGUkH5G6j8Ku2f/IOt/8Arkv8q4GT/XS/9dH/APQjQBoeLdWXUrSxXRdXNrJHfRSTFYid8QPzDkV0A8T6RgD7YP8Avhv8K8xvdT1FLieKyt1mEbqocKSACCTkDngjH41o6fNczW5N7F5cgbGACARx0oA9HstVs9RLiymEpjxuGCMZ6dfpVtnVFJYgAdSa5fwj/wAfN5/ux/8As1aviIZ0OfPPA/nQBjeLr6/0240/VNCtobtlnWG9Hm4K27HlgO+3r7c1063duygiePkf3hXnTiKNGdwqqoySR0FQG9sRjM0XzDI5HIoA9N+1Qf8APaP/AL6FSKyuoZSCD3FebbEI4VfyrtfDYx4ftsDA+b/0I0AatFFFABRRRQAUhIHU4pax/EyhtHO4AjeKANbcuOo/Oub8WXt7DeaFa2FrHcrdajGs5Z8eWiguWHr93pXMmKMKTsX8qybPW7O+WJltWUsyDDKMruAIP5MKAPX9y45YU4eorzXyo/7i/lXc6B/yAbP/AK5igDRJrJ3Pa+KsMwEF7b8AnGJEP65Vv/HKi1PxD/Z+oNaC38wqivu3Y65/wrndYuoNW1TStSa02XemT+bC+/8AhI2up47g/mBQB31Fcz/wlrf8+Y/77/8ArU6PxWZJo0Npjc4XIf1OKAOkooFFABRRRQAUUUUAFFFFABRRWHf+IzY30lv9m37MfNuxnIzQBuVkx3EVz4olSGZHNtbhZEDZKMxyM/hVD/hLf+nM/wDfdYWjSWukeIdZ1iO0LXOqyK0h3/dCjAFAHaXGj6ddyF7qwtpnJ3bpIgxzxzyPYflSLommI0TJp1qrQsGiIhXKEdCOOOtZUfisPPFGbUjzHCZ3dMnFdJQAhHy4PNYml2qXNpdadqdvHMtvctsWRQwZSdytg/Uj8K3M1jPcJZeK1if5RfQ/KxPV0PCj8CTQBZfQtLkyJNNtWDKFIMKnIHQdOgwKvqoVQFGABgAdqWjNABRRRQAUUUUAFFFFABRRRQAUUUUAFFFFABRRRQAUUUUAFFFFABWD4t024vtNhnsObqxmW5iX+/t6r+INb1IRmgDN0bWrTW9PFxaPznbJG3DRsOqkdiKoy+DtOmsdTtHe4MOqTme5HmcsxABxxxwoqTUfDEFzfHUbCaTT9Rxg3EJ4f2ZTwf5+9ZN/4i1zwraCXXrOHUYmcRpJYna7E9Bsbv8AQmgC4/gTSnvWud9yrtKZmVZvlLlNhbHqVqKL4eaNDax26m68qOJIVUzfwo24dvWrMPjTTtgN9Fd2DHqtzAy4/HFTL428OH/mL2w+r4oApXXw/wBIury6u2N0lxdK6SyJNgsrqFZfTBAHFJJ8PNFk+zlvtO62tYbWJhMcokUgkT8dwFXT428Ojpq1u3+62apXHj7TftQtNPtrzULtkMiwwQnLKDjOTxjNAF+y0qX/AISS51S8toYnEYgheOQs0iZzubgYPbvSeJNbXTbQW1uPN1C7zHbQrySx7+wHWqnm+KdX2+RFDo0B+8Zv3s34AcD8TWhpHhuz0meS5UyXF5MMS3U7bnb29APYCgCTw7pR0XQbWwZ/MeFMO+Mbm6k1oy/6l/8AdNP6UyX/AFL/AO6aAMPwP/yJOmf9cv6mt45xxXF+EPFOiWfhOwtrvU7eGaKMq8bvgqcng1tf8Jn4d/6DFp/38FAFNPC8epy6hca3ZxRTXTKB5EpJAT7rZwMN3qe/8H2GqWSWmoSXM8StuIaXliCCCT2PA6YqX/hM/Dv/AEGLT/v4KP8AhM/Dv/QYtP8Av4KANlRhcVk+LP8AkVb/AP65Gmf8Jn4d/wCgxaf9/BWX4l8V6Fc+HLyGDVbaSR49qor5JNAHT6f/AMg22/65J/IVYqtp/wDyDbb/AK5L/IVZoAKbKiyxOjDIZSDTqD0oA5jwnei2E2g3X7u7sWIVW/5aRkkqw9Rzj8K6fNZOseH7bWPLldpLe7g5huYWw8f+I9jWWdS8R6Iu3UtPOrxA4WexGHx/tIe/0oA6o9KzrG0ePUb65mgRGldQkgk3F0CjGeBjknjms618caJOCJLhrd1bayTxshU+nIq2fFOihNx1CHH1oA16QniuavPHelQIPsq3F87HaiW0JbcfTPSo8eJNewMLolk4+YHDXDD2/hX9aAEv7r+3PGFjptm2+DS5ftN646K+392n153H6V1dUdK0m00axW0sIvLiBJPJJYnqST1Jq9QAUUUUAFFFFABRRRQAUUUUAFFFFABRRRQAUUUUAFFFFAGN4n/5BX/AxXGTs627tEu5wpKr6nHAr0S8sor6HypwSuc8HFUP+EasP7r/APfZoA84sLzVJZwl3aiNfMILf7HZvrntWq3Q/Suy/wCEa0/+6/8A30aP+Ea0/H3X/wC+zQBfs/8AkHQf9cl/lXAP/r5f+uj/APoRr0SOIRwrGv3VAUVmHw3YFmJV8sST8x7nNAHmuo3ep218q2FkJoGwXb055P5VoWMlxLZo93GIpTnKg+/H6V3P/CNaf/df/vo0f8I1p/8Acf8A77NAGb4R/wCPm9/3U/8AZq1fEX/IDn+g/nU9jpVtpzyNbBgZAA2Wz0z/AI1Nd2kd5bNBOCUYYODigDzx13xsvHIxzWSvhmwCYZWyYwhKn0Ocj0Nekf8ACL6b/dl/7+mj/hF9N/uy/wDf00Accq7VCjoBiu18N/8AIv23/Av/AEI1H/wi+m/3Zf8Av6a0bS0jsrVLeAERpnaCc980AT0UUUAFFFFABWR4l/5A5/3xWvWR4l/5A5/3xQBxrHCknpisey1fTpxGbeDZkoBiMAjcFx+hX6VsMcISRkY5rFsdasboRNDbtHuKjlACu4Lt6eoIoA267fw//wAgCz/65iuI7V23h/8A5AFn/wBcxQBzXiT/AJGSX/rhH/NqwdRtproQrBK0RD5ZlPbBB/n+eK3vEn/IyS/9cI/5tWBqUNxOYEtZHiO/5nXoFwc5/p74oArafpd5azwvPetKEVg4OTvJ6H2rag/4+oP+uyf+hCsew06+t5YHuL9ptgIkU5Ic4689K2IP+PqD/rsn/oQoA9FooFFABRRRQAUUUUAFFFFABXEa9/yG7j/gP/oIrt64jXv+Q3cfVf8A0EUAc3qNteT3sf2OZo08pg/Hy56qfqCPyJpulWd/bTM15PvRowAm7dtbPPNO1GO/kvoxYzbEMTBwRxnqpz+GMe9JpkGpRXDNfS74jGAFLbiGz64FAGtD/wAftt/13T/0IV6NXnMP/H5bf9d0/wDQhXo1AGFeeJktL6a2+zO5ibBYMADwD/Wub12e01nWNH1I2kq3GmXHmoRJ1UjBGKl1j/kPX3/XQf8AoC1gajHeyXkIsp2jG1t64+U+nPrmgDuP+EuT/nzf/vsU6LxXHJPHH9kkXzHVM7hxk4/rXBaZb6pFclr6bzIjGBtLZKt35wOK2rf/AI/bb/rvH/6GKAPRKKBRQAUUUUAFFFFABRRRQAUUUUAFFFFABRRRQAUUUUAFFFFABRRSGgCvqF9b6dYy3d5IIoYl3Mx7Vz2kWNzr2oLrutRbI15sLRx/qV/56MP75/QUxgfFfiSSJzu0nTJNrpjiecevqF/nXWDgYoARo1cYdQw9xVd9NsZP9ZZ27/70Sn+lWc0uaAKyafZxf6u0gT/djA/pWV4k0aW8t47zS9sWp2R8y2fGA3qh/wBkj+lbuaOo4oAztC1iHW9LjvIVaMnKyROMNG44KkfWtKuT1FP+EZ8RJqsKkWOoOIr4A8Rv0WX+h/CurU5Ge1AC0hGaNwo3CgCodI05mJNhaknqTCvP6Un9j6b/ANA+1/78r/hVzIpaAKX9j6b/ANA+1/78r/hR/Y+m/wDQPtf+/K/4VdooApf2Ppv/AED7X/vyv+FKNI04EH7Ba5H/AExX/CrlFACAYGBwKWiigAooooAKTFLRQBGYIzndGhycnKik+zQf88Y/++RUtFAHF/Enw7q+q+GWm8KXkllq1o3m2/lEASH+6R0q94NvNTTRLaz8UTA6ykYM52gBj6j1rpjVS90+G9jAmGGU5SRThkPqDQBbBzRWPbahPYzpaavjLkLFdYwsh9D/AHT/AD7Vrg5oAWiiigAooooAKKKKACiiigAooooAKKKKACiiigAooooAKKKKACiiigAooooAKKKKACiiigAooooAKKKKACiiigAooooAKo6vZSahYmCIqrbgct0q9RQByf8Awil2R/rYPzP+FRr4OnXBU2wx0xnj9K7CigDk/wDhFbz/AJ6w/mf8K6HS7V7LTILeQqXjXaSvSrdFAFS40uxu5vNurSGWTGNzoCcelR/2FpX/AEDrb/v0Kv0UAZ/9haX/ANA+2/79CnLommI6ulhbqynIIiGQavUUAFFFFABRRRQAUUUUAFFFFABXEa9/yG7j6r/6CK7euI17/kOXH/Af/QRQBzuspqTwp/ZDhJMncTtwflOBz2zil0tdSAkOqFCTjaFx15zjHbp15putNqawx/2QFMmSW3LnI2nA/PApdKfUX8w6mipnG0KOh5yPftQBpw/8ftt/13T/ANCFejV5zD/x+23/AF3T/wBCFejUAcHq/wDyHr7/AK6D/wBAWsfUUvHjT7A+1s5YjHT8a7u78M2t5eS3Lz3CNIQWCMuOgHce1Q/8IhZ/8/V1/wB9L/8AE0AcJpY1UO51RoyCowE/vd8e3TrzWtb/APH7bf8AXeP/ANDFdL/wiNn/AM/V3/30v/xNPi8KWkU8coubljG4cAsuCQcj+H2oA3BRRRQAUUUUAFFFFABRRRQAUUUUAFFFFABRRRQAUUUUAFFFFABWZ4gvzpmhXd0mPMWMiMHu54UfmRWnXM+KYjqGpaPpgPySXPnyjPVY+cfmRQBf8N6c2leHbW2kO6YIGlb+855J/M1xD/EjVLdI5riC2MU73cShEb90YrhIg7HPTDkn6V6YF+XFUf7C0r/oG2mPn48hf4+W7d+/rQBx7eL9bXWI9JQ2Eksl4IVvNjeWymNnGBu6jbjr3rMm+IOvQ+IrjTWFgAt+1kr+W3GIt+773PpivRBoelrHEi6dahYX3xjyVwjeo44PvTX8P6RJOZn0uzaVn8wuYF3FsY3Zx1x3oA8+h+I97f3em27rZmG+VY540Db4y0bNnOcD7vA5rrfh3I83w90aSVy7tbKSzHJNaQ8N6KGB/smyyoABFuvGOnb3q9bWsFnbpBaQpDCgwkcahVUegA6UAQarp0Wq6Vc2NwMxzxlG/Gszwffvd6GLe4z9psna1l3dSU4DfiMGt8iuYVDpfj5sHbBqkHC9vMTqfxFAHNf27f6Z8RtTjikje2nv7e3aOQEkbos5XnA5FVl8ca3a27Q2djbGdp7sJsR5FlkSUKqnnKggk7jwK9Hk0bTZZ2nksLZ5WYOZGiUsWHQ5x196xNU8B6dqWoR3C+XBGqspgW3QqSxyWHHDH1oA5nRdf1Sx8bX0Fw8DxXerR20iZJ2E2ysdhJ4GR6V6cKzbbw9pdqkYjsbctGVIkaMFyyrtDFupOOM9a06ACiiigAooooAKKKKACiiigAooooAKKKKACiiigCKe3juIminRZEYYKsMg1kh7nQnCzF7nTeAJOskH+96qPXqPfrW3TWUMpBAIPUUAJHKksYeNgyMMhgcg0/NYstlPpLGbS1Mlvn57QH7vqyen+70NaNlew30Amt3DKfzHsR2oAs0UUUAFFFFABRRRQAUUUUAFFFFABRRRQAUUUUAFFFFABRRRQAUUUUAFFFFABRRRQAUUUUAFFFFABRRRQAUUUUAFFFFABRRRQAUUUUAFFFFABRRRQAUUUUAFFFFABRRRQAUUUUAFZt1oVpd3Lzzb97YzhsdsVpUUAY//AAjFh/00/wC+qP8AhGbD/pp/31WxRQBkL4asFkRx5mUYMPm7jmteiigAooooAKKKKACiiigAooooAKKKKACiiigAooooAKKKKACiiigAoopD0oAWiuWi1rxJdmSSx0i0eBZGRGe5KkhSRnG32qT+0PF3/QFsf/As/wDxNAHSGvL9B8ZXOvfG3UdHk08rFpdsUEwbgZPX8a6w6h4u/wCgLY/+BZ/+JrD0jRvEOka7qmrQ6HYm51Jw0jfajwAMAfdoA9BFFc1/aHi7/oC2P/gWf/iar32ueKdPsJ7y40Wz8qCMyPtuiTgDJx8tAHW0VXsLr7bp1vdBdvnRLJj0yM/1qxQAUUVl+JNXbQtAudRjh85oQuI843EsF6/jQBqV518YPEknhDQrDXIbOS5e1u1OUOAoIwc/Wt8ah4uI/wCQLY/+BZ/+Jqhrdv4j17RrnTNQ0HT5ILiMowN0TjPf7tAHS6FqY1nQbLUVXYLqFZNuemRmtCuH8PQeLdB8PWWlrpNlKtpEIw5uzkgf8BrT/tDxd/0BbH/wLP8A8TQB0tFc1/aHi7/oC2P/AIFn/wCJqB/EWu2Wp2EGraVbxQ3k/kh4rgsVOPTAoA6yigdKKACiiigAooooAKKKKACiiigAooooAKKKKACiiq13fW1iqtdzpCrHapc4yfSgCyRmsu70x452vNNbyrgkb1P3ZR6H396f/b+lf8/8H/fYpDr+ld7+D/vup5o9x8r7Emn6lHebo2Uw3Cf6yF/vL/iPerwOawL+90a8w66jFBcJ9yZHAZf8R7U3T/FVm0jWuoXMEdwgyXRv3cgz1B7H1Bp8y7j5X2OhorO/t/Sv+f8Ag/77o/t/Su1/B/32KXNHuLlfY0aKzv7f0r/n/g/77FH9v6V/z/wf990c0e4cr7GjRWb/AMJBpX/P/B/32Kkg1nT7mZYoLyGSRvuqrjJp8y7hysvUUUUxBRRRQAUUUUAFFFFABRRRQAUUVn3etWlnc/Z3LyT7N7RxIXZV/vEDoKANCiqunalbapp8N7ZP5kEy7kbGMipUnWSSRF+9GQGyPbP9aAJaKgubyK0QNM2NzBVA5LE9ABWPd+M9Js7h4ZWuCyBySlu7AhfvEEDBAoA36KiguEuLeOeI5SRQyn1BGRUm6gBaKTdRuoAWimtIqKWY4AGST2pI5kmjWSJg6MMqwOQRQA+ik3Corm7itIDNO22Ncbm7D3NAE1FIGz0paACik3AU15UjjZ3YKqjJJPAFAD6Kp2eq2V/IyWlwkjqocqDztPQ/Q+tU08WaJJqN3YJqUDXdmrPcQh/mjC9SRQBsUVjW/izRbq2uriK+j8m0QPO7ZARTnBOfoatz6xaQaN/am8y2nlCUPEpfKEZBAHbBoAvUVCbuNYo5CTtkIC4HXPSnRzxy7vLYNtYq2D0I6igCTNGaT7w44rOuTd6fCbhJvtEcYLSJIo3FR/dIwM+xH40AaVFMikWWJZEOVcBgfY0+gAooooAKKKKACiiigAooooAKKKKACiiigAooooAKKKKACiiigAooooAKKKKACiiigAooooAKKKKACg9KKD0oAyfDf/IJP/XeX/0M1rE1k+G/+QSf+u8v/oZrVagAzRmvOdYh8RW+p6vFpNxcThVF1bkSFypIwY8Z59QKjuovEFvotpJbXl/eMLjzHiaJ4mZTjK5BJ49+KAPSxWR4rH/FI6r/ANekn/oJrTgJMCFlKkqCQ3UVm+K/+RR1b/r0l/8AQTQBNoP/ACLunf8AXrF/6AK0Kz9B/wCRd07/AK9Yv/QBWhQAVzfxA/5Ei++sX/o1K6Sub+IH/IkX31i/9GpQB0a/dH0paQfdH0ob2oAM0ua8i1S78bQXnmaYuoS7ri4WRDHkeUHXbt4wDt3YNdn4S/tP7fqoujcnTN8ZsvtefM+5+8BJ5I3dM+9AHVVy3i4f8TPw9/2EV/ka6muX8Xf8hPw9/wBhFf5GgDqB0ooHSigAooooAKKKKACiiigAooooAKKKKACiiigANc74pAM2mZAP+kN/6LeuiNc74o/12mf9fDf+i3rGv/DZrR/iI89e/vbbxtdebJHJaiSGCOLJGzfnJxnBPHpVOXxXqmo2V/8A2fHa2pt7aaUyMpY/KzKMc9eOtdje6Lp2oJKt5aRyiYqZMj7xXp+Wartpmh6RZsr29rawPGYiD8oZT1X+deKprTQ9jldzkrDxFq9lJLPemC6tjfw2zpg7gXjUkr6DJ6e9S2vjHVrjTo7v+y41S6jR4WaMqkZZ1UKTn5uGzkY6e9dHHbeHbO1t4k+yRxSyJLACwO9lACsM9SMDmmQaZ4Zsr64ighsorhv3ksYYZXB3ZxngZ54quaPVEcj7jPEOpX+j6bbSQQQzys2J5FiZggAzkIDuI/PFZA8X3cyS3UMVm9nCYVYJuLuZB1XOOh9RW9qTeH9Y09H1KW1uLZZPldpOA31B61Ut9C8N2+vm4/0ZryRVMMZI+RQuBtH09aUZK2qKkm3ozl9P8Qarcm0it5lEhkgEjzZfeGRz0zx92remeJNUEdpDIlvPd3Fva/vG3BAZHlGdueoCfjXRrB4XeCRozZbIWRpGVwNjKfkye2OansNK0GPZNp8NthpB5bIc/MpZhjntljj3NPnj2Fyvuc9L4s1JbWYxwWQms4pZJy+7bJsfbhe4z1zziux0qX7ReaROVVGlw5C9srmsXXfBtlraxo5SGJSxZBCrZLHJIJ5B/T2resIVt9S0uGPhI22Ln0C4q6Uk5xsRUi1CVztRRRRXtnjhRRRQAUUUUAFFFFABRRRQAVy8lheWPirU7+KOSSO+to0jeMZMTpkYx6HOfwrqKo3mr2VlcCG4nCylDIECljtHVuO1AHAXumeKz4YigEco1BbMlTbsFRZfMzjA46DvxWjqVlrFxDerDHegyX9lLGUYgiMGPzsc8cCTj3rsbG/tdSsIr2xmWa2mXdHIvRh61JHcwzSyxRvueFgsgx90kA/yINIDhotO1G08Q6ZNceeunWmo3ICyuW+SSMiNsnkgMSOemauw6Tdy+NtTvDabLOPTxb2aOuEZyxZz+JxXV3M8FvDuuWAQsFGRnJJwB+dUZfEelQXN5byXIWWxjEtwuxj5anoScfWmBy66HrcmlWsYuLmO4kuIftJ3FRGiEs23nvgL9DUDzal4bsp9Y1VLnyYLG4maMykgvI5ZY+vVQqqP9813lneQahZxXVo/mQSqHR8Ebgeh5qSWGK4jMc0ayIequMigDzn+yPFULWj2E04tUt7O2u1lctJMVYmaQc9SMDjrk+layeH9RklnDXF2Egtj9nJmI8yVnZxnnovAx6Guta5hiuYrdmxJIpKDBwQMZ56d6gm1azgvHtZJSJkiMzLsY/IDjPA9aAODutM8Q3NvdwRwXaxy6dHCzNKctKzDzGAz1Azirl/Y67bNs0u1nClbW1VVl+VIgcyP/vH7v613Uc0cuNjA5AbHfB9qbcXMNqqtcOEVnCAnpuJwBQBxepaFrclnqd/ZXFzFfSX3+jxLKcRwfIjkL0JKqzD0LVqmxbTvB9/FNJPO0wlZRKdzAtnCj2GRiukHNKUDfeGe9AGfoFtc2fh/T7e/cyXMVuiSsTnLBRnmtE9KQDFKelAGbrOmnU7VIVYLtkD5LMvY/wB0g96zLjw7P/wiepaZbzbZrqJ1R1djgkYHLEmujzQWAUknAHU0AcXoWl39lrqajNaOkUWlw2JQfeZwRk49BjrUtvpl82vwyGz8lXaYXzHlJkP3Bz1NdPaahaX2/wCyTpLs+9tPSov7Z07zpovtkXmQKzSLu+6F+9+XegDF+zX1x4b143NmyXd0biKGJTklACkf5gA/iadbafdH4ZQ6a0DrdppqW5jbg7xGFI/OrVh4x8O6nBdT2OsWs0Vooa4cSYWIHOCSenQ1ozalaQaYdReYG08sSeaoLDaeh47YoA46LTdWglZraK8W2ElqVjaQlsrnzD16dPaq1noesWlneQW8dxbu+pSTmZmaQPGSSBjd06dK72S8ghjjkkkCrKwVD6k9KmV1cHaQcHHB6GkBT0OO5i0O0jv/APj4WJRJ8xPzY55NS6n/AMgq5/65N/KrIqtqf/IKuf8Ark38qYDtP/5Btt/1yT+QqxVbTz/xLbb/AK5J/IU+6uo7O3aaY4RcZI9zj+tAE1FVPtw/54Tf98j/ABo+3A9IJv8Avkf41HtIdx2Zboqr9uHaCb/vkf40hvh/zwm/75H+NHtI9xFuiqn24f8APGb/AL5H+NH24f8APCb/AL5H+NHtIdwLdFVPtw/54zfkP8aPt3/TCb/vn/69HtIdx2Zboqp9uH/PGb/vkf40G/A/5Yzf98j/ABo9pDuFi3RVT7cP+eM3/fI/xo+3D/njN/3yP8aPaQ7hYt0VU+3f9MJv++f/AK9H24f88Jv++R/jR7SPcRboqK3nS5to54jmOVA6n1BGf61LVgFFFFABRRRQAUUUUAFFFFABRRRQAUUUUAFBopDQBleG/wDkEn/rvL/6Ga1SM1hWmmaxYxvFb3tr5Zkd13QkkbmJ9fep/I17/n9s/wDvy3+NAF62sLazeV7eII0zbpD3Y1YwKx5I9cijZ3vrMKoJJMJ6fnWL4S8Ral4v0U6lYXloI1nkhIMRPKNj1oA7OsjxV/yKOrf9ekv/AKCaPI17/n9s/wDvy3+NVtS0vW9R0y5spL60VLiJo2IhOQCMetAGhoP/ACLunf8AXrF/6AK0KrafbfYtOtrXdu8iJY93rgAZqzQAVzfxA/5Ei++sX/o1K6SsrxJpL67oNzp0cohaYLiQrkAhg3T8KANQH5R9KKyRBroH/H7Z/wDflv8AGjyNe/5/bP8A78t/jQBrYFGK43xL4kvfC/8AZ/8AaWo2Sfb7tbWP9yfvN36/T863BBrpGRe2f/flv8aANfNct4v/AOQn4e/7CK/+gmtLyNe/5/bP/vy3+NUrzQtT1G/0+a9vbcx2VwJtscRBY4xjrQB0g6UUgpaACiiigAooooAKKKKACiiigAooooAKKKKAA1znitgkmmsxwouGyfT929dHTHiSXiRFYejDNROPPFxLhLkkpHGfaoP+eq/nWNr9lFq0+m8wyRW9z5sqycgrtI6d+TXpP2SD/nhH/wB8Cj7Jb/8APCP/AL4FcKwKTvzHZ9cb6Hg994Qunni2eVNF9nMGxZggh/eMQRweMMOmDxVq/wDDt7cwXtlFFZnzZJpF1BpP3rB8kJ699v0Fe3fZLf8A54R/98Cj7JB/zxj/AO+BWn1V/wAxn9Y8jweTwrdvpBVLaJJzMGCG5U7MKRuHy7e/TFTL4c1SLVLa4jNqsqRASTBgVYhCMbSMjkjocV7l9jg/54x/98Cj7Hb/APPGP/vgU/qz7h9Y8jwjTfCl8LiV75bcRym33oXUhvLl3NwABjFa2kWcaeOr420iLpVvmaOMDaFuZBtfHsFXP/AzXsH2OD/njH/3wKX7HB/zxj/74FL6rfdgsTbocf8AaoMf61fzpbSVJdbsBGwYiQk47cV1/wBkt/8AnhH/AN8ClW2hRtyRIp9QoFTDBqElK5U8W5RcbEoooorvOIKKKKACiiigAooooAKKKKACuTkgudO8ZaneywTSw3tpGsDxxGQIyZypAzjOQfTiusqje6tZafIqXc6RuwyFJ5x649KAPPNWm8TxeE4EsrG8tb+OzMgitI2Eav5n3VC9WwOhOMHoc1b1WTVZIr9bZtZjZtRsXjaKGYERkxibHy/dA8zI7H8K720vbe/s4rqzlWaCVdySKchh6inpNFJJJHG4Z4iA4B5U4BAP4EGkBwFqmpRa/pS3L3r6dZandRlrsPuYNGfKOW5cbiQDz/DWfqNpf3+i+IJ0g1SKbWL8WyxCybIgAVdxym4Ljcc+9emXjWy25+2eWYiQCJACCe3BrPl8VaLCXEuowKUn+zNl+kv9z6+1MDk0/tmPU3srWPU4LNb6GKNlR9qwRoM7SeAGOM47Zpl9H4jS6lvo/wC03ih+3XBtUZ/3qjCwRL7n73HPp1rtrbXNNu7w2lvdRvOGZSinkFcZH6itDNAHA3H/AAkUE9zJayX0jQaHFHFuRiJLgk7329C4CrwOfmOaz2tNaY6s9n/aqmS6tra3nlV/MEK4LuMjJBJOe3HNei2+pWt3d3Ntbyq81qQsyDqhIyAfwqZ544pI0kcKZDhQT1NAHntwl3HBr9/Ab2w1Jpt8CSSY89I8bUUE8g9OPWt7VY7hfhzqC3bSNeXFnIVRn+YSup2op9dxAH4V0UtlbXE0U09vFLLCSY3dAWTPXBPSpHhjk2+Yivsbcu4Z2n1HoaAGWiutpEJjmQKNx98c1NRiigAoNFB6UAY3iOxvb/T44tNEZkWUM3mXEkIxg9057jjpWV/Ymr/8IXqlhI0Ud5cROsLR3UkoBK4HzSciutxSEgAk8UAcJoVvdWOvJqEtldJbR6XBZOohbc0uRn5cZIGOW6UWmjyT6xZ2scF4lra3Fw8wuYAFZG427v4gScj2HNdrb3lvdBvs0yS7ThtjA4pFvbZp3hWeMyIMsoYZFAHLCJ5vCniKeTTJYJrj7RDFbiAl3RQUjwoGSDjcP97NS2kM8nwngtBbzrcrpSQmFomWQOIwCNpAOcg10S6lZtFJIt1EUjPzkOML9abcanZ2untfTXCLaqMmXdlQPWgDhYU1S3OYTrLWaz2m0TJKz7sHzRjGdnTPb0qnbW2uWOm6hBp41BLx9Ukk8y6E7xGMk4+6d2OnK57Zr0xriFI0kd1VZCApJ6k9KkVg33SDg460gKHh37X/AMI7Y/2kGF35C+aHYk7sc5JAP5ir8pVYmMmNoBznpiniqup/8gq6/wCuTfypgZltHqRWM6XJFFZk5UXQLnb6KFIwPTJOPSrWv/8AIEmz/eT/ANDFW9PH/Ettv+uSfyFN1CzF9YyW28x78fMBnBBB/pSeqsB5/wDFq6ntbHwwbSQo8niC0iID7Q6HdlSR2PGa5i18Xal4e1DxpejyXeLX7S28uRy8cUcgVW2njH3ienWvV7jQ5r1UF5c21wIzlPNs1bafUZPBqFvC6OkyP9hZbggzA2CYkIOcsM88881xRoySs0Vc84u/irri6FZXltHp/mT/AG4sWR2XEBO3GG7gfrUN78QtSvRZxahb2srLd2Mi+TvTiVSSOH5I/L2r00+Fo2QK32EqucA2CYGevfv3oHhaMMGH2EMCCD/Z6cY6d+1P2L7Bc8d13xxe6hNc6m7RKF0S7LWId1ClZgoD4YHOO/BroG8aeIbXVfFs1o9vPBolpYXCWTxsS0LRl5iuG+9gnk5zhRXoDeE4GkkkZdPLykmRjpyZfPXJzzUN/wCDmvlAW/W1YlRI9rbLG0qKCPLY55TB6flin7FvoFyjresTy/De71dRG3mxedAHiyPLJym4HqdpH51T0PxLey+NX069vROkxlEaQeW8aBexxh0Yd9wIPY11Z0i6a3EDXkJhACiM2oK4HbGelRxaA8F5JdwzWsdzLxJMlkod/qwOT+NQqEtdB3ON1zxdqekeKbmNbj7RGN6W9pAI5MsImcK68SKSR94blx6Vit4i1XVvD8El3fwXCS3GmzsiSxl4Xa8iBUKgyEIz97J4616Z/wAI+/2/7d51r9r27PtH2JfM2+m7Oce1Mh8N/ZzKYHs4vOkEsuyxQeY4OQxweSDzmmqMkthXPPbDxz4hm0m51GS4thN9nuJJLJ3j3WxQkDEYG/jADbj78Vb1HVrmK9sJ7TxUNTWBpHHlpFh28lmCEqMHJAwBz+ldzH4eaG6muYpbVLicYllWyUPIPRjnJ/Go08LpFbrBH9hSJJPNWNbBAof+8BnGffrR7GXYEzhNP8Y6zNphnm1a12TRwtLJ5kLNZ73wW2qOFHT58811Pgifz5dbYamupqL/AGrcqVw4ESf3eMjpwOtakfhoQrOsT2SLcnMwWwQCU/7XPP41Na6LcWUIis7q3t4x0SK0VR6dAfQUnQl0QXLWi/8AIB0//r2j/wDQBV6q9lb/AGKwt7XcXEMax7iOuBjNWK7lsSFFFFMAooooAKKKKACiiigAooooADSZpa5vX5rv+2LWC2vZrWNoXdhEF+YgqBncp9TXJjMVTwlGVepshpXZ0eaM1yG3UP8AoM3v5Rf/ABFGNQ/6DN7+UX/xFfNf635f2f3FcjOvzijNcht1D/oM3v5Rf/EUbdQ/6DN7+UX/AMRR/rfl/Z/cHIzptRsk1LTp7OVnRJ4zGzRthgD6GuR+F3hGw8J+G5YNMknaOed3ZZn3YIYjirG3UP8AoM3v5Rf/ABFQ2tldWUHk22rXqRgk7f3Z5Jyf4KP9b8v7P7g5GdrmjNcHq+oXukaNd6jLq9+6WsTSsqiLJAGcfcrnNH8fz310YNVvdR0om2W6jaZ4GV4ywXOVU4OWHB9a66XEWGq03UhCTS8g5Wj1/NGa86u/EttYiQ3fiqaLy5BE+5ouHIzj7nXFOs/EUOoag1jZ+KLiW5VdxjUxZx/3xUf6y4VLm5JW9A5T0PNFeXS+MktNV1Kz1DXby1XTzGGlkMWHLjIA+SrNz4ssrNbRrnxZMgvFDQEtFhweM/c6ZqnxHh1b3Ja+XzFynpGaM1563iGFEVn8UzKrSNECWi5dfvD7naqv/CZaedOe+/4S6X7PG+xnzFw3YfcpLiTDPanP7g5TW+IngLS/GraUdWe5X7Lcjy/Jk24JHX68CuzhQQwpGCSFUKCTycVxEEkmrWcF1Brl3PCSJInXysZ7H7lW9uof9Bq9/KL/AOIrnlxbgIuzUvuHyM6/NFcht1D/AKDV7+UX/wARRt1D/oM3v5Rf/EUv9b8v8/uDkZ1+aM1yG3UP+gze/lF/8RRt1D/oM3v5Rf8AxFH+t+X+f3ByM6/NGa5DbqH/AEGr78ov/iKXTrm/i8TWltLqM9xDLHIWSUJ1A4PCiuvB8SYPGV40KV7sTi0rnX0UUV9KSFFFFABRRRQAUUUUAFFFFABRRRQAUUUUAFFFFABRRRQAUUUUAFFFFABRRRQAUUUUAFFFFABRRRQAUUUUAFcnJBc2PjLVbyRGMd3ZxpbSbNyqy5yv4kg11lGKAPL5rzxPY+D4Us7eW0vo7MyrBBDhN/mfdHXnA6ehrU1G81kx3v2Se6jc6hZeUUjGfKYxiYDjoAXPtiu7wKMCkBwMT6sfEekpeyzS2FtqVzG0kwALAxnyScAAjJIHviquraJqktxq0kFo7rFqkV5bAHHmvtUE/QYr0aWGOZNkqB164Ip2KYHGXqavZ3d7HYPOEXTz5SooIa5Yn5847ZH5VVim8SQNdQ3F1cPGbm2h88xjMUYQGVxx3bI74zmu92ijAoA84s5dVttOvb6O5mXUJdWM5tXCh5oPMESIR/1zTt3NbXi6G7XwOIt8k2obohGyfeMu4dMV0zWFq94t28CNcKuwSEcgZzj86laJHZWdQSpyue1ACpnYN3XHNOoooAKKKKACg0UUAZus215dWqJYSGOQOCSJNnGD3way7rS9WbwjqdoJ2a8micQsZd+CV45wK6bFGKAOD8PW9zaeIEvZLeWO2TSYLST5TzMCOMe3OTVdtNlexs7W9gnZ7dro3rxqQzxsCMAjqWyMfSvQ8CjaKAPMrW2a+1B9Uhtb5H+22T3SzRFV8iMuEUZ5JUkOx/wrV0zTL+Hwb4lSWOT/AE2+u57SLqwjc/Lge5y2P9qu4wKXFAHAxTaxC+2Ke8ktI5LXa0kYz0PmL06Dj6etVLE6/Z2V5FaS3P2l9UkdmuR8giJOOQpIzxzzXpGBRtFAFHQ3uZNDtGvgwuTEvm7uu7HNS6n/AMgq5/65N/KrJ4HFZ1xHeX263kRYLd1IZg2WIPp6UAWtP/5Btt/1yT+QqxTYkEcaogwqjAA7AU6gAooooAKKKKACiiigAooooAKKKKACiiigAooooAMUUUUAFFFFABRRRQAUUUUAFFFFABRRRQAVzWu/8jFaf9e0n/oSV0tc1rv/ACMVp/17Sf8AoSV4HEX/ACLKvoVHcio6VRk1GRJGUWNy4BxuUDB/WsyfU57/AMJ6pM9tLaSRxSqu7gnCnBFfjdPDTm12uvxNzoM0pNeVXOs6toVzpVlKZriS3t7i4gmfJE6eSSA3qVP9K67RNVurq+vbJ7yO9jjtY5kuolGAzbspxxxgH8a762Vzpw9opJr/AINhcx0wOelLmvM9F1+60fw3KZ7lHneF542l4aR/NK9+vFPvdV1e8sY7yXUvIjNzLEI1QAYVDjmr/sipz25lbv3DmO417Tm1jw/f6dG4ja6geIOegJGK5h/hrp9t4TnsNIiit9QmgjRrlizbihDdz0yOgrKtPEetaTodlC063BuLOGQSuoHk7n2kk9+PWt7R9U1bUNSs7WW5iEYE8jyR7X81UaIAZHAPzt09K6YUMZhKb9nNcqd/W39bE6N6mfa+AtQkvhd6vdWs0jagl7IkaHbhU27RmnaN8P7rTfF51GS7ikso5pJoUAO8F+oPbFWdb8Q6pb+JZLO0aCKOFYiFmdV83cTnrzxjtVP/AIS/Un/tJGlhhW1kWOK4dflmUtguPYdPrW/NmNSF+ZWkvwf/AA4aDPEnw6vtW1661ayvoopnnimiRwcfIhUg4+tZuq/CzVr7TbOwi1S3WCK2CSIVYASeZvLDHUHpg9K0dT8W39pazxw3ySyQCVo50VdswUAjknHU44qzp/iTVr0LfGWNYVuLaEwbPvCSNGJz7F66KdTM6dONpKy0WnyXQPdbG33w3F9rerXUl2Ft763YRQgf6mZlCs/4gVkD4Wam2kyR3F5aSXeYljb5wAqDA5HINW7fxZqT+Wl06XM/nRPtiAKYLY+Uj8ODzUs3ivVYreBoLyC4kukRmVUB+zEsBtOPr39KSnmcLR510/D5BaJ1vhjS7rRvDtrYX9yLmaJcNIBgGteuTi1rUIvD+uySustzpryJHIVxvwMgkVkXvifWrC8+wvNHJ5ktv/pJUL5ayJIx68dUAGfWvHeAr4qrKV1e/wDwf1HdI9DorhIfEepy8XV/a2ZgiDqThhc5kZf5KOnc1Xg8V63PFcTo9tGSsuIpnUeTtbAOOv51H9k131QcyPQ6K82k8Zamtmr/AGpMQlzM21N7YwRjnDD6c1KPGt5LrUQtpw8DyyQmNowuNsTMDjO7qKr+xsRa911/AfMj0SoLT/kcdP8A+uUv8q40eIdYsv7Oiu5Emk1a3Q2ziPASYkZU+wU5/A12NmCPF+nZ5Pky/wAq9PJMJPD5nRcmne+xMneJ2QopKWv2AxCiiigAooooAKKKKACiiigAooooAKKKKACiiigAooooAKKKKACiiigAooooAKKKKACiiigAooooAKKKKACiiigAooooAKKKKACiiigAooooAKKKKACiiigAooooAKKKKACiiigAooooAKKKKACjFFFABRRRQAUUUUAFFFFABRRRQAUUUUAFFFFABRRRQAUUUUAFFFFABRRRQAUUUUAFFFFABRRRQAUUUUAFczrzBfEVpk4/0aTr/vJXTVWutOsr5lN7Z29wU+6ZYlfb9MivPzHB/XcLLD3tfqNOzOc8xP7y/nTWMToVYqVIwQT1re/sDR/+gTY/+Ayf4Uf2Bo//AECbH/wGT/CviVwVJf8AL78P+Cae0OeaK2coWWMlAQpOPlB64ptvbWdpGUtY4oVY5IQAAmuj/sDR/wDoE2P/AIDJ/hR/YGj/APQJsf8AwGT/AAqv9TZ2t7fT0/4Ic67HMyWOnylPMt4G8vOzKg7fpTntbKWMRyRQsgbcFIBGfWuk/sDR/wDoE2P/AIDJ/hR/YGj/APQJsf8AwGT/AAp/6nVf+f8A+H/BDnXY5xrazePY8cJXbswQMbfT6UsEFpbKq28cUaoCFCADANdF/YGj/wDQJsf/AAGT/Cj+wNH/AOgTY/8AgMn+FH+ptRq3t/w/4Ic/kc3LaWU8yzTxQvIn3XYAkfjUN5pen31qLeeOPywQcDA6HOPpmuq/sDR/+gTY/wDgMn+FH9gaP/0CbH/wGT/CmuD6qaar7eX/AAQ9p5HLnTtNMUcZtrYpGcopQYX6VMkNqi7VSJRkHAA6jp/IV0X9gaP/ANAmx/8AAZP8KP7A0f8A6BNj/wCAyf4UPg6o96/4f8EOddjmYrKwgZmhggjLNuJVQMn1pY7KwiLmOCBS53MQo+Y+tdL/AGBo/wD0CbH/AMBk/wAKP7A0f/oE2P8A4DJ/hR/qfV/5/wD4f8EOc57y7fa67Y9snLjj5vrTJbWynR0mihkVwAwYA5A6V0n9gaP/ANAmx/8AAZP8KP7A0f8A6BNj/wCAyf4VK4NqLav+H/BD2nkcybHTyIs28B8n/VfKPk+npR9isBLJIIIN8oxI20ZYe/rXTf2Bo/8A0CbH/wABk/wo/sDR/wDoE2P/AIDJ/hVf6n1f+f8A+H/BDnXY5b+y9M8pIvstvsQ7lXYMA+tPFjYCdphBbiVur7Rk1039gaP/ANAmx/8AAZP8KP7A0f8A6BNj/wCAyf4Uf6n1f+gj8P8AghzrscrLp1pNqNvdyNk2oIhj3Dah6bgPXBxmrFmwPjCwwQf3Uv8AKui/sDR/+gTY/wDgMn+FS22lafZy+ZaWFrBJjG6KFVOPqBXfl/DM8JiYV5Vebl6WJcrqxapaKK+zICiiigAooooAKKKKACiiigAooooAKKKKACiiigAooooAKKKKACiiigAooooAKKKKACiiigAooooAKKKKACiiigAooooAKKKKACiiigAooooAKKKKACiiigAooooAKKKKACiiigAooooAKKKKACiiigAooooAKKKKACiiigAooooAKKKKACiiigAooooAKKKKACiiigAooooAKKKKACiiigAooooAKKKKACiiigAooooAKKKKACiiigAooooAKKKKACiiigAooooAKKKKACiiigAooooAKKKKACiiigAooooAKKKKACiiigAooooAKKKKACiiigAooooAKKKKACiiigAooooAKKKKACiiigAooooAKKKKACiiigAooooAKKKKACiiigAooooAKKKKACiiigAooooAKKKKACiiigAooooAKKKKACiiigAooooAKKKKACiiigAooooAKKKKACiiigAooooAKKKKACiiigAooooAKKKKACiiigAooooAKKKKACiiigAooooAKKKKACiiigAooooAKKKKACiiigAooooAKKKKACiiigAooooAKKKKACiiigAooooAKKKKACiiigAooooAKKKKACiiigAooooAKKKKACiiigAooooAKKKKACiiigAooooA/9k=)"
      ]
    },
    {
      "cell_type": "code",
      "metadata": {
        "id": "DDVq03AjoXRM"
      },
      "source": [
        "#decision tree full code\n",
        "def find_entropy(df):\n",
        "    Class = df.keys()[-1]   #To make the code generic, changing target variable class name\n",
        "    entropy = 0\n",
        "    values = df[Class].unique()\n",
        "    for value in values:\n",
        "        fraction = df[Class].value_counts()[value]/len(df[Class])\n",
        "        entropy += -fraction*np.log2(fraction)\n",
        "    return entropy\n",
        "  \n",
        "  \n",
        "def find_entropy_attribute(df,attribute):\n",
        "  Class = df.keys()[-1]   #To make the code generic, changing target variable class name\n",
        "  target_variables = df[Class].unique()  #This gives all 'Yes' and 'No'\n",
        "  variables = df[attribute].unique()    #This gives different features in that attribute (like 'Hot','Cold' in Temperature)\n",
        "  entropy2 = 0\n",
        "  for variable in variables:\n",
        "      entropy = 0\n",
        "      for target_variable in target_variables:\n",
        "          num = len(df[attribute][df[attribute]==variable][df[Class] ==target_variable])\n",
        "          den = len(df[attribute][df[attribute]==variable])\n",
        "          fraction = num/(den+eps)\n",
        "          entropy += -fraction*log(fraction+eps)\n",
        "      fraction2 = den/len(df)\n",
        "      entropy2 += -fraction2*entropy\n",
        "  return abs(entropy2)\n",
        "\n",
        "\n",
        "def find_winner(df):\n",
        "    Entropy_att = []\n",
        "    #information gain array for all attributes\n",
        "    IG = []\n",
        "    #for all attributes excluding target\n",
        "    for key in df.keys()[:-1]:\n",
        "#         Entropy_att.append(find_entropy_attribute(df,key))\n",
        "        IG.append(find_entropy(df)-find_entropy_attribute(df,key))\n",
        "    return df.keys()[:-1][np.argmax(IG)] #returns attribute with highest IG, argmax selects key that matches value\n",
        "  \n",
        "  \n",
        "def get_subtable(df, node,value):\n",
        "  return df[df[node] == value].reset_index(drop=True)\n",
        "\n",
        "\n",
        "def buildTree(df,tree=None): \n",
        "    Class = df.keys()[-1]   #To make the code generic, changing target variable class name\n",
        "    \n",
        "    #Here we build our decision tree\n",
        "\n",
        "    #Get attribute with maximum information gain\n",
        "    node = find_winner(df)\n",
        "    \n",
        "    #Get distinct value of that attribute e.g Outlook is node and Overcast, Rainy and Sunny are values\n",
        "    attValue = np.unique(df[node])\n",
        "    #print(attValue)\n",
        "    \n",
        "    #Create an empty dictionary to create tree    \n",
        "    if tree is None:                    \n",
        "        tree={}\n",
        "        tree[node] = {}\n",
        "    \n",
        "   #We make loop to construct a tree by calling this function recursively. \n",
        "    #In this we check if the subset is pure and stops if it is pure. \n",
        "\n",
        "    for value in attValue:\n",
        "        \n",
        "        subtable = get_subtable(df,node,value)\n",
        "        #print(subtable)\n",
        "         #get the most common class value in the subtable\n",
        "        clValue,counts = np.unique(subtable[Class],return_counts=True)                        \n",
        "        \n",
        "        #if the subtable is empty, assign the leaf node to the most common class value\n",
        "        if len(counts)==1:#Checking purity of subset\n",
        "            tree[node][value] = clValue[0]                                                    \n",
        "        else:    \n",
        "            #recursively call ID3 to create subtrees    \n",
        "            tree[node][value] = buildTree(subtable) #Calling the function recursively \n",
        "                   \n",
        "    return tree"
      ],
      "execution_count": 84,
      "outputs": []
    },
    {
      "cell_type": "code",
      "metadata": {
        "id": "qO7wubXCrhC9"
      },
      "source": [
        "node = find_winner(df)\n",
        "    \n",
        "#Get distinct value of that attribute e.g Outlook is node and Overcast, Rainy and Sunny are values\n",
        "attValue = np.unique(df[node])\n",
        "subtable = get_subtable(df,node,attValue[0])"
      ],
      "execution_count": 85,
      "outputs": []
    },
    {
      "cell_type": "code",
      "metadata": {
        "colab": {
          "base_uri": "https://localhost:8080/"
        },
        "id": "hOsS-wM4r2ZF",
        "outputId": "e9aeef3d-05b4-4cd5-de68-f5279ac0a91c"
      },
      "source": [
        "attValue"
      ],
      "execution_count": 86,
      "outputs": [
        {
          "output_type": "execute_result",
          "data": {
            "text/plain": [
              "array(['overcast', 'rainy', 'sunny'], dtype=object)"
            ]
          },
          "metadata": {
            "tags": []
          },
          "execution_count": 86
        }
      ]
    },
    {
      "cell_type": "code",
      "metadata": {
        "colab": {
          "base_uri": "https://localhost:8080/",
          "height": 173
        },
        "id": "h3gM-kWgr5Wd",
        "outputId": "1163f4b9-75d0-42a1-e8f1-7c23f453c6d7"
      },
      "source": [
        "subtable"
      ],
      "execution_count": 87,
      "outputs": [
        {
          "output_type": "execute_result",
          "data": {
            "text/html": [
              "<div>\n",
              "<style scoped>\n",
              "    .dataframe tbody tr th:only-of-type {\n",
              "        vertical-align: middle;\n",
              "    }\n",
              "\n",
              "    .dataframe tbody tr th {\n",
              "        vertical-align: top;\n",
              "    }\n",
              "\n",
              "    .dataframe thead th {\n",
              "        text-align: right;\n",
              "    }\n",
              "</style>\n",
              "<table border=\"1\" class=\"dataframe\">\n",
              "  <thead>\n",
              "    <tr style=\"text-align: right;\">\n",
              "      <th></th>\n",
              "      <th>outlook</th>\n",
              "      <th>temp</th>\n",
              "      <th>humidity</th>\n",
              "      <th>windy</th>\n",
              "      <th>play</th>\n",
              "    </tr>\n",
              "  </thead>\n",
              "  <tbody>\n",
              "    <tr>\n",
              "      <th>0</th>\n",
              "      <td>overcast</td>\n",
              "      <td>hot</td>\n",
              "      <td>high</td>\n",
              "      <td>FALSE</td>\n",
              "      <td>yes</td>\n",
              "    </tr>\n",
              "    <tr>\n",
              "      <th>1</th>\n",
              "      <td>overcast</td>\n",
              "      <td>cool</td>\n",
              "      <td>normal</td>\n",
              "      <td>TRUE</td>\n",
              "      <td>yes</td>\n",
              "    </tr>\n",
              "    <tr>\n",
              "      <th>2</th>\n",
              "      <td>overcast</td>\n",
              "      <td>mild</td>\n",
              "      <td>high</td>\n",
              "      <td>TRUE</td>\n",
              "      <td>yes</td>\n",
              "    </tr>\n",
              "    <tr>\n",
              "      <th>3</th>\n",
              "      <td>overcast</td>\n",
              "      <td>hot</td>\n",
              "      <td>normal</td>\n",
              "      <td>FALSE</td>\n",
              "      <td>yes</td>\n",
              "    </tr>\n",
              "  </tbody>\n",
              "</table>\n",
              "</div>"
            ],
            "text/plain": [
              "    outlook  temp humidity  windy play\n",
              "0  overcast   hot     high  FALSE  yes\n",
              "1  overcast  cool   normal   TRUE  yes\n",
              "2  overcast  mild     high   TRUE  yes\n",
              "3  overcast   hot   normal  FALSE  yes"
            ]
          },
          "metadata": {
            "tags": []
          },
          "execution_count": 87
        }
      ]
    },
    {
      "cell_type": "code",
      "metadata": {
        "id": "Lm_5ESYLr12E"
      },
      "source": [
        "clValue,counts = np.unique(subtable['outlook'],return_counts=True) "
      ],
      "execution_count": 88,
      "outputs": []
    },
    {
      "cell_type": "code",
      "metadata": {
        "colab": {
          "base_uri": "https://localhost:8080/"
        },
        "id": "h-GqCit3sH-M",
        "outputId": "e6018087-de23-4144-a2dc-5c7e04a4b865"
      },
      "source": [
        "clValue"
      ],
      "execution_count": 89,
      "outputs": [
        {
          "output_type": "execute_result",
          "data": {
            "text/plain": [
              "array(['overcast'], dtype=object)"
            ]
          },
          "metadata": {
            "tags": []
          },
          "execution_count": 89
        }
      ]
    },
    {
      "cell_type": "code",
      "metadata": {
        "colab": {
          "base_uri": "https://localhost:8080/"
        },
        "id": "CGydXd4AsLc8",
        "outputId": "4fcd9a4a-b2a8-4407-c035-39306d384580"
      },
      "source": [
        "counts"
      ],
      "execution_count": 90,
      "outputs": [
        {
          "output_type": "execute_result",
          "data": {
            "text/plain": [
              "array([4])"
            ]
          },
          "metadata": {
            "tags": []
          },
          "execution_count": 90
        }
      ]
    },
    {
      "cell_type": "code",
      "metadata": {
        "id": "jE3fXwfKqvcV"
      },
      "source": [
        "tree = buildTree(df)"
      ],
      "execution_count": 91,
      "outputs": []
    },
    {
      "cell_type": "code",
      "metadata": {
        "colab": {
          "base_uri": "https://localhost:8080/"
        },
        "id": "yG_075jkoMtN",
        "outputId": "43aaf8fe-1a97-4c12-f21a-80e866511454"
      },
      "source": [
        "tree"
      ],
      "execution_count": 92,
      "outputs": [
        {
          "output_type": "execute_result",
          "data": {
            "text/plain": [
              "{'outlook': {'overcast': 'yes',\n",
              "  'rainy': {'windy': {'FALSE': 'yes', 'TRUE': 'no'}},\n",
              "  'sunny': {'humidity': {'high': 'no', 'normal': 'yes'}}}}"
            ]
          },
          "metadata": {
            "tags": []
          },
          "execution_count": 92
        }
      ]
    },
    {
      "cell_type": "code",
      "metadata": {
        "id": "-uKbeByDu-bF"
      },
      "source": [
        "import pprint"
      ],
      "execution_count": 93,
      "outputs": []
    },
    {
      "cell_type": "code",
      "metadata": {
        "colab": {
          "base_uri": "https://localhost:8080/"
        },
        "id": "mT5kq1L6vAcU",
        "outputId": "5ed77b38-4392-40e4-dcfb-0807dc548cad"
      },
      "source": [
        "pprint.pprint(tree)"
      ],
      "execution_count": 94,
      "outputs": [
        {
          "output_type": "stream",
          "text": [
            "{'outlook': {'overcast': 'yes',\n",
            "             'rainy': {'windy': {'FALSE': 'yes', 'TRUE': 'no'}},\n",
            "             'sunny': {'humidity': {'high': 'no', 'normal': 'yes'}}}}\n"
          ],
          "name": "stdout"
        }
      ]
    },
    {
      "cell_type": "markdown",
      "metadata": {
        "id": "tWRVUQhEvL0J"
      },
      "source": [
        "![tree3.JPG](data:image/jpeg;base64,/9j/4AAQSkZJRgABAQEAeAB4AAD/4RD4RXhpZgAATU0AKgAAAAgABAE7AAIAAAAPAAAISodpAAQAAAABAAAIWpydAAEAAAAeAAAQ0uocAAcAAAgMAAAAPgAAAAAc6gAAAAgAAAAAAAAAAAAAAAAAAAAAAAAAAAAAAAAAAAAAAAAAAAAAAAAAAAAAAAAAAAAAAAAAAAAAAAAAAAAAAAAAAAAAAAAAAAAAAAAAAAAAAAAAAAAAAAAAAAAAAAAAAAAAAAAAAAAAAAAAAAAAAAAAAAAAAAAAAAAAAAAAAAAAAAAAAAAAAAAAAAAAAAAAAAAAAAAAAAAAAAAAAAAAAAAAAAAAAAAAAAAAAAAAAAAAAAAAAAAAAAAAAAAAAAAAAAAAAAAAAAAAAAAAAAAAAAAAAAAAAAAAAAAAAAAAAAAAAAAAAAAAAAAAAAAAAAAAAAAAAAAAAAAAAAAAAAAAAAAAAAAAAAAAAAAAAAAAAAAAAAAAAAAAAAAAAAAAAAAAAAAAAAAAAAAAAAAAAAAAAAAAAAAAAAAAAAAAAAAAAAAAAAAAAAAAAAAAAAAAAAAAAAAAAAAAAAAAAAAAAAAAAAAAAAAAAAAAAAAAAAAAAAAAAAAAAAAAAAAAAAAAAAAAAAAAAAAAAAAAAAAAAAAAAAAAAAAAAAAAAAAAAAAAAAAAAAAAAAAAAAAAAAAAAAAAAAAAAAAAAAAAAAAAAAAAAAAAAAAAAAAAAAAAAAAAAAAAAAAAAAAAAAAAAAAAAAAAAAAAAAAAAAAAAAAAAAAAAAAAAAAAAAAAAAAAAAAAAAAAAAAAAAAAAAAAAAAAAAAAAAAAAAAAAAAAAAAAAAAAAAAAAAAAAAAAAAAAAAAAAAAAAAAAAAAAAAAAAAAAAAAAAAAAAAAAAAAAAAAAAAAAAAAAAAAAAAAAAAAAAAAAAAAAAAAAAAAAAAAAAAAAAAAAAAAAAAAAAAAAAAAAAAAAAAAAAAAAAAAAAAAAAAAAAAAAAAAAAAAAAAAAAAAAAAAAAAAAAAAAAAAAAAAAAAAAAAAAAAAAAAAAAAAAAAAAAAAAAAAAAAAAAAAAAAAAAAAAAAAAAAAAAAAAAAAAAAAAAAAAAAAAAAAAAAAAAAAAAAAAAAAAAAAAAAAAAAAAAAAAAAAAAAAAAAAAAAAAAAAAAAAAAAAAAAAAAAAAAAAAAAAAAAAAAAAAAAAAAAAAAAAAAAAAAAAAAAAAAAAAAAAAAAAAAAAAAAAAAAAAAAAAAAAAAAAAAAAAAAAAAAAAAAAAAAAAAAAAAAAAAAAAAAAAAAAAAAAAAAAAAAAAAAAAAAAAAAAAAAAAAAAAAAAAAAAAAAAAAAAAAAAAAAAAAAAAAAAAAAAAAAAAAAAAAAAAAAAAAAAAAAAAAAAAAAAAAAAAAAAAAAAAAAAAAAAAAAAAAAAAAAAAAAAAAAAAAAAAAAAAAAAAAAAAAAAAAAAAAAAAAAAAAAAAAAAAAAAAAAAAAAAAAAAAAAAAAAAAAAAAAAAAAAAAAAAAAAAAAAAAAAAAAAAAAAAAAAAAAAAAAAAAAAAAAAAAAAAAAAAAAAAAAAAAAAAAAAAAAAAAAAAAAAAAAAAAAAAAAAAAAAAAAAAAAAAAAAAAAAAAAAAAAAAAAAAAAAAAAAAAAAAAAAAAAAAAAAAAAAAAAAAAAAAAAAAAAAAAAAAAAAAAAAAAAAAAAAAAAAAAAAAAAAAAAAAAAAAAAAAAAAAAAAAAAAAAAAAAAAAAAAAAAAAAAAAAAAAAAAAAAAAAAAAAAAAAAAAAAAAAAAAAAAAAAAAAAAAAAAAAAAAAAAAAAAAAAAAAAAAAAAAAAAAAAAAAAAAAAAAAAAAAAAAAAAAAAAAAAAAAAAAAAAAAAAAAAAAAAAAAAAAAAAAAAAAAAAAAAAAAAAAAAAAAAAAAAAAAAAAAAAAAAAAAAAAAAAAAAAAAAAAAAAAAAAAAAAAAAAAAAAAAAAAAAAAAAAAAAAAAAAAAAAAAAAAAAAAAAAAAAAAAAAAAAAAAAAAAAAAAAAAAAAAAAAAAAAAAAAAAAAAAAAAAAAAAAAAAAAAAAAAAAAAAAAAAAAAAAAAAAAAAAAAAAAAAAAAAAAAAAAAAAAAAAAAAAAAAAAAAAAAAAAAAAAAAAAAAAAAAAAAAAAAAAAAAAAAAAAAAAAAAAAAAAAAAAAAAAAAAAAAAAAAAAAAAAAAAAAAAAAAAAAAAAAAAAAAAAAAAAAAAAAAAAAAAAAAAAAAAAAAAAAAAAAAAAAAAAAAAAAAAAAAAAAAAAAAAAAAAAAAAAAAAAAAAAAAAAAAAAAAAAAAAAAAAAAAAAAAAAAAAAAAAAAAAAAAAAAAAAAAAAAAAAAAAAAAAAAAAAAAAAAAAAAAAAAAAAAAAAAAAAAAAAAAAAAAAAAAAAAAAAAAAAAAAAAAAAAAAAAAAAAAAAAAAAAAAAAAAAAAAAAAAAAAAAAAAAAAAAAAAAAAAAAAAAAAAAAAAAAAAAAAAAAAAAAAAAAAAAAAAAAAAAAAAAAAAAAAAAAAAAAAAAAAAAAAAAAAAAAAAAAAAAAAAAAAAAAAAAAAAAAAAAAAAAAAAAAAAAAAAAAAAAAAAAAAAAAAAAAAAAAAAAAAAAAAAAAAAAAAAAAAAAAAAAAAAAAAAAAAAAAAAAAAAAAAAAAAAAAAAAAAAAAAAAAAAAAAAAAAAAAAAAAAAAAAAAAAAAAAAAAAAAAAAAAAAAAAAAAAAAAAAAAAAAAAAAAAAAAAAAAAAAAAAAAAAAAAAAAAAAAAAAAAAAAAAAAAAAAAAAAAAAAAAAAAAAAAAAAAAAAAAAAAAAAAAAAAAAAAAAAAAAAAAAAAAAAAAAAAAAAAAAAAAAAAAAAAAAFZpamF5IFJhaiBPamhhAAAABZADAAIAAAAUAAAQqJAEAAIAAAAUAAAQvJKRAAIAAAADOTIAAJKSAAIAAAADOTIAAOocAAcAAAgMAAAInAAAAAAc6gAAAAgAAAAAAAAAAAAAAAAAAAAAAAAAAAAAAAAAAAAAAAAAAAAAAAAAAAAAAAAAAAAAAAAAAAAAAAAAAAAAAAAAAAAAAAAAAAAAAAAAAAAAAAAAAAAAAAAAAAAAAAAAAAAAAAAAAAAAAAAAAAAAAAAAAAAAAAAAAAAAAAAAAAAAAAAAAAAAAAAAAAAAAAAAAAAAAAAAAAAAAAAAAAAAAAAAAAAAAAAAAAAAAAAAAAAAAAAAAAAAAAAAAAAAAAAAAAAAAAAAAAAAAAAAAAAAAAAAAAAAAAAAAAAAAAAAAAAAAAAAAAAAAAAAAAAAAAAAAAAAAAAAAAAAAAAAAAAAAAAAAAAAAAAAAAAAAAAAAAAAAAAAAAAAAAAAAAAAAAAAAAAAAAAAAAAAAAAAAAAAAAAAAAAAAAAAAAAAAAAAAAAAAAAAAAAAAAAAAAAAAAAAAAAAAAAAAAAAAAAAAAAAAAAAAAAAAAAAAAAAAAAAAAAAAAAAAAAAAAAAAAAAAAAAAAAAAAAAAAAAAAAAAAAAAAAAAAAAAAAAAAAAAAAAAAAAAAAAAAAAAAAAAAAAAAAAAAAAAAAAAAAAAAAAAAAAAAAAAAAAAAAAAAAAAAAAAAAAAAAAAAAAAAAAAAAAAAAAAAAAAAAAAAAAAAAAAAAAAAAAAAAAAAAAAAAAAAAAAAAAAAAAAAAAAAAAAAAAAAAAAAAAAAAAAAAAAAAAAAAAAAAAAAAAAAAAAAAAAAAAAAAAAAAAAAAAAAAAAAAAAAAAAAAAAAAAAAAAAAAAAAAAAAAAAAAAAAAAAAAAAAAAAAAAAAAAAAAAAAAAAAAAAAAAAAAAAAAAAAAAAAAAAAAAAAAAAAAAAAAAAAAAAAAAAAAAAAAAAAAAAAAAAAAAAAAAAAAAAAAAAAAAAAAAAAAAAAAAAAAAAAAAAAAAAAAAAAAAAAAAAAAAAAAAAAAAAAAAAAAAAAAAAAAAAAAAAAAAAAAAAAAAAAAAAAAAAAAAAAAAAAAAAAAAAAAAAAAAAAAAAAAAAAAAAAAAAAAAAAAAAAAAAAAAAAAAAAAAAAAAAAAAAAAAAAAAAAAAAAAAAAAAAAAAAAAAAAAAAAAAAAAAAAAAAAAAAAAAAAAAAAAAAAAAAAAAAAAAAAAAAAAAAAAAAAAAAAAAAAAAAAAAAAAAAAAAAAAAAAAAAAAAAAAAAAAAAAAAAAAAAAAAAAAAAAAAAAAAAAAAAAAAAAAAAAAAAAAAAAAAAAAAAAAAAAAAAAAAAAAAAAAAAAAAAAAAAAAAAAAAAAAAAAAAAAAAAAAAAAAAAAAAAAAAAAAAAAAAAAAAAAAAAAAAAAAAAAAAAAAAAAAAAAAAAAAAAAAAAAAAAAAAAAAAAAAAAAAAAAAAAAAAAAAAAAAAAAAAAAAAAAAAAAAAAAAAAAAAAAAAAAAAAAAAAAAAAAAAAAAAAAAAAAAAAAAAAAAAAAAAAAAAAAAAAAAAAAAAAAAAAAAAAAAAAAAAAAAAAAAAAAAAAAAAAAAAAAAAAAAAAAAAAAAAAAAAAAAAAAAAAAAAAAAAAAAAAAAAAAAAAAAAAAAAAAAAAAAAAAAAAAAAAAAAAAAAAAAAAAAAAAAAAAAAAAAAAAAAAAAAAAAAAAAAAAAAAAAAAAAAAAAAAAAAAAAAAAAAAAAAAAAAAAAAAAAAAAAAAAAAAAAAAAAAAAAAAAAAAAAAAAAAAAAAAAAAAAAAAAAAAAAAAAAAAAAAAAAAAAAAAAAAAAAAAAAAAAAAAAAAAAAAAAAAAAAAAAAAAAAAAAAAAAAAAAAAAAAAAAAAAAAAAAAAAAAAAAAAAAAAAAAAAAAAAAAAAAAAAAAAAAAAAAAAAAAAAAAAAAAAAAAAAAAAAAAAAAAAAAAAAAAAAAAAAAAAAAAAAAAAAAAAAAAAAAAAAAAAAAAAAAAAAAAAAAAAAAAAAAAAAAAAAAAAAAAAAAAAAAAAAAAAAAAAAAAAAAAAAAAAAAAAAAAAAAAAAAAAAAAAAAAAAAAAAAAAAAAAAAAAAAAAAAAAAAAAAAAAAAAAAAAAAAAAAAAAAAAAAAAAAAAAAAAAAAAAAAAAAAAAAAAAAAAAAAAAAAAAAAAAAAAAAAAAAAAAAAAAAAAAAAAAAAAAAAAAAAAAAAAAAAAAAAAAAAAAAAAAAAAAAAAAAAAAAAAAAAAAAAAAAAAAAAAAAAAAAAAAAAAAAAAAAAAAAAAAAAAAAAAAAAAAAAAAAAAAAAAAAAAAAAAAAAAAAAAAAAAAAAAAAAAAAAAAAAAAAAAAAAAAAAAAAAAAAAAAAAAAAAAAAAAAAAAAAAAAAAAAAAAAAAAAAAAAAAAAAAAAAAAAAAAAAAAAAAAAAAAAAAAAAAAAAAAAAAAAAAAAAAAAAAAAAAAAAAAAAAAAAAAAAAAAAAAAAAAAAAAAAAAAAAAAAAAAAAAAAAAAAAAAAAAAAAAAAAAAAAAAAAAAAAAAAAAAAAAAAAAAAAAAAAAAAAAAAAAAAAAAAAAAAAAAAAAAAAAAAAAAAAAAAAAAAAAAAAAAAAAAAAAAAAAAAAAAAAAAAAAAAAAAAAAAAAAAAAAAAAAAAAAAAAAAAAAAAAAAAAAAAAAAAAAAAAAAAAAAAAAAAAAAAAAAAAAAAAAAAAAAAAAAAAAAAAAAAAAAAAAAAAAAAAAAAAAAAAAAAAAAAAAAAAAAAAAAAAAAAAAAAAAAAAAAAAAAAAAAAAAAAAAAAAAAAAAAAAAAAAAAAAAAADIwMjE6MDY6MjkgMjI6NTE6MzQAMjAyMTowNjoyOSAyMjo1MTozNAAAAFYAaQBqAGEAeQAgAFIAYQBqACAATwBqAGgAYQAAAP/hCyFodHRwOi8vbnMuYWRvYmUuY29tL3hhcC8xLjAvADw/eHBhY2tldCBiZWdpbj0n77u/JyBpZD0nVzVNME1wQ2VoaUh6cmVTek5UY3prYzlkJz8+DQo8eDp4bXBtZXRhIHhtbG5zOng9ImFkb2JlOm5zOm1ldGEvIj48cmRmOlJERiB4bWxuczpyZGY9Imh0dHA6Ly93d3cudzMub3JnLzE5OTkvMDIvMjItcmRmLXN5bnRheC1ucyMiPjxyZGY6RGVzY3JpcHRpb24gcmRmOmFib3V0PSJ1dWlkOmZhZjViZGQ1LWJhM2QtMTFkYS1hZDMxLWQzM2Q3NTE4MmYxYiIgeG1sbnM6ZGM9Imh0dHA6Ly9wdXJsLm9yZy9kYy9lbGVtZW50cy8xLjEvIi8+PHJkZjpEZXNjcmlwdGlvbiByZGY6YWJvdXQ9InV1aWQ6ZmFmNWJkZDUtYmEzZC0xMWRhLWFkMzEtZDMzZDc1MTgyZjFiIiB4bWxuczp4bXA9Imh0dHA6Ly9ucy5hZG9iZS5jb20veGFwLzEuMC8iPjx4bXA6Q3JlYXRlRGF0ZT4yMDIxLTA2LTI5VDIyOjUxOjM0LjkyMzwveG1wOkNyZWF0ZURhdGU+PC9yZGY6RGVzY3JpcHRpb24+PHJkZjpEZXNjcmlwdGlvbiByZGY6YWJvdXQ9InV1aWQ6ZmFmNWJkZDUtYmEzZC0xMWRhLWFkMzEtZDMzZDc1MTgyZjFiIiB4bWxuczpkYz0iaHR0cDovL3B1cmwub3JnL2RjL2VsZW1lbnRzLzEuMS8iPjxkYzpjcmVhdG9yPjxyZGY6U2VxIHhtbG5zOnJkZj0iaHR0cDovL3d3dy53My5vcmcvMTk5OS8wMi8yMi1yZGYtc3ludGF4LW5zIyI+PHJkZjpsaT5WaWpheSBSYWogT2poYTwvcmRmOmxpPjwvcmRmOlNlcT4NCgkJCTwvZGM6Y3JlYXRvcj48L3JkZjpEZXNjcmlwdGlvbj48L3JkZjpSREY+PC94OnhtcG1ldGE+DQogICAgICAgICAgICAgICAgICAgICAgICAgICAgICAgICAgICAgICAgICAgICAgICAgICAgICAgICAgICAgICAgICAgICAgICAgICAgICAgICAgICAgICAgICAgICAgICAgICAgCiAgICAgICAgICAgICAgICAgICAgICAgICAgICAgICAgICAgICAgICAgICAgICAgICAgICAgICAgICAgICAgICAgICAgICAgICAgICAgICAgICAgICAgICAgICAgICAgICAgICAKICAgICAgICAgICAgICAgICAgICAgICAgICAgICAgICAgICAgICAgICAgICAgICAgICAgICAgICAgICAgICAgICAgICAgICAgICAgICAgICAgICAgICAgICAgICAgICAgICAgIAogICAgICAgICAgICAgICAgICAgICAgICAgICAgICAgICAgICAgICAgICAgICAgICAgICAgICAgICAgICAgICAgICAgICAgICAgICAgICAgICAgICAgICAgICAgICAgICAgICAgCiAgICAgICAgICAgICAgICAgICAgICAgICAgICAgICAgICAgICAgICAgICAgICAgICAgICAgICAgICAgICAgICAgICAgICAgICAgICAgICAgICAgICAgICAgICAgICAgICAgICAKICAgICAgICAgICAgICAgICAgICAgICAgICAgICAgICAgICAgICAgICAgICAgICAgICAgICAgICAgICAgICAgICAgICAgICAgICAgICAgICAgICAgICAgICAgICAgICAgICAgIAogICAgICAgICAgICAgICAgICAgICAgICAgICAgICAgICAgICAgICAgICAgICAgICAgICAgICAgICAgICAgICAgICAgICAgICAgICAgICAgICAgICAgICAgICAgICAgICAgICAgCiAgICAgICAgICAgICAgICAgICAgICAgICAgICAgICAgICAgICAgICAgICAgICAgICAgICAgICAgICAgICAgICAgICAgICAgICAgICAgICAgICAgICAgICAgICAgICAgICAgICAKICAgICAgICAgICAgICAgICAgICAgICAgICAgICAgICAgICAgICAgICAgICAgICAgICAgICAgICAgICAgICAgICAgICAgICAgICAgICAgICAgICAgICAgICAgICAgICAgICAgIAogICAgICAgICAgICAgICAgICAgICAgICAgICAgICAgICAgICAgICAgICAgICAgICAgICAgICAgICAgICAgICAgICAgICAgICAgICAgICAgICAgICAgICAgICAgICAgICAgICAgCiAgICAgICAgICAgICAgICAgICAgICAgICAgICAgICAgICAgICAgICAgICAgICAgICAgICAgICAgICAgICAgICAgICAgICAgICAgICAgICAgICAgICAgICAgICAgICAgICAgICAKICAgICAgICAgICAgICAgICAgICAgICAgICAgICAgICAgICAgICAgICAgICAgICAgICAgICAgICAgICAgICAgICAgICAgICAgICAgICAgICAgICAgICAgICAgICAgICAgICAgIAogICAgICAgICAgICAgICAgICAgICAgICAgICAgICAgICAgICAgICAgICAgICAgICAgICAgICAgICAgICAgICAgICAgICAgICAgICAgICAgICAgICAgICAgICAgICAgICAgICAgCiAgICAgICAgICAgICAgICAgICAgICAgICAgICAgICAgICAgICAgICAgICAgICAgICAgICAgICAgICAgICAgICAgICAgICAgICAgICAgICAgICAgICAgICAgICAgICAgICAgICAKICAgICAgICAgICAgICAgICAgICAgICAgICAgICAgICAgICAgICAgICAgICAgICAgICAgICAgICAgICAgICAgICAgICAgICAgICAgICAgICAgICAgICAgICAgICAgICAgICAgIAogICAgICAgICAgICAgICAgICAgICAgICAgICAgICAgICAgICAgICAgICAgICAgICAgICAgICAgICAgICAgICAgICAgICAgICAgICAgICAgICAgICAgICAgICAgICAgICAgICAgCiAgICAgICAgICAgICAgICAgICAgICAgICAgICAgICAgICAgICAgICAgICAgICAgICAgICAgICAgICAgICAgICAgICAgICAgICAgICAgICAgICAgICAgICAgICAgICAgICAgICAKICAgICAgICAgICAgICAgICAgICAgICAgICAgICAgICAgICAgICAgICAgICAgICAgICAgICAgICAgICAgICAgICAgICAgICAgICAgICAgICAgICAgICAgICAgICAgICAgICAgIAogICAgICAgICAgICAgICAgICAgICAgICAgICAgICAgICAgICAgICAgICAgICAgICAgICAgICAgICAgICAgICAgICAgICAgICAgICAgICAgICAgICAgICAgICAgICAgICAgICAgCiAgICAgICAgICAgICAgICAgICAgICAgICAgICAgICAgICAgICAgICAgICAgICAgICAgICAgICAgICAgICAgICAgICAgICAgICAgICAgICAgICAgICAgICAgICAgICAgICAgICAKICAgICAgICAgICAgICAgICAgICAgICAgICAgIDw/eHBhY2tldCBlbmQ9J3cnPz7/2wBDAAcFBQYFBAcGBQYIBwcIChELCgkJChUPEAwRGBUaGRgVGBcbHichGx0lHRcYIi4iJSgpKywrGiAvMy8qMicqKyr/2wBDAQcICAoJChQLCxQqHBgcKioqKioqKioqKioqKioqKioqKioqKioqKioqKioqKioqKioqKioqKioqKioqKioqKir/wAARCAHFAn8DASIAAhEBAxEB/8QAHwAAAQUBAQEBAQEAAAAAAAAAAAECAwQFBgcICQoL/8QAtRAAAgEDAwIEAwUFBAQAAAF9AQIDAAQRBRIhMUEGE1FhByJxFDKBkaEII0KxwRVS0fAkM2JyggkKFhcYGRolJicoKSo0NTY3ODk6Q0RFRkdISUpTVFVWV1hZWmNkZWZnaGlqc3R1dnd4eXqDhIWGh4iJipKTlJWWl5iZmqKjpKWmp6ipqrKztLW2t7i5usLDxMXGx8jJytLT1NXW19jZ2uHi4+Tl5ufo6erx8vP09fb3+Pn6/8QAHwEAAwEBAQEBAQEBAQAAAAAAAAECAwQFBgcICQoL/8QAtREAAgECBAQDBAcFBAQAAQJ3AAECAxEEBSExBhJBUQdhcRMiMoEIFEKRobHBCSMzUvAVYnLRChYkNOEl8RcYGRomJygpKjU2Nzg5OkNERUZHSElKU1RVVldYWVpjZGVmZ2hpanN0dXZ3eHl6goOEhYaHiImKkpOUlZaXmJmaoqOkpaanqKmqsrO0tba3uLm6wsPExcbHyMnK0tPU1dbX2Nna4uPk5ebn6Onq8vP09fb3+Pn6/9oADAMBAAIRAxEAPwD6RooooAKKKKACiiigAooooAKKKKACiiigAooooAKKKKACiiigAooooAKKKKACiiigAooooAKKKKACiiigAooooAKKKKACiiigAooooAKKKKACiiigAooooAKKKKACiiigAooooAKKKKACiiigAooooAKKKKACiiigAooooAKKKKACiiigAooooAKKKKACiiigAooooAKKKKACiiigAooooAKKKKACiikzQAtFJmjNAC0UmaM0ALRSZozQAtFJmjNAC0UmaM0ALRSZozQAtFJmjNAC0UmaM0ALRSZozQAtFJmjNAC0UmaM0ALRSZozQAtFJmjNAC0UmaM0ALRVa51G0s0L3dzDCo6mRwK569+JnhGwYrNrduzDqIsyH/x0GgDqqK4GT4w+Hf8Al0h1G8HrDZvz+YFRH4w2GePD2un3Fmf8aAPQ6K8+T4w6KD/pOm6vbDuZLNuPyrQtfiv4OusAawsLf3Zonjx/30oFAHY0VnWOv6VqahrDUbacH+5KDWgGB6UALRSZozQAtFJmjNAC0UmaM0ALRSZozQAtFJmjNAC0UmaM0ALRSZozQAtFJmjNAC0UmaM0ALRSZozQAtFJmjNAC0UmaM0ALRSZozQAtFJmjNAC0UmaM0ALRSZozQAtFJmjNAC0UmaM0ALRQDRQAUUUUAFFFFAAaSlooATNFHeloATNFLmjNACUUtFACUUtFACUZpaM0AJRS0UAJmjNLmkoAM0UuaKAEozS0hoAM0ZoPSlHSgBKM0tJQAZopRRQAmaN2OtR3NxFa27z3DrHFGpZ3Y4Cgd68wm1XXPihdyWvh2aTSvDSNtl1FRiS69RH6D396AN/xF8TdI0W8/s+xWbV9TbgWlinmEH/AGiOF/GssWvxH8UfNc3Nt4asn/5ZwgSz4/3ugrrPDng/R/C9msGk2iIeryt80jn1LHk1uAYoA4C2+EGgvIJdemvdbm7tfXDOv4L0FdPp3hPQNKUf2fo1lb47xwKD+eK2DSmgBixov3UA+gpcD0pRRQA0op6qD+FU73RNM1JSt/p1tcg9RLCrfzq/RmgDhr74R+EruTzbbTzp0/aawcwsPyqgfCPjbw78/hjxKdQhX/l01QbyR6B+or0ejrQB55ZfFE6dfpp3jnSp9DuWO1bg/Pbuf+ug4H4131vdQ3UCzW0qSxMMq6MCD+NRX+mWeqWr22oW0VxC4wySIGB/OvOL3wxrfw7uX1PwU0l/pOd9zo8rltq9zETyCB2oA9RzRmsfwx4m0/xVo8eo6ZLuRvldDw0bDqrDsRWxQAZopc0UAJRmlozQAlFLRQAlFLRQAlFLQaAEzRmilzQAmaM0uaM0AJRmloNACZopRRQAmaM0UooASilooATNGaXNGaAEopaKAEopaKAEzRmlzSCgAopaKAAUUUUAFFFFABRRRQAUmaWigBKKKWgBKKWigBKKWigBKKWigBM0UtFACZozS0UAJR3paKAEpTRRQAlFLRQAlFLRQAmaKWigBKM0tFAHm3jSS48ZeL7bwZYzFLCJBc6u6HB2Z+WPPucH6V6BY2Ntp1jFaWMSw28ShUjQYAFcB8LE+1eIPGWqTfNPNqxiz6IsagD+dekUAJRmqmq3h0/SLu8A3GCFpAPXAzXnvg2Cfxt8N/7Z1C+uBqN+JJUkimZBAQTtCgHGBgUAem0E14Ivi/V9Y8C+H7q6upY7+28QJYTSxSFfOVZCvIHXIAzXZ+Jbq4t/jJ4VgguZ0huoZfOiWQ7XwDjIzigDt7fWrO91G906ynSS6slUzKOQhbOAfyNYHgjxXf8AiHUtftdSigjOl3n2dPKz8wwTk5rlPhtpNtH8VPHDgy5guotmZWxyGznnn8aqaPrsnhvT/ibq8KhpbS+3oD64wP50AezZorzSbR7q8+E0esWup3S6wLIXwuhO2GcLvIxnG3tisbw/46vvG3iLwxpN0720M+mveXYjJUzOpC4yO2cnFAHsMxcQOYdpfaduema5XwB4pvvE9pqb6lDFFLZX8tqBFnBCHrzXOahfXvhD4uaPp9pcTS6Vrkbo8EshfypFBO5c9OBXK+EteSTX9W8K3EkthHqOs3TfbASu8hh+7QjoxzQB71mkIB681BYWcVjaLBAXKIMAu5Yn8TVmgDy/xBZ/8K/8Z2/iXTj5OjalKsGqQj7qOeFlx+ea9NRw6KyHKsMg+tcx8TbGPUPhlr0EoGPsUjA+hCkg1c8EXb33gbSLmY5eS1QsT64xQBu0tFFACUUtFACUZpaKAEzRS0UAJmjNLRQAlFLRQAlFLRQAmaKWg0AJRmlFFACUUtFACZopaKAEopaKAEozS0UAJmilooASilooASjNLRQAgpaKKACiiigAooooADSUtGKAEooxS4oASilxRigBKKXFGKAEopcUYoASilxSYoAKKXFGKAEooxRigAopcUYoASg0uKQigAooxRigAooxRigAooAoIoA828G58OfE7xNod18ialKNSs8n74KqrAfQrXpI5Fcd4/8ACdzrVva6rocgg1zS3820k7P6ofYjNT+DPG9t4ptXhmQ2WrWx2XdjJw8bd8DuPegDp5oUuIHhlUMkilWB7g1xWgeC9T8KafeaTot9AdOldntxOGL2+7qBjgj0ruMUbaAPP9T+F1vN4HtdE0m6Npc2l0t5Hcsud0wYsWYe5NOPgTWL3xVouvarraPcaarKUjiwrZ44rvsUYoA4fTPBOpaP481fW7DVI1s9VKSS27R5beucYPpzTND+H8to3iSLV7iC6tdelMksaIQUyMYru8UYoA4XT/B2s6f4QbwuupwvYhDBHcMp81YTxt9M44zS6h8OYIrjRL/w9MtlfaLH5UTMMrLH3Vsc84rudtGM0AcqfC1xf+J4Ne1WSB7mzhMdpFGDsjJ6sc8k9q5r/hU80/h7VLC7voDc3d89/bXUaMGtpWOcivT8UYoAyvDtnqlhpENtrd5He3MahTOiFd+O5HrWrS4rN1zXbDw9pct/qtylvBECSWOM+w9T7UAcx8WdSa38A3mnWvzX+rD7FbRDqzPxXT6Bp40nw7YWA/5d4Fj/ACFcL4X07UPG3iePxlr0L21nbArpNm4wVB/5asPU4GK9LoAKKMUuKAEopcUmKACilxRigBKKXFGKAEopcUYoASilxRigBKKXFGKAEopcUhFABRQBS4oASilxRigBKKXFGKAEopcUYoASilxRigBKKXFGKAEo7UYoAoAKKXFGKAEFLRRQAUUUUAFFFFAAaSloxQAlFFFABRRS4oASiiigAooooAKKMUUAFFLijFACUUUd6AClpKU0AJRiig0AFFFFABRS4pKACiiigAIrifGvgmw1InWrS9/sXVbZdyahGQvTnDjoRV7xV490vwvst333mozcQWNsN0jn6DoPc1zVt4P17xzcC++IM32ew3boNFt2+UD/AKaN/EfagDJ8LfGho45IPFdpI9tBL5I1m0jY28p9T6fyr1XTNZ03WbRbnS72G6hcZDxODToNKsbewWxhtYUtVXaIQg249MVyOofCXQpbxr7RJLnQrwnPm6fJ5YJ916GgDuqMV5w2mfE7Q2xp+r6drtuv8N5EY5Mem4HBPvUy+O/FNgoGteBbzjq9lcLMD+GBQB6DiivPx8XdNi/4/tE1y1PcPYuf5Zpknxt8JxSJFL/aSSSfcRtPlBb6DHNAHoeKMVwH/C4dDk/49dO1i4PYLp8gz+Ypp+JGrXnGkeCNWnJ6NcFYV/M5oA9BqOaeG3jLzypGgGSzNgCvPGm+KetN+5t9J0CBu8rG4kH5ECpI/hSuqyLN4z12/wBbkHJhZ/Lg+mwdvqaAJNW+KdkbxtN8I2sviDUs422w/dRn/afoK5nVvhv408SSW2vaxq9s+o28nmxaUyZtVHZT3J969X0vRNO0W1W20qzhtIVHCRIAKvdKAPO9O+Jg0u5i0vxzpj6BdcKkx5tpP91+34138FxDcwrLbypLG4yrI2QRUOoaXZaraPa6jbRXMDjDRyKCDXA3Pw+1jwrI138OdUaBM7n0u8JeB/Ze60Aek0prgdH+J1uL1NL8YWUmg6oeAJ+YZD/sydK7tJFlQNGwZWGQQcg0AOooooAKKKMUAFFGKKACilxSYoAKKKKACiiigAopcUlABRRS4oASiiigAooxRQAUUUUAFFFGKACilxSUAFHaijtQAUUUuKAEFLSCloAKKKKACiiigANJzS0UAJzRzR3pTQAlHNGKKADmjmlNAoATmjmloNACc0c0tFACc0c0tFACUUUUAFKaSloATmg0opDQAUc0Uo6UAJzRS1i+JPFWl+FtNa81W4CDokY5eRvRR1JoA1pp47aF5p5FjjQbmZjgAetecX/jfWfGF8+k/DuJWt1Ypc6zKv7qP1Cf3jUEGi+IPibNHe+J/N0jw/u3RaUrYkuB2MpHQewr0fT9NtNKso7TT7eO3gjGEjjGABQBz3hLwDpvhlnuyXvtUmOZr65O6Rz7Z6D2FdViloxQAc0c0UooATFJinUGgBu0Ht+leeeM0X/hangz5V5klzx/s16JXnvjP/kqvgv/AK6S/wDoNAHoIQDoAPwpcUtJigBMUvNFAoAOaKWkoAOaCM9aUUhoAztZ0DTNfsWtNXs4rqJh0kUHHuD2NcFL4V8VeA8z+CbxtV04HLaVfSEso9I3OT+FenUp5oA5Hwz8RNJ8RXBsJfM07Vox+9sLsbJFPt6j3rrea53xR4H0bxXBjULbZcpzFdQnZLE3YhhXIjV/Ffw4ZIdfSXxBoQOBqES5ngH+2o6j3AoA9Q5o5rO0bXdN1/T0vNJu47mFxkFD09iO1aQ6UAJzRzS0CgBOaOaWigBKKMUYoAKKMUYoAOaOaWg0AJzRzSiigBKOaMUooATmjmloFACc0c0tJigA5o5oxS0AJzRzS0GgBKO1FA6UAHNHNKKKAEFLQKKACiiigAooooAKM0UlABS5pM0UALmjNJRQAuaM0lFAC5ozSUUALmjNJRQAuaM0lFABmiiigBc0ZpKKAFzSUUUAFGcUhNcN4z8aXUF+nhvwlELzXbkcnqlov99/8KALfjDx7B4flj0zTYG1PXLniCxhOSP9pv7q+5qh4Z8AzyakPEPjecalrLcxxn/U2o/uovr71peDfA9t4Zjku7uQ3+sXXzXd9KPmc+g9B7Cus4FAAOBilzSUUALmjNJRQAUuaSigBc0maKKACvPfGf8AyVXwX/10l/8AQa9CzXnvjP8A5Kr4L/66S/8AoNAHoeaM0lFABRRmigBc0ZpKKAFzSUUUALmjNJRQAuaYyK6lXAYHgg96dRmgDz3Wvh5c6bqDa38P7oaZf53zWh/497n2Zex960PCnxBg1i8bR9bt20nXYRiS0nOPM90P8Q+ldlXOeLPBemeLLRVu1aG7hO63u4flkhbsQf6UAdHmlzXm2g+LdU8MavD4a8e4LyNssdVUYjuB2DejV6OpDDIOR2NADs0ZpKKAFzRmkooAXNGaSjNAC5pKKKAClzSUUALmjNJRQAuaM0lFAC5ozSUUALmjNJRQAuaM0lFAC5pBRRmgBc0ZpKKAFopBS0AFFFFABRRRQAUUGkoAKWkooAWikooAWikooAWikooAWjNJRQAtFJRQAtFJRQAtFJRQAtIaKztd1u08P6LdanqEgjgt0LE+voPqTQBgePvFz6DZw6dpCfadd1FvKsoBzg93PoBU3gfwbF4X095bh/tWrXh8y9u2+9I57fQdAKxvh7ol3qd9P418Rx41DUBi1hfn7Nb/AMIHoSME16HjFAB2qvPf2lqwF1cwwlunmSBc/nVivLPG41vQvF0uv2+lR69o726w3dqPmltsc7lB9R16UAelnUbJPL33cK+b/q8yD5/p6/hTvt1r9pFv9pi88jPlbxux9OteOeKr7StR8L+ArvQWJtDq0Sxlhh1G1sqa3NcRV/aA8N7QBv0+43Y4z060Aehy6tp8O/zr62jEZw5eVRtPvzxTzf2q2wuGuYhARkSlxtI9c9K8f8GaFp2p+PviDFqFstxFHcBUjk+ZVygPAPGaxYx537L+orKzN9mnlSIliSiq/ABoA93TU7F7oW6Xtu05G4RCVSxHrjOacmo2T3TWyXcDTr1iEgLD8OteSeKNIstHtvAWpadCIb176CJ51+/IrREkMepHA61c8aRr4I+JWk+MFULp99/oOoHHCk/cf2570Aeppd28kzxJNG0ifeRWBZfqKlrmfCcP2wXutyxqj6hNmMqP+WS/Kh/EDP410tAAK898Z/8AJVfBn/XSX/0GvQq898Z/8lV8F/8AXSX/ANBoA9DzUFxe2tooa6uIoQehkcLn86mPSvM9Au/7c+MviW21dVlXT4oo7WCQZVVZcltp4yT3oA9FW+tHtjcrcwmAcmUSDaPx6UiahZyWxuY7qFoAMmVZAVH49K8v0Wx+w/GLxB4aiBk0a/sFuntjykLsdpwOwOKo+F7n+zLDVPhxNg3UN35MG4cvbSHO/wDAA8+uKAPX31CzitxcSXUKQnkSNIAp/HpSxX1rPb+fDcRSQ/8APRHBX8xXmV/JPcfFq38NQyW8Fpa6Zvt4Z4Q6SHIBIXoSBUqeDB4d0Xxck+prcpfWktytkibFtzsPKjPAyO1AHoqapYyzLDFeQPKy7lRZAWYeoGeaBqVi1wIFvLczHgRiVdx/DOa8TtdLtPD/AMC4/GNhE51y101xFdFyWUMeT+GPwru7bwvoeu+ENEumlMIt/Luku4W2uzd8t1IJJzQB2VxqNlaMFu7uCAkZAlkC5/M1I11AkPnPKixYzvLDbj615rqyadceLvEA01W1S/8AsSpcJcHMNoADjB5+Y+gFYPh+01zXvgVojaZco+oW1yZUgnf5bkI7fuyfTH8qAPXpta02CynvHvbcwW6F5XWQEKB64qr4a8SWHijSI9Q02VXikJIUMCQMkDI7ZxXn2jeINM1/TfElpfaM2ka3Fp7C7sZIwFICthx689/atz4NWsEHwt0eSKGNHkiO9lUAt8x6+tAHfUUlFAGT4l8Oaf4p0WbTdUhEkcg+Vu8bdmB7EVyHgrxBf6LrT+CvFbl7yFS1hevwLuIdP+BDHNei1yvjzwivijRV+yyG31Ozbz7K4U4ZJByBn0OMEUAdUDxS5rk/APix/E2ivHfx+Rqtg/kX0B4KuOM/Q4yK6ugCOW6gtwPPmjj3HA3sBk/jUKapYPDJKl7btHGdruJVwh9Cc8V5v8abOKceGCxdWfWIYmZGKkqc5HFP8TeGPCvhyGwhhW4t5LzUEmSzt2LfbJQuNpBOMcZP0oA9Iivba7iZrO5imA4LRuGAP4Vk+G1vrSxuv7Z1iDUZBO7LJGAojTPCHnqBXCeDWuR8afE1lcwx20TWMEhtYWygOWGcYAz68VB4DhSXwJ41iflFv7oKCc4xnFAHqn9saaGiB1C13Tf6secuX+nPNPk1GziuFglu4Emb7sbSAMfwzmvBX0axj/ZvsNWEIOoReVJHck5kQ+aBw3UDHauq+I2ny2mkaD43tI/MudIMclyAMmSFgN+fXAoA9T+1QCcQGaMSsMiMsNxHripq4/wzd23ifWp/EFsga2jhW3tpcffyA7Eficfga6+gBaKSigBaKSigBaKSigBaKSigBaKSigBaQUUUALRSUUALRQKKACiiigAooooAKMUUUAJS4FJS0AGBRgUlFAC4FGKKKADAowKKKADFGBRSd6AFxRiiigBOKKKKAFwKKSlNACHA615hq7P8RPiImiwknQdDcS3rD7s8/wDDH7gdTXQ/EXxNL4e8O+Xpq+bqt+32eyiHVpG7/hVvwP4Wj8KeGYLLd5ly3725mPWSQ/eJoA6FEWNQqABVGAB2p2KKWgBCOK5u+8Ky3WrXV9baxe2gukCSwxhChAGMgMpwa6WkoA47U/hro+oeEbXQImmtIrOQTW88LYkjkHO4ZGM9aZa/Dm1h1/T9bu9U1C81CxiaNZpZBmQHGcgADt2xXa0UAcfo3gKDRNW1rULXU7xp9YbdOX2YVsYyvy+lUE+FVlH4HuPCw1a/+w3ErSu3ybuTkjO2u+oxQBx+r+AYtZtdGt7jVL1F0iRZYSmzLMowC3y+lZHi7XND8WJc+CYZGu9RaZI5ITE37sAgs+cY4Ar0fFQLY20dy1wkEazv96QKAx+poALG1jsrCC1hGI4YxGo9gMVYxSYpaAErz3xn/wAlV8Gf9dJf/Qa9Crz3xn/yVXwX/wBdJf8A0GgD0Ijiua1PwbBd+JYdf0+6lsNSjTy3kiAImT+64I5rpqSgDE0Xw5b6TeXV8Xkub+8IM1zLjcwHRRjgAelO/wCEY00+LR4i8n/iYeR5G/8A2c1s0tAHI+M/h7p3jGa1u5Li50+/tD+5vLRgsij057VJa+B4bbw5daWdSvZZryMxz30rh5nUjBGSMDg+ldVSUAc7ong6z0jwkPDk8suoWHlmLbchSSh/h4A9axfD/wAK7Hw7fboNW1KexRt8OnzTZhiOc8ADP5k13tFAHEz/AAzspPFd7rlvqV9anUEC3drC4Ec31yM9+xqHSvhfb6PoVrpljrWpRx2l2bm3fcuYyd3yj5cY+Y9a7uloA5qz8G2kF9f397PLfXl9B9nlmmCgiPn5QFAHc0zwZ4Kh8HWTWttqF5dQbj5UdwwIhUnO1cAfrmuopKAFwKMUUUAGKMCiigDzLxzZy+DfE9v470tWNuAINWt4xxJF2kx6rj9a9Fs7uG+tIrq2cSQzIHRlOQQaL2zhv7Oa1ukWSGZCjo3IINeffD25m8M+IL/wNqcpYW2Z9Mkf/lpbk9PcqTigDofF3guHxbJYNdahdWy2FwtxGsG3l16E5BqPxZ4DtPFttp/2q+u7a70+US293AVDq34jH6V1dFAHFWXw4t9P8Vvr9tq+oC8mtxBMWdSJcZwx468/SnaP8O4dF0nVbC21i+aPVHeSVnCZVnzuI+X3rs6KAOHf4ZWcvgGPwmdUvhYRkEMNm8gHIGdvTNR+IfEmiaNYN4Qup5L3UZrTyYbd4iTNkbRkgY+td7Vd7K2kuluHgjaZRhZCo3D8aAM7wlocXhzwrY6XCoVYI8ED1PJ/U1s4FAooAMCjFJS0AGKMCiigAwKMCkooAXAoxRRQAYowKKKADApKKKAFwKMUUUAFFAooAKKKKACiiigAoxQaSgApcUlFAC4oxSUUALijFJRQAuKMUlFAC4oxSUUALijFJRQAYoxRRQAuKZK6xxs7kKqjJJ7CnV8vfFb40a/p/jjW/D+nXC/2ZtFsygfMpx8xU9ic0AeqeF438c+P7rxXcgnTNMLWumIejMPvyfmMV6biuT+GV3Z33w90yXTbGayt/KCrFMuG9z75POa6ygBcUYpKKAFxRikooAXFGKSigBcUYpKOaAClxSUUALijFJRQAuK888Z/8lV8F/8AXSX/ANBr0FsnuRXxx8S/GnjHSPipcW8mrTGXTblvsTEDKK3TH4GgD7JxRisTwh/aH/CIaWdYnae+a2Rrh36lyMmtqgBcUYpKKAFxRikooAXFGKSigBcUYpKKAFxRikooAXFGKSigBcUYpKKAFxXn/wAUNJmjs7PxVpaE6jocvnYXrJEeHT8jn8K7+q2oNbR6dcNfFVtxG3mF+gXHOaAItF1ODW9GtdStGzDcxLImPQjNX8V82+GPjVYeD9Wk8K6en9oWDamVtLoNhY4XbpjqcZr6PjbfGrjkMARQA/FGKSigBcUmKKKADFLikooAXFGKSigBcUYpKKAFxRikooAXFGKSigBcUYpKKAFxRiko7UALijFJRQAuKKBRQAUUUUAFFFFAAaTmlpM0AFHNFGaACjmijNABzRzRmjNABzRzRRmgA5oqre6pZabC0t/dwW0ajJaWQKP1rj734weFbecwWVzNqU448uygeX9QMUAd1zRXn3/Cw/EN+udF8C6lIp6SXMiRA/gTmmjW/idcnMXhvS7UH/ntcliPyoA9DorgBL8U3H+p8Px+xEh/rQZPimnPl+Hn9gJB/WgDt764Fpp9xcOcLFEzk/QZr5Z+GXw0n+JPjm+8U67Ey6R9reUA8ee+7IX6DjNewavcfEy80q4sbnQdLmjnQo7W9yVbB64zS6V4q1rwvpkNhP8AD6+t7W3UKps5EkUAd8A5NAHpMEEdtAkMCKkaAKqqMAAVIa4O1+MXhd5hDqMlzpcp/hvbZ4/1IxXX2OsafqkIl029t7pD0MMgb+VAF2jmijNABzRRmigA5o5ozRmgApKWuS8V65qlhq9nZ6Y8MYmjd3aRC3QjpyPWgDreaOa89/t7xJ/z+Wn/AH4P+NH9veJf+fy0/wC/B/8AiqAPQuaOa8+/t7xL/wA/lp/34P8AjSf294k/5/LT/vwf/iqAPQsV83/GDwW+pfHrw4Yo8x6oyhzjjKHnP4V6d/b3iT/n8tP+/B/+KrPvX1i/1Sy1C4uLNrixLGFvIPGRj1oA9QjTZGqKMBQAKdzXnv8Ab3iT/n8tP+/B/wDiqP7e8Sf8/lp/34P/AMVQB6FzRzXnv9veJP8An8tP+/B/+Ko/t7xJ/wA/lp/34P8A8VQB6FzRXnv9veJP+fy0/wC/B/8Aiqfa+JNeTWLCG6ntpIbiby3CxEHGCeufagDv6KKKACjmiloATmiiigA5o5ozRmgA5o5ozRmgA5qOeCO5t3hnRXjkUqysMgg1Jmq19qNpptu09/cw28SjJeVwoH50AfJHxp+FM3gXW/7c0NGOkTS7hgf8e75zg+3pX1F4J1Ya34I0nUFOfOtUJPuBg/yrkfEHxJ8J67Y3OjQWd14gWZTG8dnbs6n/AIFjH41k+DLvx3oHhqLR9I8IEWsDv5El/cqCELFgCFPbOKAPYqOa8+W6+Kc3P2LQbf2ZpGx+RpTL8VEGTD4fk9gJB/WgD0CjmvOx4i+JNm2bzwnZXiDqbS6wT9Axpw+LUFgwTxP4f1XRiPvPJCZEHvuTNAHoXNHNZGi+K9E8QwiXRtSt7od1RxuH1HUVr5oAKOaKM0AHNHNGaM0AFFFFABzRzRmjNABzRzRmjNABR2oooAOaOaM0ZoABS0CigAooooAKKKKAA0lLSZ9qACiiigAooooAKKCcVwXi/wAY38mrr4X8GRLcaxIMzTt/q7ND/Ex9fQUAbfifxxovhONRqVzm5k/1VrEN8sh9l61yovPiF40GbGGPwrpzf8tZx5ly49l4C1ueFfh5p+gTHUb521TWZeZr65+Zs9wuegrr8hepoA4Ox+EmhCRbnxBJd69djlpb+UuufZOg+ldhYaTp+mwrFp9jBbIvRYowuKug5HSigAooz7UZ9qACjvRTd4JIHUdqAHUGkLACjevqKAK17ptlqMRjvrSG4RuCsqBga47UPhJ4dmkNxo63Gh3fVZtOlMWD9Bwa7vNFAHmY/wCFi+DFLM0Pi3Tl64HlXKj9Q1dJ4X8faN4pZre1la3v4/8AW2VwNksZ/wB081055Fcr4s8AaX4n23ODY6nDzBfW/wAsiHtyOo9jQB1WaWvPfDHizVNI1pPC3jkBb0/8eeoAYjvB/RvavQQQelAC0UUZ9qACuF8Y/wDI16d/17yfzWu6rhfGX/I1ad/17yfzWgCjmiilz7UAJmiiigAzRRRQAUZoooAM0UUUAFQj/kOaT/19j/0E1Pn2qHP/ABPNJ/6+x/6CaAPTe1FAooAKU0lGfagAooooAKKKKACo5po7eF5ZnVI0G5mY4AHrT3dUjZnICqMkntXld0978V9fmsbeSS28JWMmyaaM4a+kHVQf7g4oAu3vj7V/E17Jpvw5sluFU7ZdXuB/o8R/2f75qfT/AIVWlzKt540v7jxDe5yRcNiFD6LH0rttO0y00mxis9Ot0t7eJQqRxrgCrdAFWx06y063WGwtYbaNRgJEgUCrVFIWC9eKAFopAc0tABTJI0lQpKqup6hhkU/NIGB6UAcbrPww8O6rMbm3tW0y+6rd2DeU4Prx1rEOo+NPh83/ABOQ3iXRFPN1CuLiFfVl/iFenU1lDqQwBB6g0AZ2g+INN8SaYl/o90lzA/dTyp9COx9q068z8S+FrzwhqUnizwUhGDu1DTE4S4TuwHZhXc+H9esvEmiW+p6dIJIZ1z7qe4PuDQBp0UZ9qKACiiigAooooAKKM+1FABR2oo7UAFFFGfagAFLSCloAKKKKACiiigAooooASlpKXigAooooA57xx4gHhnwld6gnzThRHAg/ikY4UfrVP4f+FR4b0ESXjedqt8fPvrg9XkbkjPoOgrI+LgzaeHg//HudXh830xzj9a9DXG3jpQAtec/FW/uNLvPDM9vfTWscmppHMEkKq6ZGQ3qK9GrzP4wJHNP4TjkCuraxGCpGQelAHW6X400LWdTl0/Tr5ZLuIbmiKlSR6jI5H0qaz8VaTqEV69ncmX7A+y5URtujPptxmuH8QRRW3x68L/Z40i3WNwG2KBkAr6VH4Fkji8T/ABEWRlQ/bc4Jxx5Q5oA7iPxjoUmg/wBtDUoV07JXz2OBkdue9QDx74cOqwaf/acQnuF3RZBCuMZ4bGM+2a8gtPLk/Zfv87WH2lsZ5/5aiuj8d2Novg/wQRbxqf7Qs1yEA4K80Aegad410HVtYl0qyv0e9jXcYypXcPVSRhh9Kr6Aumr4q1lrPWZb26kKNPbNLuW34OAo7ZrlfE8MNv8AGjwa0EaRFoplJVQMjb0qtp7zW/xA+IUmnr/pC2cLRhf721sUAdL4z8VadH4b1a3tr6aO5hgfE1ujlY3A4BcDAP41h6dc2t/8J/DVz4h1+5sHbyZTOkxDzNn7p7nNZ/gy9srz9nm8JdGuBbTi7Dn5vMy2d3v0rG1/y2/Z38LfdLLcWYz6fvBQB6Nr3xH07w/4q0vQJY55JbwbmkETMFUD2HJPtWynjDRn11dGW5b+0GTeIDEwJX16dK4fxVsX4zeBy+0AwSjJ+gqX4qWbaNeaT4601cy6VKEutg/1luxwfyzmgD0GPV7SXVpdNR2N1Egd02HCg9OcYq9XM+DZP7Tt7nXmH/ISffFkdIhwn6c10woA5vxv4Ug8W+HpbR/3d1F+9tJx96KUcqwP1xUPw88RS+IvCkUt6Nt9au1tdL/00Q4J/HGfxrqq89+G3HiPxksX+oGqfLjpu2DNAHoVFAooAK4Xxl/yNen/APXvJ/Na7quE8Zf8jZp//XvJ/NaAKVFJS0AFUtU1ey0azN1qUvkwA4L7SQPyq7VLWNMg1jRrrT7kBo54yh9vQ/nQA2TWbKLT4755CLeQja2wnOenam3+u2GmqDdSsCRu2pGzkD1IAyK4jwdeXN/Fb+Gr/Jn0aYi5JH3lTHln8f6U/SpFu/HviGwv7+S0uGdTEgI+eLb2zQB2661pzaYuoJdRvasBtkU5z7fX2osNXs9ReSO2djJGAWR4yhAPTgiuPk8KaYvheXSNF1KSJlvBLDM7blEwO7aO2OOlW/Cms6lJr11pHiSyij1OGJW+0Qfdmj7H2oA7KlpKBQAtQ/8AMb0n/r7H/oJqaof+Y3pH/X2P/QTQB6aKWkFFAC0UUUAFFHFFABRRxRQBw/xU1i4sfDEWmaaxW/1m4WxgYdV3feP/AHyDXSeHdDtfDug2ulWKBIbaMIMd/UmuO8fY/wCFieBxN/qftkhOf73ltivQ1IIzQA6sa68VaTZa7Do1zc7b+4XdFD5bEuPUEDFbPFeb/FiybTo9K8Y2aZuNDuA0oA5aFvlYfrmgDrtO8V6TquqXWnWNw0l1af6+PymBj+uRWV4i1PRdc8KXpm1mbTbVJNklzGxiZWVhkDI55GK8/udWvPD3ja28XRxN9k8UQNbrGF+64H7gkepHWui+JGmrp3wN1KBwDIsAd2I/jZwSfzNAHZXXiLR9EsbI3+oJHHcbUgeVuZCelN0zxjoesatPpun3yyXcAy8RUqSPUZHI9xXnvxGijl8NeB1kVWB1G2BBGcjirWvRJbftAeHzaxqjNpdwCEXGcFcZxQB2eu+JNMtormykupBOsR3m3RmMXHBYqDt/GuO+G/jO2074Yw6p4n1KVke8mT7RNucn94QATVX4Q6lHe+E/EQ1Nx/aYvZ/tgl+97Zz2xTPh3oFt4p+Bt3o8u3bcTXKocfcbedp/A0AemXGv2FrZwXc8jLDcMqxt5bfMT04xWmDkA15N8PNYufEyWGi6irC58Ouy3u4cM6/LH+hB/CvWRigBHUMuGGQe1eceG4l8IfFHUfD8fyafqsZvrROySZw6j+dek1534v4+L3g/yv8AW4nDf7mw/wBaAPRKKTiloAKKKKACiiigAooooAKBRSCgBaKKKACiiigAooooAKKKKACjFFFACUuKSloAMUYoooA5zx34fPiPwhd2UR23IAlt2/uyKdw/liofAfipPE3h2N5R5OoWx8i8gbho5V4IxXU15/4r8Janp2tN4q8ElV1HH+l2bHCXiDsfRvQ0Ad/isnWvC2j+IZLaTWLNblrVxJCS7DY3qMEc1l+FPH+meJgbUlrLVYuJ7C4+WRD34PUe9dWKAMW48I6Lda3baxPZB7+1XbDOZGyg9OuO1V7nwL4fu9ck1afT0N3KMSOGYb+McgHBroqKAOcPgHw0dCfRv7KiGnu29oAzAMc5ycGpL/wToGqWdna39gJoLIg26NI+IyOhGD2rfooAw7vwfol9qltqV3ZCW8tBtgmMj5jHtzTrHwjounazcarZWYivLkYml3sTJ6ZycVtGigDlX+GvhVr64uhpUavc585VZgrk9SVBxU9x4A8M3WjwaXPpUTWVuwaKAMwVSOh4NdHRQBhar4N0PW0s11KyWb7Ec27F2DR/Qg5rnfEGry6leT+C7LQbwLIqxm7aP9wIz945+ld/SEDNAFextIrCxgtLdQsUEaxoB2AGKsUEVzXivxzpPhOFVu5TNezcW9nCN0srdgBQBN4y8UW3hTw7PfzndLjZbxD70sh4VQPc4ql8ONBuNC8Jp/aHN/eyNdXR/wBtznH4DArF8O+GNW8S67H4p8cL5bRnNhpWcrbf7Ter/wCFeigAdKAFpcUCigAxXCeMh/xVmn/9e8n81ru64Xxl/wAjZp//AF7yfzWgChS4pO9LQAYrK1/WjoWni6FjcXuXClLddzD3xWrQelAGD4bstz3er3Fq1tc6g4YowwyoPug+/JqTWPCWia7cpcanYpLPHwsgJVsemQa2RRQBnyaDpsunxWLWyi2hIaNFJG0jocipLPSLOwmkmt4v30gAeViWYgdBk1dooASiigUALioP+Y3pP/X2P/QTU9Q/8xvSP+vsf+gmgD00CigUGgBcUYoooAMUYoooAMUYoooA4T4raVc3Hhy31jTlLXmiXKXsajqwXhh+RNdVoWr22vaJa6nYSCSC5jDoQfXtV6WNZImSQblYYIPcV5ZvuvhLr0pdXm8H3su8FFybCQ9f+AHj6UAeq4qG8s4L+zktbyNZYZV2ujDhhSWV9b6hZx3VlMk8EqhkdGyGBqxQBRn0awube2gmto3jtXV4VK8RsvQj6VFrfh7TfEWntY6zbC6tm+9GzMAfyIrTooAwbzwVoGoWtlbXtgs0Ngwe2VpH/dkdCOalm8JaNca9BrU1mr6hbpsinLtlF9OuO1bNFAHNXfw+8NXmsPqk2mp9rk/1jozKJP8AeAODVPUZtM+G+jxLonh65mgmmw0OnxlyCf4iK7GkKigDmfBujfZYb7Vrm2+zXurz/aJoyOUAAVVP/AQPxJrpsUCgnAJJoARjtGTXnGgyL4u+LV/rUJ32Giwmyt5B0eUnLkfyo8V+LbzxBqLeEfBLebeOdt7fpzHZp35/ve1dl4Y8O2XhfQLfTNPTbHCvzMert3Y+5NAGtilxRRQAYoxRRQAYoxRRQAYoxRRQAYpBS0goAXFGKKKACiiigAooooAKKKKAA0mKWigBMUYo70GgAxRiijFABijFBoFAHL+KPAGj+Kis9zE1rfx/6q+tm2Sp+I6/Q1zZm+IXgqMCWFPFmnL0aMiO6Ue44DV6ZQRQBxGkfFbw3fEQahNLpF50NtfxmNgfr0/Wuvtr+0u0D2tzFMp6FHBqtqnh/Stbh8rV9Pt7xPSaMNj868d8U+DdOj8YWPh34ePdaXqEjedeyWlwVit4R6r0yTjAoA9zzmivOx4K8a2A/wCJT45mlA6LqEAl/lilFt8VLXhb7Qr33MDRk/rQB6GaBXn32z4qJ10vQ5cek7DNH234pv8A8wrRI/rOxxQB6DRmvPDF8VLhebrQrPPcRNJj9a5e5Txz/wAJ/B4f8SeLntLe9h321xYQiMSOPvJznBoA9lnu7e1QvcTxxKOpdgK5LV/in4Y0xmht7ttSu+i21ihkdj6en61Th+D+h3Db9evNS1ps5Ivbksh/4D0rq9K8NaPoUYj0fTrazX/plGBmgDh11H4g+NFI02yTwtp7dZ7vD3DD/ZUZA/Gt/wAL/DrSfDk7XreZqGqScyX122+Qn2z938K63GKBQAAYFGKWkoAMUYoFLQAmK4XxkP8AirNO/wCveT+a13Vch4s0TVL7WLO80uGKYQxOjrJLsxkjH8qAMbFFS/2H4n/6Btt/4Fj/AAo/sPxP/wBA22/8Cx/hQBFRUv8AYfif/oG23/gWP8KP7D8T/wDQNtv/AALH+FAEVJipv7D8T/8AQNtv/Asf4Un9ieJ/+gbbf+BY/wAKAI6Kl/sPxP8A9A22/wDAsf4Uf2H4n/6Btt/4Fj/CgCKipf7D8T/9A22/8Cx/hR/Yfif/AKBtt/4Fj/CgCKocf8TvSf8Ar7H/AKCat/2H4n/6Btt/4Fj/AAp1r4e8QSaxYS3lpbww283mMy3G44wR0xQB6CBRigUGgAxRiiloATFBoNGKADFGKDSigBMVFdWsV5bPBcxLLFIu10cZDA+1TUgoA80ufBOveDLmW++Htyslmx3y6LdMfLY/9M26qfbpV/Rvirpc8osvEtvP4f1EHBgvVwrH/ZcZBFd5iqOqaJputWpttWsobuE/wTIGFAFi3u7e7jEltPHKh6MjAipcivPp/hJpdizT+GdU1HQGHO20nxGP+Aniua8G3HxK1uzu7vTtfsZ7SC6eCBr62JaZVOC2QR3yPwoA9norz37R8VYeDZ6HcY7iRlz+tKb34pydNK0SL3M7NQB6DTXkSNSXYKB1JOK89OnfFK+4m1jRtOTv5Vs0jD8SaVfhlfalz4o8W6tqCn70MMvkxn2wO1AGv4g+JHhvw8pS4v0uLrolrbjzJHPoAP61zePGvxEXDpJ4V0RzyGIN1Ovp3Cj8c1r3vwo8ODw/LY6LZpptycPHdwjEiuOjFupqLwZ4vvI9Ufwp4vxDrdsuY5iMJeJ2ZT6+ooA6fw54Y0vwtpq2Oj2ywx9Wbqzt6sepNa+KQc0ooAMUYpaQUAGKMUGigAxRilxRQAmKMUtGKAEoHSjFFABijFApaAEpaQUtABRRRQAUUUUABpKWigBKKKDQAUUc0tACUUvNHNACUUVHcTx20DzTsEjRSzMegA6mgDA8beKovCnh97oL515KwitLcdZZT0Aqj8PvCk2hadLfaw/n61qTedeTHsT0QewrB8LwSeP/ABlJ4tvlJ0qxYw6TE3Rzn5pcfhxXp4oAKKWigBKKOaKACuS+InhZ/EnhomybytSsXF1ZSjqJF5A+hxiut5oIyOaAOd8DeJk8U+F4L3Gy4TMNzGeqSLwwP4iuirzKZW8A/FJJk+TRPER2yD+GG5HQ+24Zr0wHIFAC0Uc0CgAopaSgAoopaAEpCAetLRQAUUUtACUUUtACUUc0UAFFLSc0AFFFAoAKMUtJQAUUCg0AFKaTmloASiiigAopeaKAEopaQUAFFLSGgDlviPrZ0HwJqFzEf9IlT7PAPWR/lX9TVvwVoo0DwbpungfNHCC/uzfMf1JrlfGKnxL8TvD/AIcX5raxzqV2vb5fuA/jXpAGFGOlABRRRzQAUUtIaACuY8beDbfxXpq7XNrqNqfNs7uPhonHTn09RXTig9KAOI8DeMbjUZZtA8Sotr4gsRiWPoJ17SJ6g124rjPHfg6TWoYtW0Rxa69YfPbTj+P1RvUGrXgbxhF4p0thPGbbU7RvKvbV/vRuOv4HqKAOpopaOaAEooo5oAKKXmigBKKWjmgBKKOaO1ABRQKWgBBS0CigAooooAKKKKACjNBpM0AFFGaM0AFLmkzRmgBc0ZpM0ZoAK86+I+oXGt6lY+CNJkKzagd97Ih5itwefxOCK9DkkWOJnYgKoJJPavOvhhatq95q/jC9y02pXBjt8/wQJwoH45oA7zTNOttJ0u3sLGJYre3jCRoB0AGKt5pryJEheRlRRySxwBSRTRzRiSF1kRuQynINAEmaM1DLdQQyxxyzIjyHCKzYLfSpc0AGaO9NeRI0LyMFVeSScAUkU0c8YkhdZEboynINAD80ZozRQBzvjjw3H4q8KXenMdkpXfBJ3jkHKsKp/DjxJJ4i8KRG+G3ULNjbXaHqsi9fz611vB615tk+DvjNjGzTPE0f/AVuU5/UUAelUUZozQAuaSjNGaACjNGaM0AFGaMijNABS5pM0ZoAKM1FJdW8MiRyzIjucKrMAWPsKlzQAUUZozxQAuaSjNGaACijNGaAFzSUZozQAUUZozQAuaM0maKACjNGaKAFzRmkzRmgAzRRmjNAC5pruEjZm4CjJpc1z/jrVxongfVb7OGjt2Ce7HgfqaAOZ+GofWtf8SeKZuRdXhtbZj2iiJUY/GvRgeK5n4d6X/Y3w/0i0ddsn2dXl93YZJ/WumyKACiq0Wo2c1y1vFdQvMoyY1cE4+lWcigBc0lRR3VvLK8UUyPIn3lVgSv1qXNABS5pKM0AFec+OtCvdE1dPGvhaPN5bjF/bL0uoe/H94dfwr0bNNZVdSGAIIwQaAM/QNds/Eei22p6bIJILhQw55U9wfcVp5ry6BD8OPiIltGSvh/X5CUU/dtrk9h6Bq9PByM0ALS5pM0ZoAXNGaTNGaAFzRmkzRmgAzRRmigApc0maM0ALRSCloAKKKKACiiigANJxS0YoASjiijFABxRxRRQAcUcUYoxQByXxO1ZtF+Heq3EJIneEwxY6lm4GPzrS8HaUNF8H6Zp+MGG3UN9ep/U1y/xIb+0/Efhbw8PmW5vxcTL/sR88/jXoKDaoUDgcUAYPjqJJfAmsiQBgLOQj6hTXn3gn4i6f4c+HegR31jfNbeWsUt4sJ8qNicDJxz9a9D8cSKngXWi5Cj7FKMn/dNeV6hPB/wyzbDem4wwqOR1Ey0Ad/4n1Hw3F4n0AavayzX0kxFhKqHarEc89K19Q8TW9lrCaTBE93fvEZvJjIG1Bxkk8CuB8d3dv/a3w+bzUIN4DncOhVeaXxRqeneH/jBDqkWrWdtcyWHl3UF7J5aSJkbSrc8/hQBtXXjPSfGHhPXbezhug9tbypMs0DKEcLyu7GM1zngP4iWHhz4a6Et9ZXzWwjWOa8SE+VGxPc962NOh0m28DeJryx1O1vZL8TXNw1u4KIxTAA/KuVnmgH7K0OJEz9nQYz33jigD3KKRJYkkjOVcBlPqDT6z9BdJPD2nsjBgbePBH+6K0KAE4ri/ilo8upeDZLqxU/btNkW8tmHUMhyQPqMiu0xTZY1lieOQZVwVIPcGgDM8M61F4h8NWGqQnK3MKuQOxxyPzrV4rzn4Zl9D1vxB4SuDgWVybi0B/wCeMhLAD6V6NigDmde8daZ4e1yz0q9juWubwMYfLhZg2BkgHHJ9qb4d8dWHiDUr7Tvs9zY3tiA0kF0mxth6MPaue8czRD4seCUdlVle5zk+qrisW6Vr341+JrSylUXEuiBEIP8AFxQB3Mvju0Gm3GqWlnc3em27FZLqIZHHUgdWA9RUerfErw/pOk6dqUsss1rqLqkEsMRZSW6AkDg+1c78MNRtI/hGLDUisE+mwyW95DJwysAc5HvXBtps+jfCvw7DqJ8tZvECzwxP1WFpGK/hjBoA9Ol+LmjWun3V5e2OpW0Ntcrb7pbVxuLYwQcdOank+KOk2+tQ2F9aX9qtyjNbzy27BZiByq8Zz0rK+NUkKfDdMMg33dsV56/vVqt8RJ7b/hJ/AX7yMf6dkc9BhaAOo0L4g2GteJJ9Da0u7C+ii89Y7qIp5kecbh+dRSfErSktbi+WGaTTba6FpLeKPlWTIHTqRkjnpXN6ndQw/tEWTb1JXRpOM8k7s4rjNd8T2niP4V6zdmaKxkW+CppkAC+WBIMs4HJJ65NAHcfElIX8aeBbqJRuk1JRvH8S7TXqIxivH/F+oWlzqXw5khuI3X7bGcqw6bME/nXr6kFQRyDQAvFFFFABxRxS4pKACjiiigA4o4pcUlABxRxRRQAcUppKXFACcUcUUuKAE4o4opcUAJxRxS4pKADivOvirMb6bw/4bQ86pqC+ao/55p8x/UCvRsV5wIxrvx4LH5odC0/j2lkP/wATQB6IiKiBVAVVGAPSuV+JOt3Wg+BNTvLGGSSVYGw8ZA8vj7xrrK4/4rSxx/C3X/McLutGAyep44oAwPDVxoel+EtP8V6zpj2c9hZKv2th80oYdsdefX1rqdP8aWd5rltpFzbTWl1eWxubdZMESJxnkdD8w4NcnqXiWDw/8CNOv/ssN8v2eCLbKoZFLEDcw9B1rB/tKx/4XH4Qu21ZLwPp8wecMAgY7MKuOB9KAOj8IRw2nxm8ahFEcaRQNgdB8gJrp7fxpbXQtpobO4ezurj7PFcqAVLZxkjqBnvXKeGbq2Pxk8blpFdTbw5AOcgIM1hpFd+DdR07UvCOqjUtA1O9RH0uYh2hLtyyHqMZzj2oA9J1Txla2El2ltaz35sRm6+zgHyuM49zjnArT0HXbDxJotvqmlS+bbXC5ViMH6EeteM+H77w5pHi7xPpXjyX7HdzXpuIZJ5WjSaNlGADnBNeseD4NLt/D6J4ftPsun7yYVGcOP7wz2NAG/xRxRRigDm/HfhoeKfCN3YI2y5C+ZbSjrHKvKn86i+HniI+IvCUEtwcXtsTb3Sd1kU4P58H8a6kgYrzOzT/AIQ34xTWo+TT/EkfnRjstwvBH4gZoA9M4ri/iX4wu/B3h+G6sLNriW4uEgDZGE3Hr712leb/ABw+XwLbykYSLUYHkbsqgnJNAGxq/wAQ9O8O22nNrdtd28l+4jjTyi3ze5HFVrf4o6dNNapJp2oW4ur8WMbTwlMuTgHB5xzXN/E3VNOv08HS211FPF/asXzKwI6CtL4tSRWf/CLX8pCWltrMEk0v8KLuHJPpQB1V14xs7PxlaeG7mGZbq8iaWF8Aoyjr9Kr6r46s9Miu50tLi7tbFit1PCuVjI6+5x3xXDa/rOn6n8c/DUlhdpKn2KVBIhyu4ngZrK8JX3hSx/tnQfHc32bVIb2Uus8zKLhGPBAzzmgD2zS9StNY0yC/0+VZre4QPG69wat8Vj+F4LK38P20Wl2ZsrMA+TERj5c8HHbPWtigA4o4opcUAIKWkFLQAUUUUAFFFFAAaSlpMUAGKKKMUAGKMUYoxQAUYoxTZGEcbO3RRk0Aee2v/E6+O13N96LRbAQg+jyEMf0xXomK85+Eitfr4g8QS8tqepybG9UjOxf5V6NigCOa3iuYWinjWRG4ZWGQarnR9ONsLc2UBhByI/LG0H6VcxRigClJpGny+X5llA5i/wBXujB2/T0rgtV0/Xbbxjf3F74bi8Q6bcBBalXQNbqByuG9TzmvSsUYoA5Hw/4YiS+nv7nR7bTVniERtI8NkA5y2OK6L+x9O+zfZzZQeTnPl+WNufpVyigBkUMcEaxwoqIowqqMAU+jFGKACg0YoNAHm/jbf4c+JHh3xLH8tvcsdNvCPR+UJ+hFejqcqCD1rmviJoZ1/wACalZxf8fAj82A/wB2ReVP5ipfAuuDxD4J03Uf+WjwhZR6Ovyt+ooA2JtOs7i4Wee2iklT7rsoJH0NImm2aXZuktolnbrKEG4/jVqigChNoemTXZuZbKFpT1cpyfr61LcabZXaoLm1hlCfdDoDt+lWsUYoArT6bZ3USR3NtFKifdV0BApsulWE7RtNaQuY/uFkB2/T0q3ijFAFVtLsWuhcm1hM46SFBu/Oov7D0sed/oFt+/8A9b+7Hz/Wr9GKAKTaNpzCLdZQHyhiPMY+T6elXAoAAHAHSlxRQAYooooAKMUYoxQAYoxRiigAoxRijFABijFGKKADFFGKMUAGKKMUYoAMUUYoxQAUYoxRigBGO1SSeAK88+FX/EyufEniBuf7Q1F1jP8A0zQbR/I10/jXVl0LwVq2pMcfZ7Z2H1xxVP4baUdH+H2k2rjEpgEknuzHJ/nQB1OKhubO3vIvLu4Y5k/uuuRU2KMUAVf7MshZm0+yw/ZyMGLYNp/Co10TTEEO2wtx5HMWIx8n09KvYoxQBUj0qwhmaaK0hSV/vOqAE/jSRaRYQTebDZwo46FUAxVzFFAFK80fTr+ZJb2ygnkj+60kYYirioqKFQBVHQDtS0YoAMUUYoxQAYrhvivpU1z4TGrWC5v9GlW8gI6nb94fiM13OKjuIUuLeSGVQySKVYHuDQBS0HVoNe0Gz1O0bMV1Esi+2RVy5tYLy3aC6iSaJxhkcZB/CuA+Fsp0p9Z8IzE7tHuj5APeFuVP6GvRMUAUW0XTXjjRrG3Kxf6tTGML9KnuLG2u7U21zBHLCRgxuuRj6VPijFAFSHSrCBo2hs4EMY2oVjA2j2plxoum3d2l1c2NvLOn3ZHjBYfjV7FGKAEAAHHApcUYoFABiijFGKAAUtFFABRRRQAUUUUAFJzSmkoAKOaKKADmjmiigBea5Lx54u03QfDmqRy30Md8LNzHCXAckghSB9a6yvkz9qBG/wCFj2ZTOWs0AA78mgD6M+HWnppfgDSbaNlY+QJHx/ef5j+prp+a84+CHhe78N/Dy1OpzSyXV5+/ZXYny1P3QPTivR6ADmjmiigA5o5oooAOaKKKADmlpKKADmiig0AI3K4PIry7wTqNv4Q8WeJvDmp3MdtaxXH2y0aVwo8uQDIGf9omvUJFLxsoJXIxkdq+JfjBomu+HviJcR61eXF4krB7a4lYnfHnIH4dKAPtqKVJoUkiYOjgFWHQinVg+Cbj7V4H0ebOd1nGc/8AAa3qADmjmiigA5o5oooAKOaKKADmjmiigAooooAOaOaKKADmiiigA5o5oooAOaKKKADmlpKKADmjmiigA5o5oooAOaCcUUGgDzD4q67p2saHb+HbDUIJLq+1GG0ljVxlBklsj04r0q1RYrWKOPG1ECjHoBXxF440291L42alp+mb/tM+oFY9vUEmvsvwto39geGbHTTK8zQQhXkc5LN3NAGvzRzRRQAc0c0UUAHNHNFFABzRzRRQAc0c0UUAHNHNFBz2oA808SPH4U+Luk647rFaatC1lcsxwAy/MhP5mvQrHUrTU7fz9PuI7iLcV3xtkZHUV81ftM+H9cttRt9X+23E+kTHb5JYlYJB7ds16B+zVced8KEQnJjupF/XNAHr3NHNFFABzRzRRQAc0UUUAHNHNFFAC0UCigAooooAKKKKAEZgoyeBTfNT+8v51jeL7SC+8PvDdRiSMupKn6155/wjOjnrYx/rQB655if3l/Ol8xP7w/OvIv8AhGNH/wCfGP8AWj/hGNH/AOfGP9aAPXfMT+8Pzo8xP7w/OvIv+EY0f/nxj/Wj/hGNH/58Y/1oA9d8xP7w/OvFvHfglfGfx30bzxusbO1E857HDcD8TVz/AIRjR/8Anxj/AFpB4V0USbxp8QfGC3OcUAetx+XFGqIVCqMAA9BT/MT+8PzryL/hGNH/AOfGP9aP+EY0f/nxj/WgD13zE/vD86PMT+8PzryL/hGNH/58Y/1o/wCEY0f/AJ8Y/wBaAPXPNT+8PzpwORXieq6Hp1jbwXFpbLFKt1BtdScj94te1Qn9yn+6KAHZozRRQAZpDIoOCwB+tLXmHi7TrXUfH80d7EJkjsoiisTgEs1AHp3mJ/eH50nmJ/eX868j/wCEY0f/AJ8Y/wBaP+EY0f8A58Y/1oA9d8xP7y/nXnPxl8AweOvCEnkbf7SsgZbZvXHVfxFZH/CMaP8A8+Mf60f8Ixo//PjH+tAHXfC2Vv8AhWOhpP8AJLHaqjq3UEcEV13mJ/eH515EnhbRY02pp8Sr6DIpf+EY0f8A58Y/1oA9d8xP7w/OjzE/vD868i/4RjR/+fGP9aP+EY0f/nxj/WgD13zE/vD86PMT+8PzryL/AIRjR/8Anxj/AFo/4RjR/wDnxj/WgD1zzE/vL+dL5ik4BB/GvIv+EY0f/nxj/Wn6TpdnpnjnQmsYRCZJZVfaT8w8s8UAet5paQcUZoAKKKKAFzSZozRQAUCiigBaTNGaKAFzSGiigAzSF1HUgfU0teYeLdOtdR8dypexCZUtV2hieOaAPTvMT+8Pzo8xP7w/OvIv+EY0f/nxj/Wj/hGNH/58Y/1oA9d8xP7w/OjzE/vD868i/wCEY0f/AJ8Y/wBaP+EY0f8A58Y/1oA9d8xP7w/OkMqD+IfnXkf/AAjGj/8APjH+tKPDOjj/AJcY/wAzQBQ8DeBlufjb4k8VXyjyra5MdqG/ic9W/D+te1+Yn94fnXkK+FtFTOywiXccnGeT60v/AAjGj/8APjH+tAHrvmJ/eH50eYn94fnXkX/CMaP/AM+Mf60f8Ixo/wDz4x/rQB675if3h+dJ5qZ4YH8a8j/4RjR/+fGP9at6BpVlpvjPTGsoFhL7w20nkYoA9UzSGijNAAKXNJmigBC6jqQPxo8xP7w/OvMvGGnWuo+OmS9iEypaKVDE4GTWf/wjGj/8+Mf60Aeu+Yn94fnR5if3h+deRf8ACMaP/wA+Mf60f8Ixo/8Az4x/rQB6J4q0Cw8V+HLvSNQCtFcRlQT/AAnsR9DXn/wH0S68J6brugajgSWd98pzwysCQR9RUf8AwjGj/wDPjH+tIPCuiqzMunxBmxuPOTigD17zE/vD86PMT+8PzryL/hGNH/58Y/1o/wCEY0f/AJ8Y/wBaAPXfMT+8Pzo8xP7w/OvIv+EY0f8A58Y/1o/4RjR/+fGP9aAPXfMT+8PzpPMT+8PzryP/AIRjR/8Anxj/AFo/4RjR/wDnxj/WgD13zEzwwP407NeT6PpVlpvi7SXsYFhZ5WVipPI2mvVx0oAXNFAooAKKKKACiiigDK8Sf8gZv99a4uu08Sf8gZv99a4ugAooooAKKKKACiiigAooooAWkoooAzPEH/IPi/6+oP8A0Ytesxf6lP8AdFeS+IP+QfF/19Qf+jFr1qL/AFKf7o/lQA6jvRRQAV5z4h/5KJdf9eMX/oT16NXnPiH/AJKJdf8AXjF/6E9ADaDRRQAUUUUALSUUUAFLSUUAFFFFABUEH/I7eHv+u0v/AKKap6gt/wDkdvD3/XaX/wBFNQB6fS0hooAKKKKAFpKKKACiiigBaSiigAooooAK868Qf8j9cf8AXqn869FrzrxB/wAj9cf9eqfzoAZRRRQAUtJRQAtJRRQAtFJRQAUUUUAFGnf8jjpX1k/9Boo07/kcdK+sn/oNAHpNJRRQAUtJRQB534j/AOR+l/69E/nTKf4i/wCR+l/69E/nUdAC0lFFABRRRQAUtJRQAtJRRQAUUUUAMtf+Rq0f/rs3/oJr0yvM7X/ka9H/AOuzf+gmvS6AAUtIKWgAooooAKKKKAMrxJ/yBm/31rjBXZ+JP+QO3++tcYKAEpaKDQAVzGreKbnT/FlrokGnGdrqJ5I3EgH3cdfTrXTYriNXVz8WNGnWKQwxWsqPIEO1SduBn8KANDR/FzXFzq1prFstncaWA8u19ylSMgg0jeJ79/Dv9vWunrJZbfNEZf8AeNGP4vy5xXPf2bNqvi3xfbKkkYvbZY4ZGQhWYAdDV/QNTa1+H/8AZWoW7x6hbW5tTblCS5xtBHqDQB12kapba1pNvqFk26GdNy57eo/A1d4rn/A+iS6B4Rs7G4OZRudx/dLMWx+GcV0BoAKMUUd6AMvxB/yD4v8Ar6g/9GLXrMX+pT/dFeTeIP8AkHxf9fUH/oxa9Zi/1Kf7ooAfSUUUALXnPiD/AJKJdf8AXjF/6E1ei15z4g/5KJdf9eMX/oT0AJikpRSGgBTWD4t1658OaP8A2jBaC6jRgJhuwUUnG6t3FV7+yi1DTp7S4UNHMhRgfegCjPrD+Rpr2caTm9YYG7gLjJb8BWTf+NYo3vVsHtGNk211mnCNIR1Cis/4e2GowSXFvqZ3w6TI9rat1LDPJ/LA/Cs3S7xvCGu6np2s6PPdw3FwZ7a5ig8zcG6qaAOij8eWdxoWmahAmz+0ZhCglbAjbvuP4VvaddXc8k8d7AsflkbHRsrICOorntXS01HRrW013SilpdyHCovzQYGVY46GmeBLO/0651Kya6mu9Lidfsc0/wB7BHIGeoFAHZ8UUlGKACoIP+R28PY/57S/+imqfFQW/wDyO3h7/rtL/wCimoA9QopKWgBBRRiigBcUUUmKACgUYpRQAYo4opKAFpKUUGgArznX/wDkfrj/AK9U/nXoteda/wD8j9cf9eqfzoAbxRQaO9ABisHxdr1z4b0j+0YLQXMSOBMN2Cik43fSt41V1Gxi1PTbiyuF3RToUb6EUAUbnWXWPTDaRpMb5gPvcKu3cW+nFZN/42ija+Fi9o32FirrNcBGkYDJCis/4eWOoxfabfU8NHpbPaWzE53ruzn8sD8KztKvG8I63qemazo891DNctPa3MUHmbw3Y+lAHSR+OLS60PTL+3UR/wBozCFBM2Ajc5yfwrc026up3nS9gWMxMAro2VkGM5Fc/q8VpqWj2tnrumeXaXbk7Y1+aD+6TjoaZ4EtL/T5tRsnuJrrS4XAspZx8xGOR7gUAdlxRSYoxQAvFGnY/wCEx0r6yf8AoNJil07/AJHHSvrJ/wCg0AekUGig0AAooFFAHnXiP/kfpf8Ar0T+dMp/iP8A5H6X/r0T+dMoAOKOKKBQAlcl/wAJbqNzrup6VYaUHnsQp3PMArZGfSut9a4bQ9yfEHxJO8UixSJHscocNtXBxQBcsvHtpL4TbWLuBoZI5TbtBnJMmcbQfrU2q+KLnw/bW19q9ogsZnVJHjbJhJ6E+orhLbQdQ1LwFeLawSC6ttVa7SF1IMihgeM+1dR4pmHizwUul2EbG7uyitGykGLnkt6YoA7iORJo1kjOVYAg+op+Kr2Ft9j0+3ts58qNUz64GKsGgApBRQOlADLX/ka9H/67N/6Ca9MrzO1/5GrR/wDrs3/oJr0ugBaKBRQAUUUUAFFFFAGV4k/5Az/761xddp4k/wCQM/8AvrXF4oAKKMUYoAKMD2/KjFGKAAAA8Y/KkKqWyQM/SlxRigAooxRigAooxRigDL8Qf8g+L/r6g/8ARi16zF/qU/3RXk3iAf8AEvi/6+oP/Ri16zEP3Kf7ooAfRRijFABXnPiD/kol1/14xf8AoT16NivOfEA/4uJdf9eMX/oT0ANoP1oxQRQAVjeIrPXLqKAeH7+G0YP+9MsZbcvtitnFGKAKWk6cNM09LfzDI+S0khHLsepq4VU9Rn8KXFGKADAPWjAHSjFGKACijFGKACoIP+R28Pf9dpf/AEU1T4qCAf8AFbeHv+u0v/opqAPT6KMUYoAKKMUYoAKKMUYoAKKMUYoAKKMUYoAKKMUYoAK861//AJH64/69U/nXouK8518f8V9cf9eqfzoAbRRijFABWL4itNcuo4B4fv4bRlf96ZYy25fbFbWKMUAU9K09dM05LYOZHBLPIerseSfzq4VU9QPyoxRigAwD1owB04oxRigAooxRigAo07/kcdK+sn/oNGKNOH/FY6V9ZP8A0GgD0iijFGKACijFGKAPO/EX/I/S8/8ALon8zUdSeIh/xX0v/Xon8zUeKACijFGKACjaPQflRijFABge35UgVQc4GfpS4oxQAUUYoxQAUDpRigDigBlr/wAjVo//AF2b/wBBNel15paj/iqtH/67N/6Ca9LxQAoopAKWgAooooAKKKKAMrxJ/wAgZ/8AfWuMFeh3FtFdQ+VOodCckGqn9h6d/wA+y0AcPQa7j+wtO/59lo/sLTv+fZaAOGxRXc/2Fp3/AD7LR/YWnf8APstAHDmiu4/sLTv+fZaP7C07/n2WgDh6DXcf2Fp3/PstH9had/z7LQBw9Heu4/sLTv8An2Wj+wtO/wCfZaAPM/EA/wCJfF/19Qf+jFr1mL/Up/uis6fw3pVzGEmtEZQyuAfUHIP5itMAKoA6DpQAYoxS0UAJXnPiD/kol1/14xf+hPXo9UJ9D0+5vmvJ7ZXuGQIXPUqOg/WgDhhQa7j+wtO/59lo/sLTv+fZaAOGxSiu4/sLTv8An2Wj+wtO/wCfZaAOHpMV3P8AYWnf8+y0f2Fp3/PstAHDiiu4/sLTv+fZaP7C07/n2WgDhsUYruf7C07/AJ9lo/sLTv8An2WgDh6gg/5Hbw9/12l/9FNXf/2Fp3/PstNHh/TFvILpbVRNbktE390kYP6UAaNLRRQAmKKWigApMUtFACYpRRRQAUlLRQACg0UUAJXnev8A/I/XH/Xqn869FqhNoen3F613NbK87KELnqR6UAcMaO9dx/YWnf8APstH9had/wA+y0AcOaK7j+wtO/59lo/sLTv+fZaAOHoFdx/YWnf8+y0f2Fp3/PstAHD0V3H9had/z7LR/YWnf8+y0AcNijFdz/YWnf8APstH9had/wA+y0AcNijTv+Rw0r6yf+g13P8AYWnf8+y0R6Hp8V1HcR2yrLFnY3pmgDQoNA4ooAKKKKAPOvEX/I/S/wDXon86ZXcz6Jp9zem7nt1ecqELnrj0pP7D07/n2WgDh6BXcf2Fp3/PstH9had/z7LQBw9Fdx/YWnf8+y0f2Fp3/PstAHDmiu4/sLTv+fZaP7C07/n2WgDh6DXcf2Fp3/PstH9had/z7LQBw2KMV3P9had/z7LR/YWnf8+y0AcHbceKtH/67N/6Ca9M7VnLoOnJcxXC2yiWE5Rv7prRoABRRRQAUUUUAFFFFABRRRQAUUUUAFFFFABRRRQAUUUUAFFFFABRRRQAUUUUAFFFFABRRRQAUUUUAFFFFABRRRQAUUUUAFFFFABRRRQAUUUUAFFFFABRRRQAUUUUAFFFFABRRRQAUUUUAFFFFABRRRQAUUUUAFFFFABRRRQAUUUUAFFFFABRRRQAUUUUAFFFFABRRRQAUUUUAFFFFABRRRQAUUUUAFFFFABRRRQAUUUUAFFFFABRRRQAUUUUAFFFFABRRRQAUUUUAFFFFABRRRQAUUUUAFFFFABRRRQAUUUUAFFFFABRRRQAUUUUAFFFFABRRRQAUUUUAFFFFABRRRQAUUUUAFFFFABRRRQAUUUUAFFFFABRRRQAUUUUAFFFFABRRRQAUUUUAFFFFABRRRQAUUUUAFFFFABRRRQAUUUUAFFFFABRRRQAUUUUAFFFFABRRRQAUUUUAFFFFABRRRQAUUUUAFFFFABRRRQAUUUUAFFFFABRRRQAUUUUAFFFFABRRRQAUUUUAFFFFABRRRQAUUUUAFFFFABRRRQAUUUUAFFFFABRRRQAUUUUAFFFFABRRRQAUUUUAFFFFABRRRQAUUUUAFFFFABRRRQAUUUUAFFFFABRRRQAUUUUAFFFFABRRRQAUUUUAf/Z)"
      ]
    },
    {
      "cell_type": "code",
      "metadata": {
        "id": "9It6bP2GvOf1"
      },
      "source": [
        ""
      ],
      "execution_count": null,
      "outputs": []
    }
  ]
}