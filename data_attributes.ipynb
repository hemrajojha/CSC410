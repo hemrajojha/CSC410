{
  "nbformat": 4,
  "nbformat_minor": 0,
  "metadata": {
    "colab": {
      "name": "data-attributes.ipynb",
      "provenance": [],
      "authorship_tag": "ABX9TyP8FC76H3HrzJfdm6bbmupQ",
      "include_colab_link": true
    },
    "kernelspec": {
      "name": "python3",
      "display_name": "Python 3"
    },
    "language_info": {
      "name": "python"
    }
  },
  "cells": [
    {
      "cell_type": "markdown",
      "metadata": {
        "id": "view-in-github",
        "colab_type": "text"
      },
      "source": [
        "<a href=\"https://colab.research.google.com/github/hemrajojha/CSC410/blob/main/data_attributes.ipynb\" target=\"_parent\"><img src=\"https://colab.research.google.com/assets/colab-badge.svg\" alt=\"Open In Colab\"/></a>"
      ]
    },
    {
      "cell_type": "code",
      "metadata": {
        "id": "TC0WbdY6xoph"
      },
      "source": [
        "#source --> https://www.rkuhler.com/blog/chapter-2-1-data-objects-and-attribute-types/\n",
        "#Chapter 2.1 provided information about the different types of attributes or features that we can find in data."
      ],
      "execution_count": 58,
      "outputs": []
    },
    {
      "cell_type": "code",
      "metadata": {
        "id": "xKQR_JuvfsOQ"
      },
      "source": [
        "import pandas as pd\n"
      ],
      "execution_count": 5,
      "outputs": []
    },
    {
      "cell_type": "code",
      "metadata": {
        "id": "NqiAMbRxprRO"
      },
      "source": [
        "#setup google drive\n",
        "from google.colab import drive\n"
      ],
      "execution_count": 41,
      "outputs": []
    },
    {
      "cell_type": "code",
      "metadata": {
        "colab": {
          "base_uri": "https://localhost:8080/"
        },
        "id": "SKfRRtAYp8m8",
        "outputId": "40ea2694-77e3-4daf-f727-17d93b51d263"
      },
      "source": [
        "drive.mount('/content/drive')"
      ],
      "execution_count": 42,
      "outputs": [
        {
          "output_type": "stream",
          "text": [
            "Mounted at /content/drive\n"
          ],
          "name": "stdout"
        }
      ]
    },
    {
      "cell_type": "code",
      "metadata": {
        "colab": {
          "base_uri": "https://localhost:8080/"
        },
        "id": "4CiLkIwwsgCF",
        "outputId": "0592d931-02f1-44bc-d8f1-972d976213fb"
      },
      "source": [
        "#can use linux commands\n",
        "!ls"
      ],
      "execution_count": 46,
      "outputs": [
        {
          "output_type": "stream",
          "text": [
            "drive  sample_data\n"
          ],
          "name": "stdout"
        }
      ]
    },
    {
      "cell_type": "code",
      "metadata": {
        "id": "IJAbYbJBf0Ck"
      },
      "source": [
        "#locate file in google drive (uploaded it separately)\n",
        "#data source: https://datasets.imdbws.com/\n",
        "content_file = pd.read_csv('/content/drive/MyDrive/Colab Notebooks/data.tsv',sep='\\t')"
      ],
      "execution_count": 49,
      "outputs": []
    },
    {
      "cell_type": "markdown",
      "metadata": {
        "id": "1PJLQrhpla7i"
      },
      "source": [
        ""
      ]
    },
    {
      "cell_type": "code",
      "metadata": {
        "id": "nnqzwl7NiQpA"
      },
      "source": [
        "title_file=pd.read_csv('/content/drive/MyDrive/Colab Notebooks/titles.tsv',sep='\\t',low_memory=False)"
      ],
      "execution_count": 52,
      "outputs": []
    },
    {
      "cell_type": "code",
      "metadata": {
        "id": "cBgrqgBkw1ii"
      },
      "source": [
        "#combine two data files\n",
        "data=pd.merge(title_file,content_file,on=\"tconst\")"
      ],
      "execution_count": 53,
      "outputs": []
    },
    {
      "cell_type": "code",
      "metadata": {
        "colab": {
          "base_uri": "https://localhost:8080/",
          "height": 258
        },
        "id": "YaVTPDw8xB8L",
        "outputId": "eae6d687-02d4-436e-ee5d-27a20bb6e7db"
      },
      "source": [
        "#sample data\n",
        "data.head()"
      ],
      "execution_count": 54,
      "outputs": [
        {
          "output_type": "execute_result",
          "data": {
            "text/html": [
              "<div>\n",
              "<style scoped>\n",
              "    .dataframe tbody tr th:only-of-type {\n",
              "        vertical-align: middle;\n",
              "    }\n",
              "\n",
              "    .dataframe tbody tr th {\n",
              "        vertical-align: top;\n",
              "    }\n",
              "\n",
              "    .dataframe thead th {\n",
              "        text-align: right;\n",
              "    }\n",
              "</style>\n",
              "<table border=\"1\" class=\"dataframe\">\n",
              "  <thead>\n",
              "    <tr style=\"text-align: right;\">\n",
              "      <th></th>\n",
              "      <th>tconst</th>\n",
              "      <th>titleType</th>\n",
              "      <th>primaryTitle</th>\n",
              "      <th>originalTitle</th>\n",
              "      <th>isAdult</th>\n",
              "      <th>startYear</th>\n",
              "      <th>endYear</th>\n",
              "      <th>runtimeMinutes</th>\n",
              "      <th>genres</th>\n",
              "      <th>averageRating</th>\n",
              "      <th>numVotes</th>\n",
              "    </tr>\n",
              "  </thead>\n",
              "  <tbody>\n",
              "    <tr>\n",
              "      <th>0</th>\n",
              "      <td>tt0000001</td>\n",
              "      <td>short</td>\n",
              "      <td>Carmencita</td>\n",
              "      <td>Carmencita</td>\n",
              "      <td>0.0</td>\n",
              "      <td>1894</td>\n",
              "      <td>\\N</td>\n",
              "      <td>1</td>\n",
              "      <td>Documentary,Short</td>\n",
              "      <td>5.7</td>\n",
              "      <td>1702</td>\n",
              "    </tr>\n",
              "    <tr>\n",
              "      <th>1</th>\n",
              "      <td>tt0000002</td>\n",
              "      <td>short</td>\n",
              "      <td>Le clown et ses chiens</td>\n",
              "      <td>Le clown et ses chiens</td>\n",
              "      <td>0.0</td>\n",
              "      <td>1892</td>\n",
              "      <td>\\N</td>\n",
              "      <td>5</td>\n",
              "      <td>Animation,Short</td>\n",
              "      <td>6.1</td>\n",
              "      <td>210</td>\n",
              "    </tr>\n",
              "    <tr>\n",
              "      <th>2</th>\n",
              "      <td>tt0000003</td>\n",
              "      <td>short</td>\n",
              "      <td>Pauvre Pierrot</td>\n",
              "      <td>Pauvre Pierrot</td>\n",
              "      <td>0.0</td>\n",
              "      <td>1892</td>\n",
              "      <td>\\N</td>\n",
              "      <td>4</td>\n",
              "      <td>Animation,Comedy,Romance</td>\n",
              "      <td>6.5</td>\n",
              "      <td>1462</td>\n",
              "    </tr>\n",
              "    <tr>\n",
              "      <th>3</th>\n",
              "      <td>tt0000004</td>\n",
              "      <td>short</td>\n",
              "      <td>Un bon bock</td>\n",
              "      <td>Un bon bock</td>\n",
              "      <td>0.0</td>\n",
              "      <td>1892</td>\n",
              "      <td>\\N</td>\n",
              "      <td>12</td>\n",
              "      <td>Animation,Short</td>\n",
              "      <td>6.2</td>\n",
              "      <td>123</td>\n",
              "    </tr>\n",
              "    <tr>\n",
              "      <th>4</th>\n",
              "      <td>tt0000005</td>\n",
              "      <td>short</td>\n",
              "      <td>Blacksmith Scene</td>\n",
              "      <td>Blacksmith Scene</td>\n",
              "      <td>0.0</td>\n",
              "      <td>1893</td>\n",
              "      <td>\\N</td>\n",
              "      <td>1</td>\n",
              "      <td>Comedy,Short</td>\n",
              "      <td>6.2</td>\n",
              "      <td>2262</td>\n",
              "    </tr>\n",
              "  </tbody>\n",
              "</table>\n",
              "</div>"
            ],
            "text/plain": [
              "      tconst titleType  ... averageRating numVotes\n",
              "0  tt0000001     short  ...           5.7     1702\n",
              "1  tt0000002     short  ...           6.1      210\n",
              "2  tt0000003     short  ...           6.5     1462\n",
              "3  tt0000004     short  ...           6.2      123\n",
              "4  tt0000005     short  ...           6.2     2262\n",
              "\n",
              "[5 rows x 11 columns]"
            ]
          },
          "metadata": {
            "tags": []
          },
          "execution_count": 54
        }
      ]
    },
    {
      "cell_type": "code",
      "metadata": {
        "colab": {
          "base_uri": "https://localhost:8080/"
        },
        "id": "OGDxutLixVuB",
        "outputId": "cc40d40b-b920-4cfd-f903-3ce2ebaef979"
      },
      "source": [
        "#Ok, let’s have a look at all of the attributes we have to work with.\n",
        "data.columns"
      ],
      "execution_count": 55,
      "outputs": [
        {
          "output_type": "execute_result",
          "data": {
            "text/plain": [
              "Index(['tconst', 'titleType', 'primaryTitle', 'originalTitle', 'isAdult',\n",
              "       'startYear', 'endYear', 'runtimeMinutes', 'genres', 'averageRating',\n",
              "       'numVotes'],\n",
              "      dtype='object')"
            ]
          },
          "metadata": {
            "tags": []
          },
          "execution_count": 55
        }
      ]
    },
    {
      "cell_type": "code",
      "metadata": {
        "colab": {
          "base_uri": "https://localhost:8080/"
        },
        "id": "jp9hdOL8xZBp",
        "outputId": "35d87961-b9bb-4016-c2c9-550a1e7e6558"
      },
      "source": [
        "#The first type of attribute that the book covers is nominal or categorical attributes. \n",
        "#There are some obvious ones here like primaryTitle and genres. \n",
        "data['genres'].value_counts()"
      ],
      "execution_count": 56,
      "outputs": [
        {
          "output_type": "execute_result",
          "data": {
            "text/plain": [
              "Drama                            24966\n",
              "Comedy                           15672\n",
              "\\N                                8715\n",
              "Adult                             5831\n",
              "Short                             5251\n",
              "                                 ...  \n",
              "Documentary,Drama,Musical            1\n",
              "History,Romance,Thriller             1\n",
              "Documentary,Horror,Thriller          1\n",
              "Action,History,Short                 1\n",
              "Animation,Documentary,Musical        1\n",
              "Name: genres, Length: 1411, dtype: int64"
            ]
          },
          "metadata": {
            "tags": []
          },
          "execution_count": 56
        }
      ]
    },
    {
      "cell_type": "code",
      "metadata": {
        "id": "l7j54FvpyjNh"
      },
      "source": [
        "#What genre is the mode here?"
      ],
      "execution_count": null,
      "outputs": []
    },
    {
      "cell_type": "code",
      "metadata": {
        "colab": {
          "base_uri": "https://localhost:8080/"
        },
        "id": "IrkG-_QgyttA",
        "outputId": "2edd5b39-67ef-43d7-f352-5033b4db0429"
      },
      "source": [
        "#The next type of attribute that the book covers is binary. This would cover true/false type data.\n",
        "data['isAdult'].value_counts()"
      ],
      "execution_count": 63,
      "outputs": [
        {
          "output_type": "execute_result",
          "data": {
            "text/plain": [
              "0.0    170916\n",
              "1.0      8628\n",
              "Name: isAdult, dtype: int64"
            ]
          },
          "metadata": {
            "tags": []
          },
          "execution_count": 63
        }
      ]
    },
    {
      "cell_type": "code",
      "metadata": {
        "colab": {
          "base_uri": "https://localhost:8080/"
        },
        "id": "Bk0i6f38zHoZ",
        "outputId": "d53fd0b3-9e05-43e5-af0a-f4fbdb756378"
      },
      "source": [
        "#The next type of attribute from the book is ordinal. \n",
        "#The most obvious example here would be the rating of the movie.\n",
        "data['averageRating'].value_counts()"
      ],
      "execution_count": 64,
      "outputs": [
        {
          "output_type": "execute_result",
          "data": {
            "text/plain": [
              "6.8    6547\n",
              "6.2    6533\n",
              "6.4    6463\n",
              "6.6    6446\n",
              "6.5    6242\n",
              "       ... \n",
              "1.4      20\n",
              "1.3      15\n",
              "1.2      13\n",
              "1.1      11\n",
              "9.9       5\n",
              "Name: averageRating, Length: 91, dtype: int64"
            ]
          },
          "metadata": {
            "tags": []
          },
          "execution_count": 64
        }
      ]
    },
    {
      "cell_type": "code",
      "metadata": {
        "id": "7KPLM9cZzSzZ"
      },
      "source": [
        "#These are numerical and can be ordered from worst to best but we wouldn’t say that a 4 star movie is twice as good as a 2 star movie. \n",
        "#This type of attribute, while numerical, is still qualitative and not quantitative."
      ],
      "execution_count": null,
      "outputs": []
    },
    {
      "cell_type": "code",
      "metadata": {
        "colab": {
          "base_uri": "https://localhost:8080/"
        },
        "id": "OcYIzI45zuHx",
        "outputId": "364e24d2-0359-4111-9c26-3430ee406b2c"
      },
      "source": [
        "#Next up are “interval-scaled numeric attributes”. \n",
        "#We have the movie’s year of release in our data set which is one of the direct example types from the book. \n",
        "#we create intervals first\n",
        "data['startYear'].unique()\n",
        "data['startYear'].value_counts()"
      ],
      "execution_count": 83,
      "outputs": [
        {
          "output_type": "execute_result",
          "data": {
            "text/plain": [
              "2000    6103\n",
              "1999    5959\n",
              "1998    5387\n",
              "2001    5344\n",
              "1997    5132\n",
              "        ... \n",
              "2020       6\n",
              "2018       6\n",
              "2013       5\n",
              "2012       4\n",
              "1893       2\n",
              "Name: startYear, Length: 132, dtype: int64"
            ]
          },
          "metadata": {
            "tags": []
          },
          "execution_count": 83
        }
      ]
    },
    {
      "cell_type": "code",
      "metadata": {
        "id": "Lqm_gL1G3mWU"
      },
      "source": [
        "#create time intervals and count the number of movies in every 10 years interval 1894-1904, and so on\n"
      ],
      "execution_count": null,
      "outputs": []
    },
    {
      "cell_type": "code",
      "metadata": {
        "colab": {
          "base_uri": "https://localhost:8080/"
        },
        "id": "gVlrqx6G0b4J",
        "outputId": "9237e314-9059-4e08-c997-abfc6797a31c"
      },
      "source": [
        "#We have many “ratio-scaled numeric attributes” in our data set. \n",
        "#Example: the count of ratings.\n",
        "#Unlike interval-scaled attributes, these have a true zero point and can be compared as ratios of different values. \n",
        "data['numVotes'].unique()\n",
        "data['averageRating'].value_counts()\n"
      ],
      "execution_count": 84,
      "outputs": [
        {
          "output_type": "execute_result",
          "data": {
            "text/plain": [
              "6.8    6547\n",
              "6.2    6533\n",
              "6.4    6463\n",
              "6.6    6446\n",
              "6.5    6242\n",
              "       ... \n",
              "1.4      20\n",
              "1.3      15\n",
              "1.2      13\n",
              "1.1      11\n",
              "9.9       5\n",
              "Name: averageRating, Length: 91, dtype: int64"
            ]
          },
          "metadata": {
            "tags": []
          },
          "execution_count": 84
        }
      ]
    },
    {
      "cell_type": "code",
      "metadata": {
        "id": "tG4pEahm6Co5"
      },
      "source": [
        "#While my ratings can be said to be “discrete” because they all fall into one of six different buckets. \n",
        "#The IMDB rating is closer to a “continuous” attribute because it is an average of the user ratings. \n",
        "#However, since they only give us the value rounded to one decimal point, \n",
        "#there can only be 100 different possible values so maybe it’s still more like a discrete attribute."
      ],
      "execution_count": null,
      "outputs": []
    },
    {
      "cell_type": "code",
      "metadata": {
        "id": "SrcKTr9P6VN_"
      },
      "source": [
        "#source: https://www.rkuhler.com/blog/chapter-2-2-basic-statistical-descriptions-of-data/\n",
        "#visualization\n",
        "import numpy\n",
        "import matplotlib\n",
        "%matplotlib inline"
      ],
      "execution_count": 85,
      "outputs": []
    },
    {
      "cell_type": "code",
      "metadata": {
        "colab": {
          "base_uri": "https://localhost:8080/",
          "height": 282
        },
        "id": "hP3Udm4g6gQn",
        "outputId": "564697ee-6d2a-4f2e-a3e3-802489aa6ffe"
      },
      "source": [
        "#Previously, we looked at the IMDB rating data as a table but now let’s visualize it with a histogram.\n",
        "data['averageRating'].plot.hist(\n",
        "    alpha = 0.5, bins = numpy.arange(1, 10, 0.1))"
      ],
      "execution_count": 87,
      "outputs": [
        {
          "output_type": "execute_result",
          "data": {
            "text/plain": [
              "<matplotlib.axes._subplots.AxesSubplot at 0x7f7d724c1850>"
            ]
          },
          "metadata": {
            "tags": []
          },
          "execution_count": 87
        },
        {
          "output_type": "display_data",
          "data": {
            "image/png": "[encoded data removed]",
            "text/plain": [
              "<Figure size 432x288 with 1 Axes>"
            ]
          },
          "metadata": {
            "tags": [],
            "needs_background": "light"
          }
        }
      ]
    },
    {
      "cell_type": "code",
      "metadata": {
        "id": "H5o-OmFZ6vjX"
      },
      "source": [
        "#We can see from the histogram above that it has a roughly bell shape like a normal distribution. \n",
        "#However, we can also see it is “positively skewed” towards the higher ratings. \n",
        "#Just visually inspecting this, I’d guess that it’s “central tendency” is around 6.5. \n",
        "#Let’s look at some more precise measures of this attribute. \n",
        "#The pandas library makes this simple."
      ],
      "execution_count": null,
      "outputs": []
    },
    {
      "cell_type": "code",
      "metadata": {
        "colab": {
          "base_uri": "https://localhost:8080/"
        },
        "id": "QUXhlxCH6_pv",
        "outputId": "cb507874-ee7e-4c67-cf78-7369f02892d6"
      },
      "source": [
        "data['averageRating'].describe()"
      ],
      "execution_count": 88,
      "outputs": [
        {
          "output_type": "execute_result",
          "data": {
            "text/plain": [
              "count    179544.000000\n",
              "mean          6.254137\n",
              "std           1.220382\n",
              "min           1.000000\n",
              "25%           5.500000\n",
              "50%           6.400000\n",
              "75%           7.100000\n",
              "max          10.000000\n",
              "Name: averageRating, dtype: float64"
            ]
          },
          "metadata": {
            "tags": []
          },
          "execution_count": 88
        }
      ]
    },
    {
      "cell_type": "code",
      "metadata": {
        "id": "S_CqaABY7OBn"
      },
      "source": [
        "So we can see it has a mean of 6.25 and a median of 6.4. "
      ],
      "execution_count": null,
      "outputs": []
    },
    {
      "cell_type": "code",
      "metadata": {
        "colab": {
          "base_uri": "https://localhost:8080/"
        },
        "id": "lfHii8n27ass",
        "outputId": "d368e6f6-67a1-4796-931f-1969d96e420b"
      },
      "source": [
        "data['averageRating'].mode()"
      ],
      "execution_count": 89,
      "outputs": [
        {
          "output_type": "execute_result",
          "data": {
            "text/plain": [
              "0    6.8\n",
              "dtype: float64"
            ]
          },
          "metadata": {
            "tags": []
          },
          "execution_count": 89
        }
      ]
    },
    {
      "cell_type": "code",
      "metadata": {
        "colab": {
          "base_uri": "https://localhost:8080/",
          "height": 282
        },
        "id": "-r6LE80k7vh7",
        "outputId": "f9e2831b-0f2c-419b-b32d-8607db5f5d8f"
      },
      "source": [
        "pd.DataFrame.boxplot(\n",
        "    data, 'averageRating', vert = False, \n",
        "    return_type = 'axes')"
      ],
      "execution_count": 90,
      "outputs": [
        {
          "output_type": "execute_result",
          "data": {
            "text/plain": [
              "<matplotlib.axes._subplots.AxesSubplot at 0x7f7d724f41d0>"
            ]
          },
          "metadata": {
            "tags": []
          },
          "execution_count": 90
        },
        {
          "output_type": "display_data",
          "data": {
            "image/png": "[encoded data removed]",
            "text/plain": [
              "<Figure size 432x288 with 1 Axes>"
            ]
          },
          "metadata": {
            "tags": [],
            "needs_background": "light"
          }
        }
      ]
    },
    {
      "cell_type": "code",
      "metadata": {
        "id": "s8bq50sw78mZ"
      },
      "source": [
        "#make sense of this box plot"
      ],
      "execution_count": null,
      "outputs": []
    },
    {
      "cell_type": "code",
      "metadata": {
        "id": "suryQntg8GNW"
      },
      "source": [
        "#To get some practice with the pandas libary math functions\n",
        "import math"
      ],
      "execution_count": 91,
      "outputs": []
    },
    {
      "cell_type": "code",
      "metadata": {
        "colab": {
          "base_uri": "https://localhost:8080/"
        },
        "id": "UU2KI0EQ8dIh",
        "outputId": "33c9a314-7543-4425-dbca-7f2324c86991"
      },
      "source": [
        "print('pandas variance: ' + str(data['averageRating'].var()))\n",
        "print('pandas standard deviation: ' + str(data['averageRating'].std()))\n",
        "mean = data['averageRating'].mean()\n",
        "var = (data['averageRating'].sub(mean).pow(2).sum() / \n",
        "       data['averageRating'].count())\n",
        "std = math.sqrt(var)\n",
        "print('my variance: ' + str(var))\n",
        "print('my standard deviation: ' + str(std))"
      ],
      "execution_count": 93,
      "outputs": [
        {
          "output_type": "stream",
          "text": [
            "pandas variance: 1.4893330720465505\n",
            "pandas standard deviation: 1.2203823466629427\n",
            "my variance: 1.4893247769586018\n",
            "my standard deviation: 1.2203789480971072\n"
          ],
          "name": "stdout"
        }
      ]
    },
    {
      "cell_type": "code",
      "metadata": {
        "id": "Qrd72E_G8sc5"
      },
      "source": [
        "#what do these numbers mean?"
      ],
      "execution_count": null,
      "outputs": []
    },
    {
      "cell_type": "code",
      "metadata": {
        "colab": {
          "base_uri": "https://localhost:8080/",
          "height": 307
        },
        "id": "rwB4VKFs8vnL",
        "outputId": "12d296f1-53b3-4922-c455-676f99cf1730"
      },
      "source": [
        "data.plot.scatter('averageRating','numVotes')"
      ],
      "execution_count": 95,
      "outputs": [
        {
          "output_type": "execute_result",
          "data": {
            "text/plain": [
              "<matplotlib.axes._subplots.AxesSubplot at 0x7f7d71f56510>"
            ]
          },
          "metadata": {
            "tags": []
          },
          "execution_count": 95
        },
        {
          "output_type": "display_data",
          "data": {
            "image/png": "[encoded data removed]",
            "text/plain": [
              "<Figure size 432x288 with 1 Axes>"
            ]
          },
          "metadata": {
            "tags": [],
            "needs_background": "light"
          }
        }
      ]
    },
    {
      "cell_type": "code",
      "metadata": {
        "colab": {
          "base_uri": "https://localhost:8080/"
        },
        "id": "wG1ZwRgm-Vuy",
        "outputId": "1f9a1a86-5ec1-422d-a95e-94780793c233"
      },
      "source": [
        "!git init\n",
        "\n",
        "uname ='hemrajojha'\n",
        "!git config --global user.email 'hemrojha@gmail.com'\n",
        "!git config --global user.name '$uname'\n",
        "\n",
        "from getpass import getpass\n",
        "password = getpass('Password:')\n",
        "#!git clone https://$uname@github.com/$uname/data-mining\n",
        "#%cd data-mining\n",
        "# create a file, then add it to stage\n",
        "!git add /content/drive/data-attributes.ipynb\n",
        "!git commit -m 'data attributes'  # commit in Colab\n",
        "!git push origin master          # push to github"
      ],
      "execution_count": 117,
      "outputs": [
        {
          "output_type": "stream",
          "text": [
            "Reinitialized existing Git repository in /content/data-mining/.git/\n",
            "fatal: pathspec 'data-attributes.ipynb' did not match any files\n",
            "On branch master\n",
            "\n",
            "Initial commit\n",
            "\n",
            "nothing to commit\n"
          ],
          "name": "stdout"
        }
      ]
    },
    {
      "cell_type": "code",
      "metadata": {
        "id": "1I1C-OD4B8Va"
      },
      "source": [
        "!git remote rm origin"
      ],
      "execution_count": 116,
      "outputs": []
    }
  ]
}