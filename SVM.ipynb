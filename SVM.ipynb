{
  "nbformat": 4,
  "nbformat_minor": 0,
  "metadata": {
    "colab": {
      "name": "SVM.ipynb",
      "provenance": [],
      "authorship_tag": "ABX9TyNscAaG0U8TKKIkDyjXIjnh",
      "include_colab_link": true
    },
    "kernelspec": {
      "name": "python3",
      "display_name": "Python 3"
    },
    "language_info": {
      "name": "python"
    }
  },
  "cells": [
    {
      "cell_type": "markdown",
      "metadata": {
        "id": "view-in-github",
        "colab_type": "text"
      },
      "source": [
        "<a href=\"https://colab.research.google.com/github/hemrajojha/CSC410/blob/main/SVM.ipynb\" target=\"_parent\"><img src=\"https://colab.research.google.com/assets/colab-badge.svg\" alt=\"Open In Colab\"/></a>"
      ]
    },
    {
      "cell_type": "code",
      "metadata": {
        "id": "-Go9WUyHP2eg"
      },
      "source": [
        "#Support Vector Machines Lab\n",
        "#https://www.aionlinecourse.com/tutorial/machine-learning/support-vector-machine\n",
        "import numpy as np\n",
        "import matplotlib.pyplot as plt\n",
        "import pandas as pd"
      ],
      "execution_count": 1,
      "outputs": []
    },
    {
      "cell_type": "code",
      "metadata": {
        "colab": {
          "base_uri": "https://localhost:8080/"
        },
        "id": "TOEXmM0ETAVA",
        "outputId": "d9e5392c-2f05-4d6f-83df-20cd0ad63628"
      },
      "source": [
        "#setup google drive\n",
        "from google.colab import drive\n",
        "#mount drive\n",
        "drive.mount('/content/drive')"
      ],
      "execution_count": 2,
      "outputs": [
        {
          "output_type": "stream",
          "text": [
            "Mounted at /content/drive\n"
          ],
          "name": "stdout"
        }
      ]
    },
    {
      "cell_type": "code",
      "metadata": {
        "id": "PTFQ64InTagI"
      },
      "source": [
        "#locate file in google drive (uploaded it separately)\n",
        "#available on: https://www.dropbox.com/s/sj2r3og9br7z08j/Social_Network_Ads.csv?dl=0\n",
        "dataset = pd.read_csv('/content/drive/MyDrive/Colab Notebooks/Social_Network_Ads.csv')"
      ],
      "execution_count": 3,
      "outputs": []
    },
    {
      "cell_type": "code",
      "metadata": {
        "id": "9DktrlvYTEvg"
      },
      "source": [
        "#In the dataset, the Age and EstimatedSalary columns are independent and the Purchased column is dependent. \n",
        "#So we will take both the Age and EstimatedSalary in our feature matrix and the Purchased column in the dependent variable vector.\n",
        "X = dataset.iloc[:, [2, 3]].values\n",
        "y = dataset.iloc[:, 4].values"
      ],
      "execution_count": 4,
      "outputs": []
    },
    {
      "cell_type": "code",
      "metadata": {
        "id": "YYrnQ0KhT2wh"
      },
      "source": [
        "#Now, we will split our dataset in training and test sets.\n",
        "from sklearn.model_selection import train_test_split\n",
        "X_train, X_test, y_train, y_test = train_test_split(X, y, test_size = 0.25, random_state = 0)"
      ],
      "execution_count": 5,
      "outputs": []
    },
    {
      "cell_type": "code",
      "metadata": {
        "id": "mWZxbX-8UEa3"
      },
      "source": [
        "#We need to scale our dataset for getting a more accurate prediction.\n",
        "from sklearn.preprocessing import StandardScaler\n",
        "sc = StandardScaler()\n",
        "X_train = sc.fit_transform(X_train)\n",
        "X_test = sc.transform(X_test)"
      ],
      "execution_count": 6,
      "outputs": []
    },
    {
      "cell_type": "code",
      "metadata": {
        "colab": {
          "base_uri": "https://localhost:8080/"
        },
        "id": "PgmOx697UaKr",
        "outputId": "11126656-fa48-4570-a99c-08689910fea0"
      },
      "source": [
        "X_train\n"
      ],
      "execution_count": 7,
      "outputs": [
        {
          "output_type": "execute_result",
          "data": {
            "text/plain": [
              "array([[ 0.58164944, -0.88670699],\n",
              "       [-0.60673761,  1.46173768],\n",
              "       [-0.01254409, -0.5677824 ],\n",
              "       [-0.60673761,  1.89663484],\n",
              "       [ 1.37390747, -1.40858358],\n",
              "       [ 1.47293972,  0.99784738],\n",
              "       [ 0.08648817, -0.79972756],\n",
              "       [-0.01254409, -0.24885782],\n",
              "       [-0.21060859, -0.5677824 ],\n",
              "       [-0.21060859, -0.19087153],\n",
              "       [-0.30964085, -1.29261101],\n",
              "       [-0.30964085, -0.5677824 ],\n",
              "       [ 0.38358493,  0.09905991],\n",
              "       [ 0.8787462 , -0.59677555],\n",
              "       [ 2.06713324, -1.17663843],\n",
              "       [ 1.07681071, -0.13288524],\n",
              "       [ 0.68068169,  1.78066227],\n",
              "       [-0.70576986,  0.56295021],\n",
              "       [ 0.77971394,  0.35999821],\n",
              "       [ 0.8787462 , -0.53878926],\n",
              "       [-1.20093113, -1.58254245],\n",
              "       [ 2.1661655 ,  0.93986109],\n",
              "       [-0.01254409,  1.22979253],\n",
              "       [ 0.18552042,  1.08482681],\n",
              "       [ 0.38358493, -0.48080297],\n",
              "       [-0.30964085, -0.30684411],\n",
              "       [ 0.97777845, -0.8287207 ],\n",
              "       [ 0.97777845,  1.8676417 ],\n",
              "       [-0.01254409,  1.25878567],\n",
              "       [-0.90383437,  2.27354572],\n",
              "       [-1.20093113, -1.58254245],\n",
              "       [ 2.1661655 , -0.79972756],\n",
              "       [-1.39899564, -1.46656987],\n",
              "       [ 0.38358493,  2.30253886],\n",
              "       [ 0.77971394,  0.76590222],\n",
              "       [-1.00286662, -0.30684411],\n",
              "       [ 0.08648817,  0.76590222],\n",
              "       [-1.00286662,  0.56295021],\n",
              "       [ 0.28455268,  0.07006676],\n",
              "       [ 0.68068169, -1.26361786],\n",
              "       [-0.50770535, -0.01691267],\n",
              "       [-1.79512465,  0.35999821],\n",
              "       [-0.70576986,  0.12805305],\n",
              "       [ 0.38358493,  0.30201192],\n",
              "       [-0.30964085,  0.07006676],\n",
              "       [-0.50770535,  2.30253886],\n",
              "       [ 0.18552042,  0.04107362],\n",
              "       [ 1.27487521,  2.21555943],\n",
              "       [ 0.77971394,  0.27301877],\n",
              "       [-0.30964085,  0.1570462 ],\n",
              "       [-0.01254409, -0.53878926],\n",
              "       [-0.21060859,  0.1570462 ],\n",
              "       [-0.11157634,  0.24402563],\n",
              "       [-0.01254409, -0.24885782],\n",
              "       [ 2.1661655 ,  1.11381995],\n",
              "       [-1.79512465,  0.35999821],\n",
              "       [ 1.86906873,  0.12805305],\n",
              "       [ 0.38358493, -0.13288524],\n",
              "       [-1.20093113,  0.30201192],\n",
              "       [ 0.77971394,  1.37475825],\n",
              "       [-0.30964085, -0.24885782],\n",
              "       [-1.6960924 , -0.04590581],\n",
              "       [-1.00286662, -0.74174127],\n",
              "       [ 0.28455268,  0.50496393],\n",
              "       [-0.11157634, -1.06066585],\n",
              "       [-1.10189888,  0.59194336],\n",
              "       [ 0.08648817, -0.79972756],\n",
              "       [-1.00286662,  1.54871711],\n",
              "       [-0.70576986,  1.40375139],\n",
              "       [-1.29996338,  0.50496393],\n",
              "       [-0.30964085,  0.04107362],\n",
              "       [-0.11157634,  0.01208048],\n",
              "       [-0.30964085, -0.88670699],\n",
              "       [ 0.8787462 , -1.3505973 ],\n",
              "       [-0.30964085,  2.24455257],\n",
              "       [ 0.97777845,  1.98361427],\n",
              "       [-1.20093113,  0.47597078],\n",
              "       [-1.29996338,  0.27301877],\n",
              "       [ 1.37390747,  1.98361427],\n",
              "       [ 1.27487521, -1.3505973 ],\n",
              "       [-0.30964085, -0.27785096],\n",
              "       [-0.50770535,  1.25878567],\n",
              "       [-0.80480212,  1.08482681],\n",
              "       [ 0.97777845, -1.06066585],\n",
              "       [ 0.28455268,  0.30201192],\n",
              "       [ 0.97777845,  0.76590222],\n",
              "       [-0.70576986, -1.49556302],\n",
              "       [-0.70576986,  0.04107362],\n",
              "       [ 0.48261718,  1.72267598],\n",
              "       [ 2.06713324,  0.18603934],\n",
              "       [-1.99318916, -0.74174127],\n",
              "       [-0.21060859,  1.40375139],\n",
              "       [ 0.38358493,  0.59194336],\n",
              "       [ 0.8787462 , -1.14764529],\n",
              "       [-1.20093113, -0.77073441],\n",
              "       [ 0.18552042,  0.24402563],\n",
              "       [ 0.77971394, -0.30684411],\n",
              "       [ 2.06713324, -0.79972756],\n",
              "       [ 0.77971394,  0.12805305],\n",
              "       [-0.30964085,  0.6209365 ],\n",
              "       [-1.00286662, -0.30684411],\n",
              "       [ 0.18552042, -0.3648304 ],\n",
              "       [ 2.06713324,  2.12857999],\n",
              "       [ 1.86906873, -1.26361786],\n",
              "       [ 1.37390747, -0.91570013],\n",
              "       [ 0.8787462 ,  1.25878567],\n",
              "       [ 1.47293972,  2.12857999],\n",
              "       [-0.30964085, -1.23462472],\n",
              "       [ 1.96810099,  0.91086794],\n",
              "       [ 0.68068169, -0.71274813],\n",
              "       [-1.49802789,  0.35999821],\n",
              "       [ 0.77971394, -1.3505973 ],\n",
              "       [ 0.38358493, -0.13288524],\n",
              "       [-1.00286662,  0.41798449],\n",
              "       [-0.01254409, -0.30684411],\n",
              "       [-1.20093113,  0.41798449],\n",
              "       [-0.90383437, -1.20563157],\n",
              "       [-0.11157634,  0.04107362],\n",
              "       [-1.59706014, -0.42281668],\n",
              "       [ 0.97777845, -1.00267957],\n",
              "       [ 1.07681071, -1.20563157],\n",
              "       [-0.01254409, -0.13288524],\n",
              "       [-1.10189888, -1.52455616],\n",
              "       [ 0.77971394, -1.20563157],\n",
              "       [ 0.97777845,  2.07059371],\n",
              "       [-1.20093113, -1.52455616],\n",
              "       [-0.30964085,  0.79489537],\n",
              "       [ 0.08648817, -0.30684411],\n",
              "       [-1.39899564, -1.23462472],\n",
              "       [-0.60673761, -1.49556302],\n",
              "       [ 0.77971394,  0.53395707],\n",
              "       [-0.30964085, -0.33583725],\n",
              "       [ 1.77003648, -0.27785096],\n",
              "       [ 0.8787462 , -1.03167271],\n",
              "       [ 0.18552042,  0.07006676],\n",
              "       [-0.60673761,  0.8818748 ],\n",
              "       [-1.89415691, -1.40858358],\n",
              "       [-1.29996338,  0.59194336],\n",
              "       [-0.30964085,  0.53395707],\n",
              "       [-1.00286662, -1.089659  ],\n",
              "       [ 1.17584296, -1.43757673],\n",
              "       [ 0.18552042, -0.30684411],\n",
              "       [ 1.17584296, -0.74174127],\n",
              "       [-0.30964085,  0.07006676],\n",
              "       [ 0.18552042,  2.09958685],\n",
              "       [ 0.77971394, -1.089659  ],\n",
              "       [ 0.08648817,  0.04107362],\n",
              "       [-1.79512465,  0.12805305],\n",
              "       [-0.90383437,  0.1570462 ],\n",
              "       [-0.70576986,  0.18603934],\n",
              "       [ 0.8787462 , -1.29261101],\n",
              "       [ 0.18552042, -0.24885782],\n",
              "       [-0.4086731 ,  1.22979253],\n",
              "       [-0.01254409,  0.30201192],\n",
              "       [ 0.38358493,  0.1570462 ],\n",
              "       [ 0.8787462 , -0.65476184],\n",
              "       [ 0.08648817,  0.1570462 ],\n",
              "       [-1.89415691, -1.29261101],\n",
              "       [-0.11157634,  0.30201192],\n",
              "       [-0.21060859, -0.27785096],\n",
              "       [ 0.28455268, -0.50979612],\n",
              "       [-0.21060859,  1.6067034 ],\n",
              "       [ 0.97777845, -1.17663843],\n",
              "       [-0.21060859,  1.63569655],\n",
              "       [ 1.27487521,  1.8676417 ],\n",
              "       [-1.10189888, -0.3648304 ],\n",
              "       [-0.01254409,  0.04107362],\n",
              "       [ 0.08648817, -0.24885782],\n",
              "       [-1.59706014, -1.23462472],\n",
              "       [-0.50770535, -0.27785096],\n",
              "       [ 0.97777845,  0.12805305],\n",
              "       [ 1.96810099, -1.3505973 ],\n",
              "       [ 1.47293972,  0.07006676],\n",
              "       [-0.60673761,  1.37475825],\n",
              "       [ 1.57197197,  0.01208048],\n",
              "       [-0.80480212,  0.30201192],\n",
              "       [ 1.96810099,  0.73690908],\n",
              "       [-1.20093113, -0.50979612],\n",
              "       [ 0.68068169,  0.27301877],\n",
              "       [-1.39899564, -0.42281668],\n",
              "       [ 0.18552042,  0.1570462 ],\n",
              "       [-0.50770535, -1.20563157],\n",
              "       [ 0.58164944,  2.01260742],\n",
              "       [-1.59706014, -1.49556302],\n",
              "       [-0.50770535, -0.53878926],\n",
              "       [ 0.48261718,  1.83864855],\n",
              "       [-1.39899564, -1.089659  ],\n",
              "       [ 0.77971394, -1.37959044],\n",
              "       [-0.30964085, -0.42281668],\n",
              "       [ 1.57197197,  0.99784738],\n",
              "       [ 0.97777845,  1.43274454],\n",
              "       [-0.30964085, -0.48080297],\n",
              "       [-0.11157634,  2.15757314],\n",
              "       [-1.49802789, -0.1038921 ],\n",
              "       [-0.11157634,  1.95462113],\n",
              "       [-0.70576986, -0.33583725],\n",
              "       [-0.50770535, -0.8287207 ],\n",
              "       [ 0.68068169, -1.37959044],\n",
              "       [-0.80480212, -1.58254245],\n",
              "       [-1.89415691, -1.46656987],\n",
              "       [ 1.07681071,  0.12805305],\n",
              "       [ 0.08648817,  1.51972397],\n",
              "       [-0.30964085,  0.09905991],\n",
              "       [ 0.08648817,  0.04107362],\n",
              "       [-1.39899564, -1.3505973 ],\n",
              "       [ 0.28455268,  0.07006676],\n",
              "       [-0.90383437,  0.38899135],\n",
              "       [ 1.57197197, -1.26361786],\n",
              "       [-0.30964085, -0.74174127],\n",
              "       [-0.11157634,  0.1570462 ],\n",
              "       [-0.90383437, -0.65476184],\n",
              "       [-0.70576986, -0.04590581],\n",
              "       [ 0.38358493, -0.45180983],\n",
              "       [-0.80480212,  1.89663484],\n",
              "       [ 1.37390747,  1.28777882],\n",
              "       [ 1.17584296, -0.97368642],\n",
              "       [ 1.77003648,  1.83864855],\n",
              "       [-0.90383437, -0.24885782],\n",
              "       [-0.80480212,  0.56295021],\n",
              "       [-1.20093113, -1.5535493 ],\n",
              "       [-0.50770535, -1.11865214],\n",
              "       [ 0.28455268,  0.07006676],\n",
              "       [-0.21060859, -1.06066585],\n",
              "       [ 1.67100423,  1.6067034 ],\n",
              "       [ 0.97777845,  1.78066227],\n",
              "       [ 0.28455268,  0.04107362],\n",
              "       [-0.80480212, -0.21986468],\n",
              "       [-0.11157634,  0.07006676],\n",
              "       [ 0.28455268, -0.19087153],\n",
              "       [ 1.96810099, -0.65476184],\n",
              "       [-0.80480212,  1.3457651 ],\n",
              "       [-1.79512465, -0.59677555],\n",
              "       [-0.11157634,  0.12805305],\n",
              "       [ 0.28455268, -0.30684411],\n",
              "       [ 1.07681071,  0.56295021],\n",
              "       [-1.00286662,  0.27301877],\n",
              "       [ 1.47293972,  0.35999821],\n",
              "       [ 0.18552042, -0.3648304 ],\n",
              "       [ 2.1661655 , -1.03167271],\n",
              "       [-0.30964085,  1.11381995],\n",
              "       [-1.6960924 ,  0.07006676],\n",
              "       [-0.01254409,  0.04107362],\n",
              "       [ 0.08648817,  1.05583366],\n",
              "       [-0.11157634, -0.3648304 ],\n",
              "       [-1.20093113,  0.07006676],\n",
              "       [-0.30964085, -1.3505973 ],\n",
              "       [ 1.57197197,  1.11381995],\n",
              "       [-0.80480212, -1.52455616],\n",
              "       [ 0.08648817,  1.8676417 ],\n",
              "       [-0.90383437, -0.77073441],\n",
              "       [-0.50770535, -0.77073441],\n",
              "       [-0.30964085, -0.91570013],\n",
              "       [ 0.28455268, -0.71274813],\n",
              "       [ 0.28455268,  0.07006676],\n",
              "       [ 0.08648817,  1.8676417 ],\n",
              "       [-1.10189888,  1.95462113],\n",
              "       [-1.6960924 , -1.5535493 ],\n",
              "       [-1.20093113, -1.089659  ],\n",
              "       [-0.70576986, -0.1038921 ],\n",
              "       [ 0.08648817,  0.09905991],\n",
              "       [ 0.28455268,  0.27301877],\n",
              "       [ 0.8787462 , -0.5677824 ],\n",
              "       [ 0.28455268, -1.14764529],\n",
              "       [-0.11157634,  0.67892279],\n",
              "       [ 2.1661655 , -0.68375498],\n",
              "       [-1.29996338, -1.37959044],\n",
              "       [-1.00286662, -0.94469328],\n",
              "       [-0.01254409, -0.42281668],\n",
              "       [-0.21060859, -0.45180983],\n",
              "       [-1.79512465, -0.97368642],\n",
              "       [ 1.77003648,  0.99784738],\n",
              "       [ 0.18552042, -0.3648304 ],\n",
              "       [ 0.38358493,  1.11381995],\n",
              "       [-1.79512465, -1.3505973 ],\n",
              "       [ 0.18552042, -0.13288524],\n",
              "       [ 0.8787462 , -1.43757673],\n",
              "       [-1.99318916,  0.47597078],\n",
              "       [-0.30964085,  0.27301877],\n",
              "       [ 1.86906873, -1.06066585],\n",
              "       [-0.4086731 ,  0.07006676],\n",
              "       [ 1.07681071, -0.88670699],\n",
              "       [-1.10189888, -1.11865214],\n",
              "       [-1.89415691,  0.01208048],\n",
              "       [ 0.08648817,  0.27301877],\n",
              "       [-1.20093113,  0.33100506],\n",
              "       [-1.29996338,  0.30201192],\n",
              "       [-1.00286662,  0.44697764],\n",
              "       [ 1.67100423, -0.88670699],\n",
              "       [ 1.17584296,  0.53395707],\n",
              "       [ 1.07681071,  0.53395707],\n",
              "       [ 1.37390747,  2.331532  ],\n",
              "       [-0.30964085, -0.13288524],\n",
              "       [ 0.38358493, -0.45180983],\n",
              "       [-0.4086731 , -0.77073441],\n",
              "       [-0.11157634, -0.50979612],\n",
              "       [ 0.97777845, -1.14764529],\n",
              "       [-0.90383437, -0.77073441],\n",
              "       [-0.21060859, -0.50979612],\n",
              "       [-1.10189888, -0.45180983],\n",
              "       [-1.20093113,  1.40375139]])"
            ]
          },
          "metadata": {
            "tags": []
          },
          "execution_count": 7
        }
      ]
    },
    {
      "cell_type": "code",
      "metadata": {
        "colab": {
          "base_uri": "https://localhost:8080/"
        },
        "id": "CivR2AMYUlBR",
        "outputId": "d1d3838d-89bb-421e-832a-84c00ed2b850"
      },
      "source": [
        "#its time to fit the SVM algorithm to our training set. For this, we use the SVC class from the ScikiLearn library.\n",
        "from sklearn.svm import SVC\n",
        "classifier = SVC(kernel = 'linear', random_state = 0)\n",
        "classifier.fit(X_train, y_train)"
      ],
      "execution_count": 8,
      "outputs": [
        {
          "output_type": "execute_result",
          "data": {
            "text/plain": [
              "SVC(C=1.0, break_ties=False, cache_size=200, class_weight=None, coef0=0.0,\n",
              "    decision_function_shape='ovr', degree=3, gamma='scale', kernel='linear',\n",
              "    max_iter=-1, probability=False, random_state=0, shrinking=True, tol=0.001,\n",
              "    verbose=False)"
            ]
          },
          "metadata": {
            "tags": []
          },
          "execution_count": 8
        }
      ]
    },
    {
      "cell_type": "code",
      "metadata": {
        "id": "dfXJ1MEJU2_J"
      },
      "source": [
        "#Here kernel specifies the type of algorithm we are using. \n",
        "#You will know about it in detail in our Kernel SVM tutorial. For simplicity, here we choose the linear kernel.\n",
        "#Let's see how it predicts for our test set.\n",
        "y_pred = classifier.predict(X_test)"
      ],
      "execution_count": 9,
      "outputs": []
    },
    {
      "cell_type": "code",
      "metadata": {
        "colab": {
          "base_uri": "https://localhost:8080/"
        },
        "id": "ZJS0KwFkVHA-",
        "outputId": "eb3ddb40-4b43-45fa-98b5-fdf415893d71"
      },
      "source": [
        "y_pred"
      ],
      "execution_count": 10,
      "outputs": [
        {
          "output_type": "execute_result",
          "data": {
            "text/plain": [
              "array([0, 0, 0, 0, 0, 0, 0, 1, 0, 0, 0, 0, 0, 0, 0, 0, 0, 0, 1, 0, 0, 1,\n",
              "       0, 1, 0, 1, 0, 0, 0, 0, 0, 0, 1, 0, 0, 0, 0, 0, 0, 1, 0, 0, 0, 0,\n",
              "       1, 0, 0, 1, 0, 1, 1, 0, 0, 0, 1, 0, 0, 0, 0, 0, 0, 1, 0, 0, 0, 1,\n",
              "       0, 0, 0, 0, 1, 0, 0, 0, 0, 0, 1, 0, 1, 1, 1, 1, 0, 0, 1, 1, 0, 1,\n",
              "       0, 0, 0, 1, 0, 0, 0, 0, 0, 0, 1, 1])"
            ]
          },
          "metadata": {
            "tags": []
          },
          "execution_count": 10
        }
      ]
    },
    {
      "cell_type": "code",
      "metadata": {
        "colab": {
          "base_uri": "https://localhost:8080/"
        },
        "id": "aMIGKuwgVKQX",
        "outputId": "68548254-f666-485f-e94a-e05a2fe2e080"
      },
      "source": [
        "#To see how good is our SVM model is, let's calculate the predictions made by it using the confusion matrix.\n",
        "from sklearn.metrics import confusion_matrix\n",
        "cm = confusion_matrix(y_test, y_pred) \n",
        "cm"
      ],
      "execution_count": 12,
      "outputs": [
        {
          "output_type": "execute_result",
          "data": {
            "text/plain": [
              "array([[66,  2],\n",
              "       [ 8, 24]])"
            ]
          },
          "metadata": {
            "tags": []
          },
          "execution_count": 12
        }
      ]
    },
    {
      "cell_type": "code",
      "metadata": {
        "colab": {
          "base_uri": "https://localhost:8080/"
        },
        "id": "jgPfyO7CWUN1",
        "outputId": "0a0698b7-147f-4860-ab45-e4b148882b2e"
      },
      "source": [
        "xz=classifier.predict(np.array([X1.ravel(), X2.ravel()]).T)\n",
        "xz"
      ],
      "execution_count": 22,
      "outputs": [
        {
          "output_type": "execute_result",
          "data": {
            "text/plain": [
              "array([0, 0, 0, ..., 1, 1, 1])"
            ]
          },
          "metadata": {
            "tags": []
          },
          "execution_count": 22
        }
      ]
    },
    {
      "cell_type": "code",
      "metadata": {
        "colab": {
          "base_uri": "https://localhost:8080/"
        },
        "id": "djbyBHfnXL5M",
        "outputId": "00e7a4ca-2428-4d1c-dfdc-3c7987091ede"
      },
      "source": [
        "X2"
      ],
      "execution_count": 24,
      "outputs": [
        {
          "output_type": "execute_result",
          "data": {
            "text/plain": [
              "array([[-2.58254245, -2.58254245, -2.58254245, ..., -2.58254245,\n",
              "        -2.58254245, -2.58254245],\n",
              "       [-2.57254245, -2.57254245, -2.57254245, ..., -2.57254245,\n",
              "        -2.57254245, -2.57254245],\n",
              "       [-2.56254245, -2.56254245, -2.56254245, ..., -2.56254245,\n",
              "        -2.56254245, -2.56254245],\n",
              "       ...,\n",
              "       [ 3.30745755,  3.30745755,  3.30745755, ...,  3.30745755,\n",
              "         3.30745755,  3.30745755],\n",
              "       [ 3.31745755,  3.31745755,  3.31745755, ...,  3.31745755,\n",
              "         3.31745755,  3.31745755],\n",
              "       [ 3.32745755,  3.32745755,  3.32745755, ...,  3.32745755,\n",
              "         3.32745755,  3.32745755]])"
            ]
          },
          "metadata": {
            "tags": []
          },
          "execution_count": 24
        }
      ]
    },
    {
      "cell_type": "code",
      "metadata": {
        "colab": {
          "base_uri": "https://localhost:8080/"
        },
        "id": "8USOY9uXX-bq",
        "outputId": "b43527f3-d92a-4c04-c3cf-c59249b8b79a"
      },
      "source": [
        "y_set"
      ],
      "execution_count": 25,
      "outputs": [
        {
          "output_type": "execute_result",
          "data": {
            "text/plain": [
              "array([0, 0, 0, 0, 0, 0, 0, 1, 0, 0, 0, 0, 0, 0, 0, 0, 0, 0, 1, 0, 0, 1,\n",
              "       0, 1, 0, 1, 0, 0, 0, 0, 0, 1, 1, 0, 0, 0, 0, 0, 0, 1, 0, 0, 0, 0,\n",
              "       1, 0, 0, 1, 0, 1, 1, 0, 0, 0, 1, 1, 0, 0, 1, 0, 0, 1, 0, 1, 0, 1,\n",
              "       0, 0, 0, 0, 1, 0, 0, 1, 0, 0, 0, 0, 1, 1, 1, 0, 0, 0, 1, 1, 0, 1,\n",
              "       1, 0, 0, 1, 0, 0, 0, 1, 0, 1, 1, 1])"
            ]
          },
          "metadata": {
            "tags": []
          },
          "execution_count": 25
        }
      ]
    },
    {
      "cell_type": "code",
      "metadata": {
        "colab": {
          "base_uri": "https://localhost:8080/",
          "height": 349
        },
        "id": "-gibbLccVVnP",
        "outputId": "a8df9a27-63b6-44a5-e4a1-ae559f0169b7"
      },
      "source": [
        "#Now, let's visualize our test set result.\n",
        "# Visualising the Test set results\n",
        "from matplotlib.colors import ListedColormap\n",
        "X_set, y_set = X_test, y_test\n",
        "X1, X2 = np.meshgrid(np.arange(start = X_set[:, 0].min() - 1, stop = X_set[:, 0].max() + 1, step = 0.01),\n",
        "                     np.arange(start = X_set[:, 1].min() - 1, stop = X_set[:, 1].max() + 1, step = 0.01))\n",
        "plt.contourf(X1, X2, classifier.predict(np.array([X1.ravel(), X2.ravel()]).T).reshape(X1.shape),\n",
        "             alpha = 0.75, cmap = ListedColormap(('orange', 'cyan')))\n",
        "plt.xlim(X1.min(), X1.max())\n",
        "plt.ylim(X2.min(), X2.max())\n",
        "for i, j in enumerate(np.unique(y_set)):\n",
        "    plt.scatter(X_set[y_set == j, 0], X_set[y_set == j, 1],\n",
        "                c = ListedColormap(('red', 'green'))(i), label = j)\n",
        "plt.title('SVM (Test set)')\n",
        "plt.xlabel('Age')\n",
        "plt.ylabel('Estimated Salary')\n",
        "plt.legend()\n",
        "plt.show()"
      ],
      "execution_count": 17,
      "outputs": [
        {
          "output_type": "stream",
          "text": [
            "*c* argument looks like a single numeric RGB or RGBA sequence, which should be avoided as value-mapping will have precedence in case its length matches with *x* & *y*.  Please use the *color* keyword-argument or provide a 2-D array with a single row if you intend to specify the same RGB or RGBA value for all points.\n",
            "*c* argument looks like a single numeric RGB or RGBA sequence, which should be avoided as value-mapping will have precedence in case its length matches with *x* & *y*.  Please use the *color* keyword-argument or provide a 2-D array with a single row if you intend to specify the same RGB or RGBA value for all points.\n"
          ],
          "name": "stderr"
        },
        {
          "output_type": "display_data",
          "data": {
            "image/png": "[encoded data removed]",
            "text/plain": [
              "<Figure size 432x288 with 1 Axes>"
            ]
          },
          "metadata": {
            "tags": [],
            "needs_background": "light"
          }
        }
      ]
    }
  ]
}